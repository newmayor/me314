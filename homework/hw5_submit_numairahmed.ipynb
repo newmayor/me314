{
 "cells": [
  {
   "cell_type": "markdown",
   "metadata": {
    "id": "hpGKreNV1Zvi"
   },
   "source": [
    "# ME314 Homework 5 (Template)\n",
    "\n",
    "*Please note that a **single** PDF file will be the only document that you turn in, which will include your answers to the problems with corresponding derivations and any code used to complete the problems. When including the code, please make sure you also include **code outputs**, and you don't need to include example code. Problems and deliverables that should be included with your submission are shown in **bold**.*\n",
    "\n",
    "*This Juputer Notebook file serves as a template for you to start homework, since we recommend to finish the homework using Jupyter Notebook. You can start with this notebook file with your local Jupyter environment, or upload it to Google Colab. You can include all the code and other deliverables in this notebook Jupyter Notebook supports $\\LaTeX$ for math equations, and you can export the whole notebook as a PDF file. But this is not the only option, if you are more comfortable with other ways, feel free to do so, as long as you can submit the homework in a single PDF file.*\n",
    "\n",
    "***"
   ]
  },
  {
   "cell_type": "code",
   "execution_count": 5,
   "metadata": {
    "id": "7Fr6sZey1Zvj"
   },
   "outputs": [],
   "source": [
    "# ##############################################################################################\n",
    "# # If you're using Google Colab, uncomment this section by selecting the whole section and press\n",
    "# # ctrl+'/' on your and keyboard. Run it before you start programming, this will enable the nice \n",
    "# # LaTeX \"display()\" function for you. If you're using the local Jupyter environment, leave it alone\n",
    "# ##############################################################################################\n",
    "\n",
    "# import sympy as sym\n",
    "# def custom_latex_printer(exp,**options):\n",
    "#     from google.colab.output._publish import javascript\n",
    "#     url = \"https://cdnjs.cloudflare.com/ajax/libs/mathjax/3.1.1/latest.js?config=TeX-AMS_HTML\"\n",
    "#     javascript(url=url)\n",
    "#     return sym.printing.latex(exp,**options)\n",
    "# sym.init_printing(use_latex=\"mathjax\",latex_printer=custom_latex_printer)"
   ]
  },
  {
   "cell_type": "markdown",
   "metadata": {
    "id": "CWoRK0TT1Zvp"
   },
   "source": [
    "Below are the help functions in previous homeworks, which you may need for this homework."
   ]
  },
  {
   "cell_type": "code",
   "execution_count": 6,
   "metadata": {
    "id": "c_zO-b0K1Zvq"
   },
   "outputs": [],
   "source": [
    "import numpy as np\n",
    "\n",
    "def integrate(f, xt, dt):\n",
    "    \"\"\"\n",
    "    This function takes in an initial condition x(t) and a timestep dt,\n",
    "    as well as a dynamical system f(x) that outputs a vector of the\n",
    "    same dimension as x(t). It outputs a vector x(t+dt) at the future\n",
    "    time step.\n",
    "    \n",
    "    Parameters\n",
    "    ============\n",
    "    dyn: Python function\n",
    "        derivate of the system at a given step x(t), \n",
    "        it can considered as \\dot{x}(t) = func(x(t))\n",
    "    xt: NumPy array\n",
    "        current step x(t)\n",
    "    dt: \n",
    "        step size for integration\n",
    "\n",
    "    Return\n",
    "    ============\n",
    "    new_xt: \n",
    "        value of x(t+dt) integrated from x(t)\n",
    "    \"\"\"\n",
    "    k1 = dt * f(xt)\n",
    "    k2 = dt * f(xt+k1/2.)\n",
    "    k3 = dt * f(xt+k2/2.)\n",
    "    k4 = dt * f(xt+k3)\n",
    "    new_xt = xt + (1/6.) * (k1+2.0*k2+2.0*k3+k4)\n",
    "    return new_xt\n",
    "\n",
    "def simulate(f, x0, tspan, dt, integrate):\n",
    "    \"\"\"\n",
    "    This function takes in an initial condition x0, a timestep dt,\n",
    "    a time span tspan consisting of a list [min_time, max_time],\n",
    "    as well as a dynamical system f(x) that outputs a vector of the\n",
    "    same dimension as x0. It outputs a full trajectory simulated\n",
    "    over the time span of dimensions (xvec_size, time_vec_size).\n",
    "    \n",
    "    Parameters\n",
    "    ============\n",
    "    f: Python function\n",
    "        derivate of the system at a given step x(t), \n",
    "        it can considered as \\dot{x}(t) = func(x(t))\n",
    "    x0: NumPy array\n",
    "        initial conditions\n",
    "    tspan: Python list\n",
    "        tspan = [min_time, max_time], it defines the start and end\n",
    "        time of simulation\n",
    "    dt:\n",
    "        time step for numerical integration\n",
    "    integrate: Python function\n",
    "        numerical integration method used in this simulation\n",
    "\n",
    "    Return\n",
    "    ============\n",
    "    x_traj:\n",
    "        simulated trajectory of x(t) from t=0 to tf\n",
    "    \"\"\"\n",
    "    N = int((max(tspan)-min(tspan))/dt)\n",
    "    x = np.copy(x0)\n",
    "    tvec = np.linspace(min(tspan),max(tspan),N)\n",
    "    xtraj = np.zeros((len(x0),N))\n",
    "    for i in range(N):\n",
    "        xtraj[:,i]=integrate(f,x,dt)\n",
    "        x = np.copy(xtraj[:,i])\n",
    "    return xtraj "
   ]
  },
  {
   "cell_type": "code",
   "execution_count": 7,
   "metadata": {
    "colab": {
     "base_uri": "https://localhost:8080/",
     "height": 377
    },
    "id": "ErkFGzgk1Zvv",
    "outputId": "46415dd0-4df0-4d76-dd3b-e7ab3ff52d16"
   },
   "outputs": [
    {
     "data": {
      "text/html": [
       "<table><tr><td><img src='https://github.com/MuchenSun/ME314pngs/raw/master/singlepend.JPG' width=350' height='350'></table>"
      ],
      "text/plain": [
       "<IPython.core.display.HTML object>"
      ]
     },
     "metadata": {},
     "output_type": "display_data"
    }
   ],
   "source": [
    "from IPython.core.display import HTML\n",
    "display(HTML(\"<table><tr><td><img src='https://github.com/MuchenSun/ME314pngs/raw/master/singlepend.JPG' width=350' height='350'></table>\"))"
   ]
  },
  {
   "cell_type": "markdown",
   "metadata": {
    "id": "2BNpt_dn1Zv1"
   },
   "source": [
    "## Problem 1 (5pts)\n",
    "\n",
    "Consider the single pendulum showed above, solve the Euler-Lagrange equations and simulate the system for $t\\in[0,5]$ with $dt=0.01, R=1, m=1, g=9.8$ and initial condition as $\\theta=\\frac{\\pi}{2}, \\dot{\\theta}=0$, and plot $\\theta$ versus time. Note that in this problem there is no impact involved (ignore the wall at the bottom).\n",
    "\n",
    "**Turn in: A copy of the code used to solve the El-equations and numerically simulate the system. Also include code output, which should be the plot of the trajectory versus time.**"
   ]
  },
  {
   "cell_type": "code",
   "execution_count": 15,
   "metadata": {
    "id": "nbrt7JGT1Zv2"
   },
   "outputs": [
    {
     "data": {
      "text/latex": [
       "$\\displaystyle L = \\frac{\\sin^{2}{\\left(\\theta{\\left(t \\right)} \\right)} \\left(\\frac{d}{d t} \\theta{\\left(t \\right)}\\right)^{2}}{2} + \\frac{\\cos^{2}{\\left(\\theta{\\left(t \\right)} \\right)} \\left(\\frac{d}{d t} \\theta{\\left(t \\right)}\\right)^{2}}{2} + 9.8 \\cos{\\left(\\theta{\\left(t \\right)} \\right)}$"
      ],
      "text/plain": [
       "Eq(L, sin(\\theta(t))**2*Derivative(\\theta(t), t)**2/2 + cos(\\theta(t))**2*Derivative(\\theta(t), t)**2/2 + 9.8*cos(\\theta(t)))"
      ]
     },
     "metadata": {},
     "output_type": "display_data"
    },
    {
     "name": "stdout",
     "output_type": "stream",
     "text": [
      "=================================================\n",
      "\n",
      "Euler Lagrange equations for triple pendulum system\n"
     ]
    },
    {
     "data": {
      "text/latex": [
       "$\\displaystyle \\left[\\begin{matrix}- \\sin^{2}{\\left(\\theta{\\left(t \\right)} \\right)} \\frac{d^{2}}{d t^{2}} \\theta{\\left(t \\right)} - 9.8 \\sin{\\left(\\theta{\\left(t \\right)} \\right)} - \\cos^{2}{\\left(\\theta{\\left(t \\right)} \\right)} \\frac{d^{2}}{d t^{2}} \\theta{\\left(t \\right)}\\end{matrix}\\right] = \\left[\\begin{matrix}0\\end{matrix}\\right]$"
      ],
      "text/plain": [
       "Eq(Matrix([[-sin(\\theta(t))**2*Derivative(\\theta(t), (t, 2)) - 9.8*sin(\\theta(t)) - cos(\\theta(t))**2*Derivative(\\theta(t), (t, 2))]]), Matrix([[0]]))"
      ]
     },
     "metadata": {},
     "output_type": "display_data"
    },
    {
     "name": "stdout",
     "output_type": "stream",
     "text": [
      "\n",
      "\n"
     ]
    }
   ],
   "source": [
    "import sympy as sym\n",
    "from sympy import symbols, Matrix, Eq, Function, sin, cos, solve\n",
    "from sympy.abc import t\n",
    "\n",
    "th = Function(r'\\theta')(t)\n",
    "m = symbols('m')\n",
    "r = symbols('R')\n",
    "g = symbols('g')\n",
    "l = symbols('L')\n",
    "\n",
    "x = r*sin(th)\n",
    "y = -r*cos(th)\n",
    "\n",
    "q = Matrix([th])\n",
    "qdot = q.diff(t)\n",
    "qddot = qdot.diff(t)\n",
    "\n",
    "xdot = x.diff(t)\n",
    "ydot = y.diff(t)\n",
    "\n",
    "ke = m*(xdot**2 + ydot**2) / 2\n",
    "pe = m * g * y\n",
    "\n",
    "ke = ke.subs({m:1, r:1, g:9.8})\n",
    "pe = pe.subs({m:1, r:1, g:9.8})\n",
    "\n",
    "\n",
    "L = ke - pe\n",
    "display(Eq(l, L))\n",
    "L_mat = Matrix([L])\n",
    "\n",
    "\n",
    "dLdq = L_mat.jacobian(q).T\n",
    "dLdqdot = L_mat.jacobian(qdot).T\n",
    "d_dLdqdot_dt = dLdqdot.diff(t)\n",
    "\n",
    "el = Eq(dLdq - d_dLdqdot_dt, Matrix([0]))\n",
    "\n",
    "# print('=================================================')\n",
    "# print()\n",
    "# print(\"dLdq\")\n",
    "# display(dLdq)\n",
    "\n",
    "# print('=================================================')\n",
    "# print()\n",
    "# print(\"dLdqdot\")\n",
    "# display(dLdqdot)\n",
    "\n",
    "print('=================================================')\n",
    "print()\n",
    "print(\"Euler Lagrange equations for triple pendulum system\")\n",
    "display(el)\n",
    "print()\n",
    "print()\n"
   ]
  },
  {
   "cell_type": "code",
   "execution_count": 24,
   "metadata": {},
   "outputs": [
    {
     "name": "stdout",
     "output_type": "stream",
     "text": [
      "=================================================\n",
      "\n"
     ]
    },
    {
     "data": {
      "text/latex": [
       "$\\displaystyle \\frac{d^{2}}{d t^{2}} \\theta{\\left(t \\right)} = - \\frac{49.0 \\sin{\\left(\\theta{\\left(t \\right)} \\right)}}{5.0 \\sin^{2}{\\left(\\theta{\\left(t \\right)} \\right)} + 5.0 \\cos^{2}{\\left(\\theta{\\left(t \\right)} \\right)}}$"
      ],
      "text/plain": [
       "Eq(Derivative(\\theta(t), (t, 2)), -49.0*sin(\\theta(t))/(5.0*sin(\\theta(t))**2 + 5.0*cos(\\theta(t))**2))"
      ]
     },
     "metadata": {},
     "output_type": "display_data"
    },
    {
     "name": "stdout",
     "output_type": "stream",
     "text": [
      "\n",
      "\n",
      "\n",
      "shape of traj:  (2, 500)\n",
      "\n",
      "\n"
     ]
    }
   ],
   "source": [
    "from math import pi\n",
    "from numpy import arange\n",
    "import numpy as np\n",
    "import matplotlib.pyplot as plt\n",
    "\n",
    "\n",
    "# solve for the equations of motion:\n",
    "el_soln = solve(el, qddot)\n",
    "\n",
    "for i in qddot:\n",
    "    print('=================================================')\n",
    "    print()\n",
    "    display(Eq(i, el_soln[i]))\n",
    "print()\n",
    "print()\n",
    "\n",
    "thddot_func = sym.lambdify([th, qdot[0],], el_soln[qddot[0]], modules = sym)\n",
    "\n",
    "\n",
    "##############################################\n",
    "def dyn(s):\n",
    "    \"\"\"\n",
    "    System dynamics function (extended)\n",
    "    \n",
    "    Parameters\n",
    "    ============\n",
    "    s: NumPy array\n",
    "        s = [theta1, theta2, theta3, theta1dot, theta2dot, theta3dot]\n",
    "    \n",
    "    Return\n",
    "    ============\n",
    "    sdot: NumPy array\n",
    "        time derivative of input state vector,\n",
    "        sdot = [theta1dot, theta2dot, theta3dot, theta1_ddot, theta2_ddot, theta3_ddot]\n",
    "    \"\"\"\n",
    "    return np.array([s[1], thddot_func(s[0], s[1])])\n",
    "    #Should be outputting theta1dot, theta2dot, theta1_ddot, theta2_ddot\n",
    "\n",
    "# define initial state\n",
    "s0 = np.array([pi/2, 0]) \n",
    "traj = simulate(dyn, s0, [0,5], 0.01, integrate) \n",
    "print()\n",
    "print('shape of traj: ', traj.shape)\n",
    "\n",
    "print()\n",
    "print()\n"
   ]
  },
  {
   "cell_type": "code",
   "execution_count": 27,
   "metadata": {},
   "outputs": [
    {
     "name": "stdout",
     "output_type": "stream",
     "text": [
      "theta trajectory\n"
     ]
    },
    {
     "data": {
      "image/png": "[encoded data removed]",
      "text/plain": [
       "<Figure size 432x288 with 1 Axes>"
      ]
     },
     "metadata": {
      "needs_background": "light"
     },
     "output_type": "display_data"
    },
    {
     "name": "stdout",
     "output_type": "stream",
     "text": [
      "\n",
      "\n"
     ]
    }
   ],
   "source": [
    "#plot the theta trajectories\n",
    "num_pts = int(5/.01)\n",
    "axis = np.linspace(0,5, num_pts )\n",
    "\n",
    "print('theta trajectory')\n",
    "plt.plot(axis, traj[0])\n",
    "plt.show()\n",
    "\n",
    "print()\n",
    "print()\n"
   ]
  },
  {
   "cell_type": "markdown",
   "metadata": {
    "id": "KBSsV5nv1Zv7"
   },
   "source": [
    "## Problem 2 (10pts)\n",
    "\n",
    "Now, time for impact! As shown in the figure, there is wall such that the pendulum will hit the wall when $\\theta=0$. Recall that in the course note, to solve the impact update rule, we have two set of equations:\n",
    "$$\n",
    "\\begin{aligned}\n",
    "\\frac{\\partial L}{\\partial \\dot{q}} \\Big\\vert^{\\tau^+}_{\\tau^-} & = \\lambda \\frac{\\partial \\phi}{\\partial q} \\\\\n",
    "\\left[ \\frac{\\partial L}{\\partial \\dot{q}}\\cdot\\dot{q} - L(q,\\dot{q}) \\right] \\Bigg\\vert^{\\tau^+}_{\\tau^-} & = 0\n",
    "\\end{aligned}\n",
    "$$\n",
    "    \n",
    "In this problem you will need to symbolically compute the following three expressions contained the equations above:\n",
    "$$\\frac{\\partial L}{\\partial \\dot{q}}, \\quad \\frac{\\partial \\phi}{\\partial q}, \\quad \\frac{\\partial L}{\\partial \\dot{q}}\\cdot\\dot{q} - L(q,\\dot{q})$$ (the third one is the Hamiltonian of the system). \n",
    "\n",
    "There is one more requirement: all three expressions can be considered as functions of $q$ and $\\dot{q}$, you may previously define $q$ and $\\dot{q}$ as SymPy's function objects, now you will need to substitute them with dummy symbols (using SymPy's subsititute method). Note that, $q$ and $\\dot{q}$ should be two sets of separate symbols. \n",
    "\n",
    "**Turn in: A copy of code used to symbolically compute the three expressions, also include the outputs of your code, which should be the three expressions (make sure there is no SymPy Function(t) left!).**"
   ]
  },
  {
   "cell_type": "code",
   "execution_count": null,
   "metadata": {
    "id": "yhJmKcMk1Zv8"
   },
   "outputs": [],
   "source": []
  },
  {
   "cell_type": "markdown",
   "metadata": {
    "id": "aAmzJzld1ZwC"
   },
   "source": [
    "## Problem 3 (10pts)\n",
    "\n",
    "Now everything is ready to solve for the impact upate rules. Recall that for those equations to solve, you will need to evaluate them right before and after the impact time at $\\tau^-$ and $\\tau^+$. Here $\\dot{q}(\\tau^-)$ are actually same as the dummy symbols you defined in Problem 2 (why?), but you will need to define new dummy symbols for $\\dot{q}(\\tau^+)$. That is to say, $\\frac{\\partial L}{\\partial \\dot{q}}$ and $\\frac{\\partial L}{\\partial \\dot{q}}\\cdot\\dot{q} - L(q,\\dot{q})$ evaluated at $\\tau^-$ are those you already had in Problem 2, but you will need to substitute the dummy symbols of $\\dot{q}(\\tau^+)$ to evaluate them at $\\tau^+$. \n",
    "\n",
    "Based on the information above, define the equations for impact update and solve them for impact update rules. After solving the impact update solution, numerically evalute it as a function using SymPy's lambdify method and test it with $\\theta(\\tau^-)=0.01, \\dot{\\theta}(\\tau^-)=2$. Note that: \n",
    "1. In your equations and impact update solutions, there should be NO SymPy Function left (except for internal functions like $\\sin$ or $\\cos$).\n",
    "2. You may wonder where are $q(\\tau^-)$ and $q(\\tau^+)$, the question is, do we really need new dummy variables for them?\n",
    "3. The solution of the impact upate rules, which is obtained by solving the equations for the dummy variables corresponds to $\\dot{q}(\\tau^+)$ and $\\lambda$, can be a function of $q(\\tau^-)$ or a function of $q(\\tau^-)$ and $\\dot{q}(\\tau^-)$ ($q$ will not be updated during impact, but including it may help you to combine the function into simulation later). \n",
    "\n",
    "**Turn in: A copy of code used to symbolically solve for the impact update rules and evaluate them numerically. Also, include the outputs of your code, which should be the test output of your numerically evaluated impact update function.**"
   ]
  },
  {
   "cell_type": "code",
   "execution_count": null,
   "metadata": {
    "id": "kJz9A5nY1ZwC"
   },
   "outputs": [],
   "source": []
  },
  {
   "cell_type": "markdown",
   "metadata": {
    "id": "8-Q9dAKH1ZwI"
   },
   "source": [
    "## Problem 4 (20pts)\n",
    "\n",
    "Finally, it's time to simulate the impact! In order to combine impact update rules into our previous simulate function, there two more steps:\n",
    "1. Write a function called ''impact_condition'', which takes in $s=[q,\\dot{q}]$ and returns **True** if $s$ will cause an impact, otherwise the function will return **False**. Hint: you need to use the constraint $\\phi$ in this problem, and note that, since we are doing numerical evaluation, the impact condition will not be perfect, you will need to catch the change of sign at $\\phi(s)$ or setup a threshold to decide the condition.\n",
    "2. Now, with the ''impact_condition'' function and the numerically evaluated impact update rule for $\\dot{q}(\\tau^+)$ solved in last problem, find a way to combine them into the previous simulation function, thus it can simulate the impact. Pseudo-code for the simulate function can be found in lecture note 13.\n",
    "\n",
    "Simulate the system with same parameters and initial condition in Problem 1 for the single pendulum hitting the wall for five times. Plot the trajectory and animate the simulation (you need to modify the animation function by yourself).\n",
    "\n",
    "**Turn in: A copy of the code used to simulate the system. You don't need to include the animation function, but please include other code (impact_condition, simulate, ets.) used for simulating impact. Also, include the plot and a video for animation. The video can be uploaded separately through Canvas, and it should be in \".mp4\" format. You can use screen capture or record the screen directly with your phone.**"
   ]
  },
  {
   "cell_type": "code",
   "execution_count": null,
   "metadata": {
    "id": "OZb-SYKC1Zwk"
   },
   "outputs": [],
   "source": []
  },
  {
   "cell_type": "code",
   "execution_count": 8,
   "metadata": {
    "id": "PQ_2cckG1Zwn",
    "outputId": "e428c893-0b64-4b13-aed2-296d02997c00"
   },
   "outputs": [
    {
     "data": {
      "text/html": [
       "<table><tr><td><img src='https://github.com/MuchenSun/ME314pngs/raw/master/tripend_constrained.JPG' width=500' height='450'></table>"
      ],
      "text/plain": [
       "<IPython.core.display.HTML object>"
      ]
     },
     "metadata": {},
     "output_type": "display_data"
    }
   ],
   "source": [
    "from IPython.core.display import HTML\n",
    "display(HTML(\"<table><tr><td><img src='https://github.com/MuchenSun/ME314pngs/raw/master/tripend_constrained.JPG' width=500' height='450'></table>\"))"
   ]
  },
  {
   "cell_type": "markdown",
   "metadata": {
    "id": "-yJ22XwU1Zwr"
   },
   "source": [
    "## Problem 5 (10pts)\n",
    "\n",
    "For the triple-pendulum system you simulated in last homework there is now a constraint, where the x coordinate of the third pendulum can not be smaller than 0 (but the system configuration is still $q=[\\theta_1, \\theta_2, \\theta_3]$). Note that there is no constraint on the y coordinate of the third pendulum, which means this wall is infinitely high but only apply to the third pendulum. Similar to Problem 2, symbolically compute the following three expressions contained the equations above:\n",
    "$$\\frac{\\partial L}{\\partial \\dot{q}}, \\quad \\frac{\\partial \\phi}{\\partial q}, \\quad \\frac{\\partial L}{\\partial \\dot{q}}\\cdot\\dot{q} - L(q,\\dot{q})$$ \n",
    "Again, you will need to subsitute $q$ and $\\dot{q}$ with dummy symbols.\n",
    "\n",
    "In this problem, we have $m_1=m_2=m_3=1$ and $R_1=R_2=R_3=1$, thus you don't need to define them as symbols.\n",
    "\n",
    "**Turn in: A copy of code used to symbolically compute the three expressions, also include the outputs of your code, which should be the three expressions (make sure there is no SymPy Function(t) left!).**"
   ]
  },
  {
   "cell_type": "code",
   "execution_count": null,
   "metadata": {
    "id": "Bjgged841Zws"
   },
   "outputs": [],
   "source": []
  },
  {
   "cell_type": "markdown",
   "metadata": {
    "id": "khDZ_7QJ1Zw4"
   },
   "source": [
    "## Problem 6 (10pts)\n",
    "\n",
    "Similar to Problem 3, now you need to define dummy symbols for $\\dot{q}(\\tau^+)$, define the equations for impact update rules. Note that you don't need to solve the equations in this problem (in fact it's very time consuming to solve the analytical solution for this one, we will use a trick to get around with it later).\n",
    "\n",
    "**Turn in: A copy of the code used to define the equations for impact update, also print out the equations.**"
   ]
  },
  {
   "cell_type": "code",
   "execution_count": null,
   "metadata": {
    "id": "S3ufZSrQ1Zw8"
   },
   "outputs": [],
   "source": []
  },
  {
   "cell_type": "markdown",
   "metadata": {
    "id": "PfMq1f0y1ZxA"
   },
   "source": [
    "## Problem 7 (15pts)\n",
    "\n",
    "Since solving the analytical symbolic solution of the impact update rules for the triple-pendulum system is too slow, here we will solve it along within the simulation. The idea is, when the impact happens, substitute the numerical values of $q$ and $\\dot{q}$ at that moment into the equations you got in Problem 6, thus you will just need to solve a set equations with most terms being numerical values (which is very fast).\n",
    "\n",
    "The first thing is to write a function called \"impact\\_update\\_triple\\_pend\". This function at least takes in the current state of the system $s(t^-) = [q(t^-), \\dot{q}(t^-)]$ or $\\dot{q}(t^-)$, inside the function you need to substitute in $q(t^-)$ and $\\dot{q}(t^-)$, solve for and return $s(t^+) = [q(t^+), \\dot{q}(t^+)]$ or $\\dot{q}(t^+)$ (which should be numerical values now). This function will replace lambdify, and you can use SymPy's \"sym.N()\" or \"expr.evalf()\" methods to convert SymPy expressions into numerical values. Test your function with $\\theta_1(\\tau^-) = \\theta_2(\\tau^-) = \\theta_3(\\tau^-) = 0$ and $\\dot{\\theta}_1(\\tau^-) = \\dot{\\theta_2}(\\tau^-) = \\dot{\\theta_3}(\\tau^-) = -1$. \n",
    "\n",
    "**Turn in: A copy of your \"impact_update_triple_pend\" function, and the test result of your function.**"
   ]
  },
  {
   "cell_type": "code",
   "execution_count": null,
   "metadata": {
    "id": "dgkTCCF11ZxA"
   },
   "outputs": [],
   "source": []
  },
  {
   "cell_type": "markdown",
   "metadata": {
    "id": "jE-Fh9e61ZxE"
   },
   "source": [
    "## Problem 8 (15pts)\n",
    "\n",
    "Similar to the single-pendulum system, you will still to implement a function named \"impact\\_condition\\_triple\\_pend\" to indicate the moment when impact happens. Again, you need to use the constraint $\\phi$. After finish the impact condition function, simulate the triple-pendulum system with impact for $t\\in[0,2], dt=0.01$ with initial condition $\\theta_1=\\frac{\\pi}{2}, \\theta_2=\\frac{\\pi}{2}, \\theta_3=-\\frac{\\pi}{2}$ and $\\dot{\\theta}_1=\\dot{\\theta}_2=\\dot{\\theta}_3=0$, plot the simulated trajectory versus time and animate your simulated trajectory. You will also need to modify the simulate function in this problem.\n",
    "\n",
    "**Turn in: A copy of code for the impact update function and simulate function, also include the plot of simulated trajectory. The video can be uploaded separately through Canvas, and it should be in \".mp4\" format. You can use screen capture or record the screen directly with your phone.**"
   ]
  },
  {
   "cell_type": "code",
   "execution_count": null,
   "metadata": {
    "id": "yxajOfcd1ZxR"
   },
   "outputs": [],
   "source": []
  },
  {
   "cell_type": "markdown",
   "metadata": {
    "id": "5H-1-N8x1Zxb"
   },
   "source": [
    "## Problem 9 (5pts)\n",
    "\n",
    "Compute and plot the Hamiltonian of the simulated trajectory for the triple-pendulum system with impact.\n",
    "\n",
    "**Turn in: A copy of code used to compute the Hamiltonian, also include the code output, which should the plot of the Hamiltonian versus time.**"
   ]
  },
  {
   "cell_type": "code",
   "execution_count": null,
   "metadata": {
    "id": "dK4ih-dT1Zxc"
   },
   "outputs": [],
   "source": []
  }
 ],
 "metadata": {
  "colab": {
   "collapsed_sections": [],
   "name": "hw5_template2.ipynb",
   "provenance": []
  },
  "kernelspec": {
   "display_name": "Python 3",
   "language": "python",
   "name": "python3"
  },
  "language_info": {
   "codemirror_mode": {
    "name": "ipython",
    "version": 3
   },
   "file_extension": ".py",
   "mimetype": "text/x-python",
   "name": "python",
   "nbconvert_exporter": "python",
   "pygments_lexer": "ipython3",
   "version": "3.8.5"
  }
 },
 "nbformat": 4,
 "nbformat_minor": 1
}
