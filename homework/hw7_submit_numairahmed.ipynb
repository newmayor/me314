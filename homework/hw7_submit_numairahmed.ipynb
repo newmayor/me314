{
 "cells": [
  {
   "cell_type": "markdown",
   "metadata": {
    "id": "CPQA-QCdiov-"
   },
   "source": [
    "# ME314 Homework 7 (Template)\n",
    "\n",
    "*Please note that a **single** PDF file will be the only document that you turn in, which will include your answers to the problems with corresponding derivations and any code used to complete the problems. When including the code, please make sure you also include **code outputs**, and you don't need to include example code. Problems and deliverables that should be included with your submission are shown in **bold**.*\n",
    "\n",
    "*This Juputer Notebook file serves as a template for you to start homework, since we recommend to finish the homework using Jupyter Notebook. You can start with this notebook file with your local Jupyter environment, or upload it to Google Colab. You can include all the code and other deliverables in this notebook Jupyter Notebook supports $\\LaTeX$ for math equations, and you can export the whole notebook as a PDF file. But this is not the only option, if you are more comfortable with other ways, feel free to do so, as long as you can submit the homework in a single PDF file.*\n",
    "\n",
    "***"
   ]
  },
  {
   "cell_type": "code",
   "execution_count": 1,
   "metadata": {
    "colab": {
     "base_uri": "https://localhost:8080/"
    },
    "id": "1vKvR7-iiqev",
    "outputId": "753acb4d-cbc2-481b-ae37-64ec1ef337be"
   },
   "outputs": [
    {
     "name": "stdout",
     "output_type": "stream",
     "text": [
      "1.7.1\n"
     ]
    }
   ],
   "source": [
    "# !pip install --upgrade sympy\n",
    "import sympy as sym \n",
    "print(sym.__version__)"
   ]
  },
  {
   "cell_type": "markdown",
   "metadata": {
    "id": "KKv8APHOiov_"
   },
   "source": [
    "## Problem 1 (20pts)\n",
    "\n",
    "Show that if $R\\in SO(n)$, then the matrix $A=\\frac{d}{dt}(R)R^{-1}$ is skew symmetric.\n",
    "    \n",
    "**Turn in: A scanned (or photograph from your phone or webcam) copy of your hand written solution. Or you can use \\LaTeX.**"
   ]
  },
  {
   "cell_type": "code",
   "execution_count": null,
   "metadata": {
    "id": "mvTiu3i4iowA"
   },
   "outputs": [],
   "source": []
  },
  {
   "cell_type": "markdown",
   "metadata": {
    "id": "mFJJTUjBiowE"
   },
   "source": [
    "## Problem 2 (20pts)\n",
    "\n",
    "Show that $\\underline{\\widehat{\\omega}}\\,\\underline{r}_b= -\\underline{\\widehat{r}}_b\\, \\underline{\\omega}$. \n",
    "    \n",
    "**Turn in: A scanned (or photograph from your phone or webcam) copy of your hand written solution. Or you can use \\LaTeX.**"
   ]
  },
  {
   "cell_type": "code",
   "execution_count": null,
   "metadata": {
    "id": "Qnp1vO7NiowE"
   },
   "outputs": [],
   "source": []
  },
  {
   "cell_type": "code",
   "execution_count": null,
   "metadata": {
    "colab": {
     "base_uri": "https://localhost:8080/",
     "height": 377
    },
    "id": "IyJRKHtFiowI",
    "outputId": "103a8fda-a833-4010-afb1-adbbf5f385d6",
    "scrolled": false
   },
   "outputs": [
    {
     "data": {
      "text/html": [
       "<table><tr><td><img src='https://github.com/MuchenSun/ME314pngs/raw/master/biped_simplified.jpg' width=700' height='350'></table>"
      ],
      "text/plain": [
       "<IPython.core.display.HTML object>"
      ]
     },
     "metadata": {
      "tags": []
     },
     "output_type": "display_data"
    }
   ],
   "source": [
    "from IPython.core.display import HTML\n",
    "display(HTML(\"<table><tr><td><img src='https://github.com/MuchenSun/ME314pngs/raw/master/biped_simplified.jpg' width=700' height='350'></table>\"))"
   ]
  },
  {
   "cell_type": "markdown",
   "metadata": {
    "id": "G8bQPeEeiowN"
   },
   "source": [
    "## Problem 3 (60pts)\n",
    "\n",
    "As shown in the image, consider one is doing the splits. To simplify the model, we ignore the upper body and assume the knees can not bend --- which means we only need four variables $q=[x, y, \\theta_1, \\theta_2]$ to configure the system. $x$ and $y$ are the position of the intersection point of the two legs, $\\theta_1$ and $\\theta_2$ are the angles between the legs and the green vertical dash line. The feet are constrained on the ground, and there is no friction between the feet and the ground. \n",
    "    \n",
    "Each leg is a rigid body with length $L=1$, width $W=0.2$, mass $m=1$, and rotational inertia $J=1$ (assuming the center of mass is at the center of geometry). Moreover, there are two torques applied on $\\theta_1$ and $\\theta_2$ to control the legs to track a desired trajectory:\n",
    "$$\n",
    "\\begin{aligned}\n",
    "\\theta_1^d(t) & = \\frac{\\pi}{20} + \\frac{\\pi}{3} \\sin^2(\\frac{t}{2}) \\\\\n",
    "\\theta_2^d(t) & =-\\frac{\\pi}{20} - \\frac{\\pi}{3} \\sin^2(\\frac{t}{2})\n",
    "\\end{aligned}\n",
    "$$ and the torques are:\n",
    "$$\n",
    "\\begin{aligned}\n",
    "F_{\\theta_1 }& = -k_1(\\theta_1-\\theta_1^d)\\\\\n",
    "F_{\\theta_2} & = -k_1(\\theta_2-\\theta_2^d)\n",
    "\\end{aligned}\n",
    "$$ In this problem we use $k_1=20$. \n",
    "\n",
    "Given the model description above, define the frames that you need (several example frames are shown in the image as well), simulate the motion of the biped from rest for $t\\in[0,10], dt=0.01$, with initial condition $q=[0, L_1\\cos(\\frac{\\pi}{20}), \\frac{\\pi}{20}, -\\frac{\\pi}{20}]$. You will need to modify the animation function to display the leg as a rectangle, an example of the animation can be found at [https://youtu.be/w8XHYrEoWTc](https://youtu.be/w8XHYrEoWTc). \n",
    "\n",
    "*Hint 1: Even though this is a 2D system, in order to compute kinetic energy from both translation and rotation, you will need to model the system in 3D world --- the $z$ coordinate is always zero and the rotation is around $z$ axis (based on these facts, what should the SE(3) matrix and rotational inertia tensor look like?). This also means you need to represent transformation with SE(3) and the body velocity $\\mathcal{V}_b\\in\\mathbb{R}^6$.*\n",
    "\n",
    "*Hint 2: It could be helpful to define several helper functions for all the matrix operations you will need to use. For example, a function returns SE(3) matrices given rotation angle and 2D translation vector, functions for ''hat'' and ''unhat'' operations, a function for matrix inverse of SE(3) (which is definitely not the same as the SymPy matrix inverse function), and a function return the time derivative of SO(3) or SE(3).*\n",
    "\n",
    "*Hint 3: In this problem the external force depends on time $t$, therefore in order to solve for the symbolic solution you need to substitute your configuration variables, which are defined as symbolic functions of time $t$ (such as $\\theta_1(t)$ and $\\frac{d}{dt}\\theta_1(t)$), with dummy symbolic variables, and include $t$ as a separate symbol to be solved for. For the same reason (the dynamic now explicitly depends on time), you will need to do some tiny modifications on the ''integrate'' and ''simulate'' functions, a good reference can be found at [https://en.wikipedia.org/wiki/Runge-Kutta_methods](https://en.wikipedia.org/wiki/Runge-Kutta_methods).*\n",
    "\n",
    "*Hint 4: Symbolically solving this system should be fast, but if you encountered some problem when solving the dynamics symbolically, an alternative method is to solve the system numerically --- substitute in the system state at each time step during simulation and solve for the numerical solution --- but based on my experience, this would cost more than one hour for 500 time steps, so it's not recommended.*\n",
    "\n",
    "*Hint 5: The animation of this problem is similar to the one in last homework --- the coordinates of the vertices in the body frame are constant, you just need to transfer them back to the world frame using the the transformation matrices you already have in the simulation.*\n",
    "\n",
    "*Hint 6: Be careful to consider the relationship between the frames and to not build in any implicit assumptions (such as assuming some variables are fixed).*\n",
    "\n",
    "*Hint 7: The rotation, by convention, is assumed to follow the right hand rule, which means the z-axis is out of the screen and the positive rotation orientation is counter-clockwise. Make sure you follow a consistent set of positive directions for all the computation.*\n",
    "\n",
    "*Hint 8: This problem is designed as a ''mini-project'', it could help you estimate the complexity of your final project, and you could adjust your proposal based on your experience with this problem.*\n",
    "\n",
    "**Turn in: A copy of the code used to simulate and animate the system. Also, include a plot of the trajectory and upload a video of animation separately through Canvas. The video should be in \".mp4\" format, you can use screen capture or record the screen directly with your phone.**"
   ]
  },
  {
   "cell_type": "code",
   "execution_count": 2,
   "metadata": {
    "id": "uZ6LtTewiowO"
   },
   "outputs": [],
   "source": [
    "import sympy as sym\n",
    "from sympy import symbols, Function, Matrix, sin, cos, solve, simplify, lambdify, pi, Inverse\n",
    "from sympy.abc import t"
   ]
  },
  {
   "cell_type": "code",
   "execution_count": 17,
   "metadata": {},
   "outputs": [],
   "source": [
    "\n",
    "#define configuration variables \n",
    "x, y, th1, th2 = symbols(r'x, y, theta1, theta2')\n",
    "\n",
    "m, l1, l2, J, k, g, w = symbols('m, l1, l2, J, k, g, w')\n",
    "\n",
    "x = Function(r'x')(t)\n",
    "y = Function(r'y')(t)\n",
    "th1 = Function(r'theta1')(t)\n",
    "th2 = Function(r'theta2')(t)\n",
    "\n",
    "q = Matrix([x, y, th1, th2])\n",
    "qdot = q.diff(t)\n",
    "qddot = qdot.diff(t)\n",
    "\n",
    "#define the applied torque functions\n",
    "th_d1 = (pi/20) + (pi/3)*(sin(t/2)**2)\n",
    "th_d2 = -(pi/20) - (pi/3)*(sin(t/2)**2)\n",
    "trq1 = -k*(th1 - th_d1)\n",
    "trq2 = -k*(th2 - th_d2)\n",
    "\n",
    "trqs = Matrix([0, 0, trq1, trq2])\n"
   ]
  },
  {
   "cell_type": "code",
   "execution_count": 30,
   "metadata": {},
   "outputs": [],
   "source": [
    "#set up transformation matrices (is it correct to call these quaternions?)\n",
    "g_wa = Matrix([\n",
    "    [1, 0, 0, x],\n",
    "    [0, 1, 0, y],\n",
    "    [0, 0, 1, 0],\n",
    "    [0, 0, 0, 1]\n",
    "])\n",
    "\n",
    "#rotation matrix for left leg\n",
    "g_wa_cw = Matrix([  \n",
    "    [cos(-th2), -sin(-th2), 0, 0],\n",
    "    [ sin(-th2), cos(-th2), 0, 0],\n",
    "    [0, 0, 1, 0],\n",
    "    [0, 0, 0, 1]\n",
    "])\n",
    "\n",
    "#rotation matrix for right leg\n",
    "g_wa_ccw = Matrix([\n",
    "    [cos(th1), -sin(th1), 0, 0],\n",
    "    [ sin(th1), cos(th1), 0, 0],\n",
    "    [0, 0, 1, 0],\n",
    "    [0, 0, 0, 1]\n",
    "])\n",
    "\n",
    "#translation from {A} to {C}\n",
    "g_ac = Matrix([\n",
    "    [1, 0, 0, 0],\n",
    "    [0, 1, 0, -l2/2],\n",
    "    [0, 0, 1, 0],\n",
    "    [0, 0, 0, 1]\n",
    "])\n",
    "\n",
    "#translation from {A} to {B}\n",
    "g_ab = Matrix([\n",
    "    [1, 0, 0, 0],\n",
    "    [0, 1, 0, -l1/2],\n",
    "    [0, 0, 1, 0],\n",
    "    [0, 0, 0, 1]\n",
    "])\n",
    "\n",
    "#translation from {C} to {E}\n",
    "g_ce = Matrix([\n",
    "    [1, 0, 0, 0],\n",
    "    [0, 1, 0, -l2/2],\n",
    "    [0, 0, 1, 0],\n",
    "    [0, 0, 0, 1]\n",
    "])\n",
    "\n",
    "#translation from {B} to {D}\n",
    "g_bd = Matrix([\n",
    "    [1, 0, 0, 0],\n",
    "    [0, 1, 0, -l1/2],\n",
    "    [0, 0, 1, 0],\n",
    "    [0, 0, 0, 1]\n",
    "])\n",
    "\n",
    "g_wc = g_wa * g_wa_cw * g_ac\n",
    "g_wb = g_wa * g_wa_ccw * g_ab\n",
    "\n",
    "g_we = g_wc * g_ce\n",
    "g_wd = g_wb * g_bd\n"
   ]
  },
  {
   "cell_type": "code",
   "execution_count": null,
   "metadata": {},
   "outputs": [],
   "source": []
  },
  {
   "cell_type": "code",
   "execution_count": null,
   "metadata": {},
   "outputs": [],
   "source": []
  }
 ],
 "metadata": {
  "colab": {
   "collapsed_sections": [],
   "name": "hw7_template2.ipynb",
   "provenance": []
  },
  "kernelspec": {
   "display_name": "Python 3",
   "language": "python",
   "name": "python3"
  },
  "language_info": {
   "codemirror_mode": {
    "name": "ipython",
    "version": 3
   },
   "file_extension": ".py",
   "mimetype": "text/x-python",
   "name": "python",
   "nbconvert_exporter": "python",
   "pygments_lexer": "ipython3",
   "version": "3.8.5"
  }
 },
 "nbformat": 4,
 "nbformat_minor": 1
}
