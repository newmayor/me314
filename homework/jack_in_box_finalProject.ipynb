{
 "cells": [
  {
   "cell_type": "markdown",
   "id": "99e3edf6",
   "metadata": {},
   "source": [
    "### import libraries"
   ]
  },
  {
   "cell_type": "code",
   "execution_count": 45,
   "id": "ac9e3d80",
   "metadata": {},
   "outputs": [],
   "source": [
    "import sympy as sym\n",
    "import numpy as np\n",
    "import matplotlib.pyplot as plt\n",
    "from sympy.abc import t\n",
    "from math import sqrt\n"
   ]
  },
  {
   "cell_type": "markdown",
   "id": "f9be72f6",
   "metadata": {},
   "source": [
    "### main set up of constants and functions"
   ]
  },
  {
   "cell_type": "code",
   "execution_count": 3,
   "id": "a3a55c30",
   "metadata": {},
   "outputs": [],
   "source": [
    "#constants\n",
    "dim1 = 10 #dim 1 of box\n",
    "dim2 = dim1 #dim 2 of box (make it square)\n",
    "lj = 2 #length of jack\n",
    "mj = 1 #mass of the bulb at each end of jack\n",
    "mb = 25 #give the walls of the box some large mass relative to jack\n",
    "g = 9.8\n",
    "\n"
   ]
  },
  {
   "cell_type": "code",
   "execution_count": 4,
   "id": "016d394d",
   "metadata": {},
   "outputs": [],
   "source": [
    "\n",
    "#set up configuration variables for jack and box\n",
    "#these will be used for deriving KE and PE equations for each component\n",
    "\n",
    "#config variabls for jack\n",
    "xj = sym.Function(r'x_j')(t)\n",
    "yj = sym.Function(r'y_j')(t)\n",
    "thj = sym.Function(r'\\theta_j')(t)\n",
    "#config vriables for box\n",
    "xb = sym.Function(r'x_b')(t)\n",
    "yb = sym.Function(r'y_b')(t)\n",
    "thb = sym.Function(r'\\theta_b')(t)\n",
    "\n",
    "#consolidate config variables into array q\n",
    "q = sym.Matrix([xj, yj, thj, xb, yb, thb])\n",
    "qdot = q.diff(t)\n",
    "qddot = qdot.diff(t)\n",
    "\n"
   ]
  },
  {
   "cell_type": "markdown",
   "id": "5d4f469e",
   "metadata": {},
   "source": [
    "### functions to handle frame transformations"
   ]
  },
  {
   "cell_type": "code",
   "execution_count": 5,
   "id": "a0c56c5a",
   "metadata": {},
   "outputs": [],
   "source": [
    "#rotate a 2x2 matrix\n",
    "def rot(th):\n",
    "    return sym.Matrix([[sym.cos(th), -sym.sin(th)], [sym.sin(th), sym.cos(th)]])\n",
    "\n",
    "#generate g transformation matrix (R is rotation component, t is translation component)\n",
    "def transform_frame(rot, trans):\n",
    "    g = sym.Matrix([\n",
    "        [rot[0], rot[1], 0, trans[0]],\n",
    "        [rot[2], rot[3], 0, trans[1]],\n",
    "        [0, 0, 1, trans[2]],\n",
    "        [0, 0, 0, 1]\n",
    "    ])\n",
    "    return g\n",
    "\n",
    "\n",
    "#compute inverse of transformation matrix\n",
    "def inverse_mat(mat):\n",
    "    \n",
    "    #extract rotation elements from input transform matrix mat\n",
    "    R = sym.Matrix([\n",
    "        [mat[0,0], mat[0,1], mat[0,2]],\n",
    "        [mat[1,0], mat[1,1], mat[1,2]],\n",
    "        [mat[2,0], mat[2,1], mat[2,2]]\n",
    "    ])\n",
    "    \n",
    "    #we know it's a square matrix\n",
    "    R_inv = R.T \n",
    "    \n",
    "    #extract translational elements from input transform matrix mat\n",
    "    p = sym.Matrix([\n",
    "        mat[0,3],\n",
    "        mat[1,3],\n",
    "        mat[2,3]\n",
    "    ])\n",
    "    \n",
    "    p_inv = -R_inv*p\n",
    "    \n",
    "    #now compute inverse matrix\n",
    "    output = sym.Matrix([\n",
    "        [R_inv[0,0], R_inv[0,1], R_inv[0,2], p_inv[0]],\n",
    "        [R_inv[1,0], R_inv[1,1], R_inv[1,2], p_inv[1]],\n",
    "        [R_inv[2,0], R_inv[2,1], R_inv[2,2], p_inv[2]],\n",
    "        [0, 0, 0, 1]\n",
    "    ])\n",
    "    return output\n"
   ]
  },
  {
   "cell_type": "markdown",
   "id": "8b3ae0cf",
   "metadata": {},
   "source": [
    "### set up transformation matrices g_xx"
   ]
  },
  {
   "cell_type": "code",
   "execution_count": 6,
   "id": "b9938b34",
   "metadata": {},
   "outputs": [],
   "source": [
    "#frame transformations\n",
    "\n",
    "#world to jack\n",
    "gwj = transform_frame(rot(q[2]), sym.Matrix([q[0], q[1], 0])) #rotation from world to jack frame\n",
    "gjb = transform_frame(rot(0), sym.Matrix([0, -lj/2, 0]))\n",
    "gjt = transform_frame(rot(0), sym.Matrix([0, lj/2, 0]))\n",
    "gjl = transform_frame(rot(0), sym.Matrix([-lj/2, 0, 0]))\n",
    "gjr = transform_frame(rot(0), sym.Matrix([lj/2, 0, 0]))\n",
    "\n",
    "#jack to box\n",
    "gwj_b = transform_frame(rot(q[5]), sym.Matrix([q[3], q[4], 0])) #rotation from jack to box frame\n",
    "gjb_b = transform_frame(rot(0), sym.Matrix([0, -dim2/2, 0]))\n",
    "gjb_t = transform_frame(rot(0), sym.Matrix([0, dim2/2, 0]))\n",
    "gjb_l = transform_frame(rot(0), sym.Matrix([-dim1/2, 0, 0]))\n",
    "gjb_r = transform_frame(rot(0), sym.Matrix([dim1/2, 0, 0]))\n",
    "\n",
    "#transform from world frame to end points of jack \n",
    "gwb = gwj*gjb\n",
    "gwt = gwj*gjt\n",
    "gwl = gwj*gjl\n",
    "gwr = gwj*gjr\n",
    "\n",
    "#transform from jack center to wall points of box\n",
    "gwb_b = gwj_b*gjb_b\n",
    "gwb_t = gwj_b*gjb_t\n",
    "gwb_l = gwj_b*gjb_l\n",
    "gwb_r = gwj_b*gjb_r\n",
    "\n",
    "#now transform from jack end points to center of box\n",
    "Gjj_b = sym.simplify(inverse_mat(gwj)*gwj_b)\n",
    "Gjb_b = sym.simplify(inverse_mat(gwb)*gwj_b)\n",
    "Gjt_b = sym.simplify(inverse_mat(gwt)*gwj_b)\n",
    "Gjl_b = sym.simplify(inverse_mat(gwl)*gwj_b)\n",
    "Gjr_b = sym.simplify(inverse_mat(gwr)*gwj_b)\n",
    "\n"
   ]
  },
  {
   "cell_type": "code",
   "execution_count": 7,
   "id": "e7e1f00a",
   "metadata": {},
   "outputs": [],
   "source": [
    "#transform world-to-jack endpoint frames to each box walls\n",
    "#jack bottom end\n",
    "Gbb_b = sym.simplify(inverse_mat(gwb)*gwb_b) #world to jack bottom pt, to jack bottom pt to box bottom wall\n",
    "Gbt_b = sym.simplify(inverse_mat(gwb)*gwb_t) #world to jack bottom pt, to jack bottom pt to box top wall\n",
    "Gbl_b = sym.simplify(inverse_mat(gwb)*gwb_l) #world to jack bottom pt, to jack bottom pt to box left wall\n",
    "Gbr_b = sym.simplify(inverse_mat(gwb)*gwb_r) #world to jack bottom pt, to jack bottom pt to box right wall\n",
    "\n",
    "#jack top end\n",
    "Gtb_b = sym.simplify(inverse_mat(gwt)*gwb_b) #world to jack top pt, to jack bottom pt to box bottom wall\n",
    "Gtt_b = sym.simplify(inverse_mat(gwt)*gwb_t) #world to jack top pt, to jack bottom pt to box top wall\n",
    "Gtl_b = sym.simplify(inverse_mat(gwt)*gwb_l) #world to jack top pt, to jack bottom pt to box left wall\n",
    "Gtr_b = sym.simplify(inverse_mat(gwt)*gwb_r) #world to jack top pt, to jack bottom pt to box right wall\n",
    "\n",
    "#jack left end\n",
    "Glb_b = sym.simplify(inverse_mat(gwl)*gwb_b) #world to jack left pt, to jack bottom pt to box bottom wall\n",
    "Glt_b = sym.simplify(inverse_mat(gwl)*gwb_t) #world to jack left pt, to jack bottom pt to top bottom wall\n",
    "Gll_b = sym.simplify(inverse_mat(gwl)*gwb_l) #world to jack left pt, to jack bottom pt to left bottom wall\n",
    "Glr_b = sym.simplify(inverse_mat(gwl)*gwb_r) #world to jack left pt, to jack bottom pt to right bottom wall\n",
    "\n",
    "#jack right end\n",
    "Grb_b = sym.simplify(inverse_mat(gwr)*gwb_b) #world to jack right pt, to jack bottom pt to box bottom wall\n",
    "Grt_b = sym.simplify(inverse_mat(gwr)*gwb_t) #world to jack right pt, to jack bottom pt to top bottom wall\n",
    "Grl_b = sym.simplify(inverse_mat(gwr)*gwb_l) #world to jack right pt, to jack bottom pt to left bottom wall\n",
    "Grr_b = sym.simplify(inverse_mat(gwr)*gwb_r) #world to jack right pt, to jack bottom pt to right bottom wall\n"
   ]
  },
  {
   "cell_type": "markdown",
   "id": "c5f204a5",
   "metadata": {},
   "source": [
    "### compute moment of inertia and body velocities to set up for KE and PE"
   ]
  },
  {
   "cell_type": "code",
   "execution_count": 8,
   "id": "d5900d6e",
   "metadata": {},
   "outputs": [],
   "source": [
    "def unhat(mat):\n",
    "    return sym.Matrix([\n",
    "        mat[0,3], mat[1,3], mat[2,3], mat[2,1], -mat[2,0], mat[1,0]\n",
    "    ])\n",
    "\n",
    "#Mass config\n",
    "mb_tot = 4*mb\n",
    "mj_tot = 4*mj\n",
    "mb_dist = sqrt(2)*dim1/2\n",
    "mj_dist = sqrt(2)*dim2/2\n",
    "Jb = mb_tot*(dim1/2)**2\n",
    "Jj = mj_tot*(dim2/2)**2\n",
    "\n",
    "#Mass-Inertia\n",
    "Ij = sym.Matrix([\n",
    "        [mj_tot,0.,0.,0.,0.,0.],\n",
    "        [0.,mj_tot,0.,0.,0.,0.],\n",
    "        [0.,0.,mj_tot,0.,0.,0.],\n",
    "        [0.,0.,0.,0.,0.,0.],\n",
    "        [0.,0.,0.,0.,0.,0.],\n",
    "        [0.,0.,0.,0.,0.,Jj]\n",
    "    ])\n",
    "\n",
    "Ij2 = sym.Matrix([\n",
    "        [0.,0.,0.],\n",
    "        [0.,0.,0.],\n",
    "        [0.,0.,Jj]\n",
    "    ])\n",
    "\n",
    "Ib = sym.Matrix([\n",
    "        [mb_tot,0.,0.,0.,0.,0.],\n",
    "        [0.,mb_tot,0.,0.,0.,0.],\n",
    "        [0.,0.,mb_tot,0.,0.,0.],\n",
    "        [0.,0.,0.,0.,0.,0.],\n",
    "        [0.,0.,0.,0.,0.,0.],\n",
    "        [0.,0.,0.,0.,0.,Jb]\n",
    "    ])\n",
    "\n",
    "Ib2 = sym.Matrix([\n",
    "        [0.,0.,0.],\n",
    "        [0.,0.,0.],\n",
    "        [0.,0.,Jb]\n",
    "    ])\n",
    "\n",
    "#compute body velocity\n",
    "Vj = inverse_mat(gwj)*gwj.diff(t)\n",
    "Vj = unhat(Vj)\n",
    "Vb = inverse_mat(gwj_b)*gwj_b.diff(t)\n",
    "Vb = unhat(Vb)\n"
   ]
  },
  {
   "cell_type": "markdown",
   "id": "bf4ab05f",
   "metadata": {},
   "source": [
    "### compute Euler-Lagrangian equation"
   ]
  },
  {
   "cell_type": "code",
   "execution_count": 9,
   "id": "903fa07e",
   "metadata": {},
   "outputs": [],
   "source": [
    "#kinetic energy of system\n",
    "KEj = ((Vj.T * Ij * Vj)/2)[0] #KE for jack\n",
    "KEb = ((Vb.T * Ib * Vb)/2)[0] #KE for box\n",
    "KE = KEj + KEb\n",
    "\n",
    "#potential energy\n",
    "PE = 0 #assume jack is on table top, there is no potential energy due to gravity\n",
    "\n",
    "#Lagrangian\n",
    "L = sym.simplify(KE- PE)\n",
    "\n",
    "dldq = L.diff(q)\n",
    "dldqdot = L.diff(qdot)\n",
    "ddt_dldqdot = dldqdot.diff(t)\n",
    "\n",
    "#assume force input only applies to outside of box in XY directions\n",
    "fx = 300*sym.sin(t)\n",
    "fy = 300*sym.cos(t)\n",
    "f = (sym.Matrix([0,0,0,fx,fy,0]))\n",
    "\n",
    "#Euler-Lagrangian equations\n",
    "el = sym.Eq(ddt_dldqdot - dldq, f)"
   ]
  },
  {
   "cell_type": "code",
   "execution_count": 10,
   "id": "a1aec7b4",
   "metadata": {},
   "outputs": [
    {
     "name": "stdout",
     "output_type": "stream",
     "text": [
      "=================================================\n",
      "\n",
      "Euler Lagrange equations for box and jack with input force on box\n"
     ]
    },
    {
     "data": {
      "text/latex": [
       "$\\displaystyle \\left[\\begin{matrix}4.0 \\frac{d^{2}}{d t^{2}} \\operatorname{x_{j}}{\\left(t \\right)}\\\\4.0 \\frac{d^{2}}{d t^{2}} \\operatorname{y_{j}}{\\left(t \\right)}\\\\100.0 \\frac{d^{2}}{d t^{2}} \\theta_{j}{\\left(t \\right)}\\\\100.0 \\frac{d^{2}}{d t^{2}} \\operatorname{x_{b}}{\\left(t \\right)}\\\\100.0 \\frac{d^{2}}{d t^{2}} \\operatorname{y_{b}}{\\left(t \\right)}\\\\2500.0 \\frac{d^{2}}{d t^{2}} \\theta_{b}{\\left(t \\right)}\\end{matrix}\\right] = \\left[\\begin{matrix}0\\\\0\\\\0\\\\300 \\sin{\\left(t \\right)}\\\\300 \\cos{\\left(t \\right)}\\\\0\\end{matrix}\\right]$"
      ],
      "text/plain": [
       "Eq(Matrix([\n",
       "[        4.0*Derivative(x_j(t), (t, 2))],\n",
       "[        4.0*Derivative(y_j(t), (t, 2))],\n",
       "[ 100.0*Derivative(\\theta_j(t), (t, 2))],\n",
       "[      100.0*Derivative(x_b(t), (t, 2))],\n",
       "[      100.0*Derivative(y_b(t), (t, 2))],\n",
       "[2500.0*Derivative(\\theta_b(t), (t, 2))]]), Matrix([\n",
       "[         0],\n",
       "[         0],\n",
       "[         0],\n",
       "[300*sin(t)],\n",
       "[300*cos(t)],\n",
       "[         0]]))"
      ]
     },
     "metadata": {},
     "output_type": "display_data"
    }
   ],
   "source": [
    "print('=================================================')\n",
    "print()\n",
    "print(\"Euler Lagrange equations for box and jack with input force on box\")\n",
    "display((el))"
   ]
  },
  {
   "cell_type": "markdown",
   "id": "d8d0a758",
   "metadata": {},
   "source": [
    "# Now need to solve for trajectory simulation"
   ]
  },
  {
   "cell_type": "markdown",
   "id": "64e7000b",
   "metadata": {},
   "source": [
    "### solve and lambdify"
   ]
  },
  {
   "cell_type": "code",
   "execution_count": 11,
   "id": "866c60d6",
   "metadata": {},
   "outputs": [],
   "source": [
    "el_soln = sym.solve(el, [*qddot])"
   ]
  },
  {
   "cell_type": "code",
   "execution_count": 12,
   "id": "b38cb7ec",
   "metadata": {},
   "outputs": [
    {
     "name": "stdout",
     "output_type": "stream",
     "text": [
      "=================================================\n",
      "\n",
      "Equations of motion:\n"
     ]
    },
    {
     "data": {
      "text/latex": [
       "$\\displaystyle \\frac{d^{2}}{d t^{2}} \\operatorname{x_{j}}{\\left(t \\right)} = 0.0$"
      ],
      "text/plain": [
       "Eq(Derivative(x_j(t), (t, 2)), 0.0)"
      ]
     },
     "metadata": {},
     "output_type": "display_data"
    },
    {
     "data": {
      "text/latex": [
       "$\\displaystyle \\frac{d^{2}}{d t^{2}} \\operatorname{y_{j}}{\\left(t \\right)} = 0.0$"
      ],
      "text/plain": [
       "Eq(Derivative(y_j(t), (t, 2)), 0.0)"
      ]
     },
     "metadata": {},
     "output_type": "display_data"
    },
    {
     "data": {
      "text/latex": [
       "$\\displaystyle \\frac{d^{2}}{d t^{2}} \\theta_{j}{\\left(t \\right)} = 0.0$"
      ],
      "text/plain": [
       "Eq(Derivative(\\theta_j(t), (t, 2)), 0.0)"
      ]
     },
     "metadata": {},
     "output_type": "display_data"
    },
    {
     "data": {
      "text/latex": [
       "$\\displaystyle \\frac{d^{2}}{d t^{2}} \\operatorname{x_{b}}{\\left(t \\right)} = 3.0 \\sin{\\left(t \\right)}$"
      ],
      "text/plain": [
       "Eq(Derivative(x_b(t), (t, 2)), 3.0*sin(t))"
      ]
     },
     "metadata": {},
     "output_type": "display_data"
    },
    {
     "data": {
      "text/latex": [
       "$\\displaystyle \\frac{d^{2}}{d t^{2}} \\operatorname{y_{b}}{\\left(t \\right)} = 3.0 \\cos{\\left(t \\right)}$"
      ],
      "text/plain": [
       "Eq(Derivative(y_b(t), (t, 2)), 3.0*cos(t))"
      ]
     },
     "metadata": {},
     "output_type": "display_data"
    },
    {
     "data": {
      "text/latex": [
       "$\\displaystyle \\frac{d^{2}}{d t^{2}} \\theta_{b}{\\left(t \\right)} = 0.0$"
      ],
      "text/plain": [
       "Eq(Derivative(\\theta_b(t), (t, 2)), 0.0)"
      ]
     },
     "metadata": {},
     "output_type": "display_data"
    }
   ],
   "source": [
    "print('=================================================')\n",
    "print()\n",
    "print(\"Equations of motion:\")\n",
    "\n",
    "for key in el_soln:\n",
    "    display(sym.Eq(key, el_soln[key]))"
   ]
  },
  {
   "cell_type": "code",
   "execution_count": 13,
   "id": "aacd7ff2",
   "metadata": {},
   "outputs": [],
   "source": [
    "#lambdify \n",
    "xjfunc = sym.lambdify([*q, *qdot, t], el_soln[qddot[0]])\n",
    "yjfunc = sym.lambdify([*q, *qdot, t], el_soln[qddot[1]])\n",
    "thjfunc = sym.lambdify([*q, *qdot, t], el_soln[qddot[2]])\n",
    "xbfunc = sym.lambdify([*q, *qdot, t], el_soln[qddot[3]])\n",
    "ybfunc = sym.lambdify([*q, *qdot, t], el_soln[qddot[4]])\n",
    "thbfunc = sym.lambdify([*q, *qdot, t], el_soln[qddot[5]])\n"
   ]
  },
  {
   "cell_type": "markdown",
   "id": "9c84986b",
   "metadata": {},
   "source": [
    "### prep for computing Hamiltonian"
   ]
  },
  {
   "cell_type": "code",
   "execution_count": 14,
   "id": "4ec9b19a",
   "metadata": {},
   "outputs": [],
   "source": [
    "#dummy variables\n",
    "xjminus, yjminus, thjminus = sym.symbols(r'{x_j}^{-},{y_j}^{-},{\\theta_j}^{-}')\n",
    "xbminus, ybminus, thbminus = sym.symbols(r'{x_b}^{-},{y_b}^{-},{\\theta_b}^{-}')\n",
    "xjdotplus,yjdotplus,thjdotplus,xjdotminus,yjdotminus,thjdotminus = sym.symbols(r'\\dot{x_j}^{+},\\dot{y_j}^{+},\\dot{\\theta_j}^{+},\\dot{x_j}^{-},\\dot{y_j}^{-},\\dot{\\theta_j}^{-}')\n",
    "xbdotplus,ybdotplus,thbdotplus,xbdotminus,ybdotminus,thbdotminus = sym.symbols(r'\\dot{x_b}^{+},\\dot{y_b}^{+},\\dot{\\theta_b}^{+},\\dot{x_b}^{-},\\dot{y_b}^{-},\\dot{\\theta_b}^{-}')\n",
    "lam = sym.symbols(r'\\lambda')\n",
    "\n",
    "#substitution dictionaries\n",
    "sub_minus = {\n",
    "    q[0]:xjminus,\n",
    "    q[1]:yjminus,\n",
    "    q[2]:thjminus,\n",
    "    q[3]:xbminus,\n",
    "    q[4]:ybminus,\n",
    "    q[5]:thbminus,\n",
    "    qdot[0]:xjdotminus,\n",
    "    qdot[1]:yjdotminus,\n",
    "    qdot[2]:thjdotminus,\n",
    "    qdot[3]:xbdotminus,\n",
    "    qdot[4]:ybdotminus,\n",
    "    qdot[5]:thbdotminus}\n",
    "\n",
    "sub_plus = {\n",
    "    q[0]:xjminus,\n",
    "    q[1]:yjminus,\n",
    "    q[2]:thjminus,\n",
    "    q[3]:xbminus,\n",
    "    q[4]:ybminus,\n",
    "    q[5]:thbminus,\n",
    "    qdot[0]:xjdotplus,\n",
    "    qdot[1]:yjdotplus,\n",
    "    qdot[2]:thjdotplus,\n",
    "    qdot[3]:xbdotplus,\n",
    "    qdot[4]:ybdotplus,\n",
    "    qdot[5]:thbdotplus}\n",
    "\n"
   ]
  },
  {
   "cell_type": "markdown",
   "id": "1b393007",
   "metadata": {},
   "source": [
    "### compute Hamiltonian"
   ]
  },
  {
   "cell_type": "code",
   "execution_count": 15,
   "id": "744f2ce0",
   "metadata": {},
   "outputs": [],
   "source": [
    "#Lagrangian in matrix form needed for Hamiltonian step\n",
    "l_mat = sym.Matrix([L])\n",
    "\n",
    "#compute Hamiltonian. needed for evaluating impacts\n",
    "H = dldqdot.T * qdot - l_mat\n",
    "H_minus = H.subs(sub_minus)\n",
    "H_plus = H.subs(sub_plus)"
   ]
  },
  {
   "cell_type": "markdown",
   "id": "0a3e28bf",
   "metadata": {},
   "source": [
    "### set up for impact update equations"
   ]
  },
  {
   "cell_type": "code",
   "execution_count": 17,
   "id": "a32d937e",
   "metadata": {},
   "outputs": [],
   "source": [
    "#we have potentially 16 impact cases so a loop can be used to efficiently generate the equations\n",
    "#first set up the constraint condition phi for each of the 16 possible cases\n",
    "\n",
    "#possible impact conditions of bottom jack endpoint to four walls of box\n",
    "phi1 = sym.Matrix([sym.simplify((inverse_mat(Gbb_b)*sym.Matrix([0,0,0,1]))[1])]) \n",
    "phi2 = sym.Matrix([sym.simplify((inverse_mat(Gbt_b)*sym.Matrix([0,0,0,1]))[1])]) \n",
    "phi3 = sym.Matrix([sym.simplify((inverse_mat(Gbr_b)*sym.Matrix([0,0,0,1]))[0])]) \n",
    "phi4 = sym.Matrix([sym.simplify((inverse_mat(Gbl_b)*sym.Matrix([0,0,0,1]))[0])]) \n",
    "\n",
    "#possible impact conditions of top jack endpoint to four walls of box\n",
    "phi5 = sym.Matrix([sym.simplify((inverse_mat(Gtb_b)*sym.Matrix([0,0,0,1]))[1])]) \n",
    "phi6 = sym.Matrix([sym.simplify((inverse_mat(Gtt_b)*sym.Matrix([0,0,0,1]))[1])]) \n",
    "phi7 = sym.Matrix([sym.simplify((inverse_mat(Gtr_b)*sym.Matrix([0,0,0,1]))[0])]) \n",
    "phi8 = sym.Matrix([sym.simplify((inverse_mat(Gtl_b)*sym.Matrix([0,0,0,1]))[0])]) \n",
    "\n",
    "#possible impact conditions of left jack endpoint to four walls of box\n",
    "phi9 = sym.Matrix([sym.simplify((inverse_mat(Glb_b)*sym.Matrix([0,0,0,1]))[1])]) \n",
    "phi10 = sym.Matrix([sym.simplify((inverse_mat(Glt_b)*sym.Matrix([0,0,0,1]))[1])]) \n",
    "phi11 = sym.Matrix([sym.simplify((inverse_mat(Glr_b)*sym.Matrix([0,0,0,1]))[0])]) \n",
    "phi12 = sym.Matrix([sym.simplify((inverse_mat(Gll_b)*sym.Matrix([0,0,0,1]))[0])]) \n",
    "\n",
    "#possible impact conditions of right jack endpoint to four walls of box\n",
    "phi13 = sym.Matrix([sym.simplify((inverse_mat(Grb_b)*sym.Matrix([0,0,0,1]))[1])]) \n",
    "phi14 = sym.Matrix([sym.simplify((inverse_mat(Grt_b)*sym.Matrix([0,0,0,1]))[1])]) \n",
    "phi15 = sym.Matrix([sym.simplify((inverse_mat(Grr_b)*sym.Matrix([0,0,0,1]))[0])]) \n",
    "phi16 = sym.Matrix([sym.simplify((inverse_mat(Grl_b)*sym.Matrix([0,0,0,1]))[0])]) \n",
    "\n",
    "#contain all phi constraints in one list to be accessed by for loop\n",
    "phi_mat = sym.Matrix([phi1,phi2,phi3,phi4,phi5,phi6,phi7,phi8,phi9,phi10,phi11,phi12,phi13,phi14,phi15,phi16])\n",
    "phi_mat_minus = phi_mat.subs(sub_minus)\n",
    "phi_list = [phi1,phi2,phi3,phi4,phi5,phi6,phi7,phi8,phi9,phi10,phi11,phi12,phi13,phi14,phi15,phi16]\n",
    "\n"
   ]
  },
  {
   "cell_type": "markdown",
   "id": "01535d1d",
   "metadata": {},
   "source": [
    "### generate 16 impact update equations and store in one list"
   ]
  },
  {
   "cell_type": "code",
   "execution_count": 20,
   "id": "bae628e1",
   "metadata": {},
   "outputs": [],
   "source": [
    "dldqdot_minus = dldqdot.subs(sub_minus)\n",
    "dldqdot_plus = dldqdot.subs(sub_plus)\n",
    "\n",
    "#will be used in generating each impact update eqn\n",
    "lhs = sym.Matrix([dldqdot_plus-dldqdot_minus, H_plus-H_minus])\n",
    "# display(lhs)\n",
    "\n",
    "impacts = []\n",
    "for i in range(len(phi_list)):\n",
    "    dpdq = phi_list[i].jacobian(q).T\n",
    "    dpdq_minus = dpdq.subs(sub_minus)\n",
    "        \n",
    "    rhs = sym.Matrix([lam * dpdq_minus, 0])\n",
    "    impact = sym.Eq(lhs, rhs)\n",
    "    impacts.append(impact)"
   ]
  },
  {
   "cell_type": "code",
   "execution_count": 21,
   "id": "457a7bed",
   "metadata": {},
   "outputs": [
    {
     "name": "stdout",
     "output_type": "stream",
     "text": [
      "=================================================\n",
      "\n",
      "print out of one impact update equation:\n"
     ]
    },
    {
     "data": {
      "text/latex": [
       "$\\displaystyle \\left[\\begin{matrix}1.0 \\lambda \\sin{\\left({\\theta_b}^{-} \\right)}\\\\- 1.0 \\lambda \\cos{\\left({\\theta_b}^{-} \\right)}\\\\1.0 \\lambda \\sin{\\left({\\theta_b}^{-} - {\\theta_j}^{-} \\right)}\\\\- 1.0 \\lambda \\sin{\\left({\\theta_b}^{-} \\right)}\\\\1.0 \\lambda \\cos{\\left({\\theta_b}^{-} \\right)}\\\\- 1.0 \\lambda \\left({x_b}^{-} \\cos{\\left({\\theta_b}^{-} \\right)} - {x_j}^{-} \\cos{\\left({\\theta_b}^{-} \\right)} + {y_b}^{-} \\sin{\\left({\\theta_b}^{-} \\right)} - {y_j}^{-} \\sin{\\left({\\theta_b}^{-} \\right)} + \\sin{\\left({\\theta_b}^{-} - {\\theta_j}^{-} \\right)}\\right)\\\\0\\end{matrix}\\right] = \\left[\\begin{matrix}- 4.0 \\dot{x_j}^{+} + 4.0 \\dot{x_j}^{-}\\\\- 4.0 \\dot{y_j}^{+} + 4.0 \\dot{y_j}^{-}\\\\- 100.0 \\dot{\\theta_j}^{+} + 100.0 \\dot{\\theta_j}^{-}\\\\- 100.0 \\dot{x_b}^{+} + 100.0 \\dot{x_b}^{-}\\\\- 100.0 \\dot{y_b}^{+} + 100.0 \\dot{y_b}^{-}\\\\- 2500.0 \\dot{\\theta_b}^{+} + 2500.0 \\dot{\\theta_b}^{-}\\\\- 1250.0 \\left(\\dot{\\theta_b}^{+}\\right)^{2} + 1250.0 \\left(\\dot{\\theta_b}^{-}\\right)^{2} - 50.0 \\left(\\dot{\\theta_j}^{+}\\right)^{2} + 50.0 \\left(\\dot{\\theta_j}^{-}\\right)^{2} - 50.0 \\left(\\dot{x_b}^{+}\\right)^{2} + 50.0 \\left(\\dot{x_b}^{-}\\right)^{2} - 2.0 \\left(\\dot{x_j}^{+}\\right)^{2} + 2.0 \\left(\\dot{x_j}^{-}\\right)^{2} - 50.0 \\left(\\dot{y_b}^{+}\\right)^{2} + 50.0 \\left(\\dot{y_b}^{-}\\right)^{2} - 2.0 \\left(\\dot{y_j}^{+}\\right)^{2} + 2.0 \\left(\\dot{y_j}^{-}\\right)^{2}\\end{matrix}\\right]$"
      ],
      "text/plain": [
       "Eq(Matrix([\n",
       "[                                                                                                                                                    1.0*\\lambda*sin({\\theta_b}^{-})],\n",
       "[                                                                                                                                                   -1.0*\\lambda*cos({\\theta_b}^{-})],\n",
       "[                                                                                                                                   1.0*\\lambda*sin({\\theta_b}^{-} - {\\theta_j}^{-})],\n",
       "[                                                                                                                                                   -1.0*\\lambda*sin({\\theta_b}^{-})],\n",
       "[                                                                                                                                                    1.0*\\lambda*cos({\\theta_b}^{-})],\n",
       "[-1.0*\\lambda*({x_b}^{-}*cos({\\theta_b}^{-}) - {x_j}^{-}*cos({\\theta_b}^{-}) + {y_b}^{-}*sin({\\theta_b}^{-}) - {y_j}^{-}*sin({\\theta_b}^{-}) + sin({\\theta_b}^{-} - {\\theta_j}^{-}))],\n",
       "[                                                                                                                                                                                  0]]), Matrix([\n",
       "[                                                                                                                                                                                                                                                                            -4.0*\\dot{x_j}^{+} + 4.0*\\dot{x_j}^{-}],\n",
       "[                                                                                                                                                                                                                                                                            -4.0*\\dot{y_j}^{+} + 4.0*\\dot{y_j}^{-}],\n",
       "[                                                                                                                                                                                                                                                              -100.0*\\dot{\\theta_j}^{+} + 100.0*\\dot{\\theta_j}^{-}],\n",
       "[                                                                                                                                                                                                                                                                        -100.0*\\dot{x_b}^{+} + 100.0*\\dot{x_b}^{-}],\n",
       "[                                                                                                                                                                                                                                                                        -100.0*\\dot{y_b}^{+} + 100.0*\\dot{y_b}^{-}],\n",
       "[                                                                                                                                                                                                                                                            -2500.0*\\dot{\\theta_b}^{+} + 2500.0*\\dot{\\theta_b}^{-}],\n",
       "[-1250.0*\\dot{\\theta_b}^{+}**2 + 1250.0*\\dot{\\theta_b}^{-}**2 - 50.0*\\dot{\\theta_j}^{+}**2 + 50.0*\\dot{\\theta_j}^{-}**2 - 50.0*\\dot{x_b}^{+}**2 + 50.0*\\dot{x_b}^{-}**2 - 2.0*\\dot{x_j}^{+}**2 + 2.0*\\dot{x_j}^{-}**2 - 50.0*\\dot{y_b}^{+}**2 + 50.0*\\dot{y_b}^{-}**2 - 2.0*\\dot{y_j}^{+}**2 + 2.0*\\dot{y_j}^{-}**2]]))"
      ]
     },
     "execution_count": 21,
     "metadata": {},
     "output_type": "execute_result"
    }
   ],
   "source": [
    "print('=================================================')\n",
    "print()\n",
    "print(\"print out of one impact update equation:\")\n",
    "sym.simplify(impacts[1])"
   ]
  },
  {
   "cell_type": "markdown",
   "id": "054a3551",
   "metadata": {},
   "source": [
    "### simulate and compute trajectory"
   ]
  },
  {
   "cell_type": "code",
   "execution_count": 43,
   "id": "81dbf7f3",
   "metadata": {},
   "outputs": [],
   "source": [
    "#solves constraint equations to determine whether or not impact is occurring\n",
    "def impact_condition(s,threshold=1e-1):\n",
    "    i = 0 \n",
    "    for phi in phi_funcs:\n",
    "        phi_val = phi(s)\n",
    "        if phi_val < threshold and phi_val > -threshold:\n",
    "            return i+1 #which condition impacted\n",
    "        i+=1\n",
    "    return 0\n",
    "\n",
    "#solves necessary impact update equations \n",
    "def impact_update(s,condition):\n",
    "    sub_vals = {\n",
    "        xjminus:s[0],\n",
    "        yjminus:s[1],\n",
    "        thjminus:s[2],\n",
    "        xbminus:s[3],\n",
    "        ybminus:s[4],\n",
    "        thbminus:s[5],\n",
    "        \n",
    "        xjdotminus:s[6],\n",
    "        yjdotminus:s[7],\n",
    "        thjdotminus:s[8],\n",
    "        xbdotminus:s[9],\n",
    "        ybdotminus:s[10],\n",
    "        thbdotminus:s[11]\n",
    "    }\n",
    "    \n",
    "    cur_ieqs = impacts[condition-1].subs(sub_vals)\n",
    "    print('')\n",
    "    i_sols = sym.solve(cur_ieqs,\n",
    "                       [lam,xjdotplus,yjdotplus,thjdotplus,xbdotplus,ybdotplus,thbdotplus],\n",
    "                       dict=True)\n",
    "    if len(i_sols) > 1:\n",
    "        for i in i_sols:\n",
    "            if abs(i[lam]) < 1e-06:\n",
    "                pass\n",
    "            else:\n",
    "                return np.array([s[0],s[1],s[2],s[3],s[4],s[5],float(sym.N(i[xjdotplus])),float(sym.N(i[yjdotplus])),float(sym.N(i[thjdotplus])),float(sym.N(i[xbdotplus])),float(sym.N(i[ybdotplus])),float(sym.N(i[thbdotplus]))])\n",
    "    else:\n",
    "        return np.array([])\n",
    "\n",
    "#copied from previous homeworks\n",
    "def integrate(f, xt, dt, tt):\n",
    "    \"\"\"\n",
    "    This function takes in an initial condition x(t) and a timestep dt,\n",
    "    as well as a dynamical system f(x) that outputs a vector of the\n",
    "    same dimension as x(t). It outputs a vector x(t+dt) at the future\n",
    "    time step.\n",
    "    Parameters\n",
    "    ============\n",
    "    dyn: Python function\n",
    "    derivate of the system at a given step x(t),\n",
    "    it can considered as \\dot{x}(t) = func(x(t))\n",
    "    xt: NumPy array\n",
    "    current step x(t)\n",
    "    dt:\n",
    "    tt: current time\n",
    "    step size for integration\n",
    "    Return\n",
    "    ============\n",
    "    new_xt:\n",
    "    value of x(t+dt) integrated from x(t)\n",
    "    \"\"\"\n",
    "    k1 = dt * f(xt,tt)\n",
    "    k2 = dt * f(xt+k1/2.,tt+dt/2.)\n",
    "    k3 = dt * f(xt+k2/2.,tt+dt/2.)\n",
    "    k4 = dt * f(xt+k3,tt+dt)\n",
    "    new_xt = xt + (1/6.) * (k1+2.0*k2+2.0*k3+k4)\n",
    "    return new_xt\n",
    "\n",
    "#modify simulate function from previous homeworks\n",
    "def simulate(f,x0,tspan,dt,integrate):\n",
    "    N = int((max(tspan)-min(tspan))/dt)\n",
    "    x = np.copy(x0)\n",
    "    tvec = np.linspace(min(tspan),max(tspan),N)\n",
    "    xtraj = np.zeros((len(x0),N))\n",
    "    for i in range (N):\n",
    "        \n",
    "        #check for impact with some threshold condition\n",
    "        condition = impact_condition(x)\n",
    "        #if impact is detected\n",
    "        if condition != 0:\n",
    "            print(f\"impact condition {condition} has been detected at t = {tvec[i]} sec\")\n",
    "            #update impact conditions\n",
    "            x = impact_update(x,condition)\n",
    "            xtraj[:,i] = integrate(f,x,dt,tvec[i])\n",
    "        else:\n",
    "            xtraj[:,i] = integrate(f,x,dt,tvec[i])\n",
    "        x = np.copy(xtraj[:,i])\n",
    "    return xtraj\n",
    "\n",
    "#Return jack and box velocities and accelerations\n",
    "def jack_dyn(s,t):\n",
    "    return np.array([\n",
    "        s[6], s[7], s[8], s[9], s[10], s[11],\n",
    "        xjfunc(*s,t),yjfunc(*s,t),thjfunc(*s,t),\n",
    "        xbfunc(*s,t),ybfunc(*s,t),thbfunc(*s,t)\n",
    "    ])\n",
    "\n"
   ]
  },
  {
   "cell_type": "code",
   "execution_count": 47,
   "id": "c5ff9b92",
   "metadata": {},
   "outputs": [
    {
     "name": "stdout",
     "output_type": "stream",
     "text": [
      "starting simulation\n",
      "\n",
      "impact condition 10 has been detected at t = 1.901901901901902 sec\n",
      "\n",
      "impact condition 16 has been detected at t = 2.6226226226226226 sec\n",
      "\n",
      "impact condition 5 has been detected at t = 3.2932932932932935 sec\n",
      "\n",
      "impact condition 14 has been detected at t = 4.864864864864865 sec\n",
      "\n",
      "impact condition 15 has been detected at t = 5.265265265265265 sec\n",
      "\n",
      "impact condition 6 has been detected at t = 5.8358358358358355 sec\n",
      "\n",
      "impact condition 12 has been detected at t = 6.556556556556557 sec\n",
      "\n",
      "impact condition 2 has been detected at t = 9.38938938938939 sec\n",
      "\n"
     ]
    },
    {
     "data": {
      "image/png": "[encoded data removed]",
      "text/plain": [
       "<Figure size 432x288 with 1 Axes>"
      ]
     },
     "metadata": {
      "needs_background": "light"
     },
     "output_type": "display_data"
    }
   ],
   "source": [
    "#lambdify constraint equations\n",
    "phi_funcs = []\n",
    "for condition in phi_list:\n",
    "    phi_funcs.append(sym.lambdify([\n",
    "        [q[0],q[1],q[2],q[3],q[4],q[5],\n",
    "         qdot[0],qdot[1],qdot[2],qdot[3],qdot[4],qdot[5]]\n",
    "    ],condition))\n",
    "\n",
    "    \n",
    "#Run Simulation\n",
    "print('starting simulation')\n",
    "print('')\n",
    "s0 = [-16,0,0,-16,0,0,0,0,0,0,0,1] #[xj,yj,thj,xb,yb,thb,...]\n",
    "tspan = [0,10]\n",
    "dt = 0.01\n",
    "N = int((max(tspan)-min(tspan))/dt)\n",
    "traj = simulate(jack_dyn,s0,tspan,dt,integrate)\n",
    "\n",
    "#Plot\n",
    "t_list = np.linspace(min(tspan), max(tspan), N)\n",
    "fig1 = plt.figure(0)\n",
    "plt.plot(t_list,traj[0])\n",
    "plt.plot(t_list,traj[1])\n",
    "plt.plot(t_list,traj[2])\n",
    "plt.plot(t_list,traj[3])\n",
    "plt.plot(t_list,traj[4])\n",
    "plt.plot(t_list,traj[5])\n",
    "plt.xlabel('t')\n",
    "plt.legend([r'$x_j$(t)',r'$y_j$(t)',r'$\\theta_j$(t)',r'$x_b$(t)',r'$y_b$(t)',r'$\\theta_b$(t)'])\n",
    "plt.title('Simulated trajectories')\n",
    "plt.show()"
   ]
  },
  {
   "cell_type": "code",
   "execution_count": null,
   "id": "4a1ee8f7",
   "metadata": {},
   "outputs": [],
   "source": []
  },
  {
   "cell_type": "code",
   "execution_count": null,
   "id": "850c6a6f",
   "metadata": {},
   "outputs": [],
   "source": [
    "display(phi_list[15])"
   ]
  },
  {
   "cell_type": "code",
   "execution_count": null,
   "id": "6dd08935",
   "metadata": {},
   "outputs": [],
   "source": []
  }
 ],
 "metadata": {
  "kernelspec": {
   "display_name": "Python 3",
   "language": "python",
   "name": "python3"
  },
  "language_info": {
   "codemirror_mode": {
    "name": "ipython",
    "version": 3
   },
   "file_extension": ".py",
   "mimetype": "text/x-python",
   "name": "python",
   "nbconvert_exporter": "python",
   "pygments_lexer": "ipython3",
   "version": "3.8.5"
  }
 },
 "nbformat": 4,
 "nbformat_minor": 5
}
