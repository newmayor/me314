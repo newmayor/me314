{
 "cells": [
  {
   "cell_type": "markdown",
   "id": "2ac2da87",
   "metadata": {},
   "source": [
    "## import libraries"
   ]
  },
  {
   "cell_type": "code",
   "execution_count": 6,
   "id": "4886bbfb",
   "metadata": {},
   "outputs": [],
   "source": [
    "import sympy as sym\n",
    "from sympy.abc import t"
   ]
  },
  {
   "cell_type": "markdown",
   "id": "a11827da",
   "metadata": {},
   "source": [
    "## main set up of constants and functions"
   ]
  },
  {
   "cell_type": "code",
   "execution_count": 10,
   "id": "d51c6647",
   "metadata": {},
   "outputs": [],
   "source": [
    "#constants\n",
    "dim1 = 10 #dim 1 of box\n",
    "dim2 = dim1 #dim 2 of box (make it square)\n",
    "lj = 2 #length of jack\n",
    "mj = 1 #mass of the bulb at each end of jack\n",
    "mb = 25 #give the walls of the box some large mass relative to jack\n",
    "g = 9.8\n",
    "\n"
   ]
  },
  {
   "cell_type": "code",
   "execution_count": 12,
   "id": "241fa648",
   "metadata": {},
   "outputs": [],
   "source": [
    "\n",
    "#set up configuration variables for jack and box\n",
    "#these will be used for deriving KE and PE equations for each component\n",
    "\n",
    "#config variabls for jack\n",
    "xj = sym.Function(r'x_j')(t)\n",
    "yj = sym.Function(r'y_j')(t)\n",
    "thj = sym.Function(r'\\theta_j')(t)\n",
    "#config vriables for box\n",
    "xb = sym.Function(r'x_b')(t)\n",
    "yb = sym.Function(r'y_b')(t)\n",
    "thb = sym.Function(r'\\theta_b')(t)\n",
    "\n",
    "#consolidate config variables into array q\n",
    "q = sym.Matrix([xj, yj, thj, xb, yb, thb])\n",
    "qdot = q.diff(t)\n",
    "qddot = qdot.diff(t)\n",
    "\n"
   ]
  },
  {
   "cell_type": "markdown",
   "id": "1bd319ab",
   "metadata": {},
   "source": [
    "## functions to handle frame transformations"
   ]
  },
  {
   "cell_type": "code",
   "execution_count": 28,
   "id": "75a3d208",
   "metadata": {},
   "outputs": [],
   "source": [
    "#rotate a 2x2 matrix\n",
    "def rot(th):\n",
    "    return sym.Matrix([[sym.cos(th), -sym.sin(th)], [sym.sin(th), sym.cos(th)]])\n",
    "\n",
    "#generate g transformation matrix (R is rotation component, t is translation component)\n",
    "def transform_frame(rot, trans):\n",
    "    g = sym.Matrix([\n",
    "        [rot[0], rot[1], 0, trans[0]],\n",
    "        [rot[2], rot[3], 0, trans[1]],\n",
    "        [0, 0, 1, trans[2]],\n",
    "        [0, 0, 0, 1]\n",
    "    ])\n",
    "    return g\n",
    "\n",
    "\n",
    "#compute inverse of transformation matrix\n",
    "def inverse_mat(mat):\n",
    "    \n",
    "    #extract rotation elements from input transform matrix mat\n",
    "    R = sym.Matrix([\n",
    "        [mat[0,0], mat[0,1], mat[0,2]],\n",
    "        [mat[1,0], mat[1,1], mat[1,2]],\n",
    "        [mat[2,0], mat[2,1], mat[2,2]]\n",
    "    ])\n",
    "    \n",
    "    #we know it's a square matrix\n",
    "    R_inv = R.T \n",
    "    \n",
    "    #extract translational elements from input transform matrix mat\n",
    "    p = sym.Matrix([\n",
    "        mat[0,3],\n",
    "        mat[1,3],\n",
    "        mat[2,3]\n",
    "    ])\n",
    "    \n",
    "    p_inv = -R_inv*p\n",
    "    \n",
    "    #now compute inverse matrix\n",
    "    output = sym.Matrix([\n",
    "        [R_inv[0,0], R_inv[0,1], R_inv[0,2], p_inv[0]],\n",
    "        [R_inv[1,0], R_inv[1,1], R_inv[1,2], p_inv[1]],\n",
    "        [R_inv[2,0], R_inv[2,1], R_inv[2,2], p_inv[2]],\n",
    "        [0, 0, 0, 1]\n",
    "    ])\n",
    "    return output\n"
   ]
  },
  {
   "cell_type": "markdown",
   "id": "8cfdcc2b",
   "metadata": {},
   "source": [
    "## set up transformation matrices g_xx"
   ]
  },
  {
   "cell_type": "code",
   "execution_count": 33,
   "id": "a0899e85",
   "metadata": {},
   "outputs": [],
   "source": [
    "#frame transformations\n",
    "\n",
    "#world to jack\n",
    "gwj = transform_frame(rot(q[2]), sym.Matrix([q[0], q[1], 0])) #rotation from world to jack frame\n",
    "gjb = transform_frame(rot(0), sym.Matrix([0, -lj/2, 0]))\n",
    "gjt = transform_frame(rot(0), sym.Matrix([0, lj/2, 0]))\n",
    "gjl = transform_frame(rot(0), sym.Matrix([-lj/2, 0, 0]))\n",
    "gjr = transform_frame(rot(0), sym.Matrix([lj/2, 0, 0]))\n",
    "\n",
    "#jack to box\n",
    "gwj_b = transform_frame(rot(q[5]), sym.Matrix([q[3], q[4], 0])) #rotation from jack to box frame\n",
    "gjb_b = transform_frame(rot(0), sym.Matrix([0, -dim2/2, 0]))\n",
    "gjb_t = transform_frame(rot(0), sym.Matrix([0, dim2/2, 0]))\n",
    "gjb_l = transform_frame(rot(0), sym.Matrix([-dim1/2, 0, 0]))\n",
    "gjb_r = transform_frame(rot(0), sym.Matrix([dim1/2, 0, 0]))\n",
    "\n",
    "#transform from world frame to end points of jack \n",
    "gwb = gwj*gjb\n",
    "gwt = gwj*gjt\n",
    "gwl = gwj*gjl\n",
    "gwr = gwj*gjr\n",
    "\n",
    "#transform from jack center to wall points of box\n",
    "gwb_b = gwj_b*gjb_b\n",
    "gwb_t = gwj_b*gjb_t\n",
    "gwb_l = gwj_b*gjb_l\n",
    "gwb_r = gwj_b*gjb_r\n",
    "\n",
    "#now transform from jack end points to center of box\n",
    "Gjj_b = sym.simplify(inverse_mat(gwj)*gwj_b)\n",
    "Gjb_b = sym.simplify(inverse_mat(gwb)*gwj_b)\n",
    "Gjt_b = sym.simplify(inverse_mat(gwt)*gwj_b)\n",
    "Gjl_b = sym.simplify(inverse_mat(gwl)*gwj_b)\n",
    "Gjr_b = sym.simplify(inverse_mat(gwr)*gwj_b)\n",
    "\n"
   ]
  },
  {
   "cell_type": "code",
   "execution_count": 37,
   "id": "7328be8a",
   "metadata": {},
   "outputs": [],
   "source": [
    "#transform world-to-jack endpoint frames to each box walls\n",
    "#jack bottom end\n",
    "Gbb_b = sym.simplify(inverse_mat(gwb)*gwb_b) #world to jack bottom pt, to jack bottom pt to box bottom wall\n",
    "Gbt_b = sym.simplify(inverse_mat(gwb)*gwb_t) #world to jack bottom pt, to jack bottom pt to box top wall\n",
    "Gbl_b = sym.simplify(inverse_mat(gwb)*gwb_l) #world to jack bottom pt, to jack bottom pt to box left wall\n",
    "Gbr_b = sym.simplify(inverse_mat(gwb)*gwb_r) #world to jack bottom pt, to jack bottom pt to box right wall\n",
    "\n",
    "#jack top end\n",
    "Gtb_b = sym.simplify(inverse_mat(gwt)*gwb_b) #world to jack top pt, to jack bottom pt to box bottom wall\n",
    "Gtt_b = sym.simplify(inverse_mat(gwt)*gwb_t) #world to jack top pt, to jack bottom pt to box top wall\n",
    "Gtl_b = sym.simplify(inverse_mat(gwt)*gwb_l) #world to jack top pt, to jack bottom pt to box left wall\n",
    "Gtr_b = sym.simplify(inverse_mat(gwt)*gwb_r) #world to jack top pt, to jack bottom pt to box right wall\n",
    "\n",
    "#jack left end\n",
    "Glb_b = sym.simplify(inverse_mat(gwl)*gwb_b) #world to jack left pt, to jack bottom pt to box bottom wall\n",
    "Glt_b = sym.simplify(inverse_mat(gwl)*gwb_t) #world to jack left pt, to jack bottom pt to top bottom wall\n",
    "Gll_b = sym.simplify(inverse_mat(gwl)*gwb_l) #world to jack left pt, to jack bottom pt to left bottom wall\n",
    "Glr_b = sym.simplify(inverse_mat(gwl)*gwb_r) #world to jack left pt, to jack bottom pt to right bottom wall\n",
    "\n",
    "#jack right end\n",
    "Grb_b = sym.simplify(inverse_mat(gwr)*gwb_b) #world to jack right pt, to jack bottom pt to box bottom wall\n",
    "Grt_b = sym.simplify(inverse_mat(gwr)*gwb_t) #world to jack right pt, to jack bottom pt to top bottom wall\n",
    "Grl_b = sym.simplify(inverse_mat(gwr)*gwb_l) #world to jack right pt, to jack bottom pt to left bottom wall\n",
    "Grr_b = sym.simplify(inverse_mat(gwr)*gwb_r) #world to jack right pt, to jack bottom pt to right bottom wall\n"
   ]
  },
  {
   "cell_type": "markdown",
   "id": "ece55629",
   "metadata": {},
   "source": [
    "## compute moment of inertia and body velocities to set up for KE and PE"
   ]
  },
  {
   "cell_type": "code",
   "execution_count": 48,
   "id": "930a9164",
   "metadata": {},
   "outputs": [],
   "source": [
    "from math import sqrt\n",
    "\n",
    "def unhat(mat):\n",
    "    return sym.Matrix([\n",
    "        mat[0,3], mat[1,3], mat[2,3], mat[2,1], -mat[2,0], mat[1,0]\n",
    "    ])\n",
    "\n",
    "#Mass config\n",
    "mb_tot = 4*mb\n",
    "mj_tot = 4*mj\n",
    "mb_dist = sqrt(2)*dim1/2\n",
    "mj_dist = sqrt(2)*dim2/2\n",
    "Jb = mb_tot*(dim1/2)**2\n",
    "Jj = mj_tot*(dim2/2)**2\n",
    "\n",
    "#Mass-Inertia\n",
    "Ij = sym.Matrix([\n",
    "        [mj_tot,0.,0.,0.,0.,0.],\n",
    "        [0.,mj_tot,0.,0.,0.,0.],\n",
    "        [0.,0.,mj_tot,0.,0.,0.],\n",
    "        [0.,0.,0.,0.,0.,0.],\n",
    "        [0.,0.,0.,0.,0.,0.],\n",
    "        [0.,0.,0.,0.,0.,Jj]\n",
    "    ])\n",
    "\n",
    "Ij2 = sym.Matrix([\n",
    "        [0.,0.,0.],\n",
    "        [0.,0.,0.],\n",
    "        [0.,0.,Jj]\n",
    "    ])\n",
    "\n",
    "Ib = sym.Matrix([\n",
    "        [mb_tot,0.,0.,0.,0.,0.],\n",
    "        [0.,mb_tot,0.,0.,0.,0.],\n",
    "        [0.,0.,mb_tot,0.,0.,0.],\n",
    "        [0.,0.,0.,0.,0.,0.],\n",
    "        [0.,0.,0.,0.,0.,0.],\n",
    "        [0.,0.,0.,0.,0.,Jb]\n",
    "    ])\n",
    "\n",
    "Ib2 = sym.Matrix([\n",
    "        [0.,0.,0.],\n",
    "        [0.,0.,0.],\n",
    "        [0.,0.,Jb]\n",
    "    ])\n",
    "\n",
    "#body velocity\n",
    "Vj = inverse_mat(gwj)*gwj.diff(t)\n",
    "Vj = unhat(Vj)"
   ]
  },
  {
   "cell_type": "code",
   "execution_count": 51,
   "id": "5d9ea31d",
   "metadata": {},
   "outputs": [
    {
     "data": {
      "text/latex": [
       "$\\displaystyle \\left[\\begin{matrix}\\sin{\\left(\\theta_{j}{\\left(t \\right)} \\right)} \\frac{d}{d t} \\operatorname{y_{j}}{\\left(t \\right)} + \\cos{\\left(\\theta_{j}{\\left(t \\right)} \\right)} \\frac{d}{d t} \\operatorname{x_{j}}{\\left(t \\right)}\\\\- \\sin{\\left(\\theta_{j}{\\left(t \\right)} \\right)} \\frac{d}{d t} \\operatorname{x_{j}}{\\left(t \\right)} + \\cos{\\left(\\theta_{j}{\\left(t \\right)} \\right)} \\frac{d}{d t} \\operatorname{y_{j}}{\\left(t \\right)}\\\\0\\\\0\\\\0\\\\\\frac{d}{d t} \\theta_{j}{\\left(t \\right)}\\end{matrix}\\right]$"
      ],
      "text/plain": [
       "Matrix([\n",
       "[ sin(\\theta_j(t))*Derivative(y_j(t), t) + cos(\\theta_j(t))*Derivative(x_j(t), t)],\n",
       "[-sin(\\theta_j(t))*Derivative(x_j(t), t) + cos(\\theta_j(t))*Derivative(y_j(t), t)],\n",
       "[                                                                               0],\n",
       "[                                                                               0],\n",
       "[                                                                               0],\n",
       "[                                                      Derivative(\\theta_j(t), t)]])"
      ]
     },
     "metadata": {},
     "output_type": "display_data"
    }
   ],
   "source": [
    "display(sym.simplify(Vj))"
   ]
  },
  {
   "cell_type": "code",
   "execution_count": null,
   "id": "71ec3f7a",
   "metadata": {},
   "outputs": [],
   "source": []
  }
 ],
 "metadata": {
  "kernelspec": {
   "display_name": "Python 3",
   "language": "python",
   "name": "python3"
  },
  "language_info": {
   "codemirror_mode": {
    "name": "ipython",
    "version": 3
   },
   "file_extension": ".py",
   "mimetype": "text/x-python",
   "name": "python",
   "nbconvert_exporter": "python",
   "pygments_lexer": "ipython3",
   "version": "3.8.5"
  }
 },
 "nbformat": 4,
 "nbformat_minor": 5
}
