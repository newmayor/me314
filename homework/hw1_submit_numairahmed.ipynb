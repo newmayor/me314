{
 "cells": [
  {
   "cell_type": "markdown",
   "metadata": {
    "id": "rMoYal9MbtAf"
   },
   "source": [
    "# ME314 Homework 1 \n",
    "\n",
    "*Please note that a **single** PDF file will be the only document that you turn in, which will include your answers to the problems with corresponding derivations, and the code used to complete the problems. Problems and deliverables that should be included with your submission are shown in **bold**.*\n",
    "\n",
    "*This Juputer Notebook file serves as a template for you to start homework, since we recommend to finish the homework using Jupyter Notebook. You can start with this notebook file with your local Jupyter environment, or upload it to Google Colab. You can include all the code and other deliverables in this notebook Jupyter Notebook supports $\\LaTeX$ for math equations, and you can export the whole notebook as a PDF file. But this is not the only option, if you are more comfortable with other ways, feel free to do so, as long as you can submit the homework in a single PDF file.*\n",
    "\n",
    "***"
   ]
  },
  {
   "cell_type": "code",
   "execution_count": 1,
   "metadata": {
    "id": "zzAqIAyWbtAg"
   },
   "outputs": [],
   "source": [
    "# ##############################################################################################\n",
    "# # If you're using Google Colab, uncomment this section by selecting the whole section and press\n",
    "# # ctrl+'/' on your and keyboard. Run it before you start programming, this will enable the nice \n",
    "# # LaTeX \"display()\" function for you. If you're using the local Jupyter environment, leave it alone\n",
    "# ##############################################################################################\n",
    "\n",
    "# import sympy as sym\n",
    "# def custom_latex_printer(exp,**options):\n",
    "#     from google.colab.output._publish import javascript\n",
    "#     url = \"https://cdnjs.cloudflare.com/ajax/libs/mathjax/3.1.1/latest.js?config=TeX-AMS_HTML\"\n",
    "#     javascript(url=url)\n",
    "#     return sym.printing.latex(exp,**options)\n",
    "# sym.init_printing(use_latex=\"mathjax\",latex_printer=custom_latex_printer)"
   ]
  },
  {
   "cell_type": "markdown",
   "metadata": {
    "id": "lUyCOxYxbtAm"
   },
   "source": [
    "## Problem 1 (15pts)"
   ]
  },
  {
   "cell_type": "code",
   "execution_count": 2,
   "metadata": {
    "colab": {
     "base_uri": "https://localhost:8080/",
     "height": 377
    },
    "id": "PhOYd_ocbtAn",
    "outputId": "fbf09d36-852c-4c5e-b6c4-80701b8417cc"
   },
   "outputs": [
    {
     "data": {
      "text/html": [
       "<table><tr><td><img src='https://github.com/MuchenSun/ME314pngs/raw/master/2mass_spring.png' width=500' height='350'></table>"
      ],
      "text/plain": [
       "<IPython.core.display.HTML object>"
      ]
     },
     "metadata": {},
     "output_type": "display_data"
    }
   ],
   "source": [
    "from IPython.core.display import HTML\n",
    "display(HTML(\"<table><tr><td><img src='https://github.com/MuchenSun/ME314pngs/raw/master/2mass_spring.png' width=500' height='350'></table>\"))"
   ]
  },
  {
   "cell_type": "markdown",
   "metadata": {
    "id": "HlkvMSJ6btAs"
   },
   "source": [
    "As shown in the image above, two blocks are connected by one spring, and one block is connected to the wall with another spring. The two springs have lengths of zero when they are \"relaxed\", thus they are stretched with any positive displacement $\\Delta x > 0$, and the magnitude of the force can be computed using Hooke's law $|F| = k \\Delta x$, where $k$ is spring ratio. Furthermore, there is no friction between the blocks and the ground. \n",
    "    \n",
    "Now, with the masses $m_1=1kg$, $m_2=2kg$, spring ratios $k_1=0.5N/m$, $k_2=0.8N/m$, given the positions of the blocks as $x_1$ and $x_2$, use Newton's law $F=ma$ to compute the accelerations of the blocks $a_1=\\ddot{x}_1$ and $a_2=\\ddot{x}_2$. You need to use Pythons's SymPy package to solve for symbolic solutions, then numerically evaluate your solutions for $a_1$ and $a_2$ as functions of $x_1$ and $x_2$. Test your numerical functions with $x_1=1m, x_2=3m$ as function inputs. \n",
    "\n",
    "*Hint 1: There will be two equations, one for each block. The equations are based on Newton's law $F=ma$. Thus, for each block you need to write down it's $F$ in terms of $x_1$ and $x_2$ (which can be defined as symbols in SymPy).*\n",
    "\n",
    "*Hint 2: You will need to use SymPy's **solve()** and **lambdify()** methods in this problem, you've seen both of them in Homework 0. This problem is very similar to Problem 5 in Homework 0,except that you need to write down the equations by yourselves, and you don't need to solve the equations simultaneously, you can solve them one by one for each block. Feel free to take the example code in Homework 0 as a start point.*\n",
    "\n",
    "*Hint 3: You may need to use **lambdify()** to numerically evaluate a function with multiple variables. Below is an example.*"
   ]
  },
  {
   "cell_type": "code",
   "execution_count": 3,
   "metadata": {
    "colab": {
     "base_uri": "https://localhost:8080/",
     "height": 89
    },
    "id": "JNb4_7j2btAt",
    "outputId": "32f88e86-64ca-4343-ae20-9d71cbcdc45d"
   },
   "outputs": [],
   "source": [
    "# import sympy as sym\n",
    "# from sympy.abc import x, y, z\n",
    "\n",
    "# expr = sym.sin(x) * y**2 * z + x*z + x/z**2\n",
    "# print('expression: ')\n",
    "# display(expr)\n",
    "\n",
    "# # method 1: the numerical function will take variables one by one\n",
    "# func = sym.lambdify([x, y, z], expr)\n",
    "# print('test at x=1, y=2, z=3: ', func(1, 2, 3))\n",
    "\n",
    "# # method 2: the numerical function will take variables cotained in one list/array\n",
    "# func = sym.lambdify([[x, y, z]], expr)\n",
    "# print('test at x=1, y=2, z=3: ', func([1, 2, 3]))"
   ]
  },
  {
   "cell_type": "markdown",
   "metadata": {
    "id": "Jgr6A4KJbtAx"
   },
   "source": [
    "**Turn in: A copy of the code used to solve for symbolic solutions and evaluate them as numerical functions, include the test results for numerical functions.**"
   ]
  },
  {
   "cell_type": "code",
   "execution_count": 4,
   "metadata": {
    "id": "x93hx-iWbtAy",
    "scrolled": false
   },
   "outputs": [
    {
     "name": "stdout",
     "output_type": "stream",
     "text": [
      "\n",
      "\n",
      "Newtonian equations of motion for each mass: \n"
     ]
    },
    {
     "data": {
      "text/latex": [
       "$\\displaystyle m_{1} \\frac{d^{2}}{d t^{2}} \\operatorname{x_{1}}{\\left(t \\right)} = - k_{1} \\operatorname{x_{1}}{\\left(t \\right)} + k_{2} \\left(- \\operatorname{x_{1}}{\\left(t \\right)} + \\operatorname{x_{2}}{\\left(t \\right)}\\right)$"
      ],
      "text/plain": [
       "Eq(m1*Derivative(x1(t), (t, 2)), -k1*x1(t) + k2*(-x1(t) + x2(t)))"
      ]
     },
     "metadata": {},
     "output_type": "display_data"
    },
    {
     "data": {
      "text/latex": [
       "$\\displaystyle m_{2} \\frac{d^{2}}{d t^{2}} \\operatorname{x_{2}}{\\left(t \\right)} = - k_{2} \\left(- \\operatorname{x_{1}}{\\left(t \\right)} + \\operatorname{x_{2}}{\\left(t \\right)}\\right)$"
      ],
      "text/plain": [
       "Eq(m2*Derivative(x2(t), (t, 2)), -k2*(-x1(t) + x2(t)))"
      ]
     },
     "metadata": {},
     "output_type": "display_data"
    },
    {
     "name": "stdout",
     "output_type": "stream",
     "text": [
      "\n",
      "======================================\n",
      "x1_ddot = \n"
     ]
    },
    {
     "data": {
      "text/latex": [
       "$\\displaystyle \\frac{- k_{1} \\operatorname{x_{1}}{\\left(t \\right)} - k_{2} \\operatorname{x_{1}}{\\left(t \\right)} + k_{2} \\operatorname{x_{2}}{\\left(t \\right)}}{m_{1}}$"
      ],
      "text/plain": [
       "(-k1*x1(t) - k2*x1(t) + k2*x2(t))/m1"
      ]
     },
     "metadata": {},
     "output_type": "display_data"
    },
    {
     "name": "stdout",
     "output_type": "stream",
     "text": [
      "\n",
      "x2_ddot = \n"
     ]
    },
    {
     "data": {
      "text/latex": [
       "$\\displaystyle \\frac{k_{2} \\left(\\operatorname{x_{1}}{\\left(t \\right)} - \\operatorname{x_{2}}{\\left(t \\right)}\\right)}{m_{2}}$"
      ],
      "text/plain": [
       "k2*(x1(t) - x2(t))/m2"
      ]
     },
     "metadata": {},
     "output_type": "display_data"
    },
    {
     "name": "stdout",
     "output_type": "stream",
     "text": [
      "======================================\n",
      "Lambdify and solve for a1 with values given: a1 = 1.1000000000000003\n",
      "Lambdify and solve for a2 with values given: a2 = -0.8\n"
     ]
    }
   ],
   "source": [
    "import numpy as np\n",
    "import sympy as sym\n",
    "from sympy import symbols, Function\n",
    "from sympy.abc import t\n",
    "\n",
    "m1 = symbols('m1')\n",
    "m2 = symbols('m2')\n",
    "k1 = symbols('k1')\n",
    "k2 = symbols('k2')\n",
    "\n",
    "x1 = Function(r'x1')(t)\n",
    "x2 = Function(r'x2')(t)\n",
    "\n",
    "print()\n",
    "x1_ddot = x1.diff(t).diff(t)\n",
    "x2_ddot = x2.diff(t).diff(t)\n",
    "\n",
    "print()\n",
    "print('Newtonian equations of motion for each mass: ')\n",
    "eqn1 = sym.Eq(m1*x1_ddot, k2*(x2 - x1) - k1*x1)\n",
    "eqn2 = sym.Eq(m2*x2_ddot, -k2*(x2 - x1))\n",
    "display(eqn1, eqn2)\n",
    "\n",
    "x1ddot_solve = sym.solve(eqn1, x1_ddot)\n",
    "x2ddot_solve = sym.solve(eqn2, x2_ddot)\n",
    "print()\n",
    "print('======================================')\n",
    "print('x1_ddot = ')\n",
    "display(x1ddot_solve[0])\n",
    "print()\n",
    "print('x2_ddot = ')\n",
    "display(x2ddot_solve[0])\n",
    "func1 = sym.lambdify([x1, x2, m1, m2, k1, k2], x1ddot_solve)\n",
    "func2 = sym.lambdify([x1, x2, m1, m2, k1, k2], x2ddot_solve)\n",
    "print('======================================')\n",
    "print('Lambdify and solve for a1 with values given: a1 =', func1(1, 3, 1, 2, 0.5, 0.8)[0])\n",
    "print('Lambdify and solve for a2 with values given: a2 =', func2(1, 3, 1, 2, 0.5, 0.8)[0])\n"
   ]
  },
  {
   "cell_type": "markdown",
   "metadata": {
    "id": "4na_cGgRbtA2"
   },
   "source": [
    "## Problem 2 (10pts)\n",
    "\n",
    "For the same system in Problem 1, now take $x_1$, $x_2$ as system configuration variables, compute the Lagrangian of this system using Python's SymPy package.\n",
    "\n",
    "*Hint 1: For an object with mass $m$ and velocity $v$, its kinetic energy is $\\frac{1}{2} mv^2$.*\n",
    "\n",
    "*Hint 2: For a spring stretched with displacement $\\Delta x$ and spring ratio $k$, its potential energy is $\\frac{1}{2} k (\\Delta x)^2$. Also, the springs have zero mass.*\n",
    "\n",
    "*Hint 3: Since $x_1$ and $x_2$ are actually functions of time $t$, in order to compute Euler-Lagrange equations, you will need to take their derivative with respect to $t$. Here instead of defining position and velocity as two seperate symbols, you need to define position as SymPy's **Function** object, and the velocity would be the derivative of that function with respect to time $t$. An example is provided below.*"
   ]
  },
  {
   "cell_type": "code",
   "execution_count": 5,
   "metadata": {
    "colab": {
     "base_uri": "https://localhost:8080/",
     "height": 134
    },
    "id": "FN2mzn2obtA3",
    "outputId": "c40d1499-1c35-4206-b3d6-7a1aa22d6fed"
   },
   "outputs": [],
   "source": [
    "# import sympy as sym\n",
    "# from sympy.abc import t\n",
    "# from sympy import symbols, Function, solve\n",
    "\n",
    "# # define position as function of t\n",
    "# x1 = Function(r'x_1')(t)\n",
    "# # define velocity as derivative of position wrt t\n",
    "# x1dot = x1.diff(t)\n",
    "# # define acceleration as derivative of velocity wrt t\n",
    "# x1ddot = x1dot.diff(t)\n",
    "\n",
    "# # now write down an expression in terms of position and velocity\n",
    "# expr = x1**2 + x1*x1dot\n",
    "# print('expression: ')\n",
    "# display(expr)\n",
    "# # you can take the derivative of this expression wrt to time t\n",
    "# expr_dt = expr.diff(t)\n",
    "# print('derivative of expression wrt time t: ')\n",
    "# display(expr_dt)\n",
    "# # or you can take the derivative wrt the functions: x, xdot, xddot\n",
    "# expr_dx = expr.diff(x1)\n",
    "# print('derivative of expression wrt x1(t): ')\n",
    "# display(expr_dx)\n",
    "\n"
   ]
  },
  {
   "cell_type": "markdown",
   "metadata": {
    "id": "MfKa8PnMbtA7"
   },
   "source": [
    "**Turn in: A copy of the code used to symbolically compute the Lagrangian, and the computed Lagrangian.**"
   ]
  },
  {
   "cell_type": "code",
   "execution_count": 6,
   "metadata": {
    "id": "N4OM-6y6btA8"
   },
   "outputs": [
    {
     "name": "stdout",
     "output_type": "stream",
     "text": [
      "\n",
      "Kinetic energy of the system: \n",
      "KE =\n"
     ]
    },
    {
     "data": {
      "text/latex": [
       "$\\displaystyle 0.5 m_{1} \\left(\\frac{d}{d t} \\operatorname{x_{1}}{\\left(t \\right)}\\right)^{2} + 0.5 m_{2} \\left(\\frac{d}{d t} \\operatorname{x_{2}}{\\left(t \\right)}\\right)^{2}$"
      ],
      "text/plain": [
       "0.5*m1*Derivative(x1(t), t)**2 + 0.5*m2*Derivative(x2(t), t)**2"
      ]
     },
     "metadata": {},
     "output_type": "display_data"
    },
    {
     "name": "stdout",
     "output_type": "stream",
     "text": [
      "======================================\n",
      "\n",
      "Potential energy of the system: \n",
      "PE =\n"
     ]
    },
    {
     "data": {
      "text/latex": [
       "$\\displaystyle 0.5 k_{1} \\operatorname{x_{1}}^{2}{\\left(t \\right)} + 0.5 k_{2} \\left(- \\operatorname{x_{1}}{\\left(t \\right)} + \\operatorname{x_{2}}{\\left(t \\right)}\\right)^{2}$"
      ],
      "text/plain": [
       "0.5*k1*x1(t)**2 + 0.5*k2*(-x1(t) + x2(t))**2"
      ]
     },
     "metadata": {},
     "output_type": "display_data"
    },
    {
     "name": "stdout",
     "output_type": "stream",
     "text": [
      "======================================\n",
      "\n",
      "Lagrangian of the 2DOF system: \n",
      "L = KE - PE  \n",
      "\n",
      "L = \n"
     ]
    },
    {
     "data": {
      "text/latex": [
       "$\\displaystyle - 0.5 k_{1} \\operatorname{x_{1}}^{2}{\\left(t \\right)} - 0.5 k_{2} \\left(- \\operatorname{x_{1}}{\\left(t \\right)} + \\operatorname{x_{2}}{\\left(t \\right)}\\right)^{2} + 0.5 m_{1} \\left(\\frac{d}{d t} \\operatorname{x_{1}}{\\left(t \\right)}\\right)^{2} + 0.5 m_{2} \\left(\\frac{d}{d t} \\operatorname{x_{2}}{\\left(t \\right)}\\right)^{2}$"
      ],
      "text/plain": [
       "-0.5*k1*x1(t)**2 - 0.5*k2*(-x1(t) + x2(t))**2 + 0.5*m1*Derivative(x1(t), t)**2 + 0.5*m2*Derivative(x2(t), t)**2"
      ]
     },
     "metadata": {},
     "output_type": "display_data"
    }
   ],
   "source": [
    "from sympy.abc import g\n",
    "\n",
    "m1 = symbols('m1')\n",
    "m2 = symbols('m2')\n",
    "k1 = symbols('k1')\n",
    "k2 = symbols('k2')\n",
    "\n",
    "x1 = Function(r'x1')(t)\n",
    "x2 = Function(r'x2')(t)\n",
    "x1_dot = x1.diff(t)\n",
    "x2_dot = x2.diff(t)\n",
    "\n",
    "kE = (0.5*m1*x1_dot**2) + (0.5*m2*x2_dot**2)\n",
    "pE = (0.5*k1*x1**2) + (0.5*k2*(x2-x1)**2)\n",
    "\n",
    "print()\n",
    "print('Kinetic energy of the system: \\nKE =')\n",
    "display(kE)\n",
    "print('======================================')\n",
    "print()\n",
    "print('Potential energy of the system: \\nPE =')\n",
    "display(pE)\n",
    "\n",
    "print('======================================')\n",
    "print()\n",
    "print('Lagrangian of the 2DOF system: \\nL = KE - PE  \\n\\nL = ')\n",
    "L = kE - pE\n",
    "display(L)\n"
   ]
  },
  {
   "cell_type": "markdown",
   "metadata": {
    "id": "2dF3njN2btBB"
   },
   "source": [
    "## Problem 3 (10pts)\n",
    "\n",
    "Based on your solution for Problem 2, compute the Euler-Lagrange equations for this system.\n",
    "\n",
    "*Hint 1: In this problem, the system has two configuration variables, thus when taking the derivative of the Lagrangian with respect to the system state vector, the derivative is also a vector (sometimes also called the Jacobian of the Lagrangian with respect to system states). There are several ways to compute the derivative with respect to a vector in SymPy, below is an example.*"
   ]
  },
  {
   "cell_type": "code",
   "execution_count": 7,
   "metadata": {
    "colab": {
     "base_uri": "https://localhost:8080/",
     "height": 169
    },
    "id": "I3iCr9bqbtBC",
    "outputId": "895e196e-bf9a-4308-9f4a-d39ba172f2f9"
   },
   "outputs": [],
   "source": [
    "# import sympy as sym\n",
    "# from sympy.abc import t\n",
    "# from sympy import symbols, Function, Matrix, sin, cos\n",
    "\n",
    "# # define two system states as functions\n",
    "# x1 = Function(r'x_1')(t)\n",
    "# x2 = Function(r'x_2')(t)\n",
    "# # wrap system states into one vector (in SymPy would be Matrix)\n",
    "# q = Matrix([x1, x2])\n",
    "# # define an expression in terms of x1(t) and x2(t)\n",
    "# J = sin(x1**2) + cos(x2)**2\n",
    "# print('expression: ')\n",
    "# display(J)\n",
    "\n",
    "# # compute derivative wrt a vector, method 1\n",
    "# # wrap the expression into a SymPy Matrix\n",
    "# J_mat = Matrix([J])\n",
    "# # SymPy Matrix has built-in method for Jacobian\n",
    "# dJdq = J_mat.jacobian(q)\n",
    "# print('Derivative of J wrt q: ')\n",
    "# display(dJdq) # note that dJdq is 1-by-2 vector, not 2-by-1 as q\n",
    "\n",
    "# # compute derivative wrt a vector, method 2: do it one by one\n",
    "# dJdx1 = J.diff(x1)\n",
    "# dJdx2 = J.diff(x2)\n",
    "# dJdq = Matrix([dJdx1, dJdx2]).T # transpose so dimension can match\n",
    "# print('Derivative of J wrt q: ')\n",
    "# display(dJdq)\n",
    "\n",
    "# # compute derivative wrt a vector, method 3: do it one by one ... but in a \"fancy\" way\n",
    "# dJdq = []\n",
    "# for x in q:\n",
    "#     dJdq.append(J.diff(x))\n",
    "# dJdq = Matrix([dJdq])\n",
    "# print('Derivative of J wrt q: ')\n",
    "# display(dJdq)"
   ]
  },
  {
   "cell_type": "markdown",
   "metadata": {
    "id": "zMIxW7O8btBG"
   },
   "source": [
    "**Turn in: A copy of the code used to symbolically compute the Euler-Lagrange equations, and the equations.**"
   ]
  },
  {
   "cell_type": "code",
   "execution_count": 8,
   "metadata": {
    "id": "qfqs-n6dbtBH"
   },
   "outputs": [
    {
     "data": {
      "text/latex": [
       "$\\displaystyle 1.0 m_{1} \\frac{d^{2}}{d t^{2}} \\operatorname{x_{1}}{\\left(t \\right)}$"
      ],
      "text/plain": [
       "1.0*m1*Derivative(x1(t), (t, 2))"
      ]
     },
     "metadata": {},
     "output_type": "display_data"
    },
    {
     "name": "stdout",
     "output_type": "stream",
     "text": [
      "======================================\n",
      "\n",
      "Euler-Lagrangian equation for x1: \n"
     ]
    },
    {
     "data": {
      "text/latex": [
       "$\\displaystyle - 1.0 k_{1} \\operatorname{x_{1}}{\\left(t \\right)} - 0.5 k_{2} \\left(2 \\operatorname{x_{1}}{\\left(t \\right)} - 2 \\operatorname{x_{2}}{\\left(t \\right)}\\right) - 1.0 m_{1} \\frac{d^{2}}{d t^{2}} \\operatorname{x_{1}}{\\left(t \\right)} = 0$"
      ],
      "text/plain": [
       "Eq(-1.0*k1*x1(t) - 0.5*k2*(2*x1(t) - 2*x2(t)) - 1.0*m1*Derivative(x1(t), (t, 2)), 0)"
      ]
     },
     "metadata": {},
     "output_type": "display_data"
    },
    {
     "name": "stdout",
     "output_type": "stream",
     "text": [
      "======================================\n",
      "\n",
      "Euler-Lagrangian equation for x2: \n"
     ]
    },
    {
     "data": {
      "text/latex": [
       "$\\displaystyle - 0.5 k_{2} \\left(- 2 \\operatorname{x_{1}}{\\left(t \\right)} + 2 \\operatorname{x_{2}}{\\left(t \\right)}\\right) - 1.0 m_{2} \\frac{d^{2}}{d t^{2}} \\operatorname{x_{2}}{\\left(t \\right)} = 0$"
      ],
      "text/plain": [
       "Eq(-0.5*k2*(-2*x1(t) + 2*x2(t)) - 1.0*m2*Derivative(x2(t), (t, 2)), 0)"
      ]
     },
     "metadata": {},
     "output_type": "display_data"
    }
   ],
   "source": [
    "from sympy import Derivative\n",
    "\n",
    "dLdx1 = L.diff(x1)\n",
    "# display(dLdx1)\n",
    "dldx1dot = L.diff(x1_dot)\n",
    "# display(dldx1dot)\n",
    "ddL_dx1dot_t = dldx1dot.diff(t)\n",
    "display(ddL_dx1dot_t)\n",
    "\n",
    "#Euler-Lagrange equation for x1:\n",
    "print('======================================')\n",
    "print()\n",
    "print(\"Euler-Lagrangian equation for x1: \")\n",
    "el_eqns_x1 = sym.Eq(dLdx1 - ddL_dx1dot_t, 0)\n",
    "display(el_eqns_x1)\n",
    "\n",
    "# print('======================================')\n",
    "# print()\n",
    "dLdx2 = L.diff(x2)\n",
    "# display(dLdx2)\n",
    "dldx2dot = L.diff(x2_dot)\n",
    "# display(dldx2dot)\n",
    "ddL_dx2dot_t = dldx2dot.diff(t)\n",
    "# display(ddL_dx2dot_t)\n",
    "\n",
    "#Euler-Lagrange equation for x2:\n",
    "print('======================================')\n",
    "print()\n",
    "print(\"Euler-Lagrangian equation for x2: \")\n",
    "el_eqns_x2 = sym.Eq(dLdx2 - ddL_dx2dot_t, 0)\n",
    "display(el_eqns_x2)\n"
   ]
  },
  {
   "cell_type": "markdown",
   "metadata": {
    "id": "S8rjEWpSbtBK"
   },
   "source": [
    "## Problem 4 (15pts)\n",
    "\n",
    "Based on your Euler-Lagrange equations from Problem 3, use Python's SymPy package to solve the equations for the accelerations of the two blocks $\\ddot{x}_1, \\ddot{x}_2$, in terms of position $x_1, x_2$, and velocity $\\dot{x}_1, \\dot{x}_2$. Compare your answer to Problem 1 to see if they match with each other.\n",
    "\n",
    "*Hint 1: Since you need to solve a set of multiple equations symbolically in SymPy, it's recommended to wrap both sides of the equations into SymPy's Matrix object. As an example, below is the code solving the following set of equations (feel free to take this code as a start point).*\n",
    "$$\n",
    "\\begin{aligned}\n",
    "\\left\\{\n",
    "    \\begin{array}{ll}\n",
    "      x^2 + y = 3 \\\\\n",
    "      x + y = 1\n",
    "    \\end{array}\n",
    "\\right.\n",
    "\\end{aligned}\n",
    "$$"
   ]
  },
  {
   "cell_type": "code",
   "execution_count": 9,
   "metadata": {
    "colab": {
     "base_uri": "https://localhost:8080/",
     "height": 135
    },
    "id": "6dK9M1C3btBL",
    "outputId": "32d27956-c6e6-4585-f444-26ca87b3f925"
   },
   "outputs": [],
   "source": [
    "# import sympy as sym\n",
    "# from sympy.abc import x, y\n",
    "# from sympy import Eq, Matrix, solve\n",
    "\n",
    "# # define left hand side as a matrix\n",
    "# lhs = Matrix([x**2+y, x+y])\n",
    "\n",
    "# # define right hand side as a Matrix\n",
    "# rhs = Matrix([3, 1])\n",
    "\n",
    "# # define the equations\n",
    "# eqn = Eq(lhs, rhs)\n",
    "\n",
    "# # solve it for both x and y\n",
    "# q = Matrix([x, y])\n",
    "# soln = solve(eqn, q, dict=True) # this will return the solution \n",
    "#                                      # as a Python dictionary\n",
    "# for sol in soln:\n",
    "#     print('solution: ')\n",
    "#     for v in q:\n",
    "#         display(sym.Eq(v, sol[v]))"
   ]
  },
  {
   "cell_type": "markdown",
   "metadata": {
    "id": "_aqi8PUJbtBR"
   },
   "source": [
    "**Turn in: A copy of the code you used to solve the Euler-Lagrange equations, and thesymbolic solutions you get.**"
   ]
  },
  {
   "cell_type": "code",
   "execution_count": 10,
   "metadata": {
    "id": "7Bs2KGx_btBR"
   },
   "outputs": [
    {
     "name": "stdout",
     "output_type": "stream",
     "text": [
      "======================================\n",
      "\n",
      "Euler-Lagrangian equation solved for x1_ddot: \n",
      "\n",
      "x1_ddot = \n"
     ]
    },
    {
     "data": {
      "text/latex": [
       "$\\displaystyle \\frac{- k_{1} \\operatorname{x_{1}}{\\left(t \\right)} - k_{2} \\operatorname{x_{1}}{\\left(t \\right)} + k_{2} \\operatorname{x_{2}}{\\left(t \\right)}}{m_{1}}$"
      ],
      "text/plain": [
       "(-k1*x1(t) - k2*x1(t) + k2*x2(t))/m1"
      ]
     },
     "metadata": {},
     "output_type": "display_data"
    },
    {
     "name": "stdout",
     "output_type": "stream",
     "text": [
      "======================================\n",
      "\n",
      "Euler-Lagrangian equation solved for x2_ddot: \n",
      "\n",
      "x2_ddot = \n"
     ]
    },
    {
     "data": {
      "text/latex": [
       "$\\displaystyle \\frac{k_{2} \\left(\\operatorname{x_{1}}{\\left(t \\right)} - \\operatorname{x_{2}}{\\left(t \\right)}\\right)}{m_{2}}$"
      ],
      "text/plain": [
       "k2*(x1(t) - x2(t))/m2"
      ]
     },
     "metadata": {},
     "output_type": "display_data"
    }
   ],
   "source": [
    "#\n",
    "x1_ddot = x1_dot.diff(t)\n",
    "x2_ddot = x2_dot.diff(t)\n",
    "\n",
    "el_x1_solve = sym.solve(el_eqns_x1, x1_ddot)\n",
    "el_x2_solve = sym.solve(el_eqns_x2, x2_ddot)\n",
    "\n",
    "print('======================================')\n",
    "print()\n",
    "print(\"Euler-Lagrangian equation solved for x1_ddot: \\n\\nx1_ddot = \")\n",
    "display(el_x1_solve[0])\n",
    "\n",
    "print('======================================')\n",
    "print()\n",
    "print(\"Euler-Lagrangian equation solved for x2_ddot: \\n\\nx2_ddot = \")\n",
    "display(el_x2_solve[0])"
   ]
  },
  {
   "cell_type": "markdown",
   "metadata": {
    "id": "D0114oqobtBW"
   },
   "source": [
    "## Problem 5 (10pts)\n",
    "\n",
    "Given the unforced inverted cart-pendulum as shown below. The pendulum is in gravity, the cart can move freely in the horizontal direction, and the pendulum will not impact the cart. Take $x$ and $\\theta$ as the system configuration variables, compute the Lagrangian of the system using Python's SymPy package. Here take $m$ and $M$ as symbols instead of given constants.\n",
    "\n",
    "*Hint 1: The positive direction for the rotation of the pendulum $\\dot{\\theta}$ is clockwise. The positive direction for the translation of the cart is to the right.*\n",
    "\n",
    "*Hint 2: Taking $m$ and $M$ as symbols means you will need to define them as SymPy's symbols.*\n",
    "\n",
    "*Hint 3: In order to compute the kinetic energy of the pendulum, note that it's attached on the cart, so the velocity of the pendulum needs to take that into account. One suggestion here is to compute the velocity of the pendulum separately from the $x$ and $y$ coordinates.*"
   ]
  },
  {
   "cell_type": "code",
   "execution_count": 11,
   "metadata": {
    "colab": {
     "base_uri": "https://localhost:8080/",
     "height": 377
    },
    "id": "QaCHPDoibtBX",
    "outputId": "c7a253ae-19b7-4390-ebed-803444370db5"
   },
   "outputs": [
    {
     "data": {
      "text/html": [
       "<table><tr><td><img src='https://raw.githubusercontent.com/MuchenSun/ME314pngs/master/dyninvpend.png' width=500' height='350'></table>"
      ],
      "text/plain": [
       "<IPython.core.display.HTML object>"
      ]
     },
     "metadata": {},
     "output_type": "display_data"
    }
   ],
   "source": [
    "from IPython.core.display import HTML\n",
    "display(HTML(\"<table><tr><td><img src='https://raw.githubusercontent.com/MuchenSun/ME314pngs/master/dyninvpend.png' width=500' height='350'></table>\"))"
   ]
  },
  {
   "cell_type": "markdown",
   "metadata": {
    "id": "FjqFebC5btBb"
   },
   "source": [
    "**Turn in: A copy of the code used to symbolically compute Lagrangian, and the computed Lagrangian.**"
   ]
  },
  {
   "cell_type": "code",
   "execution_count": 12,
   "metadata": {
    "id": "iGX4aB5abtBb"
   },
   "outputs": [
    {
     "name": "stdout",
     "output_type": "stream",
     "text": [
      "======================================\n",
      "\n",
      "Kinetic energy of the system: KE = (KE of mass M) + (KE of mass m) \n",
      "\n",
      "KE = \n"
     ]
    },
    {
     "data": {
      "text/latex": [
       "$\\displaystyle 0.5 M \\left(\\frac{d}{d t} x{\\left(t \\right)}\\right)^{2} + 0.5 m \\left(R^{2} \\sin^{2}{\\left(\\theta{\\left(t \\right)} \\right)} \\left(\\frac{d}{d t} \\theta{\\left(t \\right)}\\right)^{2} + \\left(R \\cos{\\left(\\theta{\\left(t \\right)} \\right)} \\frac{d}{d t} \\theta{\\left(t \\right)} + \\frac{d}{d t} x{\\left(t \\right)}\\right)^{2}\\right)$"
      ],
      "text/plain": [
       "0.5*M*Derivative(x(t), t)**2 + 0.5*m*(R**2*sin(\\theta(t))**2*Derivative(\\theta(t), t)**2 + (R*cos(\\theta(t))*Derivative(\\theta(t), t) + Derivative(x(t), t))**2)"
      ]
     },
     "metadata": {},
     "output_type": "display_data"
    },
    {
     "name": "stdout",
     "output_type": "stream",
     "text": [
      "======================================\n",
      "\n",
      "Potential energy of the system: PE = mgh \n",
      "\n",
      "PE =\n"
     ]
    },
    {
     "data": {
      "text/latex": [
       "$\\displaystyle R g m \\cos{\\left(\\theta{\\left(t \\right)} \\right)}$"
      ],
      "text/plain": [
       "R*g*m*cos(\\theta(t))"
      ]
     },
     "metadata": {},
     "output_type": "display_data"
    },
    {
     "name": "stdout",
     "output_type": "stream",
     "text": [
      "======================================\n",
      "\n",
      "Lagrangian of the inverted pendulum + cart system: L = KE - PE: \n",
      "\n",
      "L = \n"
     ]
    },
    {
     "data": {
      "text/latex": [
       "$\\displaystyle 0.5 M \\left(\\frac{d}{d t} x{\\left(t \\right)}\\right)^{2} - R g m \\cos{\\left(\\theta{\\left(t \\right)} \\right)} + 0.5 m \\left(R^{2} \\sin^{2}{\\left(\\theta{\\left(t \\right)} \\right)} \\left(\\frac{d}{d t} \\theta{\\left(t \\right)}\\right)^{2} + \\left(R \\cos{\\left(\\theta{\\left(t \\right)} \\right)} \\frac{d}{d t} \\theta{\\left(t \\right)} + \\frac{d}{d t} x{\\left(t \\right)}\\right)^{2}\\right)$"
      ],
      "text/plain": [
       "0.5*M*Derivative(x(t), t)**2 - R*g*m*cos(\\theta(t)) + 0.5*m*(R**2*sin(\\theta(t))**2*Derivative(\\theta(t), t)**2 + (R*cos(\\theta(t))*Derivative(\\theta(t), t) + Derivative(x(t), t))**2)"
      ]
     },
     "metadata": {},
     "output_type": "display_data"
    }
   ],
   "source": [
    "from sympy import cos, sin\n",
    "from sympy.abc import t\n",
    "\n",
    "M = symbols('M')\n",
    "m = symbols('m')\n",
    "R = symbols('R')\n",
    "g = symbols('g')\n",
    "\n",
    "x = Function(r'x')(t)\n",
    "theta = Function(r'\\theta')(t)\n",
    "\n",
    "xdot = x.diff(t)\n",
    "xddot = xdot.diff(t)\n",
    "t_dot = theta.diff(t)\n",
    "t_ddot = t_dot.diff(t)\n",
    "\n",
    "#compute KE and PE to get Lagrangian equation\n",
    "KE = 0.5*M*xdot**2 + 0.5*m*((xdot + R*t_dot*cos(theta))**2 + (-R*t_dot*sin(theta))**2)\n",
    "print('======================================')\n",
    "print()\n",
    "print('Kinetic energy of the system: KE = (KE of mass M) + (KE of mass m) \\n\\nKE = ')\n",
    "display(KE)\n",
    "\n",
    "print('======================================')\n",
    "print()\n",
    "print('Potential energy of the system: PE = mgh \\n\\nPE =')\n",
    "PE = m*g*R*cos(theta)\n",
    "display(PE)\n",
    "\n",
    "#computer Lagrangian\n",
    "print('======================================')\n",
    "print()\n",
    "print('Lagrangian of the inverted pendulum + cart system: L = KE - PE: \\n\\nL = ')\n",
    "L = KE - PE\n",
    "display(L)\n"
   ]
  },
  {
   "cell_type": "markdown",
   "metadata": {
    "id": "g5OJ_WmybtBf"
   },
   "source": [
    "## Problem 6 (15pts)\n",
    "\n",
    "Based on your solution in Problem 5, compute the Euler-Lagrange equations for this inverted cart-pendulun system using Python's SymPy package.\n",
    "\n",
    "**Turn in: A copy of the code used to symbolically compute Euler-Lagrange equations, and the computed Euler-Lagrange equations.**"
   ]
  },
  {
   "cell_type": "code",
   "execution_count": 25,
   "metadata": {
    "id": "YQMMSKdBbtBf",
    "scrolled": false
   },
   "outputs": [
    {
     "name": "stdout",
     "output_type": "stream",
     "text": [
      "=================\n",
      "\n",
      "dL/dq: \n"
     ]
    },
    {
     "data": {
      "text/latex": [
       "$\\displaystyle \\left[\\begin{matrix}0 & R g m \\sin{\\left(\\theta{\\left(t \\right)} \\right)} + 0.5 m \\left(2 R^{2} \\sin{\\left(\\theta{\\left(t \\right)} \\right)} \\cos{\\left(\\theta{\\left(t \\right)} \\right)} \\left(\\frac{d}{d t} \\theta{\\left(t \\right)}\\right)^{2} - 2 R \\left(R \\cos{\\left(\\theta{\\left(t \\right)} \\right)} \\frac{d}{d t} \\theta{\\left(t \\right)} + \\frac{d}{d t} x{\\left(t \\right)}\\right) \\sin{\\left(\\theta{\\left(t \\right)} \\right)} \\frac{d}{d t} \\theta{\\left(t \\right)}\\right)\\end{matrix}\\right]$"
      ],
      "text/plain": [
       "Matrix([[0, R*g*m*sin(\\theta(t)) + 0.5*m*(2*R**2*sin(\\theta(t))*cos(\\theta(t))*Derivative(\\theta(t), t)**2 - 2*R*(R*cos(\\theta(t))*Derivative(\\theta(t), t) + Derivative(x(t), t))*sin(\\theta(t))*Derivative(\\theta(t), t))]])"
      ]
     },
     "metadata": {},
     "output_type": "display_data"
    },
    {
     "name": "stdout",
     "output_type": "stream",
     "text": [
      "=================\n",
      "\n",
      "dL/dq_dot): \n"
     ]
    },
    {
     "data": {
      "text/latex": [
       "$\\displaystyle \\left[\\begin{matrix}1.0 M \\frac{d}{d t} x{\\left(t \\right)} + 0.5 m \\left(2 R \\cos{\\left(\\theta{\\left(t \\right)} \\right)} \\frac{d}{d t} \\theta{\\left(t \\right)} + 2 \\frac{d}{d t} x{\\left(t \\right)}\\right) & 0.5 m \\left(2 R^{2} \\sin^{2}{\\left(\\theta{\\left(t \\right)} \\right)} \\frac{d}{d t} \\theta{\\left(t \\right)} + 2 R \\left(R \\cos{\\left(\\theta{\\left(t \\right)} \\right)} \\frac{d}{d t} \\theta{\\left(t \\right)} + \\frac{d}{d t} x{\\left(t \\right)}\\right) \\cos{\\left(\\theta{\\left(t \\right)} \\right)}\\right)\\end{matrix}\\right]$"
      ],
      "text/plain": [
       "Matrix([[1.0*M*Derivative(x(t), t) + 0.5*m*(2*R*cos(\\theta(t))*Derivative(\\theta(t), t) + 2*Derivative(x(t), t)), 0.5*m*(2*R**2*sin(\\theta(t))**2*Derivative(\\theta(t), t) + 2*R*(R*cos(\\theta(t))*Derivative(\\theta(t), t) + Derivative(x(t), t))*cos(\\theta(t)))]])"
      ]
     },
     "metadata": {},
     "output_type": "display_data"
    },
    {
     "name": "stdout",
     "output_type": "stream",
     "text": [
      "=================\n",
      "\n",
      "ddt(dL/dq_dot): \n"
     ]
    },
    {
     "data": {
      "text/latex": [
       "$\\displaystyle \\left[\\begin{matrix}1.0 M \\frac{d^{2}}{d t^{2}} x{\\left(t \\right)} + 0.5 m \\left(- 2 R \\sin{\\left(\\theta{\\left(t \\right)} \\right)} \\left(\\frac{d}{d t} \\theta{\\left(t \\right)}\\right)^{2} + 2 R \\cos{\\left(\\theta{\\left(t \\right)} \\right)} \\frac{d^{2}}{d t^{2}} \\theta{\\left(t \\right)} + 2 \\frac{d^{2}}{d t^{2}} x{\\left(t \\right)}\\right) & 0.5 m \\left(2 R^{2} \\sin^{2}{\\left(\\theta{\\left(t \\right)} \\right)} \\frac{d^{2}}{d t^{2}} \\theta{\\left(t \\right)} + 4 R^{2} \\sin{\\left(\\theta{\\left(t \\right)} \\right)} \\cos{\\left(\\theta{\\left(t \\right)} \\right)} \\left(\\frac{d}{d t} \\theta{\\left(t \\right)}\\right)^{2} - 2 R \\left(R \\cos{\\left(\\theta{\\left(t \\right)} \\right)} \\frac{d}{d t} \\theta{\\left(t \\right)} + \\frac{d}{d t} x{\\left(t \\right)}\\right) \\sin{\\left(\\theta{\\left(t \\right)} \\right)} \\frac{d}{d t} \\theta{\\left(t \\right)} + 2 R \\left(- R \\sin{\\left(\\theta{\\left(t \\right)} \\right)} \\left(\\frac{d}{d t} \\theta{\\left(t \\right)}\\right)^{2} + R \\cos{\\left(\\theta{\\left(t \\right)} \\right)} \\frac{d^{2}}{d t^{2}} \\theta{\\left(t \\right)} + \\frac{d^{2}}{d t^{2}} x{\\left(t \\right)}\\right) \\cos{\\left(\\theta{\\left(t \\right)} \\right)}\\right)\\end{matrix}\\right]$"
      ],
      "text/plain": [
       "Matrix([[1.0*M*Derivative(x(t), (t, 2)) + 0.5*m*(-2*R*sin(\\theta(t))*Derivative(\\theta(t), t)**2 + 2*R*cos(\\theta(t))*Derivative(\\theta(t), (t, 2)) + 2*Derivative(x(t), (t, 2))), 0.5*m*(2*R**2*sin(\\theta(t))**2*Derivative(\\theta(t), (t, 2)) + 4*R**2*sin(\\theta(t))*cos(\\theta(t))*Derivative(\\theta(t), t)**2 - 2*R*(R*cos(\\theta(t))*Derivative(\\theta(t), t) + Derivative(x(t), t))*sin(\\theta(t))*Derivative(\\theta(t), t) + 2*R*(-R*sin(\\theta(t))*Derivative(\\theta(t), t)**2 + R*cos(\\theta(t))*Derivative(\\theta(t), (t, 2)) + Derivative(x(t), (t, 2)))*cos(\\theta(t)))]])"
      ]
     },
     "metadata": {},
     "output_type": "display_data"
    },
    {
     "name": "stdout",
     "output_type": "stream",
     "text": [
      "=================\n",
      "\n",
      "Euler-Lagrangian in matrix form: \n"
     ]
    },
    {
     "data": {
      "text/latex": [
       "$\\displaystyle \\left[\\begin{matrix}- 1.0 M \\frac{d^{2}}{d t^{2}} x{\\left(t \\right)} - 0.5 m \\left(- 2 R \\sin{\\left(\\theta{\\left(t \\right)} \\right)} \\left(\\frac{d}{d t} \\theta{\\left(t \\right)}\\right)^{2} + 2 R \\cos{\\left(\\theta{\\left(t \\right)} \\right)} \\frac{d^{2}}{d t^{2}} \\theta{\\left(t \\right)} + 2 \\frac{d^{2}}{d t^{2}} x{\\left(t \\right)}\\right) & R g m \\sin{\\left(\\theta{\\left(t \\right)} \\right)} + 0.5 m \\left(2 R^{2} \\sin{\\left(\\theta{\\left(t \\right)} \\right)} \\cos{\\left(\\theta{\\left(t \\right)} \\right)} \\left(\\frac{d}{d t} \\theta{\\left(t \\right)}\\right)^{2} - 2 R \\left(R \\cos{\\left(\\theta{\\left(t \\right)} \\right)} \\frac{d}{d t} \\theta{\\left(t \\right)} + \\frac{d}{d t} x{\\left(t \\right)}\\right) \\sin{\\left(\\theta{\\left(t \\right)} \\right)} \\frac{d}{d t} \\theta{\\left(t \\right)}\\right) - 0.5 m \\left(2 R^{2} \\sin^{2}{\\left(\\theta{\\left(t \\right)} \\right)} \\frac{d^{2}}{d t^{2}} \\theta{\\left(t \\right)} + 4 R^{2} \\sin{\\left(\\theta{\\left(t \\right)} \\right)} \\cos{\\left(\\theta{\\left(t \\right)} \\right)} \\left(\\frac{d}{d t} \\theta{\\left(t \\right)}\\right)^{2} - 2 R \\left(R \\cos{\\left(\\theta{\\left(t \\right)} \\right)} \\frac{d}{d t} \\theta{\\left(t \\right)} + \\frac{d}{d t} x{\\left(t \\right)}\\right) \\sin{\\left(\\theta{\\left(t \\right)} \\right)} \\frac{d}{d t} \\theta{\\left(t \\right)} + 2 R \\left(- R \\sin{\\left(\\theta{\\left(t \\right)} \\right)} \\left(\\frac{d}{d t} \\theta{\\left(t \\right)}\\right)^{2} + R \\cos{\\left(\\theta{\\left(t \\right)} \\right)} \\frac{d^{2}}{d t^{2}} \\theta{\\left(t \\right)} + \\frac{d^{2}}{d t^{2}} x{\\left(t \\right)}\\right) \\cos{\\left(\\theta{\\left(t \\right)} \\right)}\\right)\\end{matrix}\\right]$"
      ],
      "text/plain": [
       "Matrix([[-1.0*M*Derivative(x(t), (t, 2)) - 0.5*m*(-2*R*sin(\\theta(t))*Derivative(\\theta(t), t)**2 + 2*R*cos(\\theta(t))*Derivative(\\theta(t), (t, 2)) + 2*Derivative(x(t), (t, 2))), R*g*m*sin(\\theta(t)) + 0.5*m*(2*R**2*sin(\\theta(t))*cos(\\theta(t))*Derivative(\\theta(t), t)**2 - 2*R*(R*cos(\\theta(t))*Derivative(\\theta(t), t) + Derivative(x(t), t))*sin(\\theta(t))*Derivative(\\theta(t), t)) - 0.5*m*(2*R**2*sin(\\theta(t))**2*Derivative(\\theta(t), (t, 2)) + 4*R**2*sin(\\theta(t))*cos(\\theta(t))*Derivative(\\theta(t), t)**2 - 2*R*(R*cos(\\theta(t))*Derivative(\\theta(t), t) + Derivative(x(t), t))*sin(\\theta(t))*Derivative(\\theta(t), t) + 2*R*(-R*sin(\\theta(t))*Derivative(\\theta(t), t)**2 + R*cos(\\theta(t))*Derivative(\\theta(t), (t, 2)) + Derivative(x(t), (t, 2)))*cos(\\theta(t)))]])"
      ]
     },
     "metadata": {},
     "output_type": "display_data"
    }
   ],
   "source": [
    "from sympy import Matrix\n",
    "\n",
    "#make a matrix out of vectors x and theta. This will make processing the Lagrangian via Jacobian easier\n",
    "q = Matrix([x, theta])\n",
    "L_mat = Matrix([L])\n",
    "\n",
    "#take the derivative of Lagrangian wrt q = [x, theta]\n",
    "dLdq = L_mat.jacobian(q)\n",
    "print('=================')\n",
    "print()\n",
    "print('dL/dq: ')\n",
    "display(dLdq)\n",
    "# display(L)\n",
    "# display(L_mat)\n",
    "\n",
    "#take the derivative of Lagrangian wrt q_dot = [xdot, t_dot]. xdot and t_dot are first \n",
    "#order time-derivatives of x and theta, respectively\n",
    "q_dot = Matrix([xdot, t_dot])\n",
    "dL_dqdot = L_mat.jacobian(q_dot)\n",
    "print('=================')\n",
    "print()\n",
    "print('dL/dq_dot): ')\n",
    "display(dL_dqdot)\n",
    "\n",
    "#take time derivative of previous step. this gives the d/dt(dL/dq_dot) term for the\n",
    "#Euler-Lagrangian equation.\n",
    "ddt_dL_dqdot = dL_dqdot.diff(t)\n",
    "print('=================')\n",
    "print()\n",
    "print('ddt(dL/dq_dot): ')\n",
    "display(ddt_dL_dqdot )\n",
    "\n",
    "#combine previous steps to compute the Euler-Lagrangian\n",
    "#this is a vector that contains two equations (two terms). One for x_ddot and one for t_ddot\n",
    "print('=================')\n",
    "print()\n",
    "print('Euler-Lagrangian in matrix form: ')\n",
    "eL = dLdq - ddt_dL_dqdot\n",
    "display(eL)\n"
   ]
  },
  {
   "cell_type": "markdown",
   "metadata": {},
   "source": [
    "**The E-L symbolic solution is too long to fit on the pdf page so I've included a screenshot at the end of this pdf to capture the full symbolic solution. Please see at the end of this pdf.**"
   ]
  },
  {
   "cell_type": "markdown",
   "metadata": {
    "id": "UcJrsdcLbtBj"
   },
   "source": [
    "## Problem 7 (15pts)\n",
    "\n",
    "Solve the Euler-Lagrange equations in Problem 6 for $\\ddot{x}$ and $\\ddot{\\theta}$ using SymPy, and evaluate the results as numerical functions (whose inputs should be $x$, $\\theta$, $\\dot{x}$ and $\\dot{\\theta}$) using SymPy's **lambdify()** method, with $M=2, m=1, R=1, g=9.8$. Test your functions with input $x=0, \\theta=0.1, \\dot{x}=0, \\dot{\\theta}=0$ as function inputs."
   ]
  },
  {
   "cell_type": "markdown",
   "metadata": {
    "id": "YVnhJml7btBj"
   },
   "source": [
    "**Turn in: A copy of the code used to symbolically solve and numerically evaluate the solutions of Euler-Lagrange equations. Also, include the test resutls for the numerical evaluations of the solutions.**"
   ]
  },
  {
   "cell_type": "code",
   "execution_count": null,
   "metadata": {},
   "outputs": [],
   "source": []
  },
  {
   "cell_type": "code",
   "execution_count": 24,
   "metadata": {
    "id": "wL83n_SRbtBk"
   },
   "outputs": [
    {
     "name": "stdout",
     "output_type": "stream",
     "text": [
      "=================\n",
      "\n",
      "Euler-Lagrangian equation solved for linear acceleration x_ddot: \n",
      "\n",
      "x_ddot = \n"
     ]
    },
    {
     "data": {
      "text/plain": [
       "{Derivative(x(t), (t, 2)): R*m*(sin(\\theta(t))*Derivative(\\theta(t), t)**2 - cos(\\theta(t))*Derivative(\\theta(t), (t, 2)))/(M + m)}"
      ]
     },
     "metadata": {},
     "output_type": "display_data"
    },
    {
     "name": "stdout",
     "output_type": "stream",
     "text": [
      "=================\n",
      "\n",
      "Euler-Lagrangian equation solved for angular acceleration theta_ddot: \n",
      "\n",
      "theta_ddot = \n"
     ]
    },
    {
     "data": {
      "text/plain": [
       "{Derivative(\\theta(t), (t, 2)): (g*sin(\\theta(t)) - cos(\\theta(t))*Derivative(x(t), (t, 2)))/R}"
      ]
     },
     "metadata": {},
     "output_type": "display_data"
    },
    {
     "name": "stdout",
     "output_type": "stream",
     "text": [
      "=================\n",
      "\n",
      "Numerical solution: \n",
      "\n"
     ]
    },
    {
     "ename": "NameError",
     "evalue": "name 'Derivative' is not defined",
     "output_type": "error",
     "traceback": [
      "\u001b[0;31m---------------------------------------------------------------------------\u001b[0m",
      "\u001b[0;31mNameError\u001b[0m                                 Traceback (most recent call last)",
      "\u001b[0;32m<ipython-input-24-9995db2149dd>\u001b[0m in \u001b[0;36m<module>\u001b[0;34m\u001b[0m\n\u001b[1;32m     27\u001b[0m \u001b[0msoln_theta\u001b[0m \u001b[0;34m=\u001b[0m \u001b[0msym\u001b[0m\u001b[0;34m.\u001b[0m\u001b[0mlambdify\u001b[0m\u001b[0;34m(\u001b[0m\u001b[0;34m[\u001b[0m\u001b[0mx\u001b[0m\u001b[0;34m,\u001b[0m \u001b[0mtheta\u001b[0m\u001b[0;34m,\u001b[0m \u001b[0mxdot\u001b[0m\u001b[0;34m,\u001b[0m \u001b[0mt_dot\u001b[0m\u001b[0;34m,\u001b[0m \u001b[0mM\u001b[0m\u001b[0;34m,\u001b[0m \u001b[0mm\u001b[0m\u001b[0;34m,\u001b[0m \u001b[0mR\u001b[0m\u001b[0;34m,\u001b[0m \u001b[0mg\u001b[0m\u001b[0;34m]\u001b[0m\u001b[0;34m,\u001b[0m \u001b[0meL_solved\u001b[0m\u001b[0;34m[\u001b[0m\u001b[0;36m1\u001b[0m\u001b[0;34m]\u001b[0m\u001b[0;34m[\u001b[0m\u001b[0;36m0\u001b[0m\u001b[0;34m]\u001b[0m\u001b[0;34m)\u001b[0m\u001b[0;34m\u001b[0m\u001b[0;34m\u001b[0m\u001b[0m\n\u001b[1;32m     28\u001b[0m print('Euler-Lagrangian numerical solution for x_ddot: \\n\\nx_ddot = ', \n\u001b[0;32m---> 29\u001b[0;31m       soln_x(0, 0.1, 0, 0, 2, 1, 1, 9.8)[0])\n\u001b[0m\u001b[1;32m     30\u001b[0m \u001b[0;34m\u001b[0m\u001b[0m\n\u001b[1;32m     31\u001b[0m \u001b[0;34m\u001b[0m\u001b[0m\n",
      "\u001b[0;32m<lambdifygenerated-9>\u001b[0m in \u001b[0;36m_lambdifygenerated\u001b[0;34m(_Dummy_122, _Dummy_123, _Dummy_120, _Dummy_121, M, m, R, g)\u001b[0m\n\u001b[1;32m      3\u001b[0m   \u001b[0;31m# Derivative\u001b[0m\u001b[0;34m\u001b[0m\u001b[0;34m\u001b[0m\u001b[0;34m\u001b[0m\u001b[0m\n\u001b[1;32m      4\u001b[0m   \u001b[0;31m# Derivative\u001b[0m\u001b[0;34m\u001b[0m\u001b[0;34m\u001b[0m\u001b[0;34m\u001b[0m\u001b[0m\n\u001b[0;32m----> 5\u001b[0;31m {Derivative(_Dummy_122, (t, 2)): R*m*(_Dummy_121**2*sin(_Dummy_123) - cos(_Dummy_123)*Derivative(_Dummy_123, (t, 2)))/(M + m)})\n\u001b[0m",
      "\u001b[0;31mNameError\u001b[0m: name 'Derivative' is not defined"
     ]
    }
   ],
   "source": [
    "q_ddot = q_dot.diff(t)\n",
    "\n",
    "i = 0\n",
    "eL_solved = [0]*len(eL)\n",
    "for i in range(len(eL)):\n",
    "    eL_solved[i] = sym.solve(eL[i], q_ddot[i], dict=True)\n",
    "    \n",
    "    \n",
    "print('=================')\n",
    "print()\n",
    "print('Euler-Lagrangian equation solved for linear acceleration x_ddot: \\n\\nx_ddot = ')\n",
    "display(eL_solved[0][0])\n",
    "\n",
    "print('=================')\n",
    "print()\n",
    "print('Euler-Lagrangian equation solved for angular acceleration theta_ddot: \\n\\ntheta_ddot = ')\n",
    "display(eL_solved[1][0])\n",
    "\n",
    "\n",
    "print('=================')\n",
    "print()\n",
    "print('Numerical solution: \\n')\n",
    "# xdot_lambdified = sym.lambdify([x, theta, M, m, R, g], xdot)\n",
    "# tdot_lambdified = sym.lambdify([x, theta, M, m, R, g], t_dot)\n",
    "\n",
    "soln_x = sym.lambdify([x, theta, xdot, t_dot, M, m, R, g], eL_solved[0][0])\n",
    "soln_theta = sym.lambdify([x, theta, xdot, t_dot, M, m, R, g], eL_solved[1][0])\n",
    "print('Euler-Lagrangian numerical solution for x_ddot: \\n\\nx_ddot = ', \n",
    "      soln_x(0, 0.1, 0, 0, 2, 1, 1, 9.8)[0])\n",
    "\n",
    "\n"
   ]
  },
  {
   "cell_type": "markdown",
   "metadata": {},
   "source": [
    "**Tried to resolve 'Derivative' error with suggestions from Thomas J. but still running into errors. Will progress with homework for now.**"
   ]
  },
  {
   "cell_type": "code",
   "execution_count": 15,
   "metadata": {},
   "outputs": [],
   "source": [
    "#\n",
    "# q_ddot = q_dot.diff(t)\n",
    "# eL_solved = sym.solve(eL, q_ddot)\n",
    "    \n",
    "    \n",
    "# # print('=================')\n",
    "# # print()\n",
    "# # print('Euler-Lagrangian equation solved for linear acceleration x_ddot: \\n\\nx_ddot = ')\n",
    "# # display(eL_solved[0][0])\n",
    "\n",
    "# # print('=================')\n",
    "# # print()\n",
    "# # print('Euler-Lagrangian equation solved for angular acceleration theta_ddot: \\n\\ntheta_ddot = ')\n",
    "# # display(eL_solved[1][0])\n",
    "\n",
    "\n",
    "# print('=================')\n",
    "# print()\n",
    "# print('Numerical solution: \\n')\n",
    "# # xdot_lambdified = sym.lambdify([x, theta, M, m, R, g], xdot)\n",
    "# # tdot_lambdified = sym.lambdify([x, theta, M, m, R, g], t_dot)\n",
    "\n",
    "# soln_x = sym.lambdify([x, theta, xdot, t_dot, M, m, R, g], eL_solved, modules=sym)\n",
    "# soln_theta = sym.lambdify([x, theta, xdot, t_dot, M, m, R, g], eL_solved, modules=sym)\n",
    "# print('Euler-Lagrangian numerical solution for x_ddot: \\n\\nx_ddot = ', \n",
    "#       soln_x(0, 0.1, 0, 0, 2, 1, 1, 9.8)[0])\n",
    "\n"
   ]
  },
  {
   "cell_type": "markdown",
   "metadata": {},
   "source": [
    "**For problem 7, I couldn't figure out how to workaround the \"name 'Derivative' is not defined\" error so will progress the homework without a fix.**"
   ]
  },
  {
   "cell_type": "code",
   "execution_count": 31,
   "metadata": {},
   "outputs": [
    {
     "data": {
      "text/html": [
       "<table><tr><td><img src='https://raw.githubusercontent.com/MuchenSun/ME314pngs/master/dyninvpend.png' width=500' height='350'></table>"
      ],
      "text/plain": [
       "<IPython.core.display.HTML object>"
      ]
     },
     "metadata": {},
     "output_type": "display_data"
    },
    {
     "data": {
      "text/latex": [
       "$\\displaystyle 0.5 M \\left(\\frac{d}{d t} x{\\left(t \\right)}\\right)^{2} - R g m \\cos{\\left(\\theta{\\left(t \\right)} \\right)} + 0.5 m \\left(R^{2} \\sin^{2}{\\left(\\theta{\\left(t \\right)} \\right)} \\left(\\frac{d}{d t} \\theta{\\left(t \\right)}\\right)^{2} + \\left(R \\cos{\\left(\\theta{\\left(t \\right)} \\right)} \\frac{d}{d t} \\theta{\\left(t \\right)} + \\frac{d}{d t} x{\\left(t \\right)}\\right)^{2}\\right)$"
      ],
      "text/plain": [
       "0.5*M*Derivative(x(t), t)**2 - R*g*m*cos(\\theta(t)) + 0.5*m*(R**2*sin(\\theta(t))**2*Derivative(\\theta(t), t)**2 + (R*cos(\\theta(t))*Derivative(\\theta(t), t) + Derivative(x(t), t))**2)"
      ]
     },
     "metadata": {},
     "output_type": "display_data"
    },
    {
     "name": "stdout",
     "output_type": "stream",
     "text": [
      "=================\n",
      "\n",
      "Euler-Lagrangian equation symbolic solutions: \n"
     ]
    },
    {
     "data": {
      "text/latex": [
       "$\\displaystyle \\left[\\begin{matrix}- 1.0 M \\frac{d^{2}}{d t^{2}} x{\\left(t \\right)} - 0.5 m \\left(- 2 R \\sin{\\left(\\theta{\\left(t \\right)} \\right)} \\left(\\frac{d}{d t} \\theta{\\left(t \\right)}\\right)^{2} + 2 R \\cos{\\left(\\theta{\\left(t \\right)} \\right)} \\frac{d^{2}}{d t^{2}} \\theta{\\left(t \\right)} + 2 \\frac{d^{2}}{d t^{2}} x{\\left(t \\right)}\\right)\\\\R g m \\sin{\\left(\\theta{\\left(t \\right)} \\right)} + 0.5 m \\left(2 R^{2} \\sin{\\left(\\theta{\\left(t \\right)} \\right)} \\cos{\\left(\\theta{\\left(t \\right)} \\right)} \\left(\\frac{d}{d t} \\theta{\\left(t \\right)}\\right)^{2} - 2 R \\left(R \\cos{\\left(\\theta{\\left(t \\right)} \\right)} \\frac{d}{d t} \\theta{\\left(t \\right)} + \\frac{d}{d t} x{\\left(t \\right)}\\right) \\sin{\\left(\\theta{\\left(t \\right)} \\right)} \\frac{d}{d t} \\theta{\\left(t \\right)}\\right) - 0.5 m \\left(2 R^{2} \\sin^{2}{\\left(\\theta{\\left(t \\right)} \\right)} \\frac{d^{2}}{d t^{2}} \\theta{\\left(t \\right)} + 4 R^{2} \\sin{\\left(\\theta{\\left(t \\right)} \\right)} \\cos{\\left(\\theta{\\left(t \\right)} \\right)} \\left(\\frac{d}{d t} \\theta{\\left(t \\right)}\\right)^{2} - 2 R \\left(R \\cos{\\left(\\theta{\\left(t \\right)} \\right)} \\frac{d}{d t} \\theta{\\left(t \\right)} + \\frac{d}{d t} x{\\left(t \\right)}\\right) \\sin{\\left(\\theta{\\left(t \\right)} \\right)} \\frac{d}{d t} \\theta{\\left(t \\right)} + 2 R \\left(- R \\sin{\\left(\\theta{\\left(t \\right)} \\right)} \\left(\\frac{d}{d t} \\theta{\\left(t \\right)}\\right)^{2} + R \\cos{\\left(\\theta{\\left(t \\right)} \\right)} \\frac{d^{2}}{d t^{2}} \\theta{\\left(t \\right)} + \\frac{d^{2}}{d t^{2}} x{\\left(t \\right)}\\right) \\cos{\\left(\\theta{\\left(t \\right)} \\right)}\\right)\\end{matrix}\\right] = \\left[\\begin{matrix}0\\\\0\\end{matrix}\\right]$"
      ],
      "text/plain": [
       "Eq(Matrix([\n",
       "[                                                                                                                                                                                                                                                                                                                                                                                                                                           -1.0*M*Derivative(x(t), (t, 2)) - 0.5*m*(-2*R*sin(\\theta(t))*Derivative(\\theta(t), t)**2 + 2*R*cos(\\theta(t))*Derivative(\\theta(t), (t, 2)) + 2*Derivative(x(t), (t, 2)))],\n",
       "[R*g*m*sin(\\theta(t)) + 0.5*m*(2*R**2*sin(\\theta(t))*cos(\\theta(t))*Derivative(\\theta(t), t)**2 - 2*R*(R*cos(\\theta(t))*Derivative(\\theta(t), t) + Derivative(x(t), t))*sin(\\theta(t))*Derivative(\\theta(t), t)) - 0.5*m*(2*R**2*sin(\\theta(t))**2*Derivative(\\theta(t), (t, 2)) + 4*R**2*sin(\\theta(t))*cos(\\theta(t))*Derivative(\\theta(t), t)**2 - 2*R*(R*cos(\\theta(t))*Derivative(\\theta(t), t) + Derivative(x(t), t))*sin(\\theta(t))*Derivative(\\theta(t), t) + 2*R*(-R*sin(\\theta(t))*Derivative(\\theta(t), t)**2 + R*cos(\\theta(t))*Derivative(\\theta(t), (t, 2)) + Derivative(x(t), (t, 2)))*cos(\\theta(t)))]]), Matrix([\n",
       "[0],\n",
       "[0]]))"
      ]
     },
     "metadata": {},
     "output_type": "display_data"
    },
    {
     "name": "stdout",
     "output_type": "stream",
     "text": [
      "=================\n",
      "\n",
      "Euler-Lagrangian equation solved for linear acceleration x_ddot: \n",
      "\n",
      "x_ddot = \n"
     ]
    },
    {
     "data": {
      "text/latex": [
       "$\\displaystyle \\frac{R m \\sin^{3}{\\left(\\theta{\\left(t \\right)} \\right)} \\left(\\frac{d}{d t} \\theta{\\left(t \\right)}\\right)^{2}}{M \\sin^{2}{\\left(\\theta{\\left(t \\right)} \\right)} + M \\cos^{2}{\\left(\\theta{\\left(t \\right)} \\right)} + m \\sin^{2}{\\left(\\theta{\\left(t \\right)} \\right)}} + \\frac{R m \\sin{\\left(\\theta{\\left(t \\right)} \\right)} \\cos^{2}{\\left(\\theta{\\left(t \\right)} \\right)} \\left(\\frac{d}{d t} \\theta{\\left(t \\right)}\\right)^{2}}{M \\sin^{2}{\\left(\\theta{\\left(t \\right)} \\right)} + M \\cos^{2}{\\left(\\theta{\\left(t \\right)} \\right)} + m \\sin^{2}{\\left(\\theta{\\left(t \\right)} \\right)}} - \\frac{g m \\sin{\\left(\\theta{\\left(t \\right)} \\right)} \\cos{\\left(\\theta{\\left(t \\right)} \\right)}}{M \\sin^{2}{\\left(\\theta{\\left(t \\right)} \\right)} + M \\cos^{2}{\\left(\\theta{\\left(t \\right)} \\right)} + m \\sin^{2}{\\left(\\theta{\\left(t \\right)} \\right)}}$"
      ],
      "text/plain": [
       "R*m*sin(\\theta(t))**3*Derivative(\\theta(t), t)**2/(M*sin(\\theta(t))**2 + M*cos(\\theta(t))**2 + m*sin(\\theta(t))**2) + R*m*sin(\\theta(t))*cos(\\theta(t))**2*Derivative(\\theta(t), t)**2/(M*sin(\\theta(t))**2 + M*cos(\\theta(t))**2 + m*sin(\\theta(t))**2) - g*m*sin(\\theta(t))*cos(\\theta(t))/(M*sin(\\theta(t))**2 + M*cos(\\theta(t))**2 + m*sin(\\theta(t))**2)"
      ]
     },
     "metadata": {},
     "output_type": "display_data"
    },
    {
     "name": "stdout",
     "output_type": "stream",
     "text": [
      "=================\n",
      "\n",
      "Euler-Lagrangian equation solved for angular acceleration theta_ddot: \n",
      "\n",
      "theta_ddot = \n"
     ]
    },
    {
     "data": {
      "text/latex": [
       "$\\displaystyle \\frac{M g \\sin{\\left(\\theta{\\left(t \\right)} \\right)}}{M R \\sin^{2}{\\left(\\theta{\\left(t \\right)} \\right)} + M R \\cos^{2}{\\left(\\theta{\\left(t \\right)} \\right)} + R m \\sin^{2}{\\left(\\theta{\\left(t \\right)} \\right)}} - \\frac{R m \\sin{\\left(\\theta{\\left(t \\right)} \\right)} \\cos{\\left(\\theta{\\left(t \\right)} \\right)} \\left(\\frac{d}{d t} \\theta{\\left(t \\right)}\\right)^{2}}{M R \\sin^{2}{\\left(\\theta{\\left(t \\right)} \\right)} + M R \\cos^{2}{\\left(\\theta{\\left(t \\right)} \\right)} + R m \\sin^{2}{\\left(\\theta{\\left(t \\right)} \\right)}} + \\frac{g m \\sin{\\left(\\theta{\\left(t \\right)} \\right)}}{M R \\sin^{2}{\\left(\\theta{\\left(t \\right)} \\right)} + M R \\cos^{2}{\\left(\\theta{\\left(t \\right)} \\right)} + R m \\sin^{2}{\\left(\\theta{\\left(t \\right)} \\right)}}$"
      ],
      "text/plain": [
       "M*g*sin(\\theta(t))/(M*R*sin(\\theta(t))**2 + M*R*cos(\\theta(t))**2 + R*m*sin(\\theta(t))**2) - R*m*sin(\\theta(t))*cos(\\theta(t))*Derivative(\\theta(t), t)**2/(M*R*sin(\\theta(t))**2 + M*R*cos(\\theta(t))**2 + R*m*sin(\\theta(t))**2) + g*m*sin(\\theta(t))/(M*R*sin(\\theta(t))**2 + M*R*cos(\\theta(t))**2 + R*m*sin(\\theta(t))**2)"
      ]
     },
     "metadata": {},
     "output_type": "display_data"
    },
    {
     "name": "stdout",
     "output_type": "stream",
     "text": [
      "=================\n",
      "\n",
      "Numerical solutions: \n",
      "\n",
      "xddot(0) = -0.4843262903458875\n",
      "tddot(0) = 1.4602741593867283\n"
     ]
    }
   ],
   "source": [
    "import sympy as sym\n",
    "from sympy.abc import x, y, t\n",
    "from sympy import symbols, Function, Eq, Matrix, solve, cos, sin\n",
    "\n",
    "from IPython.core.display import HTML\n",
    "display(HTML(\"<table><tr><td><img src='https://raw.githubusercontent.com/MuchenSun/ME314pngs/master/dyninvpend.png' width=500' height='350'></table>\"))\n",
    "\n",
    "M = symbols('M')\n",
    "m = symbols('m')\n",
    "R = symbols('R')\n",
    "g = symbols('g')\n",
    "\n",
    "x = Function(r'x')(t)\n",
    "theta = Function(r'\\theta')(t)\n",
    "\n",
    "xdot = x.diff(t)\n",
    "xddot = xdot.diff(t)\n",
    "t_dot = theta.diff(t)\n",
    "t_ddot = t_dot.diff(t)\n",
    "\n",
    "#compute KE and PE to get Lagrangian equation\n",
    "KE = 0.5*M*xdot**2 + 0.5*m*((xdot + R*t_dot*cos(theta))**2 + (-R*t_dot*sin(theta))**2)\n",
    "PE = m*g*R*cos(theta)\n",
    "L = KE - PE\n",
    "display(L)\n",
    "\n",
    "\n",
    "#make a matrix out of vectors x and theta. This will make processing the Lagrangian via Jacobian easier\n",
    "#q-double-dot matrix q_ddot is a vector containing x-double-dot and theta-double-dot.\n",
    "#these are the configuration variables to solve the E-L equation for.\n",
    "q = Matrix([x, theta])\n",
    "q_dot = q.diff(t)\n",
    "q_ddot = q_dot.diff(t)\n",
    "\n",
    "L_mat = Matrix([L])\n",
    "\n",
    "#take the derivative of Lagrangian wrt q = [x, theta]\n",
    "dLdq = L_mat.jacobian(q).T\n",
    "\n",
    "#take the derivative of Lagrangian wrt q_dot = [xdot, t_dot]. xdot and t_dot are first \n",
    "#order time-derivatives of x and theta, respectively\n",
    "dL_dqdot = L_mat.jacobian(q_dot).T\n",
    "\n",
    "#take time derivative of previous step. this gives the d/dt(dL/dq_dot) term for the\n",
    "#Euler-Lagrangian equation.\n",
    "ddt_dL_dqdot = dL_dqdot.diff(t)\n",
    "\n",
    "#combine previous steps to compute the Euler-Lagrangian\n",
    "#this is a vector that contains two equations (two terms). One for x_ddot and one for t_ddot\n",
    "eL = sym.Eq(dLdq - ddt_dL_dqdot, Matrix([0, 0]))\n",
    "print('=================')\n",
    "print()\n",
    "print('Euler-Lagrangian equation symbolic solutions: ')\n",
    "display(eL)\n",
    "\n",
    "#symbolically solve for the x_ddot and t_ddot variables contained in vector q_ddot\n",
    "eL_solved = solve(eL, [q_ddot[0], q_ddot[1]]) #symbollically solve for each term in the E-L vector\n",
    "    \n",
    "#display the solution for x_ddot and t_ddot\n",
    "print('=================')\n",
    "print()\n",
    "print('Euler-Lagrangian equation solved for linear acceleration x_ddot: \\n\\nx_ddot = ')\n",
    "display(eL_solved[xddot])\n",
    "\n",
    "print('=================')\n",
    "print()\n",
    "print('Euler-Lagrangian equation solved for angular acceleration theta_ddot: \\n\\ntheta_ddot = ')\n",
    "display(eL_solved[t_ddot])\n",
    "\n",
    "#substitue constant values. store constant values as a dict to be used as an input into lambdify()\n",
    "sub_const = {m:1, M:2, g:9.8, R:1}\n",
    "xddot_sol = eL_solved[xddot].subs(sub_const)\n",
    "tddot_sol = eL_solved[t_ddot].subs(sub_const)\n",
    "\n",
    "#find numerical solutions using lambdify()\n",
    "xddot_func = sym.lambdify([x, theta, xdot, t_dot], xddot_sol)\n",
    "tddot_func = sym.lambdify([x, theta, xdot, t_dot], tddot_sol)\n",
    "\n",
    "#test the given values for x, theta, xdot, t_dot\n",
    "s0 = [0, 0.1, 0, 0]\n",
    "print('=================')\n",
    "print()\n",
    "print('Numerical solutions: \\n')\n",
    "print(f\"xddot(0) = {xddot_func(*s0)}\")\n",
    "print(f\"tddot(0) = {tddot_func(*s0)}\")\n",
    "\n",
    "#compute the numerical solution using lambdify and the constants given\n",
    "# soln_x = sym.lambdify([x, theta, xdot, t_dot, M, m, R, g], eL_solved[0][0])\n",
    "# soln_theta = sym.lambdify([x, theta, xdot, t_dot, M, m, R, g], eL_solved[1][0])\n",
    "# print('Euler-Lagrangian numerical solution for x_ddot: \\n\\nx_ddot = ', \n",
    "#       soln_x(0, 0.1, 0, 0, 2, 1, 1, 9.8)[0])\n",
    "    "
   ]
  },
  {
   "cell_type": "markdown",
   "metadata": {
    "id": "mZcApZxjbtBn"
   },
   "source": [
    "## Problem 8 (10pts)\n",
    "\n",
    "Based on your symbolic and numerical solutions for $\\ddot{x}(t)$ and $\\ddot{\\theta}(t)$, which are now functions of $x(t), \\theta(t), \\dot{x}(t)$ and $\\dot{\\theta}(t)$, simulate the system for $t\\in[0,10]$, with initial condition as $x(0)=0, \\theta(0)=0.1, \\dot{x}(0)=0, \\dot{\\theta}(0)=0$, using the numerical integration and simulation functions provided below. Plot the trajectories of $x(t)$ and $\\theta(t)$ versus time.\n",
    "\n",
    "*Hint 1: The numerical simulation function here can only simulate systems with first-order dynamics, which means the dynamics function feeded to numerical integration and simulation functions needs to return the first-order time derivative of the input state. This might be confusing because our solutions $\\ddot{x}(t)$ and $\\ddot{\\theta}(t)$ are second-order time derivative. The trick here is to extend the system state from $[x(t), \\theta(t)]$ to $[x(t), \\theta(t), \\dot{x}(t), \\dot{\\theta}(t)]$, thus the time derivative of the state vector becomes $[\\dot{x}(t), \\dot{\\theta}(t), \\ddot{x}(t), \\ddot{\\theta}(t)]$. Now, when you write down the system dynamics function, the third and forth elements of input vector $\\dot{x}(t)$ and $\\dot{\\theta}(t)$ can be put into the output vector directly, and we already know the rest two elements of the output vector, from our previous solution of Euler-Lagrange equations. More information can be found in Lecture Note 1 (Backgroud) - Section 1.4 Ordinary Differential Equations. An example is provided below for simulating a particle falling in gravity, where the acceleration $\\ddot{x}(t) = -9.8$.*\n",
    "\n",
    "*Hint 2: You will need to include the numerical evaluations for $\\ddot{x}(t)$ and $\\ddot{\\theta}(t)$ in system dynamics function, you can either use your previous **lambdify()** results, or hand code the equations from previous symbolic solutions. Here using **lambdify()** is recommended, since in later homeworks you will have much more complicated equations.*\n",
    "\n",
    "**Turn in: A copy of the code used to simulate the system, with the plot of the simulated trajectories.**"
   ]
  },
  {
   "cell_type": "code",
   "execution_count": 32,
   "metadata": {
    "colab": {
     "base_uri": "https://localhost:8080/",
     "height": 34
    },
    "id": "7_k47zI8btBo",
    "outputId": "f7d019be-e351-44cb-8a08-fb489549e558"
   },
   "outputs": [
    {
     "name": "stdout",
     "output_type": "stream",
     "text": [
      "shape of traj:  (2, 100)\n"
     ]
    }
   ],
   "source": [
    "def integrate(f, xt, dt):\n",
    "    \"\"\"\n",
    "    This function takes in an initial condition x(t) and a timestep dt,\n",
    "    as well as a dynamical system f(x) that outputs a vector of the\n",
    "    same dimension as x(t). It outputs a vector x(t+dt) at the future\n",
    "    time step.\n",
    "    \n",
    "    Parameters\n",
    "    ============\n",
    "    dyn: Python function\n",
    "        derivate of the system at a given step x(t), \n",
    "        it can considered as \\dot{x}(t) = func(x(t))\n",
    "    xt: NumPy array\n",
    "        current step x(t)\n",
    "    dt: \n",
    "        step size for integration\n",
    "\n",
    "    Return\n",
    "    ============\n",
    "    new_xt: \n",
    "        value of x(t+dt) integrated from x(t)\n",
    "    \"\"\"\n",
    "    k1 = dt * f(xt)\n",
    "    k2 = dt * f(xt+k1/2.)\n",
    "    k3 = dt * f(xt+k2/2.)\n",
    "    k4 = dt * f(xt+k3)\n",
    "    new_xt = xt + (1/6.) * (k1+2.0*k2+2.0*k3+k4)\n",
    "    return new_xt\n",
    "\n",
    "def simulate(f, x0, tspan, dt, integrate):\n",
    "    \"\"\"\n",
    "    This function takes in an initial condition x0, a timestep dt,\n",
    "    a time span tspan consisting of a list [min_time, max_time],\n",
    "    as well as a dynamical system f(x) that outputs a vector of the\n",
    "    same dimension as x0. It outputs a full trajectory simulated\n",
    "    over the time span of dimensions (xvec_size, time_vec_size).\n",
    "    \n",
    "    Parameters\n",
    "    ============\n",
    "    f: Python function\n",
    "        derivate of the system at a given step x(t), \n",
    "        it can considered as \\dot{x}(t) = func(x(t))\n",
    "    x0: NumPy array\n",
    "        initial conditions\n",
    "    tspan: Python list\n",
    "        tspan = [min_time, max_time], it defines the start and end\n",
    "        time of simulation\n",
    "    dt:\n",
    "        time step for numerical integration\n",
    "    integrate: Python function\n",
    "        numerical integration method used in this simulation\n",
    "\n",
    "    Return\n",
    "    ============\n",
    "    x_traj:\n",
    "        simulated trajectory of x(t) from t=0 to tf\n",
    "    \"\"\"\n",
    "    N = int((max(tspan)-min(tspan))/dt)\n",
    "    x = np.copy(x0)\n",
    "    tvec = np.linspace(min(tspan),max(tspan),N)\n",
    "    xtraj = np.zeros((len(x0),N))\n",
    "    for i in range(N):\n",
    "        xtraj[:,i]=integrate(f,x,dt)\n",
    "        x = np.copy(xtraj[:,i])\n",
    "    return xtraj \n",
    "\n",
    "##############################################\n",
    "# example: simulate a particle falling in gravity\n",
    "import numpy as np\n",
    "\n",
    "def xddot(x, xdot):\n",
    "    \"\"\"\n",
    "    Acceleration of the particle in terms of\n",
    "    position and velocity. Here it's a constant.\n",
    "    \"\"\"\n",
    "    \n",
    "    return -9.8\n",
    "\n",
    "def dyn(s):\n",
    "    \"\"\"\n",
    "    System dynamics function (extended)\n",
    "    \n",
    "    Parameters\n",
    "    ============\n",
    "    s: NumPy array\n",
    "        s = [x, xdot] is the extended system\n",
    "        state vector, includng the position and\n",
    "        the velocity of the particle\n",
    "    \n",
    "    Return\n",
    "    ============\n",
    "    sdot: NumPy array\n",
    "        time derivative of input state vector,\n",
    "        sdot = [xdot, xddot]\n",
    "    \"\"\"\n",
    "    return np.array([s[1], xddot(s[0], s[1])])\n",
    "\n",
    "# define initial state\n",
    "s0 = np.array([10, 0]) # at 10m high with zero velocity\n",
    "# simulat from t=0 to 10, since dt=0.1, the returned trajectory\n",
    "# will have 10/0.1=100 time steps, each time step contains extended\n",
    "# system state vector [x(t), xdot(t)]\n",
    "traj = simulate(dyn, s0, [0, 10], 0.1, integrate) \n",
    "print('shape of traj: ', traj.shape)"
   ]
  },
  {
   "cell_type": "code",
   "execution_count": 35,
   "metadata": {
    "id": "i3wasxm6btBs"
   },
   "outputs": [
    {
     "data": {
      "image/png": "[encoded data removed]",
      "text/plain": [
       "<Figure size 432x288 with 1 Axes>"
      ]
     },
     "metadata": {
      "needs_background": "light"
     },
     "output_type": "display_data"
    }
   ],
   "source": [
    "import matplotlib.pyplot as plt\n",
    "import numpy as np\n",
    "\n",
    "def cart_pendulum_dyn(q):\n",
    "    return np.array([q[2], q[3], -xddot_func(q[0], q[1], q[2], q[3]), tddot_func(q[0], q[1], q[2], q[3])])\n",
    "\n",
    "#initial condition\n",
    "x0 = np.array([0,0.1, 0, 0])\n",
    "\n",
    "#simulate\n",
    "traj = simulate(cart_pendulum_dyn, x0, [0,10], 0.1, integrate)\n",
    "\n",
    "#plot x(t) and th(t)\n",
    "plt.plot(np.arange(100)*0.1, traj[0:2].T)\n",
    "plt.show()\n"
   ]
  },
  {
   "cell_type": "markdown",
   "metadata": {
    "id": "sG1HaaxdbtBv"
   },
   "source": [
    "***\n",
    "\n",
    "## Problem X\n",
    "\n",
    "*This \"Problem X\" section is not required for submission and always has zero credit, so please feel no pressure about anything said in this section. This is only designed to help you get more familiar with things that are not the primary purposes of this class, but are important in practice, like Python.*\n",
    "\n",
    "Now you may have all the code running to compute the dynamics of some \"pendulum stuff\", and you will need to compute more later in this class. One suggestion here, for the purpose of handling more sophisticated systems (like a triple-pendulum!), is to wrap up your code for this homework into several functions. It's not required, and it's totally fine if you don't want to do it (you can always go back here after you're more familiar with Python and course materials), this is only for some of you who just want to have more Python in their life, just as the saying goes, \"life is short, use python\".\n",
    "\n",
    "Why it's better to wrap existing code into functions, isn't it a waste of time? Here is a sort of unrelated example: write a program that computes the trace of a matrix, which is the sum of all diagonal elements. If the matrix is already provided, just like we already computed Lagrangian in the homework, what we can do is like:"
   ]
  },
  {
   "cell_type": "code",
   "execution_count": 18,
   "metadata": {
    "id": "3OQpk6mlbtBw"
   },
   "outputs": [],
   "source": [
    "mat = [[1, 2, 3],\n",
    "       [4, 5, 6],\n",
    "       [7, 8, 9]]\n",
    "trace = mat[0][0] + mat[1][1] + mat[2][2]"
   ]
  },
  {
   "cell_type": "markdown",
   "metadata": {
    "id": "akbZncCWbtBz"
   },
   "source": [
    "However, now what if we need to compute the trace of a 5-by-5 matrix? Then we need to rewrite the code. In our simple example, it's not that annoying, but for more complicated problems, it is very annoying, especially when we find that we are basically doing the same thing every time we rewrite the code: manually adding all the diagonal elements together. Thus, why don't we just write a function once, and it will handle matrices with all possible dimensions for us? The challenge here is, for the function, it doesn't know what matrix will be provided. One solution is to require matrix dimension as function input (you might find this very common in lower-level programming languages like C/C++), but in Python, we have better choice, below is how:"
   ]
  },
  {
   "cell_type": "code",
   "execution_count": 19,
   "metadata": {
    "id": "YEEgxGLgbtBz"
   },
   "outputs": [],
   "source": [
    "def compute_trace(mat):\n",
    "    dim = len(mat)\n",
    "    trace_val = 0\n",
    "    for i in range(dim):\n",
    "        trace_val += mat[i][i]\n",
    "    return trace_val\n",
    "\n",
    "mat = [[1, 2, 3],\n",
    "       [4, 5, 6],\n",
    "       [7, 8, 9]]\n",
    "trace = compute_trace(mat)"
   ]
  },
  {
   "cell_type": "markdown",
   "metadata": {
    "id": "S2h7tmVDbtB2"
   },
   "source": [
    "Python provides really nice methods to tell us the dimension of the data, the default is *len()*, and in NumPy or SymPy you can also use {\\tt .shape()}. In this way, you can generalize your method through the function, and easily reuse your code later. Besides that, depending on the specific scenarios, some methods can naturally avoid encountering number of parameters, like SymPy's matrix *jacobian()* method. Usually these methods are better choices, because their implementations are typically more efficient than using loops (loops are slow). \n",
    "    \n",
    "In this homework, one part you can re-organize as a function is in Problem 3. **Try to write a Python function, which takes in the Lagrangian, a list of variables of the Lagrangian, and returns the Euler-Lagrange equation as a SymPy equation object.** The challenge here is we don't know how many variables will be provided, and the example above might inspire you. \n",
    "    \n",
    "Here one template is provided below, which you can take as a start point. Note that it's always highly recommended to document your function as shown below, letting others understand your code is as important as getting your code run."
   ]
  },
  {
   "cell_type": "code",
   "execution_count": 20,
   "metadata": {
    "id": "Qb-PNjTBbtB3"
   },
   "outputs": [],
   "source": [
    "def euler_equations(L, funcs, t):\n",
    "    \"\"\"\n",
    "    Find the Euler-Lagrangian equations given the Lagrangian equation.\n",
    "\n",
    "    Parameters:\n",
    "    ============\n",
    "    L: SymPy Expression\n",
    "        L should be a SymPy expression containing necessary system \n",
    "        configuration variables\n",
    "    funcs: list of SymPy Functions\n",
    "        func should included all the system configuration variables\n",
    "        as functions of time variable \"t\" in the Lagrangian\n",
    "    t: SymPy Symbol\n",
    "        time variable\n",
    "\n",
    "    Returns:\n",
    "    ============\n",
    "    eqns: SymPy Equation\n",
    "        eqns is the resulting Euler-Lagrangian equations, it should\n",
    "        be a sinlge SymPy Equation object, each side being a SymPy\n",
    "        Matrix object\n",
    "    \"\"\"\n",
    "    pass # In Python, \"pass\" means \"do nothing\",  many people use it\n",
    "         # to occupy a space so they don't need to implement a function\n",
    "         # while getting the program running. Here you just need to \n",
    "         # replace it with your own implementation."
   ]
  },
  {
   "cell_type": "code",
   "execution_count": null,
   "metadata": {
    "id": "ftOKqtWpbtB6"
   },
   "outputs": [],
   "source": []
  }
 ],
 "metadata": {
  "colab": {
   "collapsed_sections": [],
   "name": "hw1-template.ipynb",
   "provenance": []
  },
  "kernelspec": {
   "display_name": "Python 3",
   "language": "python",
   "name": "python3"
  },
  "language_info": {
   "codemirror_mode": {
    "name": "ipython",
    "version": 3
   },
   "file_extension": ".py",
   "mimetype": "text/x-python",
   "name": "python",
   "nbconvert_exporter": "python",
   "pygments_lexer": "ipython3",
   "version": "3.8.5"
  }
 },
 "nbformat": 4,
 "nbformat_minor": 1
}
