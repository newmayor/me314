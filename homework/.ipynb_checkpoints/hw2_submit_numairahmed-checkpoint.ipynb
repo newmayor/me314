{
 "cells": [
  {
   "cell_type": "markdown",
   "metadata": {
    "id": "0KtDX1tugwP3"
   },
   "source": [
    "# ME314 Homework 2 (Template)\n",
    "\n",
    "*Please note that a **single** PDF file will be the only document that you turn in, which will include your answers to the problems with corresponding derivations and any code used to complete the problems. When including the code, please make sure you also include **code outputs**, and you don't need to include example code. Problems and deliverables that should be included with your submission are shown in **bold**.*\n",
    "\n",
    "*This Juputer Notebook file serves as a template for you to start homework, since we recommend to finish the homework using Jupyter Notebook. You can start with this notebook file with your local Jupyter environment, or upload it to Google Colab. You can include all the code and other deliverables in this notebook Jupyter Notebook supports $\\LaTeX$ for math equations, and you can export the whole notebook as a PDF file. But this is not the only option, if you are more comfortable with other ways, feel free to do so, as long as you can submit the homework in a single PDF file.*\n",
    "\n",
    "***"
   ]
  },
  {
   "cell_type": "code",
   "execution_count": 1,
   "metadata": {
    "id": "VGv2h3CjKc-J"
   },
   "outputs": [
    {
     "name": "stdout",
     "output_type": "stream",
     "text": [
      "1.7.1\n"
     ]
    }
   ],
   "source": [
    "# this code is provided for upgrading sympy to latest version, you don't need to run it\n",
    "# by yourself, so please leave it commented out\n",
    "# !pip install --upgrade sympy\n",
    "\n",
    "# print sympy version for testing, should be 1.6.2\n",
    "import sympy\n",
    "print(sympy.__version__)"
   ]
  },
  {
   "cell_type": "code",
   "execution_count": 2,
   "metadata": {
    "id": "xbLnTnwJgwP3"
   },
   "outputs": [],
   "source": [
    "# ##############################################################################################\n",
    "# # If you're using Google Colab, uncomment this section by selecting the whole section and press\n",
    "# # ctrl+'/' on your and keyboard. Run it before you start programming, this will enable the nice \n",
    "# # LaTeX \"display()\" function for you. If you're using the local Jupyter environment, leave it alone\n",
    "# ##############################################################################################\n",
    "\n",
    "# import sympy as sym\n",
    "# def custom_latex_printer(exp,**options):\n",
    "#     from google.colab.output._publish import javascript\n",
    "#     url = \"https://cdnjs.cloudflare.com/ajax/libs/mathjax/3.1.1/latest.js?config=TeX-AMS_HTML\"\n",
    "#     javascript(url=url)\n",
    "#     return sym.printing.latex(exp,**options)\n",
    "# sym.init_printing(use_latex=\"mathjax\",latex_printer=custom_latex_printer)"
   ]
  },
  {
   "cell_type": "markdown",
   "metadata": {
    "id": "w6B0V9cQgwP6"
   },
   "source": [
    "Below are the help functions in previous homeworks, which you may need for this homework."
   ]
  },
  {
   "cell_type": "code",
   "execution_count": 3,
   "metadata": {
    "id": "vU5hesF6gwP6"
   },
   "outputs": [],
   "source": [
    "import numpy as np\n",
    "\n",
    "def integrate(f, xt, dt):\n",
    "    \"\"\"\n",
    "    This function takes in an initial condition x(t) and a timestep dt,\n",
    "    as well as a dynamical system f(x) that outputs a vector of the\n",
    "    same dimension as x(t). It outputs a vector x(t+dt) at the future\n",
    "    time step.\n",
    "    \n",
    "    Parameters\n",
    "    ============\n",
    "    dyn: Python function\n",
    "        derivate of the system at a given step x(t), \n",
    "        it can considered as \\dot{x}(t) = func(x(t))\n",
    "    xt: NumPy array\n",
    "        current step x(t)\n",
    "    dt: \n",
    "        step size for integration\n",
    "\n",
    "    Return\n",
    "    ============\n",
    "    new_xt: \n",
    "        value of x(t+dt) integrated from x(t)\n",
    "    \"\"\"\n",
    "    k1 = dt * f(xt)\n",
    "    k2 = dt * f(xt+k1/2.)\n",
    "    k3 = dt * f(xt+k2/2.)\n",
    "    k4 = dt * f(xt+k3)\n",
    "    new_xt = xt + (1/6.) * (k1+2.0*k2+2.0*k3+k4)\n",
    "    return new_xt\n",
    "\n",
    "def simulate(f, x0, tspan, dt, integrate):\n",
    "    \"\"\"\n",
    "    This function takes in an initial condition x0, a timestep dt,\n",
    "    a time span tspan consisting of a list [min_time, max_time],\n",
    "    as well as a dynamical system f(x) that outputs a vector of the\n",
    "    same dimension as x0. It outputs a full trajectory simulated\n",
    "    over the time span of dimensions (xvec_size, time_vec_size).\n",
    "    \n",
    "    Parameters\n",
    "    ============\n",
    "    f: Python function\n",
    "        derivate of the system at a given step x(t), \n",
    "        it can considered as \\dot{x}(t) = func(x(t))\n",
    "    x0: NumPy array\n",
    "        initial conditions\n",
    "    tspan: Python list\n",
    "        tspan = [min_time, max_time], it defines the start and end\n",
    "        time of simulation\n",
    "    dt:\n",
    "        time step for numerical integration\n",
    "    integrate: Python function\n",
    "        numerical integration method used in this simulation\n",
    "\n",
    "    Return\n",
    "    ============\n",
    "    x_traj:\n",
    "        simulated trajectory of x(t) from t=0 to tf\n",
    "    \"\"\"\n",
    "    N = int((max(tspan)-min(tspan))/dt)\n",
    "    x = np.copy(x0)\n",
    "    tvec = np.linspace(min(tspan),max(tspan),N)\n",
    "    xtraj = np.zeros((len(x0),N))\n",
    "    for i in range(N):\n",
    "        xtraj[:,i]=integrate(f,x,dt)\n",
    "        x = np.copy(xtraj[:,i])\n",
    "    return xtraj "
   ]
  },
  {
   "cell_type": "markdown",
   "metadata": {
    "id": "R0BRchSzgwP8"
   },
   "source": [
    "## Problem 1 (10pts)\n",
    "\n",
    "Show that torque balance for a rotating body $J \\alpha=\\sum \\tau$ (where $\\alpha=\\ddot{\\theta}$ and $J$ is the rotational inertia) satisfies a least action principle principle. Assume that the forces are from potentials that depend on the rotation $\\theta$ (i.e., $\\tau=-\\frac{\\partial V(\\theta)}{\\partial\\theta}$).\n",
    "\n",
    "*Hint 1: You need to figure out what the kinetic energy should be, which is no longer $\\frac{1}{2}m\\dot{x}^2$ but in a very similar form.*\n",
    "\n",
    "*Hint 2: You need to show that torque balance is a result of extremizing the integral of the kinetic energy minus the potential energy.*\n",
    "\n",
    "*Hint 3: The proof is very similar to the lecture when we discussed a point mass in gravity. In that case, the force(s) are from the potential of gravity, and thus is $mg$.*\n",
    "\n",
    "**Turn in: Your hand-written solution showing $J \\alpha=\\sum \\tau$ can obtained through least action principle.**"
   ]
  },
  {
   "cell_type": "code",
   "execution_count": null,
   "metadata": {
    "id": "HP-4QOeNgwP8"
   },
   "outputs": [],
   "source": []
  },
  {
   "cell_type": "code",
   "execution_count": 4,
   "metadata": {
    "colab": {
     "base_uri": "https://localhost:8080/",
     "height": 377
    },
    "id": "2rRC_0a2gwP-",
    "outputId": "79e60c0e-d339-4118-b661-4bb046583fff"
   },
   "outputs": [
    {
     "data": {
      "text/html": [
       "<table><tr><td><img src='https://github.com/MuchenSun/ME314pngs/raw/master/dyndoublepend.png' width=500' height='350'></table>"
      ],
      "text/plain": [
       "<IPython.core.display.HTML object>"
      ]
     },
     "metadata": {},
     "output_type": "display_data"
    }
   ],
   "source": [
    "from IPython.core.display import HTML\n",
    "display(HTML(\"<table><tr><td><img src='https://github.com/MuchenSun/ME314pngs/raw/master/dyndoublepend.png' width=500' height='350'></table>\"))"
   ]
  },
  {
   "cell_type": "markdown",
   "metadata": {
    "id": "LDNjUdKvgwQA"
   },
   "source": [
    "## Problem 2 (10pts)\n",
    "\n",
    "A double-pendulum system hanging in gravity is shown in the figure above, take $q=[\\theta_1, \\theta_2]$ as the system configuration variables, use Python's SymPy package to compute the Lagrangian of the system. Note that, we assume the z-axis is pointing out from the screen/paper, thus the positive direction of rotation is counter-clockwise.\n",
    "\n",
    "*Hint 1: It's recommended to compute the positions and their time derivative(velocities) in x-y coordinates, and compute kinetic energy based that.*\n",
    "\n",
    "*Hint 2: By convention, we will define $g=9.8$ as a positive constant, if you got some wired \"flipped\" trajectory, go back to Problem 2 and check the sign of your gravity potential energy term.*\n",
    "\n",
    "**Turn in: A copy of the code used to symbolically compute Lagrangian, and the output of your code, which should be the computed Lagrangian.**"
   ]
  },
  {
   "cell_type": "code",
   "execution_count": 18,
   "metadata": {
    "id": "Tj9mVCOsgwQB"
   },
   "outputs": [
    {
     "data": {
      "text/latex": [
       "$\\displaystyle R_{1}^{2} \\left(0.5 m_{1} + 0.5 m_{2}\\right) \\left(\\frac{d}{d t} \\theta_{1}{\\left(t \\right)}\\right)^{2} - R_{1} g \\left(- m_{1} - m_{2}\\right) \\cos{\\left(\\theta_{1}{\\left(t \\right)} \\right)} + R_{2} g m_{2} \\cos{\\left(\\theta_{2}{\\left(t \\right)} \\right)} + 0.5 m_{2} \\left(2 R_{1} R_{2} \\cos{\\left(\\theta_{1}{\\left(t \\right)} - \\theta_{2}{\\left(t \\right)} \\right)} \\frac{d}{d t} \\theta_{1}{\\left(t \\right)} \\frac{d}{d t} \\theta_{2}{\\left(t \\right)} + R_{2}^{2} \\left(\\frac{d}{d t} \\theta_{2}{\\left(t \\right)}\\right)^{2}\\right)$"
      ],
      "text/plain": [
       "R_1**2*(0.5*m_1 + 0.5*m_2)*Derivative(\\theta_1(t), t)**2 - R_1*g*(-m_1 - m_2)*cos(\\theta_1(t)) + R_2*g*m_2*cos(\\theta_2(t)) + 0.5*m_2*(2*R_1*R_2*cos(\\theta_1(t) - \\theta_2(t))*Derivative(\\theta_1(t), t)*Derivative(\\theta_2(t), t) + R_2**2*Derivative(\\theta_2(t), t)**2)"
      ]
     },
     "metadata": {},
     "output_type": "display_data"
    },
    {
     "data": {
      "text/latex": [
       "$\\displaystyle \\frac{d}{d t} \\theta_{1}{\\left(t \\right)}$"
      ],
      "text/plain": [
       "Derivative(\\theta_1(t), t)"
      ]
     },
     "metadata": {},
     "output_type": "display_data"
    },
    {
     "data": {
      "text/latex": [
       "$\\displaystyle \\frac{d}{d t} \\theta_{2}{\\left(t \\right)}$"
      ],
      "text/plain": [
       "Derivative(\\theta_2(t), t)"
      ]
     },
     "metadata": {},
     "output_type": "display_data"
    }
   ],
   "source": [
    "# You can start your implementation here :)\n",
    "import sympy as sym\n",
    "from sympy import symbols, Function, cos, sin\n",
    "from sympy.abc import t\n",
    "\n",
    "m1 = symbols('m_1')\n",
    "m2 = symbols('m_2')\n",
    "r1 = symbols('R_1')\n",
    "r2 = symbols('R_2')\n",
    "g = symbols('g')\n",
    "\n",
    "th1 = Function(r'\\theta_1')(t)\n",
    "th2 = Function(r'\\theta_2')(t)\n",
    "\n",
    "dth1 = th1.diff(t)\n",
    "dth2 = th2.diff(t)\n",
    "\n",
    "KE = 0.5*(m1+m2)*r1**2*dth1**2 + 0.5*m2*(r2**2*dth2**2 + 2*r1*r2*dth1*dth2*cos(th1-th2))\n",
    "PE = -1*(m1+m2)*g*r1*cos(th1) - m2*g*r2*cos(th2)\n",
    "L = KE - PE\n",
    "\n",
    "display(L, dth1, dth2)"
   ]
  },
  {
   "cell_type": "markdown",
   "metadata": {
    "id": "6oQkJFIpgwQC"
   },
   "source": [
    "## Problem 3 (15pts)\n",
    "\n",
    "Use Python's SymPy package to compute the Euler-Lagrange equations for the same double-pendulum system in Problem 2, and solve them for $\\ddot{\\theta}_1$ and $\\ddot{\\theta}_2$.\n",
    "\n",
    "**Turn in: A copy of the code used to symbolically compute and solve Euler-Lagrange equations. Also include the output of your code, which should be the computed Euler-Lagrange equations and solutions.**"
   ]
  },
  {
   "cell_type": "code",
   "execution_count": null,
   "metadata": {
    "id": "98w-WkmngwQD"
   },
   "outputs": [],
   "source": [
    "# You can start your implementation here :)"
   ]
  },
  {
   "cell_type": "markdown",
   "metadata": {
    "id": "oUV4lbZ2gwQF"
   },
   "source": [
    "## Problem 4 (15pts)\n",
    "\n",
    "Numerically evaluate your solutions for $\\ddot{\\theta}_1$ and $\\ddot{\\theta}_2$ in Problem 3 using SymPy's {\\tt lambdify()} method, simulate the system for $t\\in[0, 5]$ with $m_1=1, m_2=2, R_1=2, R_2=1$ and initial condition as $\\theta_1=\\theta_2=-\\frac{\\pi}{2}, \\dot{\\theta}_1=\\dot{\\theta}_2=0$. Plot the simulated trajectories of $\\theta_1(t)$ and $\\theta_2(t)$ versus time.\n",
    "\n",
    "*Hint 1: Feel free to use the example code or your implementation in Homework 1.*\n",
    "\n",
    "*Hint 2: By convention, we will define $g=9.8$ as a positive constant, if you got some wired \"flipped\" trajectory, go back to Problem 2 and check the sign of your gravity potential energy term.*\n",
    "\n",
    "**Turn in: A copy of the code used for numerical evaluation and simulation, and the output of your code, which should include the plot of trajectories.**"
   ]
  },
  {
   "cell_type": "code",
   "execution_count": null,
   "metadata": {
    "id": "GerKnA-9gwQF"
   },
   "outputs": [],
   "source": [
    "# You can start your implementation here :)"
   ]
  },
  {
   "cell_type": "markdown",
   "metadata": {
    "id": "Y1aRjMuBgwQH"
   },
   "source": [
    "## Problem 5 (10pts)\n",
    "\n",
    "Finally, let's do some fancy animation! Use the provided animation function below to animate your simulation of the double-pendulum system based on the trajectories you got in Problem 4."
   ]
  },
  {
   "cell_type": "code",
   "execution_count": null,
   "metadata": {
    "id": "Say1GZIQgwQH"
   },
   "outputs": [],
   "source": [
    "def animate_double_pend(theta_array,L1=1,L2=1,T=10):\n",
    "    \"\"\"\n",
    "    Function to generate web-based animation of double-pendulum system\n",
    "\n",
    "    Parameters:\n",
    "    ================================================\n",
    "    theta_array:\n",
    "        trajectory of theta1 and theta2, should be a NumPy array with\n",
    "        shape of (2,N)\n",
    "    L1:\n",
    "        length of the first pendulum\n",
    "    L2:\n",
    "        length of the second pendulum\n",
    "    T:\n",
    "        length/seconds of animation duration\n",
    "\n",
    "    Returns: None\n",
    "    \"\"\"\n",
    "\n",
    "    ################################\n",
    "    # Imports required for animation.\n",
    "    from plotly.offline import init_notebook_mode, iplot\n",
    "    from IPython.display import display, HTML\n",
    "    import plotly.graph_objects as go\n",
    "\n",
    "    #######################\n",
    "    # Browser configuration.\n",
    "    def configure_plotly_browser_state():\n",
    "        import IPython\n",
    "        display(IPython.core.display.HTML('''\n",
    "            <script src=\"/static/components/requirejs/require.js\"></script>\n",
    "            <script>\n",
    "              requirejs.config({\n",
    "                paths: {\n",
    "                  base: '/static/base',\n",
    "                  plotly: 'https://cdn.plot.ly/plotly-1.5.1.min.js?noext',\n",
    "                },\n",
    "              });\n",
    "            </script>\n",
    "            '''))\n",
    "    configure_plotly_browser_state()\n",
    "    init_notebook_mode(connected=False)\n",
    "\n",
    "    ###############################################\n",
    "    # Getting data from pendulum angle trajectories.\n",
    "    xx1=L1*np.sin(theta_array[0])\n",
    "    yy1=-L1*np.cos(theta_array[0])\n",
    "    xx2=xx1+L2*np.sin(theta_array[0]+theta_array[1])\n",
    "    yy2=yy1-L2*np.cos(theta_array[0]+theta_array[1])\n",
    "    N = len(theta_array[0]) # Need this for specifying length of simulation\n",
    "\n",
    "    ####################################\n",
    "    # Using these to specify axis limits.\n",
    "    xm=np.min(xx1)-0.5\n",
    "    xM=np.max(xx1)+0.5\n",
    "    ym=np.min(yy1)-2.5\n",
    "    yM=np.max(yy1)+1.5\n",
    "\n",
    "    ###########################\n",
    "    # Defining data dictionary.\n",
    "    # Trajectories are here.\n",
    "    data=[dict(x=xx1, y=yy1, \n",
    "               mode='lines', name='Arm', \n",
    "               line=dict(width=2, color='blue')\n",
    "              ),\n",
    "          dict(x=xx1, y=yy1, \n",
    "               mode='lines', name='Mass 1',\n",
    "               line=dict(width=2, color='purple')\n",
    "              ),\n",
    "          dict(x=xx2, y=yy2, \n",
    "               mode='lines', name='Mass 2',\n",
    "               line=dict(width=2, color='green')\n",
    "              ),\n",
    "          dict(x=xx1, y=yy1, \n",
    "               mode='markers', name='Pendulum 1 Traj', \n",
    "               marker=dict(color=\"purple\", size=2)\n",
    "              ),\n",
    "          dict(x=xx2, y=yy2, \n",
    "               mode='markers', name='Pendulum 2 Traj', \n",
    "               marker=dict(color=\"green\", size=2)\n",
    "              ),\n",
    "        ]\n",
    "\n",
    "    ################################\n",
    "    # Preparing simulation layout.\n",
    "    # Title and axis ranges are here.\n",
    "    layout=dict(xaxis=dict(range=[xm, xM], autorange=False, zeroline=False,dtick=1),\n",
    "                yaxis=dict(range=[ym, yM], autorange=False, zeroline=False,scaleanchor = \"x\",dtick=1),\n",
    "                title='Double Pendulum Simulation', \n",
    "                hovermode='closest',\n",
    "                updatemenus= [{'type': 'buttons',\n",
    "                               'buttons': [{'label': 'Play','method': 'animate',\n",
    "                                            'args': [None, {'frame': {'duration': T, 'redraw': False}}]},\n",
    "                                           {'args': [[None], {'frame': {'duration': T, 'redraw': False}, 'mode': 'immediate',\n",
    "                                            'transition': {'duration': 0}}],'label': 'Pause','method': 'animate'}\n",
    "                                          ]\n",
    "                              }]\n",
    "               )\n",
    "\n",
    "    ########################################\n",
    "    # Defining the frames of the simulation.\n",
    "    # This is what draws the lines from\n",
    "    # joint to joint of the pendulum.\n",
    "    frames=[dict(data=[dict(x=[0,xx1[k],xx2[k]], \n",
    "                            y=[0,yy1[k],yy2[k]], \n",
    "                            mode='lines',\n",
    "                            line=dict(color='red', width=3)\n",
    "                            ),\n",
    "                       go.Scatter(\n",
    "                            x=[xx1[k]],\n",
    "                            y=[yy1[k]],\n",
    "                            mode=\"markers\",\n",
    "                            marker=dict(color=\"blue\", size=12)),\n",
    "                       go.Scatter(\n",
    "                            x=[xx2[k]],\n",
    "                            y=[yy2[k]],\n",
    "                            mode=\"markers\",\n",
    "                            marker=dict(color=\"blue\", size=12)),\n",
    "                      ]) for k in range(N)]\n",
    "\n",
    "    #######################################\n",
    "    # Putting it all together and plotting.\n",
    "    figure1=dict(data=data, layout=layout, frames=frames)           \n",
    "    iplot(figure1)\n",
    "\n",
    "##################################################\n",
    "# Example of animation\n",
    "\n",
    "# provide a trajectory of double-pendulum\n",
    "# (note that this array below is not an actual simulation, \n",
    "# but lets you see this animation code work)\n",
    "import numpy as np\n",
    "sim_traj = np.array([np.linspace(-1, 1, 100), np.linspace(-1, 1, 100)])\n",
    "print('shape of trajectory: ', sim_traj.shape)\n",
    "\n",
    "# second, animate!\n",
    "animate_double_pend(sim_traj,L1=1,L2=1,T=10)"
   ]
  },
  {
   "cell_type": "markdown",
   "metadata": {
    "id": "Lr4HYpuHgwQJ"
   },
   "source": [
    "*Hint 1: If you're using local Jupyter environment, you will need to install the package \"plotly\" through pip. Activate your Conda virtual environment (or any other environment you use) for the homework, type \"python3 -m pip install plotly\" in command line/terminal to install.*\n",
    "\n",
    "*Hint 2: If you see the animation slow, press \"pause\", then press \"play\" again, this will put animation in a normal speed.*\n",
    "\n",
    "**Turn in: A copy of code used to generate the animation, you don't need to include the animation function. Also, upload the video of animation separately through Canvas, the video should be in \".mp4\" format, and you can use screen capture or record the screen directly with your phone.**"
   ]
  },
  {
   "cell_type": "code",
   "execution_count": null,
   "metadata": {
    "id": "zw9qbkBsgwQK"
   },
   "outputs": [],
   "source": [
    "# You can start your implementation here"
   ]
  },
  {
   "cell_type": "code",
   "execution_count": null,
   "metadata": {
    "colab": {
     "base_uri": "https://localhost:8080/",
     "height": 377
    },
    "id": "lZVuzZBLgwQL",
    "outputId": "744bf3ed-c1fd-41c0-fb7a-fedc6ac2ba02"
   },
   "outputs": [],
   "source": [
    "from IPython.core.display import HTML\n",
    "display(HTML(\"<table><tr><td><img src='https://github.com/MuchenSun/ME314pngs/raw/master/dynbeadwire.png' width=500' height='350'></table>\"))"
   ]
  },
  {
   "cell_type": "markdown",
   "metadata": {
    "id": "_QHqvdtRgwQN"
   },
   "source": [
    "## Problem 6 (10pts)\n",
    "\n",
    "As shown in the figure above, a bead in gravity is constrained to the path $y=\\cos(x)$. Take the x-y positions of the bead as the system configuration variables, compute the Lagrangian symbolically using SymPy and write down constraint equation $\\phi(q)=0$ of the system as SymPy's symbolic equation.\n",
    "\n",
    "**A copy of the code you used to compute the Lagrangian and generate the constraint equation. Also, include the output of your code, which should be the Lagrangian and constraint equation.**"
   ]
  },
  {
   "cell_type": "code",
   "execution_count": null,
   "metadata": {
    "id": "dhWzrO5EgwQO"
   },
   "outputs": [],
   "source": [
    "# You can start your implementation here"
   ]
  },
  {
   "cell_type": "markdown",
   "metadata": {
    "id": "6PFezsC-gwQP"
   },
   "source": [
    "## Problem 7 (10pts)\n",
    "\n",
    "Use Python's SymPy's package to solve for the equations of motion ($\\ddot{x}$ and $\\ddot{y}$) and force of constraint $\\lambda$, for the constrained bead system in Problem 6.\n",
    "\n",
    "**Turn in: A copy of the code used to symbolically solve for the equations of motion and force of constraint, also include the output of the code, which should be the computed equations and force of constraint.**"
   ]
  },
  {
   "cell_type": "code",
   "execution_count": null,
   "metadata": {
    "id": "ufv9bmFhgwQQ"
   },
   "outputs": [],
   "source": [
    "# You can start your implementation here"
   ]
  },
  {
   "cell_type": "markdown",
   "metadata": {
    "id": "jwuwrRy_gwQR"
   },
   "source": [
    "## Problem 8 (20pts)\n",
    "\n",
    "Simulate this constrained bead system, with $m=1$ and initial condition as $x=0.1, y=\\cos(0.1), \\dot{x}=\\dot{y}=0$, for $t\\in[0, 10]$. Animate your simulated trajectory using the provided function below."
   ]
  },
  {
   "cell_type": "code",
   "execution_count": null,
   "metadata": {
    "id": "7HYmsdAlgwQS"
   },
   "outputs": [],
   "source": [
    "def animate_bead(xy_array,T=10):\n",
    "    \"\"\"\n",
    "    Function to generate web-based animation of constrained bead system\n",
    "    \n",
    "    Parameters:\n",
    "    ================================================\n",
    "    xy_array:\n",
    "        trajectory of x and y, should be a NumPy array with\n",
    "        shape of (2,N)\n",
    "    T:\n",
    "        length/seconds of animation duration\n",
    "    \n",
    "    Returns: None\n",
    "    \"\"\"\n",
    "    \n",
    "    ################################\n",
    "    # Imports required for animation.\n",
    "    from plotly.offline import init_notebook_mode, iplot\n",
    "    from IPython.display import display, HTML\n",
    "    import plotly.graph_objects as go\n",
    "    \n",
    "    #######################\n",
    "    # Browser configuration.\n",
    "    def configure_plotly_browser_state():\n",
    "        import IPython\n",
    "        display(IPython.core.display.HTML('''\n",
    "            <script src=\"/static/components/requirejs/require.js\"></script>\n",
    "            <script>\n",
    "              requirejs.config({\n",
    "                paths: {\n",
    "                  base: '/static/base',\n",
    "                  plotly: 'https://cdn.plot.ly/plotly-1.5.1.min.js?noext',\n",
    "                },\n",
    "              });\n",
    "            </script>\n",
    "            '''))\n",
    "    configure_plotly_browser_state()\n",
    "    init_notebook_mode(connected=False)\n",
    "    \n",
    "    ###############################################\n",
    "    # Getting data from trajectories.\n",
    "    N = len(xy_array[0]) # Need this for specifying length of simulation\n",
    "    \n",
    "    ####################################\n",
    "    # Using these to specify axis limits.\n",
    "    xm=np.min(xy_array[0])-0.5\n",
    "    xM=np.max(xy_array[0])+0.5\n",
    "    ym=np.min(xy_array[1])-0.5\n",
    "    yM=np.max(xy_array[1])+0.5\n",
    "\n",
    "    ###########################\n",
    "    # Defining data dictionary.\n",
    "    # Trajectories are here.\n",
    "    data=[dict(x=xy_array[0], y=xy_array[1], \n",
    "               mode='markers', name='bead', \n",
    "               marker=dict(color=\"blue\", size=10)\n",
    "              ),\n",
    "          dict(x=xy_array[0], y=xy_array[1], \n",
    "               mode='lines', name='trajectory',\n",
    "               line=dict(width=2, color='red')\n",
    "              ),\n",
    "        ]\n",
    "    \n",
    "    ################################\n",
    "    # Preparing simulation layout.\n",
    "    # Title and axis ranges are here.\n",
    "    layout=dict(xaxis=dict(range=[xm, xM], autorange=False, zeroline=False,dtick=1),\n",
    "                yaxis=dict(range=[ym, yM], autorange=False, zeroline=False,scaleanchor = \"x\",dtick=1),\n",
    "                title='Constrained Bead Simulation', \n",
    "                hovermode='closest',\n",
    "                updatemenus= [{'type': 'buttons',\n",
    "                               'buttons': [{'label': 'Play','method': 'animate',\n",
    "                                            'args': [None, {'frame': {'duration': T, 'redraw': False}}]},\n",
    "                                           {'args': [[None], {'frame': {'duration': T, 'redraw': False}, 'mode': 'immediate',\n",
    "                                            'transition': {'duration': 0}}],'label': 'Pause','method': 'animate'}\n",
    "                                          ]\n",
    "                              }]\n",
    "               )\n",
    "    \n",
    "    ########################################\n",
    "    # Defining the frames of the simulation.\n",
    "    # This is what draws the bead at each time\n",
    "    # step of simulation.\n",
    "    frames=[dict(data=[go.Scatter(\n",
    "                            x=[xy_array[0][k]],\n",
    "                            y=[xy_array[1][k]],\n",
    "                            mode=\"markers\",\n",
    "                            marker=dict(color=\"blue\", size=10))\n",
    "                      ]) for k in range(N)]\n",
    "    \n",
    "    \n",
    "    \n",
    "    #######################################\n",
    "    # Putting it all together and plotting.\n",
    "    figure1=dict(data=data, layout=layout, frames=frames)           \n",
    "    iplot(figure1)\n",
    "    \n",
    "##################################################\n",
    "# Example of animation\n",
    "\n",
    "# provide a trajectory of constrained bead\n",
    "# (note that this array below is not an actual simulation, \n",
    "# but lets you see this animation code work)\n",
    "import numpy as np\n",
    "sim_traj = np.array([np.linspace(-3, 3, 600), np.sin(np.linspace(-3, 3, 600))])\n",
    "print('shape of trajectory: ', sim_traj.shape)\n",
    "\n",
    "# second, animate!\n",
    "animate_bead(sim_traj,T=3)"
   ]
  },
  {
   "cell_type": "markdown",
   "metadata": {
    "id": "ybkXzDiFgwQX"
   },
   "source": [
    "**Turn in: A copy of code used to numerically evaluate, simulate and animate the system. You don't need to include the animation function. Also, upload the video of animation separately through Canvas, the video should be in \".mp4\" format, and you can use screen capture or record the screen directly with your phone.**"
   ]
  },
  {
   "cell_type": "code",
   "execution_count": null,
   "metadata": {
    "id": "0PORMgc4gwQY"
   },
   "outputs": [],
   "source": [
    "# You can start your implementation here"
   ]
  },
  {
   "cell_type": "code",
   "execution_count": null,
   "metadata": {
    "id": "XqIQzr7ugwQc"
   },
   "outputs": [],
   "source": []
  }
 ],
 "metadata": {
  "colab": {
   "collapsed_sections": [],
   "name": "hw2-template2.ipynb",
   "provenance": []
  },
  "kernelspec": {
   "display_name": "Python 3",
   "language": "python",
   "name": "python3"
  },
  "language_info": {
   "codemirror_mode": {
    "name": "ipython",
    "version": 3
   },
   "file_extension": ".py",
   "mimetype": "text/x-python",
   "name": "python",
   "nbconvert_exporter": "python",
   "pygments_lexer": "ipython3",
   "version": "3.8.5"
  }
 },
 "nbformat": 4,
 "nbformat_minor": 1
}
