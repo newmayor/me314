{
 "cells": [
  {
   "cell_type": "markdown",
   "metadata": {
    "id": "p5AANcq8aXQE"
   },
   "source": [
    "# ME314 Homework 0 -- Due April 07, 2021\n",
    "\n",
    "*Please note that a **single** PDF file will be the only document that you turn in, which will include your answers to the problems with corresponding derivations, and the code used to complete the problems. Problems and deliverables that should be included with your submission are shown in **bold**.*\n",
    "\n",
    "*This Juputer Notebook file serves as a template for you to start homework, since we recommend to finish the homework using Jupyter Notebook. You can start with this notebook file with your local Jupyter environment, or upload it to Google Colab. You can include all the code and other deliverables in this notebook Jupyter Notebook supports $\\LaTeX$ for math equations, and you can export the whole notebook as a PDF file. But this is not the only option, if you are more comfortable with other ways, feel free to do so, as long as you can submit the homework in a single PDF file.*\n",
    "\n",
    "**If you are using Google Colab, make sure you first copy this template to your own Google driver (click \"File\" -> \"Save a copy in Drive\"), then start to edit it.**\n",
    "\n",
    "***"
   ]
  },
  {
   "cell_type": "code",
   "execution_count": null,
   "metadata": {
    "id": "9HlLVMmeaXQF"
   },
   "outputs": [],
   "source": [
    "# ##############################################################################################\n",
    "# # If you're using Google Colab, uncomment this section by selecting the whole section and press\n",
    "# # ctrl+'/' (Linux/Windows) or cmd+'/' (MacOS) on your and keyboard. Run it before you start \n",
    "# # programming, this will enable the nice LaTeX \"display()\" function for you. If you're using \n",
    "# # the local Jupyter environment, leave it alone\n",
    "# ##############################################################################################\n",
    "\n",
    "import sympy as sym\n",
    "def custom_latex_printer(exp,**options):\n",
    "    from google.colab.output._publish import javascript\n",
    "    url = \"https://cdnjs.cloudflare.com/ajax/libs/mathjax/3.1.1/latest.js?config=TeX-AMS_HTML\"\n",
    "    javascript(url=url)\n",
    "    return sym.printing.latex(exp,**options)\n",
    "sym.init_printing(use_latex=\"mathjax\",latex_printer=custom_latex_printer)"
   ]
  },
  {
   "cell_type": "markdown",
   "metadata": {
    "id": "R8KcW-HdaXQK"
   },
   "source": [
    "## Problem 1 (20pts)\n",
    "\n",
    "Given a function $f(x)=\\sin(x)$, find the derivative of $f(x)$ and find the directional derivative of $f(x)$ in the direction $v$.  Moreover, compute these derivatives using Pythons's SymPy package.\n",
    "\n",
    "*Hint 1: As an example, below is the code solving the problem when $f(x) = x^2$ (feel free to take it as a start point for your solution).*"
   ]
  },
  {
   "cell_type": "code",
   "execution_count": null,
   "metadata": {
    "colab": {
     "base_uri": "https://localhost:8080/",
     "height": 133
    },
    "id": "sWtszMPMaXQK",
    "outputId": "4b89ef18-78fa-42d6-9a37-0a6b96c35ff1"
   },
   "outputs": [
    {
     "name": "stdout",
     "output_type": "stream",
     "text": [
      "derivative of f: \n"
     ]
    },
    {
     "data": {
      "text/html": [
       "<script src='https://cdnjs.cloudflare.com/ajax/libs/mathjax/3.1.1/latest.js?config=TeX-AMS_HTML'></script>"
      ],
      "text/plain": [
       "<IPython.core.display.HTML object>"
      ]
     },
     "metadata": {
      "tags": []
     },
     "output_type": "display_data"
    },
    {
     "data": {
      "text/latex": [
       "$\\displaystyle 2 x$"
      ],
      "text/plain": [
       "2⋅x"
      ]
     },
     "metadata": {
      "tags": []
     },
     "output_type": "display_data"
    },
    {
     "name": "stdout",
     "output_type": "stream",
     "text": [
      "derivative of f wrt eps: \n"
     ]
    },
    {
     "data": {
      "text/html": [
       "<script src='https://cdnjs.cloudflare.com/ajax/libs/mathjax/3.1.1/latest.js?config=TeX-AMS_HTML'></script>"
      ],
      "text/plain": [
       "<IPython.core.display.HTML object>"
      ]
     },
     "metadata": {
      "tags": []
     },
     "output_type": "display_data"
    },
    {
     "data": {
      "text/latex": [
       "$\\displaystyle 2 v \\left(\\epsilon v + x\\right)$"
      ],
      "text/plain": [
       "2⋅v⋅(\\epsilon⋅v + x)"
      ]
     },
     "metadata": {
      "tags": []
     },
     "output_type": "display_data"
    },
    {
     "name": "stdout",
     "output_type": "stream",
     "text": [
      "directional derivative of f on v: \n"
     ]
    },
    {
     "data": {
      "text/html": [
       "<script src='https://cdnjs.cloudflare.com/ajax/libs/mathjax/3.1.1/latest.js?config=TeX-AMS_HTML'></script>"
      ],
      "text/plain": [
       "<IPython.core.display.HTML object>"
      ]
     },
     "metadata": {
      "tags": []
     },
     "output_type": "display_data"
    },
    {
     "data": {
      "text/latex": [
       "$\\displaystyle 2 v x$"
      ],
      "text/plain": [
       "2⋅v⋅x"
      ]
     },
     "metadata": {
      "tags": []
     },
     "output_type": "display_data"
    }
   ],
   "source": [
    "import sympy as sym\n",
    "from sympy import symbols\n",
    "\n",
    "####################################\n",
    "# Part 1: compute derivative of f\n",
    "\n",
    "# define your symbolic variable here\n",
    "x = symbols('x')\n",
    "\n",
    "# define the function f\n",
    "f = x**2 # if you're using Jupyter-Notebook, try \"display(f)\"\n",
    "\n",
    "# compute derivative of f\n",
    "# (uncomment next line and add your code)\n",
    "df = f.diff(x)\n",
    "\n",
    "# output resutls\n",
    "print(\"derivative of f: \")\n",
    "display(df)\n",
    "\n",
    "####################################\n",
    "# Part 2: compute directional derivative of f\n",
    "\n",
    "# define dummy variable epsilon, and the direction v\n",
    "# note 1: here the character 'r' means raw string\n",
    "# note 2: here I define the symbol for epsilon with \n",
    "#          the name \"\\epsilon\", this is for LaTeX printing\n",
    "#          later. In your case, you can give it any other \n",
    "#          name you want. \n",
    "eps, v = symbols(r'\\epsilon, v') \n",
    "\n",
    "# add eplision into function f\n",
    "new_f = (x + v*eps)**2\n",
    "\n",
    "# take derivative of the new function w.r.t. epsilon\n",
    "df_eps = new_f.diff(eps)\n",
    "\n",
    "# output this derivative\n",
    "print(\"derivative of f wrt eps: \")\n",
    "display(df_eps)\n",
    "\n",
    "# now, as you've seen the class, we need evaluate for eps=0 to ...\n",
    "# ... get the directional derivative. To do this, we need to ... \n",
    "# ... use SymPy's built-in substitution method \"subs()\" to ...\n",
    "# ... replace the epsilon symbol with 0\n",
    "new_df = df_eps.subs(eps, 0)\n",
    "\n",
    "# output directional derivative\n",
    "print(\"directional derivative of f on v: \")\n",
    "display(new_df)"
   ]
  },
  {
   "cell_type": "markdown",
   "metadata": {
    "id": "mBdOhX1vaXQO"
   },
   "source": [
    "**Turn in: A scanned (or photograph from your phone or webcam) copy of your hand written solution for both derivatives (or you can use $\\LaTeX$, instead of hand writing). Also, turn in the code used to compute the symbolic solutions for both derivatives.**"
   ]
  },
  {
   "cell_type": "code",
   "execution_count": null,
   "metadata": {
    "id": "-ZivndofaXQP"
   },
   "outputs": [],
   "source": [
    "# You can start your implementation here :)"
   ]
  },
  {
   "cell_type": "markdown",
   "metadata": {
    "id": "2GySmCekaXRC"
   },
   "source": [
    "## Problem 2 (20pts)\n",
    "\n",
    "Given a function of trajectory:\n",
    "$$\n",
    "J(x(t)) = \\int_0^{\\pi/2} \\frac{1}{2} x(t)^2 dt\n",
    "$$\n",
    "Compute the analytical solution when $x=\\cos(t)$, verify your answer by numerical integration.\n",
    "\n",
    "The code for numerical integration is provided below:"
   ]
  },
  {
   "cell_type": "code",
   "execution_count": null,
   "metadata": {
    "colab": {
     "base_uri": "https://localhost:8080/"
    },
    "id": "OvgRhdLMaXRC",
    "outputId": "29c9c6e6-9745-479b-ed0d-8fac5019c2e6"
   },
   "outputs": [
    {
     "name": "stdout",
     "output_type": "stream",
     "text": [
      "0.32835000000000014\n"
     ]
    }
   ],
   "source": [
    "def integrate(func, xspan, step_size):\n",
    "    '''\n",
    "    Numerical integration with Euler's method\n",
    "\n",
    "    Parameters:\n",
    "    ====================\n",
    "    func: Python function\n",
    "        func is the function you want to integrate for\n",
    "    xspan: list\n",
    "        xspan is a list of two elements, representing \n",
    "        the start and end of integration\n",
    "    step_size:\n",
    "        a smaller step_size will give a more accurate result\n",
    "\n",
    "    Returns:\n",
    "    int_val:\n",
    "        result of the integration\n",
    "    ====================\n",
    "    '''\n",
    "    import numpy as np\n",
    "    x = np.arange(xspan[0], xspan[1], step_size)\n",
    "    int_val = 0\n",
    "    for xi in x:\n",
    "        int_val += func(xi) * step_size\n",
    "    return int_val\n",
    "\n",
    "# a simple test\n",
    "def square(x):\n",
    "    return x**2\n",
    "print( integrate(func=square, xspan=[0, 1], step_size=0.01) )\n",
    "# or you just call the function without indicating parameters\n",
    "# print( integrate(square, [0, 1], 0.01) )"
   ]
  },
  {
   "cell_type": "markdown",
   "metadata": {
    "id": "Mn5Oe2QVaXSP"
   },
   "source": [
    "**Turn in: A scanned (or photograph from your phone or webcam) copy of your hand written analytical solution (or you can use $\\LaTeX$). Also, turn in the code you used to numerically evaluate the result.**"
   ]
  },
  {
   "cell_type": "code",
   "execution_count": null,
   "metadata": {
    "id": "YdxntM2maXSP"
   },
   "outputs": [],
   "source": [
    "# You can start your implementation here :)"
   ]
  },
  {
   "cell_type": "markdown",
   "metadata": {
    "id": "Xuw8SIBPaXSS"
   },
   "source": [
    "## Problem 3 (20pts)\n",
    "\n",
    "For the function $J(x(t))$ in Problem 2, compute and evaluate the analytical solution for the directional derivative of $J$ at $x(t) = \\cos(t)$, in the direction $v(t) = \\sin(t)$. The directional derivative should be in the form of integration, evaluate the integration analytically, and verify it using numerical integration.\n",
    "\n",
    "**Turn in: A scanned (or photograph from your phone or webcam) copy of your hand written analytical solution (or you can use $\\LaTeX$), you need to evaluate the integration in this problem. Also, include the code used to numerically verify the integration result.**"
   ]
  },
  {
   "cell_type": "code",
   "execution_count": null,
   "metadata": {
    "id": "o2AafVE6aXSS"
   },
   "outputs": [],
   "source": [
    "# You can start your implementation here :)"
   ]
  },
  {
   "cell_type": "markdown",
   "metadata": {
    "id": "72Jg3xWJaXSw"
   },
   "source": [
    "## Problem 4 (20pts)\n",
    "\n",
    "Verify your answer in Problem 3 symbolically using Python's SymPy package, this means you need to compute the directional derivative and evaluate the integration all symbolically.\n",
    "\n",
    "*Hint 1: Different from computing directional derivative in Problem 1, this time the function includes integration. Thus, instead of defining x as a symbol, you should define x as a function of symbol t. An example of defining function and taking the derivative of the function integration is provided below.*"
   ]
  },
  {
   "cell_type": "code",
   "execution_count": null,
   "metadata": {
    "id": "VES-iwYBaXSz",
    "outputId": "14a7171a-6617-40e1-908a-f358500311d5"
   },
   "outputs": [
    {
     "name": "stdout",
     "output_type": "stream",
     "text": [
      "J(x(t), y(t)) = \n"
     ]
    },
    {
     "data": {
      "text/latex": [
       "$\\displaystyle \\int\\limits_{0}^{\\pi} \\left(x{\\left(t \\right)} + y{\\left(t \\right)}\\right) x{\\left(t \\right)}\\, dt$"
      ],
      "text/plain": [
       "Integral((x(t) + y(t))*x(t), (t, 0, pi))"
      ]
     },
     "metadata": {
      "tags": []
     },
     "output_type": "display_data"
    },
    {
     "name": "stdout",
     "output_type": "stream",
     "text": [
      "derivative of J(x(t), y(t)) wrt x(t): \n"
     ]
    },
    {
     "data": {
      "text/latex": [
       "$\\displaystyle \\int\\limits_{0}^{\\pi} \\left(2 x{\\left(t \\right)} + y{\\left(t \\right)}\\right)\\, dt$"
      ],
      "text/plain": [
       "Integral(2*x(t) + y(t), (t, 0, pi))"
      ]
     },
     "metadata": {
      "tags": []
     },
     "output_type": "display_data"
    },
    {
     "name": "stdout",
     "output_type": "stream",
     "text": [
      "derivative of J, after substitution: \n"
     ]
    },
    {
     "data": {
      "text/latex": [
       "$\\displaystyle \\int\\limits_{0}^{\\pi} \\left(2 \\sin{\\left(t \\right)} + \\cos{\\left(t \\right)}\\right)\\, dt$"
      ],
      "text/plain": [
       "Integral(2*sin(t) + cos(t), (t, 0, pi))"
      ]
     },
     "metadata": {
      "tags": []
     },
     "output_type": "display_data"
    },
    {
     "name": "stdout",
     "output_type": "stream",
     "text": [
      "evaluation of derivative of J, after substitution: \n"
     ]
    },
    {
     "data": {
      "text/latex": [
       "$\\displaystyle 4.0$"
      ],
      "text/plain": [
       "4.00000000000000"
      ]
     },
     "metadata": {
      "tags": []
     },
     "output_type": "display_data"
    }
   ],
   "source": [
    "import sympy as sym\n",
    "from sympy import symbols, integrate, Function, pi, cos, sin\n",
    "from sympy.abc import t\n",
    "\n",
    "# define function x and y\n",
    "x = Function('x')(t)\n",
    "y = Function('y')(t)\n",
    "# define J(x(t), y(t))\n",
    "J = integrate(x**2 + x*y, [t, 0, pi])\n",
    "print('J(x(t), y(t)) = ')\n",
    "display(J)\n",
    "\n",
    "# take the time derivative of J(x(t))\n",
    "dJdx = J.diff(x)\n",
    "print('derivative of J(x(t), y(t)) wrt x(t): ')\n",
    "display(dJdx)\n",
    "\n",
    "# now, we have x(t)=sin(t) and y(t)=cos(t), we substitute them \n",
    "# in, and evaluate the integration\n",
    "dJdx_subs = dJdx.subs({x:sin(t), y:cos(t)})\n",
    "print('derivative of J, after substitution: ')\n",
    "display(dJdx_subs)\n",
    "print('evaluation of derivative of J, after substitution: ')\n",
    "display(sym.N(dJdx_subs))"
   ]
  },
  {
   "cell_type": "markdown",
   "metadata": {
    "id": "XpXlPCKGaXS1"
   },
   "source": [
    "**Turn in: A copy of the code you used to numerically and symbolically evaluate the solution.**"
   ]
  },
  {
   "cell_type": "code",
   "execution_count": null,
   "metadata": {
    "id": "T-A50gSgaXS2"
   },
   "outputs": [],
   "source": [
    "# You can start your implementation here :)"
   ]
  },
  {
   "cell_type": "markdown",
   "metadata": {
    "id": "rmzz-xtCaXS4"
   },
   "source": [
    "## Problem 5 (20pts)\n",
    "\n",
    "Given the equation:\n",
    "$$\n",
    "xy + \\sin(x) = x + y\n",
    "$$\n",
    "Use Python's SymPy package to symbolically solve this equation for $y$, thus you can write $y$ as a function of $x$. Transfer your symbolic solution into a numerical function and plot this function for $x\\in[0, \\pi]$ with Python's Matplotlib package.\n",
    "\n",
    "In this problem you will use two methods in SymPy. The first is its symbolic sovler method **solve()**, which takes in an equation or expression (in this it equals 0) and solve it for one or one set of variables. Another method you will use is **lambdify()**, which can transfer a symbolic expression into a numerical function automatically (of course in this problem we can hand code the function, but later in the class we will have super sophisticated expression to evaluate.\n",
    "\n",
    "Below is an example of using these two methods for an equation $2x^3\\sin(4x) = xy$ (feel free to take this as the start point for your solution):"
   ]
  },
  {
   "cell_type": "code",
   "execution_count": null,
   "metadata": {
    "id": "fbFESQlpaXS4",
    "outputId": "518ead60-934d-4d03-8758-f4183fbcb504"
   },
   "outputs": [
    {
     "name": "stdout",
     "output_type": "stream",
     "text": [
      "original equation\n"
     ]
    },
    {
     "data": {
      "text/latex": [
       "$\\displaystyle 2 x^{3} \\sin{\\left(4 x \\right)} = x y$"
      ],
      "text/plain": [
       "Eq(2*x**3*sin(4*x), x*y)"
      ]
     },
     "metadata": {
      "tags": []
     },
     "output_type": "display_data"
    },
    {
     "name": "stdout",
     "output_type": "stream",
     "text": [
      "symbolic solutions: \n",
      "[2*x**2*sin(4*x)]\n",
      "Test: func(1.0) =  -1.5136049906158564\n"
     ]
    },
    {
     "data": {
      "image/png": "[encoded data removed]",
      "text/plain": [
       "<Figure size 432x288 with 1 Axes>"
      ]
     },
     "metadata": {
      "needs_background": "light",
      "tags": []
     },
     "output_type": "display_data"
    }
   ],
   "source": [
    "import sympy as sym\n",
    "import numpy as np\n",
    "from sympy import sin, cos\n",
    "from sympy.abc import x, y # it's same as defining x, y using symbols()\n",
    "import matplotlib.pyplot as plt\n",
    "\n",
    "# define an equation\n",
    "eqn = sym.Eq(x**3 * 2*sin(4*x), x*y)\n",
    "print('original equation')\n",
    "display(eqn)\n",
    "\n",
    "# solve this equation for y\n",
    "y_sol = sym.solve(eqn, y) # this method returns a list, \n",
    "                             # which may include multiple solutions\n",
    "print('symbolic solutions: ')\n",
    "print(y_sol)\n",
    "y_expr = y_sol[0] # in this case we just have one solution\n",
    "\n",
    "# lambdify the expression wrt symbol x\n",
    "func = sym.lambdify(x, y_expr)\n",
    "print('Test: func(1.0) = ', func(1.0))\n",
    "\n",
    "##############\n",
    "# now it's time to plot it from 0 to pi\n",
    "\n",
    "# generate list of values from 0 to pi\n",
    "x_list = np.linspace(0, np.pi, 100) \n",
    "\n",
    "# evaluate function at those values\n",
    "f_list = func(x_list)\n",
    "\n",
    "# plot it\n",
    "plt.plot(x_list, f_list)\n",
    "plt.show()"
   ]
  },
  {
   "cell_type": "markdown",
   "metadata": {
    "id": "UBG_nJa0aXS7"
   },
   "source": [
    "**Turn in: A copy of the code used to solve for symbolic solution and evaluate it as a numerical function. Also, include the plot of the numerical function.**"
   ]
  },
  {
   "cell_type": "code",
   "execution_count": null,
   "metadata": {
    "id": "OYaAr10EaXS7"
   },
   "outputs": [],
   "source": [
    "# You can start your implementation here :)"
   ]
  },
  {
   "cell_type": "code",
   "execution_count": null,
   "metadata": {
    "id": "nVpc5FEGaXTC"
   },
   "outputs": [],
   "source": []
  }
 ],
 "metadata": {
  "colab": {
   "collapsed_sections": [],
   "name": "hw0-template.ipynb",
   "provenance": []
  },
  "kernelspec": {
   "display_name": "Python 3",
   "language": "python",
   "name": "python3"
  },
  "language_info": {
   "codemirror_mode": {
    "name": "ipython",
    "version": 3
   },
   "file_extension": ".py",
   "mimetype": "text/x-python",
   "name": "python",
   "nbconvert_exporter": "python",
   "pygments_lexer": "ipython3",
   "version": "3.8.5"
  }
 },
 "nbformat": 4,
 "nbformat_minor": 1
}
