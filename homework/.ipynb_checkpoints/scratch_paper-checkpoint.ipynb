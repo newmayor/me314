{
 "cells": [
  {
   "cell_type": "code",
   "execution_count": 106,
   "id": "2bf3aa01",
   "metadata": {},
   "outputs": [
    {
     "data": {
      "text/html": [
       "<table><tr><td><img src='https://raw.githubusercontent.com/MuchenSun/ME314pngs/master/dyninvpend.png' width=500' height='350'></table>"
      ],
      "text/plain": [
       "<IPython.core.display.HTML object>"
      ]
     },
     "metadata": {},
     "output_type": "display_data"
    },
    {
     "data": {
      "text/latex": [
       "$\\displaystyle 0.5 M \\left(\\frac{d}{d t} x{\\left(t \\right)}\\right)^{2} - R g m \\cos{\\left(\\theta{\\left(t \\right)} \\right)} + 0.5 m \\left(R^{2} \\sin^{2}{\\left(\\theta{\\left(t \\right)} \\right)} \\left(\\frac{d}{d t} \\theta{\\left(t \\right)}\\right)^{2} + \\left(R \\cos{\\left(\\theta{\\left(t \\right)} \\right)} \\frac{d}{d t} \\theta{\\left(t \\right)} + \\frac{d}{d t} x{\\left(t \\right)}\\right)^{2}\\right)$"
      ],
      "text/plain": [
       "0.5*M*Derivative(x(t), t)**2 - R*g*m*cos(\\theta(t)) + 0.5*m*(R**2*sin(\\theta(t))**2*Derivative(\\theta(t), t)**2 + (R*cos(\\theta(t))*Derivative(\\theta(t), t) + Derivative(x(t), t))**2)"
      ]
     },
     "metadata": {},
     "output_type": "display_data"
    },
    {
     "name": "stdout",
     "output_type": "stream",
     "text": [
      "=================\n",
      "\n",
      "Euler-Lagrangian equation symbolic solutions: \n"
     ]
    },
    {
     "data": {
      "text/latex": [
       "$\\displaystyle \\left[\\begin{matrix}- 1.0 M \\frac{d^{2}}{d t^{2}} x{\\left(t \\right)} - 0.5 m \\left(- 2 R \\sin{\\left(\\theta{\\left(t \\right)} \\right)} \\left(\\frac{d}{d t} \\theta{\\left(t \\right)}\\right)^{2} + 2 R \\cos{\\left(\\theta{\\left(t \\right)} \\right)} \\frac{d^{2}}{d t^{2}} \\theta{\\left(t \\right)} + 2 \\frac{d^{2}}{d t^{2}} x{\\left(t \\right)}\\right)\\\\R g m \\sin{\\left(\\theta{\\left(t \\right)} \\right)} + 0.5 m \\left(2 R^{2} \\sin{\\left(\\theta{\\left(t \\right)} \\right)} \\cos{\\left(\\theta{\\left(t \\right)} \\right)} \\left(\\frac{d}{d t} \\theta{\\left(t \\right)}\\right)^{2} - 2 R \\left(R \\cos{\\left(\\theta{\\left(t \\right)} \\right)} \\frac{d}{d t} \\theta{\\left(t \\right)} + \\frac{d}{d t} x{\\left(t \\right)}\\right) \\sin{\\left(\\theta{\\left(t \\right)} \\right)} \\frac{d}{d t} \\theta{\\left(t \\right)}\\right) - 0.5 m \\left(2 R^{2} \\sin^{2}{\\left(\\theta{\\left(t \\right)} \\right)} \\frac{d^{2}}{d t^{2}} \\theta{\\left(t \\right)} + 4 R^{2} \\sin{\\left(\\theta{\\left(t \\right)} \\right)} \\cos{\\left(\\theta{\\left(t \\right)} \\right)} \\left(\\frac{d}{d t} \\theta{\\left(t \\right)}\\right)^{2} - 2 R \\left(R \\cos{\\left(\\theta{\\left(t \\right)} \\right)} \\frac{d}{d t} \\theta{\\left(t \\right)} + \\frac{d}{d t} x{\\left(t \\right)}\\right) \\sin{\\left(\\theta{\\left(t \\right)} \\right)} \\frac{d}{d t} \\theta{\\left(t \\right)} + 2 R \\left(- R \\sin{\\left(\\theta{\\left(t \\right)} \\right)} \\left(\\frac{d}{d t} \\theta{\\left(t \\right)}\\right)^{2} + R \\cos{\\left(\\theta{\\left(t \\right)} \\right)} \\frac{d^{2}}{d t^{2}} \\theta{\\left(t \\right)} + \\frac{d^{2}}{d t^{2}} x{\\left(t \\right)}\\right) \\cos{\\left(\\theta{\\left(t \\right)} \\right)}\\right)\\end{matrix}\\right] = \\left[\\begin{matrix}0\\\\0\\end{matrix}\\right]$"
      ],
      "text/plain": [
       "Eq(Matrix([\n",
       "[                                                                                                                                                                                                                                                                                                                                                                                                                                           -1.0*M*Derivative(x(t), (t, 2)) - 0.5*m*(-2*R*sin(\\theta(t))*Derivative(\\theta(t), t)**2 + 2*R*cos(\\theta(t))*Derivative(\\theta(t), (t, 2)) + 2*Derivative(x(t), (t, 2)))],\n",
       "[R*g*m*sin(\\theta(t)) + 0.5*m*(2*R**2*sin(\\theta(t))*cos(\\theta(t))*Derivative(\\theta(t), t)**2 - 2*R*(R*cos(\\theta(t))*Derivative(\\theta(t), t) + Derivative(x(t), t))*sin(\\theta(t))*Derivative(\\theta(t), t)) - 0.5*m*(2*R**2*sin(\\theta(t))**2*Derivative(\\theta(t), (t, 2)) + 4*R**2*sin(\\theta(t))*cos(\\theta(t))*Derivative(\\theta(t), t)**2 - 2*R*(R*cos(\\theta(t))*Derivative(\\theta(t), t) + Derivative(x(t), t))*sin(\\theta(t))*Derivative(\\theta(t), t) + 2*R*(-R*sin(\\theta(t))*Derivative(\\theta(t), t)**2 + R*cos(\\theta(t))*Derivative(\\theta(t), (t, 2)) + Derivative(x(t), (t, 2)))*cos(\\theta(t)))]]), Matrix([\n",
       "[0],\n",
       "[0]]))"
      ]
     },
     "metadata": {},
     "output_type": "display_data"
    },
    {
     "name": "stdout",
     "output_type": "stream",
     "text": [
      "=================\n",
      "\n",
      "Euler-Lagrangian equation solved for linear acceleration x_ddot: \n",
      "\n",
      "x_ddot = \n"
     ]
    },
    {
     "data": {
      "text/latex": [
       "$\\displaystyle \\frac{R m \\sin^{3}{\\left(\\theta{\\left(t \\right)} \\right)} \\left(\\frac{d}{d t} \\theta{\\left(t \\right)}\\right)^{2}}{M \\sin^{2}{\\left(\\theta{\\left(t \\right)} \\right)} + M \\cos^{2}{\\left(\\theta{\\left(t \\right)} \\right)} + m \\sin^{2}{\\left(\\theta{\\left(t \\right)} \\right)}} + \\frac{R m \\sin{\\left(\\theta{\\left(t \\right)} \\right)} \\cos^{2}{\\left(\\theta{\\left(t \\right)} \\right)} \\left(\\frac{d}{d t} \\theta{\\left(t \\right)}\\right)^{2}}{M \\sin^{2}{\\left(\\theta{\\left(t \\right)} \\right)} + M \\cos^{2}{\\left(\\theta{\\left(t \\right)} \\right)} + m \\sin^{2}{\\left(\\theta{\\left(t \\right)} \\right)}} - \\frac{g m \\sin{\\left(\\theta{\\left(t \\right)} \\right)} \\cos{\\left(\\theta{\\left(t \\right)} \\right)}}{M \\sin^{2}{\\left(\\theta{\\left(t \\right)} \\right)} + M \\cos^{2}{\\left(\\theta{\\left(t \\right)} \\right)} + m \\sin^{2}{\\left(\\theta{\\left(t \\right)} \\right)}}$"
      ],
      "text/plain": [
       "R*m*sin(\\theta(t))**3*Derivative(\\theta(t), t)**2/(M*sin(\\theta(t))**2 + M*cos(\\theta(t))**2 + m*sin(\\theta(t))**2) + R*m*sin(\\theta(t))*cos(\\theta(t))**2*Derivative(\\theta(t), t)**2/(M*sin(\\theta(t))**2 + M*cos(\\theta(t))**2 + m*sin(\\theta(t))**2) - g*m*sin(\\theta(t))*cos(\\theta(t))/(M*sin(\\theta(t))**2 + M*cos(\\theta(t))**2 + m*sin(\\theta(t))**2)"
      ]
     },
     "metadata": {},
     "output_type": "display_data"
    },
    {
     "name": "stdout",
     "output_type": "stream",
     "text": [
      "=================\n",
      "\n",
      "Euler-Lagrangian equation solved for angular acceleration theta_ddot: \n",
      "\n",
      "theta_ddot = \n"
     ]
    },
    {
     "data": {
      "text/latex": [
       "$\\displaystyle \\frac{M g \\sin{\\left(\\theta{\\left(t \\right)} \\right)}}{M R \\sin^{2}{\\left(\\theta{\\left(t \\right)} \\right)} + M R \\cos^{2}{\\left(\\theta{\\left(t \\right)} \\right)} + R m \\sin^{2}{\\left(\\theta{\\left(t \\right)} \\right)}} - \\frac{R m \\sin{\\left(\\theta{\\left(t \\right)} \\right)} \\cos{\\left(\\theta{\\left(t \\right)} \\right)} \\left(\\frac{d}{d t} \\theta{\\left(t \\right)}\\right)^{2}}{M R \\sin^{2}{\\left(\\theta{\\left(t \\right)} \\right)} + M R \\cos^{2}{\\left(\\theta{\\left(t \\right)} \\right)} + R m \\sin^{2}{\\left(\\theta{\\left(t \\right)} \\right)}} + \\frac{g m \\sin{\\left(\\theta{\\left(t \\right)} \\right)}}{M R \\sin^{2}{\\left(\\theta{\\left(t \\right)} \\right)} + M R \\cos^{2}{\\left(\\theta{\\left(t \\right)} \\right)} + R m \\sin^{2}{\\left(\\theta{\\left(t \\right)} \\right)}}$"
      ],
      "text/plain": [
       "M*g*sin(\\theta(t))/(M*R*sin(\\theta(t))**2 + M*R*cos(\\theta(t))**2 + R*m*sin(\\theta(t))**2) - R*m*sin(\\theta(t))*cos(\\theta(t))*Derivative(\\theta(t), t)**2/(M*R*sin(\\theta(t))**2 + M*R*cos(\\theta(t))**2 + R*m*sin(\\theta(t))**2) + g*m*sin(\\theta(t))/(M*R*sin(\\theta(t))**2 + M*R*cos(\\theta(t))**2 + R*m*sin(\\theta(t))**2)"
      ]
     },
     "metadata": {},
     "output_type": "display_data"
    },
    {
     "name": "stdout",
     "output_type": "stream",
     "text": [
      "=================\n",
      "\n",
      "Numerical solutions: \n",
      "\n",
      "xddot(0) = -0.4843262903458875\n",
      "tddot(0) = 1.4602741593867283\n"
     ]
    }
   ],
   "source": [
    "import sympy as sym\n",
    "from sympy.abc import x, y, t\n",
    "from sympy import symbols, Function, Eq, Matrix, solve, cos, sin\n",
    "\n",
    "from IPython.core.display import HTML\n",
    "display(HTML(\"<table><tr><td><img src='https://raw.githubusercontent.com/MuchenSun/ME314pngs/master/dyninvpend.png' width=500' height='350'></table>\"))\n",
    "\n",
    "M = symbols('M')\n",
    "m = symbols('m')\n",
    "R = symbols('R')\n",
    "g = symbols('g')\n",
    "\n",
    "x = Function(r'x')(t)\n",
    "theta = Function(r'\\theta')(t)\n",
    "\n",
    "xdot = x.diff(t)\n",
    "xddot = xdot.diff(t)\n",
    "t_dot = theta.diff(t)\n",
    "t_ddot = t_dot.diff(t)\n",
    "\n",
    "#compute KE and PE to get Lagrangian equation\n",
    "KE = 0.5*M*xdot**2 + 0.5*m*((xdot + R*t_dot*cos(theta))**2 + (-R*t_dot*sin(theta))**2)\n",
    "PE = m*g*R*cos(theta)\n",
    "L = KE - PE\n",
    "display(L)\n",
    "\n",
    "\n",
    "#make a matrix out of vectors x and theta. This will make processing the Lagrangian via Jacobian easier\n",
    "#q-double-dot matrix q_ddot is a vector containing x-double-dot and theta-double-dot.\n",
    "#these are the configuration variables to solve the E-L equation for.\n",
    "q = Matrix([x, theta])\n",
    "q_dot = q.diff(t)\n",
    "q_ddot = q_dot.diff(t)\n",
    "\n",
    "L_mat = Matrix([L])\n",
    "\n",
    "#take the derivative of Lagrangian wrt q = [x, theta]\n",
    "dLdq = L_mat.jacobian(q).T\n",
    "\n",
    "#take the derivative of Lagrangian wrt q_dot = [xdot, t_dot]. xdot and t_dot are first \n",
    "#order time-derivatives of x and theta, respectively\n",
    "dL_dqdot = L_mat.jacobian(q_dot).T\n",
    "\n",
    "#take time derivative of previous step. this gives the d/dt(dL/dq_dot) term for the\n",
    "#Euler-Lagrangian equation.\n",
    "ddt_dL_dqdot = dL_dqdot.diff(t)\n",
    "\n",
    "#combine previous steps to compute the Euler-Lagrangian\n",
    "#this is a vector that contains two equations (two terms). One for x_ddot and one for t_ddot\n",
    "eL = sym.Eq(dLdq - ddt_dL_dqdot, Matrix([0, 0]))\n",
    "print('=================')\n",
    "print()\n",
    "print('Euler-Lagrangian equation symbolic solutions: ')\n",
    "display(eL)\n",
    "\n",
    "#symbolically solve for the x_ddot and t_ddot variables contained in vector q_ddot\n",
    "eL_solved = solve(eL, [q_ddot[0], q_ddot[1]]) #symbollically solve for each term in the E-L vector\n",
    "    \n",
    "#display the solution for x_ddot and t_ddot\n",
    "print('=================')\n",
    "print()\n",
    "print('Euler-Lagrangian equation solved for linear acceleration x_ddot: \\n\\nx_ddot = ')\n",
    "display(eL_solved[xddot])\n",
    "\n",
    "print('=================')\n",
    "print()\n",
    "print('Euler-Lagrangian equation solved for angular acceleration theta_ddot: \\n\\ntheta_ddot = ')\n",
    "display(eL_solved[t_ddot])\n",
    "\n",
    "#substitue constant values. store constant values as a dict to be used as an input into lambdify()\n",
    "sub_const = {m:1, M:2, g:9.8, R:1}\n",
    "xddot_sol = eL_solved[xddot].subs(sub_const)\n",
    "tddot_sol = eL_solved[t_ddot].subs(sub_const)\n",
    "\n",
    "#find numerical solutions using lambdify()\n",
    "xddot_func = sym.lambdify([x, theta, xdot, t_dot], xddot_sol)\n",
    "tddot_func = sym.lambdify([x, theta, xdot, t_dot], tddot_sol)\n",
    "\n",
    "#test the given values for x, theta, xdot, t_dot\n",
    "s0 = [0, 0.1, 0, 0]\n",
    "print('=================')\n",
    "print()\n",
    "print('Numerical solutions: \\n')\n",
    "print(f\"xddot(0) = {xddot_func(*s0)}\")\n",
    "print(f\"tddot(0) = {tddot_func(*s0)}\")\n",
    "\n",
    "#compute the numerical solution using lambdify and the constants given\n",
    "# soln_x = sym.lambdify([x, theta, xdot, t_dot, M, m, R, g], eL_solved[0][0])\n",
    "# soln_theta = sym.lambdify([x, theta, xdot, t_dot, M, m, R, g], eL_solved[1][0])\n",
    "# print('Euler-Lagrangian numerical solution for x_ddot: \\n\\nx_ddot = ', \n",
    "#       soln_x(0, 0.1, 0, 0, 2, 1, 1, 9.8)[0])\n",
    "    "
   ]
  },
  {
   "cell_type": "code",
   "execution_count": 97,
   "id": "a95e5946",
   "metadata": {},
   "outputs": [
    {
     "name": "stdout",
     "output_type": "stream",
     "text": [
      "The Lagrange equation: L = KE - PE \n",
      "\n",
      "L =\n"
     ]
    },
    {
     "data": {
      "text/latex": [
       "$\\displaystyle R_{1}^{2} \\left(0.5 m_{1} + 0.5 m_{2}\\right) \\left(\\frac{d}{d t} \\theta_{1}{\\left(t \\right)}\\right)^{2} - R_{1} g \\left(- m_{1} - m_{2}\\right) \\cos{\\left(\\theta_{1}{\\left(t \\right)} \\right)} + R_{2} g m_{2} \\cos{\\left(\\theta_{2}{\\left(t \\right)} \\right)} + 0.5 m_{2} \\left(2 R_{1} R_{2} \\cos{\\left(\\theta_{1}{\\left(t \\right)} - \\theta_{2}{\\left(t \\right)} \\right)} \\frac{d}{d t} \\theta_{1}{\\left(t \\right)} \\frac{d}{d t} \\theta_{2}{\\left(t \\right)} + R_{2}^{2} \\left(\\frac{d}{d t} \\theta_{2}{\\left(t \\right)}\\right)^{2}\\right)$"
      ],
      "text/plain": [
       "R_1**2*(0.5*m_1 + 0.5*m_2)*Derivative(\\theta_1(t), t)**2 - R_1*g*(-m_1 - m_2)*cos(\\theta_1(t)) + R_2*g*m_2*cos(\\theta_2(t)) + 0.5*m_2*(2*R_1*R_2*cos(\\theta_1(t) - \\theta_2(t))*Derivative(\\theta_1(t), t)*Derivative(\\theta_2(t), t) + R_2**2*Derivative(\\theta_2(t), t)**2)"
      ]
     },
     "metadata": {},
     "output_type": "display_data"
    },
    {
     "name": "stdout",
     "output_type": "stream",
     "text": [
      "===================================================\n",
      "\n"
     ]
    },
    {
     "data": {
      "text/latex": [
       "$\\displaystyle 4.0 \\left(\\frac{d}{d t} \\theta_{1}{\\left(t \\right)} - \\frac{d}{d t} \\theta_{2}{\\left(t \\right)}\\right) \\sin{\\left(\\theta_{1}{\\left(t \\right)} - \\theta_{2}{\\left(t \\right)} \\right)} \\frac{d}{d t} \\theta_{2}{\\left(t \\right)} - 4.0 \\sin{\\left(\\theta_{1}{\\left(t \\right)} - \\theta_{2}{\\left(t \\right)} \\right)} \\frac{d}{d t} \\theta_{1}{\\left(t \\right)} \\frac{d}{d t} \\theta_{2}{\\left(t \\right)} - 58.8 \\sin{\\left(\\theta_{1}{\\left(t \\right)} \\right)} - 4.0 \\cos{\\left(\\theta_{1}{\\left(t \\right)} - \\theta_{2}{\\left(t \\right)} \\right)} \\frac{d^{2}}{d t^{2}} \\theta_{2}{\\left(t \\right)} - 12.0 \\frac{d^{2}}{d t^{2}} \\theta_{1}{\\left(t \\right)}$"
      ],
      "text/plain": [
       "4.0*(Derivative(\\theta_1(t), t) - Derivative(\\theta_2(t), t))*sin(\\theta_1(t) - \\theta_2(t))*Derivative(\\theta_2(t), t) - 4.0*sin(\\theta_1(t) - \\theta_2(t))*Derivative(\\theta_1(t), t)*Derivative(\\theta_2(t), t) - 58.8*sin(\\theta_1(t)) - 4.0*cos(\\theta_1(t) - \\theta_2(t))*Derivative(\\theta_2(t), (t, 2)) - 12.0*Derivative(\\theta_1(t), (t, 2))"
      ]
     },
     "metadata": {},
     "output_type": "display_data"
    },
    {
     "name": "stdout",
     "output_type": "stream",
     "text": [
      "===================================================\n",
      "\n"
     ]
    },
    {
     "data": {
      "text/latex": [
       "$\\displaystyle 4.0 \\left(\\frac{d}{d t} \\theta_{1}{\\left(t \\right)} - \\frac{d}{d t} \\theta_{2}{\\left(t \\right)}\\right) \\sin{\\left(\\theta_{1}{\\left(t \\right)} - \\theta_{2}{\\left(t \\right)} \\right)} \\frac{d}{d t} \\theta_{1}{\\left(t \\right)} + 4.0 \\sin{\\left(\\theta_{1}{\\left(t \\right)} - \\theta_{2}{\\left(t \\right)} \\right)} \\frac{d}{d t} \\theta_{1}{\\left(t \\right)} \\frac{d}{d t} \\theta_{2}{\\left(t \\right)} - 19.6 \\sin{\\left(\\theta_{2}{\\left(t \\right)} \\right)} - 4.0 \\cos{\\left(\\theta_{1}{\\left(t \\right)} - \\theta_{2}{\\left(t \\right)} \\right)} \\frac{d^{2}}{d t^{2}} \\theta_{1}{\\left(t \\right)} - 2.0 \\frac{d^{2}}{d t^{2}} \\theta_{2}{\\left(t \\right)}$"
      ],
      "text/plain": [
       "4.0*(Derivative(\\theta_1(t), t) - Derivative(\\theta_2(t), t))*sin(\\theta_1(t) - \\theta_2(t))*Derivative(\\theta_1(t), t) + 4.0*sin(\\theta_1(t) - \\theta_2(t))*Derivative(\\theta_1(t), t)*Derivative(\\theta_2(t), t) - 19.6*sin(\\theta_2(t)) - 4.0*cos(\\theta_1(t) - \\theta_2(t))*Derivative(\\theta_1(t), (t, 2)) - 2.0*Derivative(\\theta_2(t), (t, 2))"
      ]
     },
     "metadata": {},
     "output_type": "display_data"
    },
    {
     "name": "stdout",
     "output_type": "stream",
     "text": [
      "===================================================\n",
      "\n"
     ]
    },
    {
     "data": {
      "text/plain": [
       "{Derivative(\\theta_1(t), (t, 2)): 20.0*sin(\\theta_1(t) - \\theta_2(t))*cos(\\theta_1(t) - \\theta_2(t))*Derivative(\\theta_1(t), t)**2/(20.0*cos(\\theta_1(t) - \\theta_2(t))**2 - 30.0) + 10.0*sin(\\theta_1(t) - \\theta_2(t))*Derivative(\\theta_2(t), t)**2/(20.0*cos(\\theta_1(t) - \\theta_2(t))**2 - 30.0) + 147.0*sin(\\theta_1(t))/(20.0*cos(\\theta_1(t) - \\theta_2(t))**2 - 30.0) - 98.0*sin(\\theta_2(t))*cos(\\theta_1(t) - \\theta_2(t))/(20.0*cos(\\theta_1(t) - \\theta_2(t))**2 - 30.0),\n",
       " Derivative(\\theta_2(t), (t, 2)): -10.0*sin(\\theta_1(t) - \\theta_2(t))*cos(\\theta_1(t) - \\theta_2(t))*Derivative(\\theta_2(t), t)**2/(10.0*cos(\\theta_1(t) - \\theta_2(t))**2 - 15.0) - 30.0*sin(\\theta_1(t) - \\theta_2(t))*Derivative(\\theta_1(t), t)**2/(10.0*cos(\\theta_1(t) - \\theta_2(t))**2 - 15.0) - 147.0*sin(\\theta_1(t))*cos(\\theta_1(t) - \\theta_2(t))/(10.0*cos(\\theta_1(t) - \\theta_2(t))**2 - 15.0) + 147.0*sin(\\theta_2(t))/(10.0*cos(\\theta_1(t) - \\theta_2(t))**2 - 15.0)}"
      ]
     },
     "metadata": {},
     "output_type": "display_data"
    },
    {
     "name": "stdout",
     "output_type": "stream",
     "text": [
      "===================================================\n",
      "\n"
     ]
    },
    {
     "ename": "IndexError",
     "evalue": "list index out of range",
     "output_type": "error",
     "traceback": [
      "\u001b[0;31m---------------------------------------------------------------------------\u001b[0m",
      "\u001b[0;31mIndexError\u001b[0m                                Traceback (most recent call last)",
      "\u001b[0;32m<ipython-input-97-b797d845cac1>\u001b[0m in \u001b[0;36m<module>\u001b[0;34m\u001b[0m\n\u001b[1;32m     65\u001b[0m \u001b[0mprint\u001b[0m\u001b[0;34m(\u001b[0m\u001b[0;34m'==================================================='\u001b[0m\u001b[0;34m)\u001b[0m\u001b[0;34m\u001b[0m\u001b[0;34m\u001b[0m\u001b[0m\n\u001b[1;32m     66\u001b[0m \u001b[0mprint\u001b[0m\u001b[0;34m(\u001b[0m\u001b[0;34m''\u001b[0m\u001b[0;34m)\u001b[0m\u001b[0;34m\u001b[0m\u001b[0;34m\u001b[0m\u001b[0m\n\u001b[0;32m---> 67\u001b[0;31m \u001b[0mel2_solve\u001b[0m \u001b[0;34m=\u001b[0m \u001b[0msym\u001b[0m\u001b[0;34m.\u001b[0m\u001b[0msolve\u001b[0m\u001b[0;34m(\u001b[0m\u001b[0mel_lhs\u001b[0m\u001b[0;34m,\u001b[0m \u001b[0mq_ddot\u001b[0m\u001b[0;34m[\u001b[0m\u001b[0;36m1\u001b[0m\u001b[0;34m]\u001b[0m\u001b[0;34m)\u001b[0m\u001b[0;34m[\u001b[0m\u001b[0;36m0\u001b[0m\u001b[0;34m]\u001b[0m\u001b[0;34m\u001b[0m\u001b[0;34m\u001b[0m\u001b[0m\n\u001b[0m\u001b[1;32m     68\u001b[0m \u001b[0mdisplay\u001b[0m\u001b[0;34m(\u001b[0m\u001b[0mel2_solve\u001b[0m\u001b[0;34m)\u001b[0m\u001b[0;34m\u001b[0m\u001b[0;34m\u001b[0m\u001b[0m\n\u001b[1;32m     69\u001b[0m \u001b[0;34m\u001b[0m\u001b[0m\n",
      "\u001b[0;31mIndexError\u001b[0m: list index out of range"
     ]
    }
   ],
   "source": [
    "\n",
    "\n",
    "import sympy as sym\n",
    "from sympy import symbols, Function, cos, sin\n",
    "from sympy.abc import t\n",
    "from math import pi\n",
    "\n",
    "m1 = symbols('m_1')\n",
    "m2 = symbols('m_2')\n",
    "r1 = symbols('R_1')\n",
    "r2 = symbols('R_2')\n",
    "g = symbols('g')\n",
    "\n",
    "th1 = Function(r'\\theta_1')(t)\n",
    "th2 = Function(r'\\theta_2')(t)\n",
    "\n",
    "dth1 = th1.diff(t)\n",
    "dth2 = th2.diff(t)\n",
    "\n",
    "KE = 0.5*(m1+m2)*r1**2*dth1**2 + 0.5*m2*(r2**2*dth2**2 + 2*r1*r2*dth1*dth2*cos(th1-th2))\n",
    "PE = -1*(m1+m2)*g*r1*cos(th1) - m2*g*r2*cos(th2)\n",
    "L = KE - PE\n",
    "\n",
    "print(\"The Lagrange equation: L = KE - PE \\n\\nL =\")\n",
    "display(L)\n",
    "\n",
    "from sympy import Matrix, Eq\n",
    "\n",
    "#symbolically compute dL/dq terms of Euler-Lagrange equations\n",
    "dLdth1 = L.diff(th1)\n",
    "dLdth2 = L.diff(th2)\n",
    "\n",
    "#symbolically compute dL/dq_dot terms of Euler-Lagrange equations\n",
    "dL_dth1dot = L.diff(dth1)\n",
    "dL_dth2dot = L.diff(dth2)\n",
    "#take time derivative of dL/dq_dot\n",
    "ddt_dL_dth1dot = dL_dth1dot.diff(t)\n",
    "ddt_dL_dth2dot = dL_dth2dot.diff(t)\n",
    "\n",
    "#combine the previous terms to get lhs of Euler-Langrange equations\n",
    "el_lhs = Matrix([dLdth1, dLdth2]).T - Matrix([ddt_dL_dth1dot, ddt_dL_dth2dot]).T\n",
    "rhs = Matrix([0, 0])\n",
    "el_eqn = sym.Eq(el_lhs, rhs)\n",
    "# el1_lhs = dLdth1 - ddt_dL_dth1dot\n",
    "# el2_lhs = dLdth2 - ddt_dL_dth2dot\n",
    "# rhs = 0\n",
    "# el1_eqn = sym.Eq(el1_lhs, rhs)\n",
    "# el2_eqn = sym.Eq(el2_lhs, rhs)\n",
    "# print('===================================================')\n",
    "# print('')\n",
    "# display(el1_eqn)\n",
    "\n",
    "for x in range(len(el_lhs)):\n",
    "    print('===================================================')\n",
    "    print('')\n",
    "    el_lhs[x] = el_lhs[x].subs([(m1, 1), (m2, 2), (r1, 2), (r2, 1), (g, 9.8)])\n",
    "    display(el_lhs[x])\n",
    "\n",
    "\n",
    "q_ddot = Matrix([dth1.diff(t), dth2.diff(t)])\n",
    "# dth1_solve = sym.solve(el1_eqn, q_ddot[0], dict=True)\n",
    "# display(dth1_solve)\n",
    "print('===================================================')\n",
    "print('')\n",
    "el1_solve = sym.solve(el_lhs, q_ddot)\n",
    "display(el1_solve)\n",
    "print('===================================================')\n",
    "print('')\n",
    "el2_solve = sym.solve(el_lhs, q_ddot[1])[0]\n",
    "display(el2_solve)\n",
    "\n",
    "func1 = sym.lambdify([th1, th2, dth1, dth2], q_ddot)\n",
    "func2 = sym.lambdify([th1, th2, dth1, dth2], q_ddot)\n",
    "print(func1(pi/2, pi/2, 0, 0))\n",
    "\n",
    "\n",
    "# print('===================================================')\n",
    "# print('')\n",
    "# display(dLdth1, dLdth2)\n",
    "\n",
    "# print('===================================================')\n",
    "# print('')\n",
    "# print(\"The Euler Lagrange equations: dL/dq - d/dt(dL/dq_dot): \\n\\nEL(q, q_dot) =\")\n",
    "# display(el_eqn)\n",
    "\n",
    "# q_ddot = Matrix([dth1.diff(t), dth2.diff(t)])\n",
    "# dth1_solve = sym.solve(el_lhs, q_ddot, dict=True)\n",
    "# # dth2_solve = sym.solve(el_lhs[1], q_ddot[1])\n",
    "\n",
    "# for sol in dth1_solve:\n",
    "#     print()\n",
    "#     print('solution: ')\n",
    "#     for v in q_ddot:\n",
    "#         print('===================================================')\n",
    "#         print('')\n",
    "#         display(sym.Eq(v, sol[v]))\n",
    "\n",
    "# print('===================================================')\n",
    "# print('')\n",
    "# print(f\"Symbolic solution for theta1 angular acceleration:  \" )\n",
    "# display(q_ddot[0])\n",
    "# display(dth1_solve)\n",
    "\n",
    "# print('===================================================')\n",
    "# print('')\n",
    "# print(f\"Symbolic solution for theta2 angular acceleration:  \" )\n",
    "# display(q_ddot[1])\n",
    "# display(dth2_solve[0])\n",
    "# # print('===================================================')\n",
    "# print('')\n"
   ]
  },
  {
   "cell_type": "code",
   "execution_count": 112,
   "id": "a7ce2171",
   "metadata": {},
   "outputs": [
    {
     "data": {
      "text/latex": [
       "$\\displaystyle - m \\frac{d^{2}}{d t^{2}} x{\\left(t \\right)} = 2 \\lambda{\\left(t \\right)} x{\\left(t \\right)}$"
      ],
      "text/plain": [
       "Eq(-m*Derivative(x(t), (t, 2)), 2*\\lambda(t)*x(t))"
      ]
     },
     "metadata": {},
     "output_type": "display_data"
    },
    {
     "data": {
      "text/latex": [
       "$\\displaystyle - g m - m \\frac{d^{2}}{d t^{2}} y{\\left(t \\right)} = 2 \\lambda{\\left(t \\right)} y{\\left(t \\right)}$"
      ],
      "text/plain": [
       "Eq(-g*m - m*Derivative(y(t), (t, 2)), 2*\\lambda(t)*y(t))"
      ]
     },
     "metadata": {},
     "output_type": "display_data"
    },
    {
     "data": {
      "text/latex": [
       "$\\displaystyle 2 x{\\left(t \\right)} \\frac{d^{2}}{d t^{2}} x{\\left(t \\right)} + 2 y{\\left(t \\right)} \\frac{d^{2}}{d t^{2}} y{\\left(t \\right)} + 2 \\left(\\frac{d}{d t} x{\\left(t \\right)}\\right)^{2} + 2 \\left(\\frac{d}{d t} y{\\left(t \\right)}\\right)^{2} = 0$"
      ],
      "text/plain": [
       "Eq(2*x(t)*Derivative(x(t), (t, 2)) + 2*y(t)*Derivative(y(t), (t, 2)) + 2*Derivative(x(t), t)**2 + 2*Derivative(y(t), t)**2, 0)"
      ]
     },
     "metadata": {},
     "output_type": "display_data"
    }
   ],
   "source": [
    "import numpy as np\n",
    "import sympy as sym\n",
    "from sympy.abc import t, m, g\n",
    "from sympy import solve, Eq\n",
    "\n",
    "x = sym.Function(r'x')(t)\n",
    "y = sym.Function(r'y')(t)\n",
    "lam = sym.Function(r'\\lambda')(t)\n",
    "\n",
    "xdot = x.diff(t)\n",
    "ydot = y.diff(t)\n",
    "xddot = xdot.diff(t)\n",
    "yddot = ydot.diff(t)\n",
    "\n",
    "eq1 = Eq(-m*xddot, lam*2*x)\n",
    "eq2 = Eq(-m*g - m*yddot, lam*2*y)\n",
    "eq3 = Eq(2*(xdot**2 + ydot**2 +x*xddot + y*yddot), 0)\n",
    "\n",
    "display(eq1, eq2, eq3)\n"
   ]
  },
  {
   "cell_type": "code",
   "execution_count": null,
   "id": "355862ec",
   "metadata": {},
   "outputs": [],
   "source": []
  }
 ],
 "metadata": {
  "kernelspec": {
   "display_name": "Python 3",
   "language": "python",
   "name": "python3"
  },
  "language_info": {
   "codemirror_mode": {
    "name": "ipython",
    "version": 3
   },
   "file_extension": ".py",
   "mimetype": "text/x-python",
   "name": "python",
   "nbconvert_exporter": "python",
   "pygments_lexer": "ipython3",
   "version": "3.8.5"
  }
 },
 "nbformat": 4,
 "nbformat_minor": 5
}
