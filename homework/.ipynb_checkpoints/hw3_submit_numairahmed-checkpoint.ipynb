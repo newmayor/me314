{
 "cells": [
  {
   "cell_type": "markdown",
   "metadata": {
    "id": "trgiPrPsJfDy"
   },
   "source": [
    "# ME314 Homework 3 (Template)\n",
    "\n",
    "*Please note that a **single** PDF file will be the only document that you turn in, which will include your answers to the problems with corresponding derivations and any code used to complete the problems. When including the code, please make sure you also include **code outputs**, and you don't need to include example code. Problems and deliverables that should be included with your submission are shown in **bold**.*\n",
    "\n",
    "*This Juputer Notebook file serves as a template for you to start homework, since we recommend to finish the homework using Jupyter Notebook. You can start with this notebook file with your local Jupyter environment, or upload it to Google Colab. You can include all the code and other deliverables in this notebook Jupyter Notebook supports $\\LaTeX$ for math equations, and you can export the whole notebook as a PDF file. But this is not the only option, if you are more comfortable with other ways, feel free to do so, as long as you can submit the homework in a single PDF file.*\n",
    "\n",
    "***"
   ]
  },
  {
   "cell_type": "code",
   "execution_count": null,
   "metadata": {
    "id": "EKCpAo0OJfDz"
   },
   "outputs": [],
   "source": [
    "# ##############################################################################################\n",
    "# # If you're using Google Colab, uncomment this section by selecting the whole section and press\n",
    "# # ctrl+'/' on your and keyboard. Run it before you start programming, this will enable the nice \n",
    "# # LaTeX \"display()\" function for you. If you're using the local Jupyter environment, leave it alone\n",
    "# ##############################################################################################\n",
    "\n",
    "# import sympy as sym\n",
    "# def custom_latex_printer(exp,**options):\n",
    "#     from google.colab.output._publish import javascript\n",
    "#     url = \"https://cdnjs.cloudflare.com/ajax/libs/mathjax/3.1.1/latest.js?config=TeX-AMS_HTML\"\n",
    "#     javascript(url=url)\n",
    "#     return sym.printing.latex(exp,**options)\n",
    "# sym.init_printing(use_latex=\"mathjax\",latex_printer=custom_latex_printer)"
   ]
  },
  {
   "cell_type": "markdown",
   "metadata": {
    "id": "z4wkvcQjJfD1"
   },
   "source": [
    "Below are the help functions in previous homeworks, which you may need for this homework."
   ]
  },
  {
   "cell_type": "code",
   "execution_count": null,
   "metadata": {
    "id": "fZKf7W4VJfD2"
   },
   "outputs": [],
   "source": [
    "import numpy as np\n",
    "\n",
    "def integrate(f, xt, dt):\n",
    "    \"\"\"\n",
    "    This function takes in an initial condition x(t) and a timestep dt,\n",
    "    as well as a dynamical system f(x) that outputs a vector of the\n",
    "    same dimension as x(t). It outputs a vector x(t+dt) at the future\n",
    "    time step.\n",
    "    \n",
    "    Parameters\n",
    "    ============\n",
    "    dyn: Python function\n",
    "        derivate of the system at a given step x(t), \n",
    "        it can considered as \\dot{x}(t) = func(x(t))\n",
    "    xt: NumPy array\n",
    "        current step x(t)\n",
    "    dt: \n",
    "        step size for integration\n",
    "\n",
    "    Return\n",
    "    ============\n",
    "    new_xt: \n",
    "        value of x(t+dt) integrated from x(t)\n",
    "    \"\"\"\n",
    "    k1 = dt * f(xt)\n",
    "    k2 = dt * f(xt+k1/2.)\n",
    "    k3 = dt * f(xt+k2/2.)\n",
    "    k4 = dt * f(xt+k3)\n",
    "    new_xt = xt + (1/6.) * (k1+2.0*k2+2.0*k3+k4)\n",
    "    return new_xt\n",
    "\n",
    "def simulate(f, x0, tspan, dt, integrate):\n",
    "    \"\"\"\n",
    "    This function takes in an initial condition x0, a timestep dt,\n",
    "    a time span tspan consisting of a list [min_time, max_time],\n",
    "    as well as a dynamical system f(x) that outputs a vector of the\n",
    "    same dimension as x0. It outputs a full trajectory simulated\n",
    "    over the time span of dimensions (xvec_size, time_vec_size).\n",
    "    \n",
    "    Parameters\n",
    "    ============\n",
    "    f: Python function\n",
    "        derivate of the system at a given step x(t), \n",
    "        it can considered as \\dot{x}(t) = func(x(t))\n",
    "    x0: NumPy array\n",
    "        initial conditions\n",
    "    tspan: Python list\n",
    "        tspan = [min_time, max_time], it defines the start and end\n",
    "        time of simulation\n",
    "    dt:\n",
    "        time step for numerical integration\n",
    "    integrate: Python function\n",
    "        numerical integration method used in this simulation\n",
    "\n",
    "    Return\n",
    "    ============\n",
    "    x_traj:\n",
    "        simulated trajectory of x(t) from t=0 to tf\n",
    "    \"\"\"\n",
    "    N = int((max(tspan)-min(tspan))/dt)\n",
    "    x = np.copy(x0)\n",
    "    tvec = np.linspace(min(tspan),max(tspan),N)\n",
    "    xtraj = np.zeros((len(x0),N))\n",
    "    for i in range(N):\n",
    "        xtraj[:,i]=integrate(f,x,dt)\n",
    "        x = np.copy(xtraj[:,i])\n",
    "    return xtraj \n",
    "\n",
    "def animate_double_pend(theta_array,L1=1,L2=1,T=10):\n",
    "    \"\"\"\n",
    "    Function to generate web-based animation of double-pendulum system\n",
    "\n",
    "    Parameters:\n",
    "    ================================================\n",
    "    theta_array:\n",
    "        trajectory of theta1 and theta2, should be a NumPy array with\n",
    "        shape of (2,N)\n",
    "    L1:\n",
    "        length of the first pendulum\n",
    "    L2:\n",
    "        length of the second pendulum\n",
    "    T:\n",
    "        length/seconds of animation duration\n",
    "\n",
    "    Returns: None\n",
    "    \"\"\"\n",
    "\n",
    "    ################################\n",
    "    # Imports required for animation.\n",
    "    from plotly.offline import init_notebook_mode, iplot\n",
    "    from IPython.display import display, HTML\n",
    "    import plotly.graph_objects as go\n",
    "\n",
    "    #######################\n",
    "    # Browser configuration.\n",
    "    def configure_plotly_browser_state():\n",
    "        import IPython\n",
    "        display(IPython.core.display.HTML('''\n",
    "            <script src=\"/static/components/requirejs/require.js\"></script>\n",
    "            <script>\n",
    "              requirejs.config({\n",
    "                paths: {\n",
    "                  base: '/static/base',\n",
    "                  plotly: 'https://cdn.plot.ly/plotly-1.5.1.min.js?noext',\n",
    "                },\n",
    "              });\n",
    "            </script>\n",
    "            '''))\n",
    "    configure_plotly_browser_state()\n",
    "    init_notebook_mode(connected=False)\n",
    "\n",
    "    ###############################################\n",
    "    # Getting data from pendulum angle trajectories.\n",
    "    xx1=L1*np.sin(theta_array[0])\n",
    "    yy1=-L1*np.cos(theta_array[0])\n",
    "    xx2=xx1+L2*np.sin(theta_array[0]+theta_array[1])\n",
    "    yy2=yy1-L2*np.cos(theta_array[0]+theta_array[1])\n",
    "    N = len(theta_array[0]) # Need this for specifying length of simulation\n",
    "\n",
    "    ####################################\n",
    "    # Using these to specify axis limits.\n",
    "    xm=np.min(xx1)-0.5\n",
    "    xM=np.max(xx1)+0.5\n",
    "    ym=np.min(yy1)-2.5\n",
    "    yM=np.max(yy1)+1.5\n",
    "\n",
    "    ###########################\n",
    "    # Defining data dictionary.\n",
    "    # Trajectories are here.\n",
    "    data=[dict(x=xx1, y=yy1, \n",
    "               mode='lines', name='Arm', \n",
    "               line=dict(width=2, color='blue')\n",
    "              ),\n",
    "          dict(x=xx1, y=yy1, \n",
    "               mode='lines', name='Mass 1',\n",
    "               line=dict(width=2, color='purple')\n",
    "              ),\n",
    "          dict(x=xx2, y=yy2, \n",
    "               mode='lines', name='Mass 2',\n",
    "               line=dict(width=2, color='green')\n",
    "              ),\n",
    "          dict(x=xx1, y=yy1, \n",
    "               mode='markers', name='Pendulum 1 Traj', \n",
    "               marker=dict(color=\"purple\", size=2)\n",
    "              ),\n",
    "          dict(x=xx2, y=yy2, \n",
    "               mode='markers', name='Pendulum 2 Traj', \n",
    "               marker=dict(color=\"green\", size=2)\n",
    "              ),\n",
    "        ]\n",
    "\n",
    "    ################################\n",
    "    # Preparing simulation layout.\n",
    "    # Title and axis ranges are here.\n",
    "    layout=dict(xaxis=dict(range=[xm, xM], autorange=False, zeroline=False,dtick=1),\n",
    "                yaxis=dict(range=[ym, yM], autorange=False, zeroline=False,scaleanchor = \"x\",dtick=1),\n",
    "                title='Double Pendulum Simulation', \n",
    "                hovermode='closest',\n",
    "                updatemenus= [{'type': 'buttons',\n",
    "                               'buttons': [{'label': 'Play','method': 'animate',\n",
    "                                            'args': [None, {'frame': {'duration': T, 'redraw': False}}]},\n",
    "                                           {'args': [[None], {'frame': {'duration': T, 'redraw': False}, 'mode': 'immediate',\n",
    "                                            'transition': {'duration': 0}}],'label': 'Pause','method': 'animate'}\n",
    "                                          ]\n",
    "                              }]\n",
    "               )\n",
    "\n",
    "    ########################################\n",
    "    # Defining the frames of the simulation.\n",
    "    # This is what draws the lines from\n",
    "    # joint to joint of the pendulum.\n",
    "    frames=[dict(data=[dict(x=[0,xx1[k],xx2[k]], \n",
    "                            y=[0,yy1[k],yy2[k]], \n",
    "                            mode='lines',\n",
    "                            line=dict(color='red', width=3)\n",
    "                            ),\n",
    "                       go.Scatter(\n",
    "                            x=[xx1[k]],\n",
    "                            y=[yy1[k]],\n",
    "                            mode=\"markers\",\n",
    "                            marker=dict(color=\"blue\", size=12)),\n",
    "                       go.Scatter(\n",
    "                            x=[xx2[k]],\n",
    "                            y=[yy2[k]],\n",
    "                            mode=\"markers\",\n",
    "                            marker=dict(color=\"blue\", size=12)),\n",
    "                      ]) for k in range(N)]\n",
    "\n",
    "    #######################################\n",
    "    # Putting it all together and plotting.\n",
    "    figure1=dict(data=data, layout=layout, frames=frames)           \n",
    "    iplot(figure1)"
   ]
  },
  {
   "cell_type": "markdown",
   "metadata": {
    "id": "-SUDkJtyJfD3"
   },
   "source": [
    "## Problem 1 (10pts)\n",
    "\n",
    "Let $f:\\mathbb{R}^2\\to\\mathbb{R}$ with $f(x,y)=-\\cos(x+y)\\cos(x-y)$.  Show that $(x,y)=(0,0)$ satisfies both the necessary and sufficient conditions to be a local minimizer of $f$.\n",
    "\n",
    "*Hint 1: You will need to take the first- and second-order derivative of $f$ with respect to $[x,y]$.*\n",
    "\n",
    "**Turn in: A scanned (or photograph from your phone or webcam) copy of your hand written solution. You can also use $\\LaTeX$. If you use SymPy, then you just need to include a copy of code and the code outputs, with notes that explain why the code outputs indicate the necessary and sufficient conditions.**"
   ]
  },
  {
   "cell_type": "code",
   "execution_count": null,
   "metadata": {
    "id": "fojgpjP9JfD4"
   },
   "outputs": [],
   "source": []
  },
  {
   "cell_type": "code",
   "execution_count": 1,
   "metadata": {
    "colab": {
     "base_uri": "https://localhost:8080/",
     "height": 377
    },
    "id": "B-DiCe_mJfD6",
    "outputId": "bb22d86a-54b0-4851-865c-27e0fd0dd43e"
   },
   "outputs": [
    {
     "data": {
      "text/html": [
       "<table><tr><td><img src='https://github.com/MuchenSun/ME314pngs/raw/master/twolinearmasses.png' width=500' height='350'></table>"
      ],
      "text/plain": [
       "<IPython.core.display.HTML object>"
      ]
     },
     "metadata": {},
     "output_type": "display_data"
    }
   ],
   "source": [
    "from IPython.core.display import HTML\n",
    "display(HTML(\"<table><tr><td><img src='https://github.com/MuchenSun/ME314pngs/raw/master/twolinearmasses.png' width=500' height='350'></table>\"))"
   ]
  },
  {
   "cell_type": "markdown",
   "metadata": {
    "id": "lT8T6Q6pJfD8"
   },
   "source": [
    "## Problem 2 (20pts)\n",
    "\n",
    "Compute the equations of motion for the two-mass-spring system (shown above) in $\\theta=(\\theta_1,\\theta_2)$ coordinates. The first mass with mass $m_1$ is the one close to the wall, and the second mass is with mass $m_2$. Assume that there is a spring of spring constant $k_1$ between the first mass and the wall and a spring of spring constant $k_2$ between the first mass and the second mass.\n",
    "\n",
    "**Turn in: A copy of the code used to symbolically solve for the equations of motion, also include the outputs of the code, which should be the equations of motion.**"
   ]
  },
  {
   "cell_type": "code",
   "execution_count": 36,
   "metadata": {
    "id": "FxvYr5lLJfD8",
    "scrolled": false
   },
   "outputs": [
    {
     "name": "stdout",
     "output_type": "stream",
     "text": [
      "=================================================\n",
      "\n",
      "Equations of motion: \n",
      "\n"
     ]
    },
    {
     "data": {
      "text/latex": [
       "$\\displaystyle \\frac{d^{2}}{d t^{2}} \\theta_{1}{\\left(t \\right)} = - \\frac{k_{1} \\tan{\\left(\\theta_{1}{\\left(t \\right)} \\right)}}{m_{1} \\tan^{2}{\\left(\\theta_{1}{\\left(t \\right)} \\right)} + m_{1}} + \\frac{2.0 k_{2} \\tan{\\left(\\theta_{1}{\\left(t \\right)} + \\theta_{2}{\\left(t \\right)} \\right)}}{m_{1} \\tan^{2}{\\left(\\theta_{1}{\\left(t \\right)} \\right)} + m_{1}} - \\frac{2.0 k_{2} \\tan{\\left(\\theta_{1}{\\left(t \\right)} \\right)}}{m_{1} \\tan^{2}{\\left(\\theta_{1}{\\left(t \\right)} \\right)} + m_{1}} - \\frac{2.0 m_{1} \\tan^{3}{\\left(\\theta_{1}{\\left(t \\right)} \\right)} \\left(\\frac{d}{d t} \\theta_{1}{\\left(t \\right)}\\right)^{2}}{m_{1} \\tan^{2}{\\left(\\theta_{1}{\\left(t \\right)} \\right)} + m_{1}} - \\frac{2.0 m_{1} \\tan{\\left(\\theta_{1}{\\left(t \\right)} \\right)} \\left(\\frac{d}{d t} \\theta_{1}{\\left(t \\right)}\\right)^{2}}{m_{1} \\tan^{2}{\\left(\\theta_{1}{\\left(t \\right)} \\right)} + m_{1}}$"
      ],
      "text/plain": [
       "Eq(Derivative(\\theta_1(t), (t, 2)), -k_1*tan(\\theta_1(t))/(m_1*tan(\\theta_1(t))**2 + m_1) + 2.0*k_2*tan(\\theta_1(t) + \\theta_2(t))/(m_1*tan(\\theta_1(t))**2 + m_1) - 2.0*k_2*tan(\\theta_1(t))/(m_1*tan(\\theta_1(t))**2 + m_1) - 2.0*m_1*tan(\\theta_1(t))**3*Derivative(\\theta_1(t), t)**2/(m_1*tan(\\theta_1(t))**2 + m_1) - 2.0*m_1*tan(\\theta_1(t))*Derivative(\\theta_1(t), t)**2/(m_1*tan(\\theta_1(t))**2 + m_1))"
      ]
     },
     "metadata": {},
     "output_type": "display_data"
    },
    {
     "name": "stdout",
     "output_type": "stream",
     "text": [
      "\n"
     ]
    },
    {
     "data": {
      "text/latex": [
       "$\\displaystyle \\frac{d^{2}}{d t^{2}} \\theta_{2}{\\left(t \\right)} = \\frac{k_{1} m_{2} \\tan^{2}{\\left(\\theta_{1}{\\left(t \\right)} + \\theta_{2}{\\left(t \\right)} \\right)} \\tan{\\left(\\theta_{1}{\\left(t \\right)} \\right)}}{m_{1} m_{2} \\tan^{2}{\\left(\\theta_{1}{\\left(t \\right)} + \\theta_{2}{\\left(t \\right)} \\right)} \\tan^{2}{\\left(\\theta_{1}{\\left(t \\right)} \\right)} + m_{1} m_{2} \\tan^{2}{\\left(\\theta_{1}{\\left(t \\right)} + \\theta_{2}{\\left(t \\right)} \\right)} + m_{1} m_{2} \\tan^{2}{\\left(\\theta_{1}{\\left(t \\right)} \\right)} + m_{1} m_{2}} + \\frac{k_{1} m_{2} \\tan^{3}{\\left(\\theta_{1}{\\left(t \\right)} \\right)}}{m_{1} m_{2} \\tan^{2}{\\left(\\theta_{1}{\\left(t \\right)} + \\theta_{2}{\\left(t \\right)} \\right)} \\tan^{2}{\\left(\\theta_{1}{\\left(t \\right)} \\right)} + m_{1} m_{2} \\tan^{2}{\\left(\\theta_{1}{\\left(t \\right)} + \\theta_{2}{\\left(t \\right)} \\right)} + m_{1} m_{2} \\tan^{2}{\\left(\\theta_{1}{\\left(t \\right)} \\right)} + m_{1} m_{2}} + \\frac{2.0 k_{1} m_{2} \\tan{\\left(\\theta_{1}{\\left(t \\right)} \\right)}}{m_{1} m_{2} \\tan^{2}{\\left(\\theta_{1}{\\left(t \\right)} + \\theta_{2}{\\left(t \\right)} \\right)} \\tan^{2}{\\left(\\theta_{1}{\\left(t \\right)} \\right)} + m_{1} m_{2} \\tan^{2}{\\left(\\theta_{1}{\\left(t \\right)} + \\theta_{2}{\\left(t \\right)} \\right)} + m_{1} m_{2} \\tan^{2}{\\left(\\theta_{1}{\\left(t \\right)} \\right)} + m_{1} m_{2}} - \\frac{k_{2} m_{1} \\tan{\\left(\\theta_{1}{\\left(t \\right)} + \\theta_{2}{\\left(t \\right)} \\right)} \\tan^{2}{\\left(\\theta_{1}{\\left(t \\right)} \\right)}}{m_{1} m_{2} \\tan^{2}{\\left(\\theta_{1}{\\left(t \\right)} + \\theta_{2}{\\left(t \\right)} \\right)} \\tan^{2}{\\left(\\theta_{1}{\\left(t \\right)} \\right)} + m_{1} m_{2} \\tan^{2}{\\left(\\theta_{1}{\\left(t \\right)} + \\theta_{2}{\\left(t \\right)} \\right)} + m_{1} m_{2} \\tan^{2}{\\left(\\theta_{1}{\\left(t \\right)} \\right)} + m_{1} m_{2}} - \\frac{k_{2} m_{1} \\tan{\\left(\\theta_{1}{\\left(t \\right)} + \\theta_{2}{\\left(t \\right)} \\right)}}{m_{1} m_{2} \\tan^{2}{\\left(\\theta_{1}{\\left(t \\right)} + \\theta_{2}{\\left(t \\right)} \\right)} \\tan^{2}{\\left(\\theta_{1}{\\left(t \\right)} \\right)} + m_{1} m_{2} \\tan^{2}{\\left(\\theta_{1}{\\left(t \\right)} + \\theta_{2}{\\left(t \\right)} \\right)} + m_{1} m_{2} \\tan^{2}{\\left(\\theta_{1}{\\left(t \\right)} \\right)} + m_{1} m_{2}} + \\frac{k_{2} m_{1} \\tan^{3}{\\left(\\theta_{1}{\\left(t \\right)} \\right)}}{m_{1} m_{2} \\tan^{2}{\\left(\\theta_{1}{\\left(t \\right)} + \\theta_{2}{\\left(t \\right)} \\right)} \\tan^{2}{\\left(\\theta_{1}{\\left(t \\right)} \\right)} + m_{1} m_{2} \\tan^{2}{\\left(\\theta_{1}{\\left(t \\right)} + \\theta_{2}{\\left(t \\right)} \\right)} + m_{1} m_{2} \\tan^{2}{\\left(\\theta_{1}{\\left(t \\right)} \\right)} + m_{1} m_{2}} + \\frac{k_{2} m_{1} \\tan{\\left(\\theta_{1}{\\left(t \\right)} \\right)}}{m_{1} m_{2} \\tan^{2}{\\left(\\theta_{1}{\\left(t \\right)} + \\theta_{2}{\\left(t \\right)} \\right)} \\tan^{2}{\\left(\\theta_{1}{\\left(t \\right)} \\right)} + m_{1} m_{2} \\tan^{2}{\\left(\\theta_{1}{\\left(t \\right)} + \\theta_{2}{\\left(t \\right)} \\right)} + m_{1} m_{2} \\tan^{2}{\\left(\\theta_{1}{\\left(t \\right)} \\right)} + m_{1} m_{2}} - \\frac{2.0 k_{2} m_{2} \\tan^{3}{\\left(\\theta_{1}{\\left(t \\right)} + \\theta_{2}{\\left(t \\right)} \\right)}}{m_{1} m_{2} \\tan^{2}{\\left(\\theta_{1}{\\left(t \\right)} + \\theta_{2}{\\left(t \\right)} \\right)} \\tan^{2}{\\left(\\theta_{1}{\\left(t \\right)} \\right)} + m_{1} m_{2} \\tan^{2}{\\left(\\theta_{1}{\\left(t \\right)} + \\theta_{2}{\\left(t \\right)} \\right)} + m_{1} m_{2} \\tan^{2}{\\left(\\theta_{1}{\\left(t \\right)} \\right)} + m_{1} m_{2}} + \\frac{2.0 k_{2} m_{2} \\tan^{2}{\\left(\\theta_{1}{\\left(t \\right)} + \\theta_{2}{\\left(t \\right)} \\right)} \\tan{\\left(\\theta_{1}{\\left(t \\right)} \\right)}}{m_{1} m_{2} \\tan^{2}{\\left(\\theta_{1}{\\left(t \\right)} + \\theta_{2}{\\left(t \\right)} \\right)} \\tan^{2}{\\left(\\theta_{1}{\\left(t \\right)} \\right)} + m_{1} m_{2} \\tan^{2}{\\left(\\theta_{1}{\\left(t \\right)} + \\theta_{2}{\\left(t \\right)} \\right)} + m_{1} m_{2} \\tan^{2}{\\left(\\theta_{1}{\\left(t \\right)} \\right)} + m_{1} m_{2}} - \\frac{2.0 k_{2} m_{2} \\tan{\\left(\\theta_{1}{\\left(t \\right)} + \\theta_{2}{\\left(t \\right)} \\right)} \\tan^{2}{\\left(\\theta_{1}{\\left(t \\right)} \\right)}}{m_{1} m_{2} \\tan^{2}{\\left(\\theta_{1}{\\left(t \\right)} + \\theta_{2}{\\left(t \\right)} \\right)} \\tan^{2}{\\left(\\theta_{1}{\\left(t \\right)} \\right)} + m_{1} m_{2} \\tan^{2}{\\left(\\theta_{1}{\\left(t \\right)} + \\theta_{2}{\\left(t \\right)} \\right)} + m_{1} m_{2} \\tan^{2}{\\left(\\theta_{1}{\\left(t \\right)} \\right)} + m_{1} m_{2}} - \\frac{4.0 k_{2} m_{2} \\tan{\\left(\\theta_{1}{\\left(t \\right)} + \\theta_{2}{\\left(t \\right)} \\right)}}{m_{1} m_{2} \\tan^{2}{\\left(\\theta_{1}{\\left(t \\right)} + \\theta_{2}{\\left(t \\right)} \\right)} \\tan^{2}{\\left(\\theta_{1}{\\left(t \\right)} \\right)} + m_{1} m_{2} \\tan^{2}{\\left(\\theta_{1}{\\left(t \\right)} + \\theta_{2}{\\left(t \\right)} \\right)} + m_{1} m_{2} \\tan^{2}{\\left(\\theta_{1}{\\left(t \\right)} \\right)} + m_{1} m_{2}} + \\frac{2.0 k_{2} m_{2} \\tan^{3}{\\left(\\theta_{1}{\\left(t \\right)} \\right)}}{m_{1} m_{2} \\tan^{2}{\\left(\\theta_{1}{\\left(t \\right)} + \\theta_{2}{\\left(t \\right)} \\right)} \\tan^{2}{\\left(\\theta_{1}{\\left(t \\right)} \\right)} + m_{1} m_{2} \\tan^{2}{\\left(\\theta_{1}{\\left(t \\right)} + \\theta_{2}{\\left(t \\right)} \\right)} + m_{1} m_{2} \\tan^{2}{\\left(\\theta_{1}{\\left(t \\right)} \\right)} + m_{1} m_{2}} + \\frac{4.0 k_{2} m_{2} \\tan{\\left(\\theta_{1}{\\left(t \\right)} \\right)}}{m_{1} m_{2} \\tan^{2}{\\left(\\theta_{1}{\\left(t \\right)} + \\theta_{2}{\\left(t \\right)} \\right)} \\tan^{2}{\\left(\\theta_{1}{\\left(t \\right)} \\right)} + m_{1} m_{2} \\tan^{2}{\\left(\\theta_{1}{\\left(t \\right)} + \\theta_{2}{\\left(t \\right)} \\right)} + m_{1} m_{2} \\tan^{2}{\\left(\\theta_{1}{\\left(t \\right)} \\right)} + m_{1} m_{2}} - \\frac{2.0 m_{1} m_{2} \\tan^{3}{\\left(\\theta_{1}{\\left(t \\right)} + \\theta_{2}{\\left(t \\right)} \\right)} \\tan^{2}{\\left(\\theta_{1}{\\left(t \\right)} \\right)} \\left(\\frac{d}{d t} \\theta_{1}{\\left(t \\right)}\\right)^{2}}{m_{1} m_{2} \\tan^{2}{\\left(\\theta_{1}{\\left(t \\right)} + \\theta_{2}{\\left(t \\right)} \\right)} \\tan^{2}{\\left(\\theta_{1}{\\left(t \\right)} \\right)} + m_{1} m_{2} \\tan^{2}{\\left(\\theta_{1}{\\left(t \\right)} + \\theta_{2}{\\left(t \\right)} \\right)} + m_{1} m_{2} \\tan^{2}{\\left(\\theta_{1}{\\left(t \\right)} \\right)} + m_{1} m_{2}} - \\frac{4.0 m_{1} m_{2} \\tan^{3}{\\left(\\theta_{1}{\\left(t \\right)} + \\theta_{2}{\\left(t \\right)} \\right)} \\tan^{2}{\\left(\\theta_{1}{\\left(t \\right)} \\right)} \\frac{d}{d t} \\theta_{1}{\\left(t \\right)} \\frac{d}{d t} \\theta_{2}{\\left(t \\right)}}{m_{1} m_{2} \\tan^{2}{\\left(\\theta_{1}{\\left(t \\right)} + \\theta_{2}{\\left(t \\right)} \\right)} \\tan^{2}{\\left(\\theta_{1}{\\left(t \\right)} \\right)} + m_{1} m_{2} \\tan^{2}{\\left(\\theta_{1}{\\left(t \\right)} + \\theta_{2}{\\left(t \\right)} \\right)} + m_{1} m_{2} \\tan^{2}{\\left(\\theta_{1}{\\left(t \\right)} \\right)} + m_{1} m_{2}} - \\frac{2.0 m_{1} m_{2} \\tan^{3}{\\left(\\theta_{1}{\\left(t \\right)} + \\theta_{2}{\\left(t \\right)} \\right)} \\tan^{2}{\\left(\\theta_{1}{\\left(t \\right)} \\right)} \\left(\\frac{d}{d t} \\theta_{2}{\\left(t \\right)}\\right)^{2}}{m_{1} m_{2} \\tan^{2}{\\left(\\theta_{1}{\\left(t \\right)} + \\theta_{2}{\\left(t \\right)} \\right)} \\tan^{2}{\\left(\\theta_{1}{\\left(t \\right)} \\right)} + m_{1} m_{2} \\tan^{2}{\\left(\\theta_{1}{\\left(t \\right)} + \\theta_{2}{\\left(t \\right)} \\right)} + m_{1} m_{2} \\tan^{2}{\\left(\\theta_{1}{\\left(t \\right)} \\right)} + m_{1} m_{2}} - \\frac{2.0 m_{1} m_{2} \\tan^{3}{\\left(\\theta_{1}{\\left(t \\right)} + \\theta_{2}{\\left(t \\right)} \\right)} \\left(\\frac{d}{d t} \\theta_{1}{\\left(t \\right)}\\right)^{2}}{m_{1} m_{2} \\tan^{2}{\\left(\\theta_{1}{\\left(t \\right)} + \\theta_{2}{\\left(t \\right)} \\right)} \\tan^{2}{\\left(\\theta_{1}{\\left(t \\right)} \\right)} + m_{1} m_{2} \\tan^{2}{\\left(\\theta_{1}{\\left(t \\right)} + \\theta_{2}{\\left(t \\right)} \\right)} + m_{1} m_{2} \\tan^{2}{\\left(\\theta_{1}{\\left(t \\right)} \\right)} + m_{1} m_{2}} - \\frac{4.0 m_{1} m_{2} \\tan^{3}{\\left(\\theta_{1}{\\left(t \\right)} + \\theta_{2}{\\left(t \\right)} \\right)} \\frac{d}{d t} \\theta_{1}{\\left(t \\right)} \\frac{d}{d t} \\theta_{2}{\\left(t \\right)}}{m_{1} m_{2} \\tan^{2}{\\left(\\theta_{1}{\\left(t \\right)} + \\theta_{2}{\\left(t \\right)} \\right)} \\tan^{2}{\\left(\\theta_{1}{\\left(t \\right)} \\right)} + m_{1} m_{2} \\tan^{2}{\\left(\\theta_{1}{\\left(t \\right)} + \\theta_{2}{\\left(t \\right)} \\right)} + m_{1} m_{2} \\tan^{2}{\\left(\\theta_{1}{\\left(t \\right)} \\right)} + m_{1} m_{2}} - \\frac{2.0 m_{1} m_{2} \\tan^{3}{\\left(\\theta_{1}{\\left(t \\right)} + \\theta_{2}{\\left(t \\right)} \\right)} \\left(\\frac{d}{d t} \\theta_{2}{\\left(t \\right)}\\right)^{2}}{m_{1} m_{2} \\tan^{2}{\\left(\\theta_{1}{\\left(t \\right)} + \\theta_{2}{\\left(t \\right)} \\right)} \\tan^{2}{\\left(\\theta_{1}{\\left(t \\right)} \\right)} + m_{1} m_{2} \\tan^{2}{\\left(\\theta_{1}{\\left(t \\right)} + \\theta_{2}{\\left(t \\right)} \\right)} + m_{1} m_{2} \\tan^{2}{\\left(\\theta_{1}{\\left(t \\right)} \\right)} + m_{1} m_{2}} + \\frac{2.0 m_{1} m_{2} \\tan^{2}{\\left(\\theta_{1}{\\left(t \\right)} + \\theta_{2}{\\left(t \\right)} \\right)} \\tan^{3}{\\left(\\theta_{1}{\\left(t \\right)} \\right)} \\left(\\frac{d}{d t} \\theta_{1}{\\left(t \\right)}\\right)^{2}}{m_{1} m_{2} \\tan^{2}{\\left(\\theta_{1}{\\left(t \\right)} + \\theta_{2}{\\left(t \\right)} \\right)} \\tan^{2}{\\left(\\theta_{1}{\\left(t \\right)} \\right)} + m_{1} m_{2} \\tan^{2}{\\left(\\theta_{1}{\\left(t \\right)} + \\theta_{2}{\\left(t \\right)} \\right)} + m_{1} m_{2} \\tan^{2}{\\left(\\theta_{1}{\\left(t \\right)} \\right)} + m_{1} m_{2}} + \\frac{2.0 m_{1} m_{2} \\tan^{2}{\\left(\\theta_{1}{\\left(t \\right)} + \\theta_{2}{\\left(t \\right)} \\right)} \\tan{\\left(\\theta_{1}{\\left(t \\right)} \\right)} \\left(\\frac{d}{d t} \\theta_{1}{\\left(t \\right)}\\right)^{2}}{m_{1} m_{2} \\tan^{2}{\\left(\\theta_{1}{\\left(t \\right)} + \\theta_{2}{\\left(t \\right)} \\right)} \\tan^{2}{\\left(\\theta_{1}{\\left(t \\right)} \\right)} + m_{1} m_{2} \\tan^{2}{\\left(\\theta_{1}{\\left(t \\right)} + \\theta_{2}{\\left(t \\right)} \\right)} + m_{1} m_{2} \\tan^{2}{\\left(\\theta_{1}{\\left(t \\right)} \\right)} + m_{1} m_{2}} - \\frac{2.0 m_{1} m_{2} \\tan{\\left(\\theta_{1}{\\left(t \\right)} + \\theta_{2}{\\left(t \\right)} \\right)} \\tan^{2}{\\left(\\theta_{1}{\\left(t \\right)} \\right)} \\left(\\frac{d}{d t} \\theta_{1}{\\left(t \\right)}\\right)^{2}}{m_{1} m_{2} \\tan^{2}{\\left(\\theta_{1}{\\left(t \\right)} + \\theta_{2}{\\left(t \\right)} \\right)} \\tan^{2}{\\left(\\theta_{1}{\\left(t \\right)} \\right)} + m_{1} m_{2} \\tan^{2}{\\left(\\theta_{1}{\\left(t \\right)} + \\theta_{2}{\\left(t \\right)} \\right)} + m_{1} m_{2} \\tan^{2}{\\left(\\theta_{1}{\\left(t \\right)} \\right)} + m_{1} m_{2}} - \\frac{4.0 m_{1} m_{2} \\tan{\\left(\\theta_{1}{\\left(t \\right)} + \\theta_{2}{\\left(t \\right)} \\right)} \\tan^{2}{\\left(\\theta_{1}{\\left(t \\right)} \\right)} \\frac{d}{d t} \\theta_{1}{\\left(t \\right)} \\frac{d}{d t} \\theta_{2}{\\left(t \\right)}}{m_{1} m_{2} \\tan^{2}{\\left(\\theta_{1}{\\left(t \\right)} + \\theta_{2}{\\left(t \\right)} \\right)} \\tan^{2}{\\left(\\theta_{1}{\\left(t \\right)} \\right)} + m_{1} m_{2} \\tan^{2}{\\left(\\theta_{1}{\\left(t \\right)} + \\theta_{2}{\\left(t \\right)} \\right)} + m_{1} m_{2} \\tan^{2}{\\left(\\theta_{1}{\\left(t \\right)} \\right)} + m_{1} m_{2}} - \\frac{2.0 m_{1} m_{2} \\tan{\\left(\\theta_{1}{\\left(t \\right)} + \\theta_{2}{\\left(t \\right)} \\right)} \\tan^{2}{\\left(\\theta_{1}{\\left(t \\right)} \\right)} \\left(\\frac{d}{d t} \\theta_{2}{\\left(t \\right)}\\right)^{2}}{m_{1} m_{2} \\tan^{2}{\\left(\\theta_{1}{\\left(t \\right)} + \\theta_{2}{\\left(t \\right)} \\right)} \\tan^{2}{\\left(\\theta_{1}{\\left(t \\right)} \\right)} + m_{1} m_{2} \\tan^{2}{\\left(\\theta_{1}{\\left(t \\right)} + \\theta_{2}{\\left(t \\right)} \\right)} + m_{1} m_{2} \\tan^{2}{\\left(\\theta_{1}{\\left(t \\right)} \\right)} + m_{1} m_{2}} - \\frac{2.0 m_{1} m_{2} \\tan{\\left(\\theta_{1}{\\left(t \\right)} + \\theta_{2}{\\left(t \\right)} \\right)} \\left(\\frac{d}{d t} \\theta_{1}{\\left(t \\right)}\\right)^{2}}{m_{1} m_{2} \\tan^{2}{\\left(\\theta_{1}{\\left(t \\right)} + \\theta_{2}{\\left(t \\right)} \\right)} \\tan^{2}{\\left(\\theta_{1}{\\left(t \\right)} \\right)} + m_{1} m_{2} \\tan^{2}{\\left(\\theta_{1}{\\left(t \\right)} + \\theta_{2}{\\left(t \\right)} \\right)} + m_{1} m_{2} \\tan^{2}{\\left(\\theta_{1}{\\left(t \\right)} \\right)} + m_{1} m_{2}} - \\frac{4.0 m_{1} m_{2} \\tan{\\left(\\theta_{1}{\\left(t \\right)} + \\theta_{2}{\\left(t \\right)} \\right)} \\frac{d}{d t} \\theta_{1}{\\left(t \\right)} \\frac{d}{d t} \\theta_{2}{\\left(t \\right)}}{m_{1} m_{2} \\tan^{2}{\\left(\\theta_{1}{\\left(t \\right)} + \\theta_{2}{\\left(t \\right)} \\right)} \\tan^{2}{\\left(\\theta_{1}{\\left(t \\right)} \\right)} + m_{1} m_{2} \\tan^{2}{\\left(\\theta_{1}{\\left(t \\right)} + \\theta_{2}{\\left(t \\right)} \\right)} + m_{1} m_{2} \\tan^{2}{\\left(\\theta_{1}{\\left(t \\right)} \\right)} + m_{1} m_{2}} - \\frac{2.0 m_{1} m_{2} \\tan{\\left(\\theta_{1}{\\left(t \\right)} + \\theta_{2}{\\left(t \\right)} \\right)} \\left(\\frac{d}{d t} \\theta_{2}{\\left(t \\right)}\\right)^{2}}{m_{1} m_{2} \\tan^{2}{\\left(\\theta_{1}{\\left(t \\right)} + \\theta_{2}{\\left(t \\right)} \\right)} \\tan^{2}{\\left(\\theta_{1}{\\left(t \\right)} \\right)} + m_{1} m_{2} \\tan^{2}{\\left(\\theta_{1}{\\left(t \\right)} + \\theta_{2}{\\left(t \\right)} \\right)} + m_{1} m_{2} \\tan^{2}{\\left(\\theta_{1}{\\left(t \\right)} \\right)} + m_{1} m_{2}} + \\frac{2.0 m_{1} m_{2} \\tan^{3}{\\left(\\theta_{1}{\\left(t \\right)} \\right)} \\left(\\frac{d}{d t} \\theta_{1}{\\left(t \\right)}\\right)^{2}}{m_{1} m_{2} \\tan^{2}{\\left(\\theta_{1}{\\left(t \\right)} + \\theta_{2}{\\left(t \\right)} \\right)} \\tan^{2}{\\left(\\theta_{1}{\\left(t \\right)} \\right)} + m_{1} m_{2} \\tan^{2}{\\left(\\theta_{1}{\\left(t \\right)} + \\theta_{2}{\\left(t \\right)} \\right)} + m_{1} m_{2} \\tan^{2}{\\left(\\theta_{1}{\\left(t \\right)} \\right)} + m_{1} m_{2}} + \\frac{2.0 m_{1} m_{2} \\tan{\\left(\\theta_{1}{\\left(t \\right)} \\right)} \\left(\\frac{d}{d t} \\theta_{1}{\\left(t \\right)}\\right)^{2}}{m_{1} m_{2} \\tan^{2}{\\left(\\theta_{1}{\\left(t \\right)} + \\theta_{2}{\\left(t \\right)} \\right)} \\tan^{2}{\\left(\\theta_{1}{\\left(t \\right)} \\right)} + m_{1} m_{2} \\tan^{2}{\\left(\\theta_{1}{\\left(t \\right)} + \\theta_{2}{\\left(t \\right)} \\right)} + m_{1} m_{2} \\tan^{2}{\\left(\\theta_{1}{\\left(t \\right)} \\right)} + m_{1} m_{2}}$"
      ],
      "text/plain": [
       "Eq(Derivative(\\theta_2(t), (t, 2)), k_1*m_2*tan(\\theta_1(t) + \\theta_2(t))**2*tan(\\theta_1(t))/(m_1*m_2*tan(\\theta_1(t) + \\theta_2(t))**2*tan(\\theta_1(t))**2 + m_1*m_2*tan(\\theta_1(t) + \\theta_2(t))**2 + m_1*m_2*tan(\\theta_1(t))**2 + m_1*m_2) + k_1*m_2*tan(\\theta_1(t))**3/(m_1*m_2*tan(\\theta_1(t) + \\theta_2(t))**2*tan(\\theta_1(t))**2 + m_1*m_2*tan(\\theta_1(t) + \\theta_2(t))**2 + m_1*m_2*tan(\\theta_1(t))**2 + m_1*m_2) + 2.0*k_1*m_2*tan(\\theta_1(t))/(m_1*m_2*tan(\\theta_1(t) + \\theta_2(t))**2*tan(\\theta_1(t))**2 + m_1*m_2*tan(\\theta_1(t) + \\theta_2(t))**2 + m_1*m_2*tan(\\theta_1(t))**2 + m_1*m_2) - k_2*m_1*tan(\\theta_1(t) + \\theta_2(t))*tan(\\theta_1(t))**2/(m_1*m_2*tan(\\theta_1(t) + \\theta_2(t))**2*tan(\\theta_1(t))**2 + m_1*m_2*tan(\\theta_1(t) + \\theta_2(t))**2 + m_1*m_2*tan(\\theta_1(t))**2 + m_1*m_2) - k_2*m_1*tan(\\theta_1(t) + \\theta_2(t))/(m_1*m_2*tan(\\theta_1(t) + \\theta_2(t))**2*tan(\\theta_1(t))**2 + m_1*m_2*tan(\\theta_1(t) + \\theta_2(t))**2 + m_1*m_2*tan(\\theta_1(t))**2 + m_1*m_2) + k_2*m_1*tan(\\theta_1(t))**3/(m_1*m_2*tan(\\theta_1(t) + \\theta_2(t))**2*tan(\\theta_1(t))**2 + m_1*m_2*tan(\\theta_1(t) + \\theta_2(t))**2 + m_1*m_2*tan(\\theta_1(t))**2 + m_1*m_2) + k_2*m_1*tan(\\theta_1(t))/(m_1*m_2*tan(\\theta_1(t) + \\theta_2(t))**2*tan(\\theta_1(t))**2 + m_1*m_2*tan(\\theta_1(t) + \\theta_2(t))**2 + m_1*m_2*tan(\\theta_1(t))**2 + m_1*m_2) - 2.0*k_2*m_2*tan(\\theta_1(t) + \\theta_2(t))**3/(m_1*m_2*tan(\\theta_1(t) + \\theta_2(t))**2*tan(\\theta_1(t))**2 + m_1*m_2*tan(\\theta_1(t) + \\theta_2(t))**2 + m_1*m_2*tan(\\theta_1(t))**2 + m_1*m_2) + 2.0*k_2*m_2*tan(\\theta_1(t) + \\theta_2(t))**2*tan(\\theta_1(t))/(m_1*m_2*tan(\\theta_1(t) + \\theta_2(t))**2*tan(\\theta_1(t))**2 + m_1*m_2*tan(\\theta_1(t) + \\theta_2(t))**2 + m_1*m_2*tan(\\theta_1(t))**2 + m_1*m_2) - 2.0*k_2*m_2*tan(\\theta_1(t) + \\theta_2(t))*tan(\\theta_1(t))**2/(m_1*m_2*tan(\\theta_1(t) + \\theta_2(t))**2*tan(\\theta_1(t))**2 + m_1*m_2*tan(\\theta_1(t) + \\theta_2(t))**2 + m_1*m_2*tan(\\theta_1(t))**2 + m_1*m_2) - 4.0*k_2*m_2*tan(\\theta_1(t) + \\theta_2(t))/(m_1*m_2*tan(\\theta_1(t) + \\theta_2(t))**2*tan(\\theta_1(t))**2 + m_1*m_2*tan(\\theta_1(t) + \\theta_2(t))**2 + m_1*m_2*tan(\\theta_1(t))**2 + m_1*m_2) + 2.0*k_2*m_2*tan(\\theta_1(t))**3/(m_1*m_2*tan(\\theta_1(t) + \\theta_2(t))**2*tan(\\theta_1(t))**2 + m_1*m_2*tan(\\theta_1(t) + \\theta_2(t))**2 + m_1*m_2*tan(\\theta_1(t))**2 + m_1*m_2) + 4.0*k_2*m_2*tan(\\theta_1(t))/(m_1*m_2*tan(\\theta_1(t) + \\theta_2(t))**2*tan(\\theta_1(t))**2 + m_1*m_2*tan(\\theta_1(t) + \\theta_2(t))**2 + m_1*m_2*tan(\\theta_1(t))**2 + m_1*m_2) - 2.0*m_1*m_2*tan(\\theta_1(t) + \\theta_2(t))**3*tan(\\theta_1(t))**2*Derivative(\\theta_1(t), t)**2/(m_1*m_2*tan(\\theta_1(t) + \\theta_2(t))**2*tan(\\theta_1(t))**2 + m_1*m_2*tan(\\theta_1(t) + \\theta_2(t))**2 + m_1*m_2*tan(\\theta_1(t))**2 + m_1*m_2) - 4.0*m_1*m_2*tan(\\theta_1(t) + \\theta_2(t))**3*tan(\\theta_1(t))**2*Derivative(\\theta_1(t), t)*Derivative(\\theta_2(t), t)/(m_1*m_2*tan(\\theta_1(t) + \\theta_2(t))**2*tan(\\theta_1(t))**2 + m_1*m_2*tan(\\theta_1(t) + \\theta_2(t))**2 + m_1*m_2*tan(\\theta_1(t))**2 + m_1*m_2) - 2.0*m_1*m_2*tan(\\theta_1(t) + \\theta_2(t))**3*tan(\\theta_1(t))**2*Derivative(\\theta_2(t), t)**2/(m_1*m_2*tan(\\theta_1(t) + \\theta_2(t))**2*tan(\\theta_1(t))**2 + m_1*m_2*tan(\\theta_1(t) + \\theta_2(t))**2 + m_1*m_2*tan(\\theta_1(t))**2 + m_1*m_2) - 2.0*m_1*m_2*tan(\\theta_1(t) + \\theta_2(t))**3*Derivative(\\theta_1(t), t)**2/(m_1*m_2*tan(\\theta_1(t) + \\theta_2(t))**2*tan(\\theta_1(t))**2 + m_1*m_2*tan(\\theta_1(t) + \\theta_2(t))**2 + m_1*m_2*tan(\\theta_1(t))**2 + m_1*m_2) - 4.0*m_1*m_2*tan(\\theta_1(t) + \\theta_2(t))**3*Derivative(\\theta_1(t), t)*Derivative(\\theta_2(t), t)/(m_1*m_2*tan(\\theta_1(t) + \\theta_2(t))**2*tan(\\theta_1(t))**2 + m_1*m_2*tan(\\theta_1(t) + \\theta_2(t))**2 + m_1*m_2*tan(\\theta_1(t))**2 + m_1*m_2) - 2.0*m_1*m_2*tan(\\theta_1(t) + \\theta_2(t))**3*Derivative(\\theta_2(t), t)**2/(m_1*m_2*tan(\\theta_1(t) + \\theta_2(t))**2*tan(\\theta_1(t))**2 + m_1*m_2*tan(\\theta_1(t) + \\theta_2(t))**2 + m_1*m_2*tan(\\theta_1(t))**2 + m_1*m_2) + 2.0*m_1*m_2*tan(\\theta_1(t) + \\theta_2(t))**2*tan(\\theta_1(t))**3*Derivative(\\theta_1(t), t)**2/(m_1*m_2*tan(\\theta_1(t) + \\theta_2(t))**2*tan(\\theta_1(t))**2 + m_1*m_2*tan(\\theta_1(t) + \\theta_2(t))**2 + m_1*m_2*tan(\\theta_1(t))**2 + m_1*m_2) + 2.0*m_1*m_2*tan(\\theta_1(t) + \\theta_2(t))**2*tan(\\theta_1(t))*Derivative(\\theta_1(t), t)**2/(m_1*m_2*tan(\\theta_1(t) + \\theta_2(t))**2*tan(\\theta_1(t))**2 + m_1*m_2*tan(\\theta_1(t) + \\theta_2(t))**2 + m_1*m_2*tan(\\theta_1(t))**2 + m_1*m_2) - 2.0*m_1*m_2*tan(\\theta_1(t) + \\theta_2(t))*tan(\\theta_1(t))**2*Derivative(\\theta_1(t), t)**2/(m_1*m_2*tan(\\theta_1(t) + \\theta_2(t))**2*tan(\\theta_1(t))**2 + m_1*m_2*tan(\\theta_1(t) + \\theta_2(t))**2 + m_1*m_2*tan(\\theta_1(t))**2 + m_1*m_2) - 4.0*m_1*m_2*tan(\\theta_1(t) + \\theta_2(t))*tan(\\theta_1(t))**2*Derivative(\\theta_1(t), t)*Derivative(\\theta_2(t), t)/(m_1*m_2*tan(\\theta_1(t) + \\theta_2(t))**2*tan(\\theta_1(t))**2 + m_1*m_2*tan(\\theta_1(t) + \\theta_2(t))**2 + m_1*m_2*tan(\\theta_1(t))**2 + m_1*m_2) - 2.0*m_1*m_2*tan(\\theta_1(t) + \\theta_2(t))*tan(\\theta_1(t))**2*Derivative(\\theta_2(t), t)**2/(m_1*m_2*tan(\\theta_1(t) + \\theta_2(t))**2*tan(\\theta_1(t))**2 + m_1*m_2*tan(\\theta_1(t) + \\theta_2(t))**2 + m_1*m_2*tan(\\theta_1(t))**2 + m_1*m_2) - 2.0*m_1*m_2*tan(\\theta_1(t) + \\theta_2(t))*Derivative(\\theta_1(t), t)**2/(m_1*m_2*tan(\\theta_1(t) + \\theta_2(t))**2*tan(\\theta_1(t))**2 + m_1*m_2*tan(\\theta_1(t) + \\theta_2(t))**2 + m_1*m_2*tan(\\theta_1(t))**2 + m_1*m_2) - 4.0*m_1*m_2*tan(\\theta_1(t) + \\theta_2(t))*Derivative(\\theta_1(t), t)*Derivative(\\theta_2(t), t)/(m_1*m_2*tan(\\theta_1(t) + \\theta_2(t))**2*tan(\\theta_1(t))**2 + m_1*m_2*tan(\\theta_1(t) + \\theta_2(t))**2 + m_1*m_2*tan(\\theta_1(t))**2 + m_1*m_2) - 2.0*m_1*m_2*tan(\\theta_1(t) + \\theta_2(t))*Derivative(\\theta_2(t), t)**2/(m_1*m_2*tan(\\theta_1(t) + \\theta_2(t))**2*tan(\\theta_1(t))**2 + m_1*m_2*tan(\\theta_1(t) + \\theta_2(t))**2 + m_1*m_2*tan(\\theta_1(t))**2 + m_1*m_2) + 2.0*m_1*m_2*tan(\\theta_1(t))**3*Derivative(\\theta_1(t), t)**2/(m_1*m_2*tan(\\theta_1(t) + \\theta_2(t))**2*tan(\\theta_1(t))**2 + m_1*m_2*tan(\\theta_1(t) + \\theta_2(t))**2 + m_1*m_2*tan(\\theta_1(t))**2 + m_1*m_2) + 2.0*m_1*m_2*tan(\\theta_1(t))*Derivative(\\theta_1(t), t)**2/(m_1*m_2*tan(\\theta_1(t) + \\theta_2(t))**2*tan(\\theta_1(t))**2 + m_1*m_2*tan(\\theta_1(t) + \\theta_2(t))**2 + m_1*m_2*tan(\\theta_1(t))**2 + m_1*m_2))"
      ]
     },
     "metadata": {},
     "output_type": "display_data"
    }
   ],
   "source": [
    "import sympy as sym\n",
    "from sympy import symbols, Eq, Function, Matrix, sin, cos, tan, solve, simplify\n",
    "from sympy.abc import t\n",
    "\n",
    "m1, m2, L, k1, k2 = symbols(r'm_1, m_2, L, k_1, k_2')\n",
    "th1 = Function(r'\\theta_1')(t)\n",
    "th2 = Function(r'\\theta_2')(t)\n",
    "\n",
    "\n",
    "x1 = L*tan(th1)\n",
    "x2 = L*tan(th1+th2) + x1\n",
    "x1dot = x1.diff(t)\n",
    "x2dot = x2.diff(t)\n",
    "\n",
    "KE = 0.5*m1*x1dot**2 + 0.5*m2*x2dot**2\n",
    "PE = 0.5*k1*x1**2 + 0.5*k2*(L*tan(th1+th2) - x1)**2\n",
    "\n",
    "L = KE - PE\n",
    "L = Matrix([L])\n",
    "\n",
    "#make vector q containing theta1 and theta2. This will make deriving the Jacobian easier\n",
    "q = Matrix([th1, th2])\n",
    "qdot = q.diff(t)\n",
    "qddot = qdot.diff(t)\n",
    "\n",
    "\n",
    "#take derivative of the Lagrangian wrt q = [theta1, theta2]\n",
    "dLdq = L.jacobian(q).T\n",
    "\n",
    "#symbolically compute dL/dq_dot terms of Euler-Lagrange equations\n",
    "dLdq_dot = L.jacobian(qdot).T\n",
    "\n",
    "#take time derivative of dL/dq_dot\n",
    "ddt_dL_dqdot = dLdq_dot.diff(t)\n",
    "\n",
    "#combine the previous terms to get lhs of Euler-Langrange equations\n",
    "eL = Eq(dLdq - ddt_dL_dqdot, Matrix([0, 0]))\n",
    "\n",
    "\n",
    "#symbolically solve for the x_ddot and t_ddot variables contained in vector q_ddot\n",
    "eL_solved = solve(eL, [qddot[0], qddot[1]]) #symbollically solve for each term in the E-L vector\n",
    "\n",
    "\n",
    "\n",
    "#display the solution for x_ddot and t_ddot\n",
    "print('=================================================')\n",
    "print()\n",
    "print('Equations of motion: ')\n",
    "for a in eL_solved:\n",
    "    print()\n",
    "    display(Eq(a, eL_solved[a]))\n",
    "\n"
   ]
  },
  {
   "cell_type": "markdown",
   "metadata": {
    "id": "Z-7OD_CSJfD-"
   },
   "source": [
    "## Problem 3 (10pts)\n",
    "\n",
    "For the same two-spring-mass system in Problem 2, show by example that Newton's equations do not hold in an arbitrary choice of coordinates (but they do, of course, hold in Cartesian coordinates). Your example should be implemented using Python's SymPy package.\n",
    "\n",
    "*Hint 1: In other words, you need to find a set of coordinates $q=[q_1,q_2]$, and compute the equations of motion ($F=ma=m\\ddot{q}$), showing that these equations of motion do not make the same prediction as Newton's laws in the Cartesian inertially fixed frame (where they are correct).*\n",
    "\n",
    "*Hint 2: Newton's equations don't hold in non-inertia coordinates. For the $x_1,x_2$ and $y_1,y_2$ coordinates shown in the image, one of them is non-inertia coordinate.*\n",
    "\n",
    "**Turn in: A copy of code you used to symbolically compute the equations of motion to show that Newton's equations don't hold. Also, include the output of the code, which should be the equations of motion under the chosen set of coordinates (indicate what coordinate you choose in the comments).**"
   ]
  },
  {
   "cell_type": "code",
   "execution_count": null,
   "metadata": {
    "id": "3RNr1YhuJfD-"
   },
   "outputs": [],
   "source": []
  },
  {
   "cell_type": "code",
   "execution_count": 37,
   "metadata": {
    "colab": {
     "base_uri": "https://localhost:8080/",
     "height": 377
    },
    "id": "oZjf1UFIJfEA",
    "outputId": "2bc149f4-f000-45f4-eeac-1659393c4d94"
   },
   "outputs": [
    {
     "data": {
      "text/html": [
       "<table><tr><td><img src='https://github.com/MuchenSun/ME314pngs/raw/master/dyndoublepend.png' width=500' height='350'></table>"
      ],
      "text/plain": [
       "<IPython.core.display.HTML object>"
      ]
     },
     "metadata": {},
     "output_type": "display_data"
    }
   ],
   "source": [
    "from IPython.core.display import HTML\n",
    "display(HTML(\"<table><tr><td><img src='https://github.com/MuchenSun/ME314pngs/raw/master/dyndoublepend.png' width=500' height='350'></table>\"))"
   ]
  },
  {
   "cell_type": "markdown",
   "metadata": {
    "id": "cIf0pSCiJfEC"
   },
   "source": [
    "## Problem 4 (10pts)\n",
    "\n",
    "For the same double-pendulum system hanging in gravity in Homework 2, take $q=[\\theta_1, \\theta_2]$ as the system configuration variables, with $R_1=R_2=1, m_1=m_2=1$. Symbolically compute the Hamiltonian of this system using Python's SymPy package.\n",
    "\n",
    "**Turn in: A copy of the code used to symbolically compute the Hamiltonian of the system, also include the output of the code, which should the Hamiltonian of the system.**"
   ]
  },
  {
   "cell_type": "code",
   "execution_count": 122,
   "metadata": {
    "id": "JoXuspHUJfED"
   },
   "outputs": [
    {
     "name": "stdout",
     "output_type": "stream",
     "text": [
      "The Lagrange equation: L = KE - PE: \n"
     ]
    },
    {
     "data": {
      "text/latex": [
       "$\\displaystyle L = R_{1}^{2} \\left(0.5 m_{1} + 0.5 m_{2}\\right) \\left(\\frac{d}{d t} \\theta_{1}{\\left(t \\right)}\\right)^{2} - R_{1} g \\left(- m_{1} - m_{2}\\right) \\cos{\\left(\\theta_{1}{\\left(t \\right)} \\right)} + R_{2} g m_{2} \\cos{\\left(\\theta_{2}{\\left(t \\right)} \\right)} + 0.5 m_{2} \\left(2 R_{1} R_{2} \\cos{\\left(\\theta_{1}{\\left(t \\right)} - \\theta_{2}{\\left(t \\right)} \\right)} \\frac{d}{d t} \\theta_{1}{\\left(t \\right)} \\frac{d}{d t} \\theta_{2}{\\left(t \\right)} + R_{2}^{2} \\left(\\frac{d}{d t} \\theta_{2}{\\left(t \\right)}\\right)^{2}\\right)$"
      ],
      "text/plain": [
       "Eq(L, R_1**2*(0.5*m_1 + 0.5*m_2)*Derivative(\\theta_1(t), t)**2 - R_1*g*(-m_1 - m_2)*cos(\\theta_1(t)) + R_2*g*m_2*cos(\\theta_2(t)) + 0.5*m_2*(2*R_1*R_2*cos(\\theta_1(t) - \\theta_2(t))*Derivative(\\theta_1(t), t)*Derivative(\\theta_2(t), t) + R_2**2*Derivative(\\theta_2(t), t)**2))"
      ]
     },
     "metadata": {},
     "output_type": "display_data"
    },
    {
     "name": "stdout",
     "output_type": "stream",
     "text": [
      "=================================================\n",
      "\n",
      "The Hamiltonian equation: H = 0.5*p*I^(-1)*p^T + PE: \n"
     ]
    },
    {
     "data": {
      "text/latex": [
       "$\\displaystyle H = - 2 g \\cos{\\left(\\theta_{1}{\\left(t \\right)} \\right)} - g \\cos{\\left(\\theta_{2}{\\left(t \\right)} \\right)} + 0.5 \\left(2 \\cos{\\left(\\theta_{1}{\\left(t \\right)} - \\theta_{2}{\\left(t \\right)} \\right)} \\frac{d}{d t} \\theta_{1}{\\left(t \\right)} + 2 \\frac{d}{d t} \\theta_{2}{\\left(t \\right)}\\right) \\frac{d}{d t} \\theta_{2}{\\left(t \\right)} + \\left(1.0 \\cos{\\left(\\theta_{1}{\\left(t \\right)} - \\theta_{2}{\\left(t \\right)} \\right)} \\frac{d}{d t} \\theta_{2}{\\left(t \\right)} + 2.0 \\frac{d}{d t} \\theta_{1}{\\left(t \\right)}\\right) \\frac{d}{d t} \\theta_{1}{\\left(t \\right)} - 1.0 \\cos{\\left(\\theta_{1}{\\left(t \\right)} - \\theta_{2}{\\left(t \\right)} \\right)} \\frac{d}{d t} \\theta_{1}{\\left(t \\right)} \\frac{d}{d t} \\theta_{2}{\\left(t \\right)} - 1.0 \\left(\\frac{d}{d t} \\theta_{1}{\\left(t \\right)}\\right)^{2} - 0.5 \\left(\\frac{d}{d t} \\theta_{2}{\\left(t \\right)}\\right)^{2}$"
      ],
      "text/plain": [
       "Eq(H, -2*g*cos(\\theta_1(t)) - g*cos(\\theta_2(t)) + 0.5*(2*cos(\\theta_1(t) - \\theta_2(t))*Derivative(\\theta_1(t), t) + 2*Derivative(\\theta_2(t), t))*Derivative(\\theta_2(t), t) + (1.0*cos(\\theta_1(t) - \\theta_2(t))*Derivative(\\theta_2(t), t) + 2.0*Derivative(\\theta_1(t), t))*Derivative(\\theta_1(t), t) - 1.0*cos(\\theta_1(t) - \\theta_2(t))*Derivative(\\theta_1(t), t)*Derivative(\\theta_2(t), t) - 1.0*Derivative(\\theta_1(t), t)**2 - 0.5*Derivative(\\theta_2(t), t)**2)"
      ]
     },
     "metadata": {},
     "output_type": "display_data"
    }
   ],
   "source": [
    "from sympy import Eq, Matrix, Inverse, Identity\n",
    "\n",
    "m1 = symbols('m_1')\n",
    "m2 = symbols('m_2')\n",
    "r1 = symbols('R_1')\n",
    "r2 = symbols('R_2')\n",
    "g = symbols('g')\n",
    "l = symbols('L')\n",
    "h = symbols('H')\n",
    "\n",
    "th1 = Function(r'\\theta_1')(t)\n",
    "th2 = Function(r'\\theta_2')(t)\n",
    "dth1 = th1.diff(t)\n",
    "dth2 = th2.diff(t)\n",
    "ddth1 = dth1.diff(t)\n",
    "ddth2 = dth2.diff(t)\n",
    "\n",
    "KE = 0.5*(m1+m2)*r1**2*dth1**2 + 0.5*m2*(r2**2*dth2**2 + 2*r1*r2*dth1*dth2*cos(th1-th2))\n",
    "PE = -1*(m1+m2)*g*r1*cos(th1) - m2*g*r2*cos(th2)\n",
    "L = KE - PE\n",
    "print(\"The Lagrange equation: L = KE - PE: \")\n",
    "display(Eq(l, L))\n",
    "\n",
    "L = Matrix([L])\n",
    "q = Matrix([th1, th2])\n",
    "qdot = q.diff(t)\n",
    "# display(L)\n",
    "\n",
    "#p = dL/dxdot\n",
    "p = L.jacobian(qdot)\n",
    "# display(p)\n",
    "\n",
    "# display(p*qdot)\n",
    "\n",
    "# compute the Hamiltonian: H = 0.5*p*I^(-1)*p^T + PE\n",
    "H = p*qdot - L\n",
    "H = H.subs({m1:1, m2:1, r1:1, r2:1})\n",
    "print('=================================================')\n",
    "print()\n",
    "print(\"The Hamiltonian equation: H = 0.5*p*I^(-1)*p^T + PE: \")\n",
    "display(Eq(h, H[0]))\n",
    "\n",
    "\n"
   ]
  },
  {
   "cell_type": "markdown",
   "metadata": {
    "id": "QE4_6zCVJfEE"
   },
   "source": [
    "## Problem 5 (10pts)\n",
    "\n",
    "Simulate the double-pendulum system in Problem 4 with initial condition $\\theta_1=\\theta_2=-\\frac{\\pi}{2}, \\dot{\\theta}_1=\\dot{\\theta}_2=0$ for $t\\in[0,10]$ and $dt=0.01$. Numerically evaluate the Hamiltonian of this system from the simulated trajectory, and plot it.\n",
    "\n",
    "*Hint 1: The Hamiltonian can be numerically evaluated as a function of $\\theta_1, \\theta_2, \\dot{\\theta}_1, \\dot{\\theta}_2$, which means for each time step in the simulated trajectory, you can compute the Hamiltonian for this time step, and store it in a list or array for plotting later. This doesn't need to be done during the numerical simulation, after you have the simulated the trajectory you can access each time step within another loop.*\n",
    "\n",
    "**Turn in: A copy of the code used to numerically evaluate and plot the Hamiltonian, also include the output of the code, which should be the plot of Hamiltonian.**"
   ]
  },
  {
   "cell_type": "code",
   "execution_count": null,
   "metadata": {
    "id": "hs_I0_pbJfEF"
   },
   "outputs": [],
   "source": []
  },
  {
   "cell_type": "markdown",
   "metadata": {
    "id": "RTgDT02eJfEG"
   },
   "source": [
    "## Problem 6 (15pts)\n",
    "\n",
    "In the previously provided code for simulation, the numerical integration is a forth-order Runge–Kutta integration. Now, write down your own numerical integration function using Euler's method, and use your numerical integration function to simulate the same double-pendulum system with same parameters and initial condition in Problem 4. Compute and plot the Hamiltonian from the simulated trajectory, what's the difference between two plots?\n",
    "\n",
    "*Hint 1: You will need to implement a new {\\tt integrate()} function. This function takes in three inputs: a function $f(x)$ representing the dynamics of the system state $x$ (you can consider it as $\\dot{x}=f(x)$), current state $x$ (for example $x(t)$ if $t$ is the current time step), and integration step length $dt$. This function should output $x(t+dt)$, for which the analytical solution is $x(t+dt) = x(t) + \\int_t^{t+dt} f(x(\\tau)) d\\tau$. Thus, you need to think about how to numerically evaluate this integration using Euler's method.*\n",
    "\n",
    "*Hint 2: The implemented function should have the same input-output structure as the previous one.*\n",
    "\n",
    "*Hint 3: After you implement the new integration function, you can use the same helper function ${\\tt simulate()}$ for simulation. You just need to input replace the integration function name as the new one (for example, your new function can be named as ${\\tt euler\\_integrate()}$). Please carefully read the comments in the ${\\tt simulate()}$ function. Below is the template/example of how to implement the new integration function and use it for simulation.*"
   ]
  },
  {
   "cell_type": "code",
   "execution_count": null,
   "metadata": {
    "id": "HCu1wbaOJfEH"
   },
   "outputs": [],
   "source": [
    "##########################################################################\n",
    "# Below is an example of how to implement a new integration\n",
    "# function and use it for simulation\n",
    "\n",
    "##########################################################################\n",
    "# This is the same \"simulate()\" function we provided\n",
    "# in previous homework. \n",
    "def simulate(f, x0, tspan, dt, integrate):\n",
    "    \"\"\"\n",
    "    This function takes in an initial condition x0, a timestep dt,\n",
    "    a time span tspan consisting of a list [min_time, max_time],\n",
    "    as well as a dynamical system f(x) that outputs a vector of the\n",
    "    same dimension as x0. It outputs a full trajectory simulated\n",
    "    over the time span of dimensions (xvec_size, time_vec_size).\n",
    "\n",
    "    Parameters\n",
    "    ============\n",
    "    f: Python function\n",
    "        derivate of the system at a given step x(t), \n",
    "        it can considered as \\dot{x}(t) = func(x(t))\n",
    "    x0: NumPy array\n",
    "        initial conditions\n",
    "    tspan: Python list\n",
    "        tspan = [min_time, max_time], it defines the start and end\n",
    "        time of simulation\n",
    "    dt:\n",
    "        time step for numerical integration\n",
    "    integrate: Python function\n",
    "        numerical integration method used in this simulation\n",
    "\n",
    "    Return\n",
    "    ============\n",
    "    x_traj:\n",
    "        simulated trajectory of x(t) from t=0 to tf\n",
    "    \"\"\"\n",
    "    N = int((max(tspan)-min(tspan))/dt)\n",
    "    x = np.copy(x0)\n",
    "    tvec = np.linspace(min(tspan),max(tspan),N)\n",
    "    xtraj = np.zeros((len(x0),N))\n",
    "    for i in range(N):\n",
    "        xtraj[:,i]=integrate(f,x,dt)\n",
    "        x = np.copy(xtraj[:,i])\n",
    "    return xtraj \n",
    "\n",
    "##########################################################################\n",
    "# This is the same \"integrate()\" function we provided in previous homework.\n",
    "def integrate(f, xt, dt):\n",
    "    \"\"\"\n",
    "    This function takes in an initial condition x(t) and a timestep dt,\n",
    "    as well as a dynamical system f(x) that outputs a vector of the\n",
    "    same dimension as x(t). It outputs a vector x(t+dt) at the future\n",
    "    time step.\n",
    "\n",
    "    Parameters\n",
    "    ============\n",
    "    dyn: Python function\n",
    "        derivate of the system at a given step x(t), \n",
    "        it can considered as \\dot{x}(t) = func(x(t))\n",
    "    xt: NumPy array\n",
    "        current step x(t)\n",
    "    dt: \n",
    "        step size for integration\n",
    "\n",
    "    Return\n",
    "    ============\n",
    "    new_xt: \n",
    "        value of x(t+dt) integrated from x(t)\n",
    "    \"\"\"\n",
    "    k1 = dt * f(xt)\n",
    "    k2 = dt * f(xt+k1/2.)\n",
    "    k3 = dt * f(xt+k2/2.)\n",
    "    k4 = dt * f(xt+k3)\n",
    "    new_xt = xt + (1/6.) * (k1+2.0*k2+2.0*k3+k4)\n",
    "    return new_xt\n",
    "\n",
    "##########################################################################\n",
    "# This is where you implement your new integration function for this \n",
    "# problem. Please make sure the new integration function has the same\n",
    "# input-output structure as the old one.\n",
    "def new_integrate(f, xt, dt):\n",
    "    \"\"\"\n",
    "    This function takes in an initial condition x(t) and a timestep dt,\n",
    "    as well as a dynamical system f(x) that outputs a vector of the\n",
    "    same dimension as x(t). It outputs a vector x(t+dt) at the future\n",
    "    time step.\n",
    "\n",
    "    Parameters\n",
    "    ============\n",
    "    dyn: Python function\n",
    "        derivate of the system at a given step x(t), \n",
    "        it can considered as \\dot{x}(t) = func(x(t))\n",
    "    xt: NumPy array\n",
    "        current step x(t)\n",
    "    dt: \n",
    "        step size for integration\n",
    "\n",
    "    Return\n",
    "    ============\n",
    "    new_xt: \n",
    "        value of x(t+dt) integrated from x(t)\n",
    "    \"\"\"\n",
    "    pass # you can start your implementation here\n",
    "\n",
    "##########################################################################\n",
    "# In this example, we're going to simulate a particle falling in gravity,\n",
    "# and assume that we already have the equations of motion (which you have\n",
    "# to use Euler-Lagrange equations to solve for in the homework, but you \n",
    "# should have that in last homework) \n",
    "import numpy as np\n",
    "\n",
    "def xddot(x, xdot):\n",
    "    return -9.8\n",
    "\n",
    "def dyn(s):\n",
    "    return np.array([s[1], xddot(s[0], s[1])])\n",
    "\n",
    "# define initial condition\n",
    "s0 = np.array([10, 0])\n",
    "\n",
    "##########################################################################\n",
    "# We first use the old integration function to simulate the system, please\n",
    "# carefully read the comments inside the \"simulate()\" function\n",
    "traj = simulate(f=dyn, x0=s0, tspan=[0,10], dt=0.01, integrate=integrate) \n",
    "# note that, here I pass the function arguments explicitly using the so-called \n",
    "# *keyword arguments*. It's not necessary, as long as the order of the arguments \n",
    "# are correct, you don't have to explicitly write down the keyword names. When \n",
    "# calling the function explicitly through keyword arguments, we have \"integrate=integrate\", \n",
    "# the first \"integrate\" indicates the argument name (you can see it in function definition), \n",
    "# and the second \"integrate\" is the name of the provided integration function. \n",
    "# You can also call the function as: \"traj = simulate(dyn, s0, [0,10], 0.01, integrate)\", \n",
    "# where \"integrate\" indicates the provided integration function name.\n",
    "\n",
    "##########################################################################\n",
    "# Based on the code above, once you finished your own integration function,\n",
    "# which is named here as \"new_integrate\" (but you really can name it \n",
    "# as anything you like), you can simulate the trajectory as:\n",
    "traj = simulate(f=dyn, x0=s0, tspan=[0,10], dt=0.01, integrate=new_integrate) \n",
    "# if you run this code now, of course if will not succeed, since you haven't implemented \n",
    "# \"new_integrate\" yet."
   ]
  },
  {
   "cell_type": "markdown",
   "metadata": {
    "id": "lZCQdFPwJfEJ"
   },
   "source": [
    "**Turn in: A copy of you numerical integration function (you only need to include the code for your new integration function), and the resulting plot of Hamiltonian.**"
   ]
  },
  {
   "cell_type": "code",
   "execution_count": null,
   "metadata": {
    "id": "Ui-Q2VJnJfEJ"
   },
   "outputs": [],
   "source": []
  },
  {
   "cell_type": "markdown",
   "metadata": {
    "id": "nmDyQNQKJfEL"
   },
   "source": [
    "## Problem 7 (20pts)\n",
    "\n",
    "For the same double-pendulum you simulated in Problem 4 with same parameters and initial condition, now add a constraint to the system such that the distance between the second pendulum and the origin is fixed at $\\sqrt{2}$. Simulate the system with same parameters and initial condition, and animate the system with the same animate function provided in homework 2.\n",
    "\n",
    "*Hint 1: What do you think the equations of motion should look like? Think about how the system will behave after adding the constraint. With no double, you can solve this problem using $\\phi$ and all the following results for constrained Euler-Lagrange equations, however, if you really understand this constrained system, things might be much easier, and you can actually treat it as an unconstrained system.*\n",
    "\n",
    "**Turn in: A copy of code used to numerically evaluate, simulate and animate the system. Also, upload the video of animation separately through Canvas, the video should be in \".mp4\" format, and you can use screen capture or record the screen directly with your phone.**"
   ]
  },
  {
   "cell_type": "code",
   "execution_count": null,
   "metadata": {
    "id": "r9bFKXjQJfEL"
   },
   "outputs": [],
   "source": []
  },
  {
   "cell_type": "markdown",
   "metadata": {
    "id": "Jvm71AhKJfEP"
   },
   "source": [
    "## Problem 8 (5pts)\n",
    "\n",
    "For the same system with same constraint in Problem 6, simulate the system with initial condition $\\theta_1=\\theta_2=-\\frac{\\pi}{4}$, which actually violates the constraint! Simulate the system and see what happen, what do you think is the actual influence after adding this constraint?\n",
    "\n",
    "**Turn in: Your thoughts about the actual effect of the constraint in this system (you don't need to include any code for this problem).**"
   ]
  },
  {
   "cell_type": "code",
   "execution_count": null,
   "metadata": {
    "id": "OHz3npTUJfEP"
   },
   "outputs": [],
   "source": []
  },
  {
   "cell_type": "code",
   "execution_count": null,
   "metadata": {
    "id": "w2lUJTijJfER"
   },
   "outputs": [],
   "source": []
  }
 ],
 "metadata": {
  "colab": {
   "collapsed_sections": [],
   "name": "hw3_template2.ipynb",
   "provenance": []
  },
  "kernelspec": {
   "display_name": "Python 3",
   "language": "python",
   "name": "python3"
  },
  "language_info": {
   "codemirror_mode": {
    "name": "ipython",
    "version": 3
   },
   "file_extension": ".py",
   "mimetype": "text/x-python",
   "name": "python",
   "nbconvert_exporter": "python",
   "pygments_lexer": "ipython3",
   "version": "3.8.5"
  }
 },
 "nbformat": 4,
 "nbformat_minor": 1
}
