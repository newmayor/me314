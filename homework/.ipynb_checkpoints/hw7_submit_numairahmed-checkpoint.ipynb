{
 "cells": [
  {
   "cell_type": "markdown",
   "metadata": {
    "id": "CPQA-QCdiov-"
   },
   "source": [
    "# ME314 Homework 7 (Template)\n",
    "\n",
    "*Please note that a **single** PDF file will be the only document that you turn in, which will include your answers to the problems with corresponding derivations and any code used to complete the problems. When including the code, please make sure you also include **code outputs**, and you don't need to include example code. Problems and deliverables that should be included with your submission are shown in **bold**.*\n",
    "\n",
    "*This Juputer Notebook file serves as a template for you to start homework, since we recommend to finish the homework using Jupyter Notebook. You can start with this notebook file with your local Jupyter environment, or upload it to Google Colab. You can include all the code and other deliverables in this notebook Jupyter Notebook supports $\\LaTeX$ for math equations, and you can export the whole notebook as a PDF file. But this is not the only option, if you are more comfortable with other ways, feel free to do so, as long as you can submit the homework in a single PDF file.*\n",
    "\n",
    "***"
   ]
  },
  {
   "cell_type": "code",
   "execution_count": 17,
   "metadata": {
    "colab": {
     "base_uri": "https://localhost:8080/"
    },
    "id": "1vKvR7-iiqev",
    "outputId": "753acb4d-cbc2-481b-ae37-64ec1ef337be"
   },
   "outputs": [
    {
     "name": "stdout",
     "output_type": "stream",
     "text": [
      "1.7.1\n"
     ]
    }
   ],
   "source": [
    "# !pip install --upgrade sympy\n",
    "import sympy as sym \n",
    "print(sym.__version__)"
   ]
  },
  {
   "cell_type": "markdown",
   "metadata": {
    "id": "KKv8APHOiov_"
   },
   "source": [
    "## Problem 1 (20pts)\n",
    "\n",
    "Show that if $R\\in SO(n)$, then the matrix $A=\\frac{d}{dt}(R)R^{-1}$ is skew symmetric.\n",
    "    \n",
    "**Turn in: A scanned (or photograph from your phone or webcam) copy of your hand written solution. Or you can use \\LaTeX.**"
   ]
  },
  {
   "cell_type": "code",
   "execution_count": null,
   "metadata": {
    "id": "mvTiu3i4iowA"
   },
   "outputs": [],
   "source": []
  },
  {
   "cell_type": "markdown",
   "metadata": {
    "id": "mFJJTUjBiowE"
   },
   "source": [
    "## Problem 2 (20pts)\n",
    "\n",
    "Show that $\\underline{\\widehat{\\omega}}\\,\\underline{r}_b= -\\underline{\\widehat{r}}_b\\, \\underline{\\omega}$. \n",
    "    \n",
    "**Turn in: A scanned (or photograph from your phone or webcam) copy of your hand written solution. Or you can use \\LaTeX.**"
   ]
  },
  {
   "cell_type": "code",
   "execution_count": null,
   "metadata": {
    "id": "Qnp1vO7NiowE"
   },
   "outputs": [],
   "source": []
  },
  {
   "cell_type": "code",
   "execution_count": 18,
   "metadata": {
    "colab": {
     "base_uri": "https://localhost:8080/",
     "height": 377
    },
    "id": "IyJRKHtFiowI",
    "outputId": "103a8fda-a833-4010-afb1-adbbf5f385d6",
    "scrolled": false
   },
   "outputs": [
    {
     "data": {
      "text/html": [
       "<table><tr><td><img src='https://github.com/MuchenSun/ME314pngs/raw/master/biped_simplified.jpg' width=700' height='350'></table>"
      ],
      "text/plain": [
       "<IPython.core.display.HTML object>"
      ]
     },
     "metadata": {},
     "output_type": "display_data"
    }
   ],
   "source": [
    "from IPython.core.display import HTML\n",
    "display(HTML(\"<table><tr><td><img src='https://github.com/MuchenSun/ME314pngs/raw/master/biped_simplified.jpg' width=700' height='350'></table>\"))"
   ]
  },
  {
   "cell_type": "markdown",
   "metadata": {
    "id": "G8bQPeEeiowN"
   },
   "source": [
    "## Problem 3 (60pts)\n",
    "\n",
    "As shown in the image, consider one is doing the splits. To simplify the model, we ignore the upper body and assume the knees can not bend --- which means we only need four variables $q=[x, y, \\theta_1, \\theta_2]$ to configure the system. $x$ and $y$ are the position of the intersection point of the two legs, $\\theta_1$ and $\\theta_2$ are the angles between the legs and the green vertical dash line. The feet are constrained on the ground, and there is no friction between the feet and the ground. \n",
    "    \n",
    "Each leg is a rigid body with length $L=1$, width $W=0.2$, mass $m=1$, and rotational inertia $J=1$ (assuming the center of mass is at the center of geometry). Moreover, there are two torques applied on $\\theta_1$ and $\\theta_2$ to control the legs to track a desired trajectory:\n",
    "$$\n",
    "\\begin{aligned}\n",
    "\\theta_1^d(t) & = \\frac{\\pi}{20} + \\frac{\\pi}{3} \\sin^2(\\frac{t}{2}) \\\\\n",
    "\\theta_2^d(t) & =-\\frac{\\pi}{20} - \\frac{\\pi}{3} \\sin^2(\\frac{t}{2})\n",
    "\\end{aligned}\n",
    "$$ and the torques are:\n",
    "$$\n",
    "\\begin{aligned}\n",
    "F_{\\theta_1 }& = -k_1(\\theta_1-\\theta_1^d)\\\\\n",
    "F_{\\theta_2} & = -k_1(\\theta_2-\\theta_2^d)\n",
    "\\end{aligned}\n",
    "$$ In this problem we use $k_1=20$. \n",
    "\n",
    "Given the model description above, define the frames that you need (several example frames are shown in the image as well), simulate the motion of the biped from rest for $t\\in[0,10], dt=0.01$, with initial condition $q=[0, L_1\\cos(\\frac{\\pi}{20}), \\frac{\\pi}{20}, -\\frac{\\pi}{20}]$. You will need to modify the animation function to display the leg as a rectangle, an example of the animation can be found at [https://youtu.be/w8XHYrEoWTc](https://youtu.be/w8XHYrEoWTc). \n",
    "\n",
    "*Hint 1: Even though this is a 2D system, in order to compute kinetic energy from both translation and rotation, you will need to model the system in 3D world --- the $z$ coordinate is always zero and the rotation is around $z$ axis (based on these facts, what should the SE(3) matrix and rotational inertia tensor look like?). This also means you need to represent transformation with SE(3) and the body velocity $\\mathcal{V}_b\\in\\mathbb{R}^6$.*\n",
    "\n",
    "*Hint 2: It could be helpful to define several helper functions for all the matrix operations you will need to use. For example, a function returns SE(3) matrices given rotation angle and 2D translation vector, functions for ''hat'' and ''unhat'' operations, a function for matrix inverse of SE(3) (which is definitely not the same as the SymPy matrix inverse function), and a function return the time derivative of SO(3) or SE(3).*\n",
    "\n",
    "*Hint 3: In this problem the external force depends on time $t$, therefore in order to solve for the symbolic solution you need to substitute your configuration variables, which are defined as symbolic functions of time $t$ (such as $\\theta_1(t)$ and $\\frac{d}{dt}\\theta_1(t)$), with dummy symbolic variables, and include $t$ as a separate symbol to be solved for. For the same reason (the dynamic now explicitly depends on time), you will need to do some tiny modifications on the ''integrate'' and ''simulate'' functions, a good reference can be found at [https://en.wikipedia.org/wiki/Runge-Kutta_methods](https://en.wikipedia.org/wiki/Runge-Kutta_methods).*\n",
    "\n",
    "*Hint 4: Symbolically solving this system should be fast, but if you encountered some problem when solving the dynamics symbolically, an alternative method is to solve the system numerically --- substitute in the system state at each time step during simulation and solve for the numerical solution --- but based on my experience, this would cost more than one hour for 500 time steps, so it's not recommended.*\n",
    "\n",
    "*Hint 5: The animation of this problem is similar to the one in last homework --- the coordinates of the vertices in the body frame are constant, you just need to transfer them back to the world frame using the the transformation matrices you already have in the simulation.*\n",
    "\n",
    "*Hint 6: Be careful to consider the relationship between the frames and to not build in any implicit assumptions (such as assuming some variables are fixed).*\n",
    "\n",
    "*Hint 7: The rotation, by convention, is assumed to follow the right hand rule, which means the z-axis is out of the screen and the positive rotation orientation is counter-clockwise. Make sure you follow a consistent set of positive directions for all the computation.*\n",
    "\n",
    "*Hint 8: This problem is designed as a ''mini-project'', it could help you estimate the complexity of your final project, and you could adjust your proposal based on your experience with this problem.*\n",
    "\n",
    "**Turn in: A copy of the code used to simulate and animate the system. Also, include a plot of the trajectory and upload a video of animation separately through Canvas. The video should be in \".mp4\" format, you can use screen capture or record the screen directly with your phone.**"
   ]
  },
  {
   "cell_type": "code",
   "execution_count": 19,
   "metadata": {
    "id": "uZ6LtTewiowO"
   },
   "outputs": [],
   "source": [
    "import sympy as sym\n",
    "from sympy import symbols, Function, Matrix, sin, cos, solve, simplify, lambdify, pi, Inverse\n",
    "from sympy.abc import t"
   ]
  },
  {
   "cell_type": "markdown",
   "metadata": {},
   "source": [
    "## config variables set up"
   ]
  },
  {
   "cell_type": "code",
   "execution_count": 20,
   "metadata": {},
   "outputs": [],
   "source": [
    "\n",
    "#define configuration variables \n",
    "x, y, th1, th2 = symbols(r'x, y, theta1, theta2')\n",
    "\n",
    "m, l1, l2, J, k, g, w = symbols('m, l1, l2, J, k, g, w')\n",
    "\n",
    "x = Function(r'x')(t)\n",
    "y = Function(r'y')(t)\n",
    "th1 = Function(r'theta1')(t)\n",
    "th2 = Function(r'theta2')(t)\n",
    "\n",
    "q = Matrix([x, y, th1, th2])\n",
    "qdot = q.diff(t)\n",
    "qddot = qdot.diff(t)\n",
    "\n",
    "#define the applied torque functions\n",
    "th_d1 = (pi/20) + (pi/3)*(sin(t/2)**2)\n",
    "th_d2 = -(pi/20) - (pi/3)*(sin(t/2)**2)\n",
    "trq1 = -k*(th1 - th_d1)\n",
    "trq2 = -k*(th2 - th_d2)\n",
    "\n",
    "trqs = Matrix([0, 0, trq1, trq2])\n"
   ]
  },
  {
   "cell_type": "markdown",
   "metadata": {},
   "source": [
    "## transformation matrices set up"
   ]
  },
  {
   "cell_type": "code",
   "execution_count": 21,
   "metadata": {},
   "outputs": [],
   "source": [
    "#set up transformation matrices (is it correct to call these quaternions?)\n",
    "g_wa = Matrix([\n",
    "    [1, 0, 0, x],\n",
    "    [0, 1, 0, y],\n",
    "    [0, 0, 1, 0],\n",
    "    [0, 0, 0, 1]\n",
    "])\n",
    "\n",
    "#rotation matrix for left leg\n",
    "g_wa_cw = Matrix([  \n",
    "    [cos(-th2), -sin(-th2), 0, 0],\n",
    "    [ sin(-th2), cos(-th2), 0, 0],\n",
    "    [0, 0, 1, 0],\n",
    "    [0, 0, 0, 1]\n",
    "])\n",
    "\n",
    "#rotation matrix for right leg\n",
    "g_wa_ccw = Matrix([\n",
    "    [cos(th1), -sin(th1), 0, 0],\n",
    "    [ sin(th1), cos(th1), 0, 0],\n",
    "    [0, 0, 1, 0],\n",
    "    [0, 0, 0, 1]\n",
    "])\n",
    "\n",
    "#translation from {A} to {C}\n",
    "g_ac = Matrix([\n",
    "    [1, 0, 0, 0],\n",
    "    [0, 1, 0, -l2/2],\n",
    "    [0, 0, 1, 0],\n",
    "    [0, 0, 0, 1]\n",
    "])\n",
    "\n",
    "#translation from {A} to {B}\n",
    "g_ab = Matrix([\n",
    "    [1, 0, 0, 0],\n",
    "    [0, 1, 0, -l1/2],\n",
    "    [0, 0, 1, 0],\n",
    "    [0, 0, 0, 1]\n",
    "])\n",
    "\n",
    "#translation from {C} to {E}\n",
    "g_ce = Matrix([\n",
    "    [1, 0, 0, 0],\n",
    "    [0, 1, 0, -l2/2],\n",
    "    [0, 0, 1, 0],\n",
    "    [0, 0, 0, 1]\n",
    "])\n",
    "\n",
    "#translation from {B} to {D}\n",
    "g_bd = Matrix([\n",
    "    [1, 0, 0, 0],\n",
    "    [0, 1, 0, -l1/2],\n",
    "    [0, 0, 1, 0],\n",
    "    [0, 0, 0, 1]\n",
    "])\n",
    "\n",
    "g_wc = g_wa * g_wa_cw * g_ac\n",
    "g_wb = g_wa * g_wa_ccw * g_ab\n",
    "\n",
    "g_we = g_wc * g_ce\n",
    "g_wd = g_wb * g_bd\n",
    "\n",
    "\n",
    "\n"
   ]
  },
  {
   "cell_type": "markdown",
   "metadata": {},
   "source": [
    "## compute Lagrangian"
   ]
  },
  {
   "cell_type": "code",
   "execution_count": 22,
   "metadata": {},
   "outputs": [
    {
     "name": "stdout",
     "output_type": "stream",
     "text": [
      "\n",
      "Lagrangian equation: \n"
     ]
    },
    {
     "data": {
      "text/latex": [
       "$\\displaystyle L = \\frac{g l_{1} m \\cos{\\left(\\theta_{1}{\\left(t \\right)} \\right)}}{2} + \\frac{g l_{2} m \\cos{\\left(\\theta_{2}{\\left(t \\right)} \\right)}}{2} - 2 g m y{\\left(t \\right)} + \\frac{l_{1}^{2} m \\left(\\frac{d}{d t} \\theta_{1}{\\left(t \\right)}\\right)^{2}}{8} + \\frac{l_{1} m \\sin{\\left(\\theta_{1}{\\left(t \\right)} \\right)} \\frac{d}{d t} \\theta_{1}{\\left(t \\right)} \\frac{d}{d t} y{\\left(t \\right)}}{2} + \\frac{l_{1} m \\cos{\\left(\\theta_{1}{\\left(t \\right)} \\right)} \\frac{d}{d t} \\theta_{1}{\\left(t \\right)} \\frac{d}{d t} x{\\left(t \\right)}}{2} + \\frac{l_{2}^{2} m \\left(\\frac{d}{d t} \\theta_{2}{\\left(t \\right)}\\right)^{2}}{8} + \\frac{l_{2} m \\sin{\\left(\\theta_{2}{\\left(t \\right)} \\right)} \\frac{d}{d t} \\theta_{2}{\\left(t \\right)} \\frac{d}{d t} y{\\left(t \\right)}}{2} - \\frac{l_{2} m \\cos{\\left(\\theta_{2}{\\left(t \\right)} \\right)} \\frac{d}{d t} \\theta_{2}{\\left(t \\right)} \\frac{d}{d t} x{\\left(t \\right)}}{2} + m \\left(\\frac{d}{d t} x{\\left(t \\right)}\\right)^{2} + m \\left(\\frac{d}{d t} y{\\left(t \\right)}\\right)^{2} + \\frac{\\left(\\frac{d}{d t} \\theta_{1}{\\left(t \\right)}\\right)^{2}}{2} + \\frac{\\left(\\frac{d}{d t} \\theta_{2}{\\left(t \\right)}\\right)^{2}}{2}$"
      ],
      "text/plain": [
       "Eq(L, g*l1*m*cos(theta1(t))/2 + g*l2*m*cos(theta2(t))/2 - 2*g*m*y(t) + l1**2*m*Derivative(theta1(t), t)**2/8 + l1*m*sin(theta1(t))*Derivative(theta1(t), t)*Derivative(y(t), t)/2 + l1*m*cos(theta1(t))*Derivative(theta1(t), t)*Derivative(x(t), t)/2 + l2**2*m*Derivative(theta2(t), t)**2/8 + l2*m*sin(theta2(t))*Derivative(theta2(t), t)*Derivative(y(t), t)/2 - l2*m*cos(theta2(t))*Derivative(theta2(t), t)*Derivative(x(t), t)/2 + m*Derivative(x(t), t)**2 + m*Derivative(y(t), t)**2 + Derivative(theta1(t), t)**2/2 + Derivative(theta2(t), t)**2/2)"
      ]
     },
     "metadata": {},
     "output_type": "display_data"
    },
    {
     "name": "stdout",
     "output_type": "stream",
     "text": [
      "=================================================\n"
     ]
    }
   ],
   "source": [
    "el = symbols('L')\n",
    "from sympy import Eq\n",
    "\n",
    "#define unhat function\n",
    "def unhat(g):\n",
    "    unhat_output = Matrix([0, 0, 0, 0, 0, 0])\n",
    "    \n",
    "    #select out individual elements to unhat the input matrix\n",
    "    unhat_output[0, 0] = g[0,3]\n",
    "    unhat_output[1, 0] = g[1,3]\n",
    "    unhat_output[2, 0] = g[2,3]\n",
    "    unhat_output[3, 0] = g[2,1]\n",
    "    unhat_output[4, 0] = -g[2,0]\n",
    "    unhat_output[5, 0] = g[1,0]\n",
    "    \n",
    "    return unhat_output\n",
    "\n",
    "#compute body velocity of left leg\n",
    "vleft_hat = simplify(Inverse(g_wc) * g_wc.diff(t))\n",
    "vleft = unhat(vleft_hat)    \n",
    "\n",
    "#compute body velocity of right leg\n",
    "vright_hat = simplify(Inverse(g_wb) * g_wb.diff(t))\n",
    "vright = unhat(vright_hat)    \n",
    "\n",
    "#inertia matrix\n",
    "inertia = Matrix([\n",
    "    [m, 0, 0, 0, 0, 0],\n",
    "    [0, m, 0, 0, 0, 0],\n",
    "    [0, 0, m, 0, 0, 0],\n",
    "    [0, 0, 0, 1, 0, 0],\n",
    "    [0, 0, 0, 0, 1, 0],\n",
    "    [0, 0, 0, 0, 0, 1],\n",
    "])\n",
    "\n",
    "KE = ((vleft.T)*inertia*vleft)/2 + ((vright.T)*inertia*vright)/2 \n",
    "V = m*g*(g_wc[1, 3] + g_wb[1,3])\n",
    "\n",
    "l = simplify(KE[0] - V)\n",
    "print()\n",
    "print(\"Lagrangian equation: \")\n",
    "display(Eq(el,l))\n",
    "print('=================================================')\n",
    "\n",
    "# l = l.subs()\n",
    "l = Matrix([l])\n",
    "dldq = l.jacobian(q).T\n",
    "dldqdot = l.jacobian(qdot).T\n",
    "dldqdot_dot = dldqdot.diff(t)\n"
   ]
  },
  {
   "cell_type": "markdown",
   "metadata": {},
   "source": [
    "## set up conditions for impact update by solving dL/dqdot, dphi/dq, and Hamiltonian"
   ]
  },
  {
   "cell_type": "code",
   "execution_count": 23,
   "metadata": {},
   "outputs": [
    {
     "name": "stdout",
     "output_type": "stream",
     "text": [
      "\n",
      "Euler-Lagragne equation: \n"
     ]
    },
    {
     "data": {
      "text/latex": [
       "$\\displaystyle \\left[\\begin{matrix}- \\frac{\\sin{\\left(\\theta_{1}{\\left(t \\right)} \\right)} \\left(\\frac{d}{d t} \\theta_{1}{\\left(t \\right)}\\right)^{2}}{2} + \\frac{\\sin{\\left(\\theta_{2}{\\left(t \\right)} \\right)} \\left(\\frac{d}{d t} \\theta_{2}{\\left(t \\right)}\\right)^{2}}{2} + \\frac{\\cos{\\left(\\theta_{1}{\\left(t \\right)} \\right)} \\frac{d^{2}}{d t^{2}} \\theta_{1}{\\left(t \\right)}}{2} - \\frac{\\cos{\\left(\\theta_{2}{\\left(t \\right)} \\right)} \\frac{d^{2}}{d t^{2}} \\theta_{2}{\\left(t \\right)}}{2} + 2 \\frac{d^{2}}{d t^{2}} x{\\left(t \\right)}\\\\\\frac{\\sin{\\left(\\theta_{1}{\\left(t \\right)} \\right)} \\frac{d^{2}}{d t^{2}} \\theta_{1}{\\left(t \\right)}}{2} + \\frac{\\sin{\\left(\\theta_{2}{\\left(t \\right)} \\right)} \\frac{d^{2}}{d t^{2}} \\theta_{2}{\\left(t \\right)}}{2} + \\frac{\\cos{\\left(\\theta_{1}{\\left(t \\right)} \\right)} \\left(\\frac{d}{d t} \\theta_{1}{\\left(t \\right)}\\right)^{2}}{2} + \\frac{\\cos{\\left(\\theta_{2}{\\left(t \\right)} \\right)} \\left(\\frac{d}{d t} \\theta_{2}{\\left(t \\right)}\\right)^{2}}{2} + 2 \\frac{d^{2}}{d t^{2}} y{\\left(t \\right)} + 19.6\\\\\\frac{\\sin{\\left(\\theta_{1}{\\left(t \\right)} \\right)} \\frac{d^{2}}{d t^{2}} y{\\left(t \\right)}}{2} + 4.9 \\sin{\\left(\\theta_{1}{\\left(t \\right)} \\right)} + \\frac{\\cos{\\left(\\theta_{1}{\\left(t \\right)} \\right)} \\frac{d^{2}}{d t^{2}} x{\\left(t \\right)}}{2} + \\frac{5 \\frac{d^{2}}{d t^{2}} \\theta_{1}{\\left(t \\right)}}{4}\\\\\\frac{\\sin{\\left(\\theta_{2}{\\left(t \\right)} \\right)} \\frac{d^{2}}{d t^{2}} y{\\left(t \\right)}}{2} + 4.9 \\sin{\\left(\\theta_{2}{\\left(t \\right)} \\right)} - \\frac{\\cos{\\left(\\theta_{2}{\\left(t \\right)} \\right)} \\frac{d^{2}}{d t^{2}} x{\\left(t \\right)}}{2} + \\frac{5 \\frac{d^{2}}{d t^{2}} \\theta_{2}{\\left(t \\right)}}{4}\\\\\\sin{\\left(\\theta_{1}{\\left(t \\right)} \\right)} \\frac{d^{2}}{d t^{2}} \\theta_{1}{\\left(t \\right)} + \\cos{\\left(\\theta_{1}{\\left(t \\right)} \\right)} \\left(\\frac{d}{d t} \\theta_{1}{\\left(t \\right)}\\right)^{2} + \\frac{d^{2}}{d t^{2}} y{\\left(t \\right)}\\\\\\sin{\\left(\\theta_{2}{\\left(t \\right)} \\right)} \\frac{d^{2}}{d t^{2}} \\theta_{2}{\\left(t \\right)} + \\cos{\\left(\\theta_{2}{\\left(t \\right)} \\right)} \\left(\\frac{d}{d t} \\theta_{2}{\\left(t \\right)}\\right)^{2} + \\frac{d^{2}}{d t^{2}} y{\\left(t \\right)}\\end{matrix}\\right] = \\left[\\begin{matrix}0\\\\\\lambda_{1} + \\lambda_{2}\\\\\\lambda_{2} \\sin{\\left(\\theta_{1}{\\left(t \\right)} \\right)} - 20 \\theta_{1}{\\left(t \\right)} + \\frac{20 \\pi \\sin^{2}{\\left(\\frac{t}{2} \\right)}}{3} + \\pi\\\\\\lambda_{1} \\sin{\\left(\\theta_{2}{\\left(t \\right)} \\right)} - 20 \\theta_{2}{\\left(t \\right)} - \\frac{20 \\pi \\sin^{2}{\\left(\\frac{t}{2} \\right)}}{3} - \\pi\\\\0\\\\0\\end{matrix}\\right]$"
      ],
      "text/plain": [
       "Eq(Matrix([\n",
       "[      -sin(theta1(t))*Derivative(theta1(t), t)**2/2 + sin(theta2(t))*Derivative(theta2(t), t)**2/2 + cos(theta1(t))*Derivative(theta1(t), (t, 2))/2 - cos(theta2(t))*Derivative(theta2(t), (t, 2))/2 + 2*Derivative(x(t), (t, 2))],\n",
       "[sin(theta1(t))*Derivative(theta1(t), (t, 2))/2 + sin(theta2(t))*Derivative(theta2(t), (t, 2))/2 + cos(theta1(t))*Derivative(theta1(t), t)**2/2 + cos(theta2(t))*Derivative(theta2(t), t)**2/2 + 2*Derivative(y(t), (t, 2)) + 19.6],\n",
       "[                                                                                   sin(theta1(t))*Derivative(y(t), (t, 2))/2 + 4.9*sin(theta1(t)) + cos(theta1(t))*Derivative(x(t), (t, 2))/2 + 5*Derivative(theta1(t), (t, 2))/4],\n",
       "[                                                                                   sin(theta2(t))*Derivative(y(t), (t, 2))/2 + 4.9*sin(theta2(t)) - cos(theta2(t))*Derivative(x(t), (t, 2))/2 + 5*Derivative(theta2(t), (t, 2))/4],\n",
       "[                                                                                                             sin(theta1(t))*Derivative(theta1(t), (t, 2)) + cos(theta1(t))*Derivative(theta1(t), t)**2 + Derivative(y(t), (t, 2))],\n",
       "[                                                                                                             sin(theta2(t))*Derivative(theta2(t), (t, 2)) + cos(theta2(t))*Derivative(theta2(t), t)**2 + Derivative(y(t), (t, 2))]]), Matrix([\n",
       "[                                                               0],\n",
       "[                                               lambda1 + lambda2],\n",
       "[lambda2*sin(theta1(t)) - 20*theta1(t) + 20*pi*sin(t/2)**2/3 + pi],\n",
       "[lambda1*sin(theta2(t)) - 20*theta2(t) - 20*pi*sin(t/2)**2/3 - pi],\n",
       "[                                                               0],\n",
       "[                                                               0]]))"
      ]
     },
     "metadata": {},
     "output_type": "display_data"
    },
    {
     "name": "stdout",
     "output_type": "stream",
     "text": [
      "=================================================\n"
     ]
    }
   ],
   "source": [
    "lam1, lam2 = symbols('lambda1, lambda2')\n",
    "\n",
    "#have to set up impact update equations for each leg individually\n",
    "\n",
    "#impact update for left leg:\n",
    "phi1 = g_wc[1,3] - 0.5*cos(th2)\n",
    "phi1_dot = phi1.diff(t)\n",
    "phi1_ddot = phi1_dot.diff(t)\n",
    "phi1_gradient = Matrix([phi1]).jacobian(q).T\n",
    "\n",
    "#impact update for right leg:\n",
    "phi2 = g_wb[1,3] - 0.5*cos(th1)\n",
    "phi2_dot = phi2.diff(t)\n",
    "phi2_ddot = phi2_dot.diff(t)\n",
    "phi2_gradient = Matrix([phi2]).jacobian(q).T\n",
    "\n",
    "#derive Euler-Lagrange equation\n",
    "rhs = simplify((dldqdot_dot - dldq).row_insert(5, Matrix([phi2_ddot])).row_insert(6, Matrix([phi1_ddot])))\n",
    "lhs = simplify((phi1_gradient*lam1 + phi2_gradient*lam2 + trqs).row_insert(5, Matrix([0])).row_insert(6, Matrix([0])))\n",
    "eL = Eq(rhs, lhs)\n",
    "eL = eL.subs({l1:1, l2:1, w:0.2, m:1, J:1, k:20, g:9.8})\n",
    "print()\n",
    "print(\"Euler-Lagragne equation: \")\n",
    "display(eL)\n",
    "print('=================================================')\n",
    "\n",
    "\n"
   ]
  },
  {
   "cell_type": "code",
   "execution_count": 47,
   "metadata": {},
   "outputs": [],
   "source": [
    "qddot_star = Matrix([(x.diff(t)).diff(t), (y.diff(t)).diff(t), (th1.diff(t)).diff(t), (th2.diff(t)).diff(t), lam1, lam2])\n",
    "\n",
    "eL_soln = solve(eL, [qddot_star[0], qddot_star[1], qddot_star[2], qddot_star[3], qddot_star[4], qddot_star[5]], dict=True)"
   ]
  },
  {
   "cell_type": "code",
   "execution_count": 50,
   "metadata": {
    "scrolled": false
   },
   "outputs": [
    {
     "data": {
      "text/latex": [
       "$\\displaystyle \\left[\\begin{matrix}\\frac{d^{2}}{d t^{2}} x{\\left(t \\right)} & \\frac{d^{2}}{d t^{2}} y{\\left(t \\right)} & \\frac{d^{2}}{d t^{2}} \\theta_{1}{\\left(t \\right)} & \\frac{d^{2}}{d t^{2}} \\theta_{2}{\\left(t \\right)} & \\lambda_{1} & \\lambda_{2}\\end{matrix}\\right]$"
      ],
      "text/plain": [
       "Matrix([[Derivative(x(t), (t, 2)), Derivative(y(t), (t, 2)), Derivative(theta1(t), (t, 2)), Derivative(theta2(t), (t, 2)), lambda1, lambda2]])"
      ]
     },
     "metadata": {},
     "output_type": "display_data"
    },
    {
     "data": {
      "text/latex": [
       "$\\displaystyle \\frac{d^{2}}{d t^{2}} x{\\left(t \\right)} = \\frac{- 1200.0 \\theta_{1}{\\left(t \\right)} \\sin{\\left(\\theta_{1}{\\left(t \\right)} - \\theta_{2}{\\left(t \\right)} \\right)} \\sin{\\left(\\theta_{2}{\\left(t \\right)} \\right)} - 1200.0 \\theta_{2}{\\left(t \\right)} \\sin{\\left(\\theta_{1}{\\left(t \\right)} - \\theta_{2}{\\left(t \\right)} \\right)} \\sin{\\left(\\theta_{1}{\\left(t \\right)} \\right)} - 1256.63706143592 \\sin^{2}{\\left(0.5 t \\right)} \\sin{\\left(\\theta_{1}{\\left(t \\right)} - \\theta_{2}{\\left(t \\right)} \\right)} \\sin{\\left(\\theta_{1}{\\left(t \\right)} \\right)} + 1256.63706143592 \\sin^{2}{\\left(0.5 t \\right)} \\sin{\\left(\\theta_{1}{\\left(t \\right)} - \\theta_{2}{\\left(t \\right)} \\right)} \\sin{\\left(\\theta_{2}{\\left(t \\right)} \\right)} + 588.0 \\sin{\\left(\\theta_{1}{\\left(t \\right)} - \\theta_{2}{\\left(t \\right)} \\right)} \\sin{\\left(\\theta_{1}{\\left(t \\right)} \\right)} \\sin{\\left(\\theta_{2}{\\left(t \\right)} \\right)} - 188.495559215388 \\sin{\\left(\\theta_{1}{\\left(t \\right)} - \\theta_{2}{\\left(t \\right)} \\right)} \\sin{\\left(\\theta_{1}{\\left(t \\right)} \\right)} + 188.495559215388 \\sin{\\left(\\theta_{1}{\\left(t \\right)} - \\theta_{2}{\\left(t \\right)} \\right)} \\sin{\\left(\\theta_{2}{\\left(t \\right)} \\right)} - 75.0 \\sin{\\left(\\theta_{1}{\\left(t \\right)} \\right)} \\cos{\\left(\\theta_{1}{\\left(t \\right)} - \\theta_{2}{\\left(t \\right)} \\right)} \\left(\\frac{d}{d t} \\theta_{2}{\\left(t \\right)}\\right)^{2} + 75.0 \\sin{\\left(\\theta_{1}{\\left(t \\right)} \\right)} \\left(\\frac{d}{d t} \\theta_{1}{\\left(t \\right)}\\right)^{2} + 75.0 \\sin{\\left(\\theta_{2}{\\left(t \\right)} \\right)} \\cos{\\left(\\theta_{1}{\\left(t \\right)} - \\theta_{2}{\\left(t \\right)} \\right)} \\left(\\frac{d}{d t} \\theta_{1}{\\left(t \\right)}\\right)^{2} - 75.0 \\sin{\\left(\\theta_{2}{\\left(t \\right)} \\right)} \\left(\\frac{d}{d t} \\theta_{2}{\\left(t \\right)}\\right)^{2}}{270.0 \\sin^{2}{\\left(\\theta_{1}{\\left(t \\right)} \\right)} + 60.0 \\sin{\\left(\\theta_{1}{\\left(t \\right)} \\right)} \\sin{\\left(\\theta_{2}{\\left(t \\right)} \\right)} \\cos{\\left(\\theta_{1}{\\left(t \\right)} - \\theta_{2}{\\left(t \\right)} \\right)} + 270.0 \\sin^{2}{\\left(\\theta_{2}{\\left(t \\right)} \\right)}}$"
      ],
      "text/plain": [
       "Eq(Derivative(x(t), (t, 2)), (-1200.0*theta1(t)*sin(theta1(t) - theta2(t))*sin(theta2(t)) - 1200.0*theta2(t)*sin(theta1(t) - theta2(t))*sin(theta1(t)) - 1256.63706143592*sin(0.5*t)**2*sin(theta1(t) - theta2(t))*sin(theta1(t)) + 1256.63706143592*sin(0.5*t)**2*sin(theta1(t) - theta2(t))*sin(theta2(t)) + 588.0*sin(theta1(t) - theta2(t))*sin(theta1(t))*sin(theta2(t)) - 188.495559215388*sin(theta1(t) - theta2(t))*sin(theta1(t)) + 188.495559215388*sin(theta1(t) - theta2(t))*sin(theta2(t)) - 75.0*sin(theta1(t))*cos(theta1(t) - theta2(t))*Derivative(theta2(t), t)**2 + 75.0*sin(theta1(t))*Derivative(theta1(t), t)**2 + 75.0*sin(theta2(t))*cos(theta1(t) - theta2(t))*Derivative(theta1(t), t)**2 - 75.0*sin(theta2(t))*Derivative(theta2(t), t)**2)/(270.0*sin(theta1(t))**2 + 60.0*sin(theta1(t))*sin(theta2(t))*cos(theta1(t) - theta2(t)) + 270.0*sin(theta2(t))**2))"
      ]
     },
     "metadata": {},
     "output_type": "display_data"
    },
    {
     "data": {
      "text/latex": [
       "$\\displaystyle \\frac{d^{2}}{d t^{2}} y{\\left(t \\right)} = \\frac{- 3.75 \\left(\\cos{\\left(\\theta_{1}{\\left(t \\right)} - 2 \\theta_{2}{\\left(t \\right)} \\right)} - \\cos{\\left(\\theta_{1}{\\left(t \\right)} + 2 \\theta_{2}{\\left(t \\right)} \\right)}\\right) \\left(\\frac{d}{d t} \\theta_{1}{\\left(t \\right)}\\right)^{2} - 3.75 \\left(\\cos{\\left(2 \\theta_{1}{\\left(t \\right)} - \\theta_{2}{\\left(t \\right)} \\right)} - \\cos{\\left(2 \\theta_{1}{\\left(t \\right)} + \\theta_{2}{\\left(t \\right)} \\right)}\\right) \\left(\\frac{d}{d t} \\theta_{2}{\\left(t \\right)}\\right)^{2} + 2400.0 \\theta_{1}{\\left(t \\right)} \\sin{\\left(\\theta_{1}{\\left(t \\right)} \\right)} \\sin^{2}{\\left(\\theta_{2}{\\left(t \\right)} \\right)} + 2400.0 \\theta_{2}{\\left(t \\right)} \\sin^{2}{\\left(\\theta_{1}{\\left(t \\right)} \\right)} \\sin{\\left(\\theta_{2}{\\left(t \\right)} \\right)} + 2513.27412287183 \\sin^{2}{\\left(0.5 t \\right)} \\sin^{2}{\\left(\\theta_{1}{\\left(t \\right)} \\right)} \\sin{\\left(\\theta_{2}{\\left(t \\right)} \\right)} - 2513.27412287183 \\sin^{2}{\\left(0.5 t \\right)} \\sin{\\left(\\theta_{1}{\\left(t \\right)} \\right)} \\sin^{2}{\\left(\\theta_{2}{\\left(t \\right)} \\right)} + 15.0 \\sin^{2}{\\left(\\theta_{1}{\\left(t \\right)} \\right)} \\sin^{2}{\\left(\\theta_{2}{\\left(t \\right)} \\right)} \\cos{\\left(\\theta_{1}{\\left(t \\right)} \\right)} \\left(\\frac{d}{d t} \\theta_{1}{\\left(t \\right)}\\right)^{2} + 15.0 \\sin^{2}{\\left(\\theta_{1}{\\left(t \\right)} \\right)} \\sin^{2}{\\left(\\theta_{2}{\\left(t \\right)} \\right)} \\cos{\\left(\\theta_{2}{\\left(t \\right)} \\right)} \\left(\\frac{d}{d t} \\theta_{2}{\\left(t \\right)}\\right)^{2} - 1176.0 \\sin^{2}{\\left(\\theta_{1}{\\left(t \\right)} \\right)} \\sin^{2}{\\left(\\theta_{2}{\\left(t \\right)} \\right)} + 376.991118430775 \\sin^{2}{\\left(\\theta_{1}{\\left(t \\right)} \\right)} \\sin{\\left(\\theta_{2}{\\left(t \\right)} \\right)} + 15.0 \\sin^{2}{\\left(\\theta_{1}{\\left(t \\right)} \\right)} \\cos^{3}{\\left(\\theta_{2}{\\left(t \\right)} \\right)} \\left(\\frac{d}{d t} \\theta_{2}{\\left(t \\right)}\\right)^{2} - 150.0 \\sin^{2}{\\left(\\theta_{1}{\\left(t \\right)} \\right)} \\cos{\\left(\\theta_{2}{\\left(t \\right)} \\right)} \\left(\\frac{d}{d t} \\theta_{2}{\\left(t \\right)}\\right)^{2} - 376.991118430775 \\sin{\\left(\\theta_{1}{\\left(t \\right)} \\right)} \\sin^{2}{\\left(\\theta_{2}{\\left(t \\right)} \\right)} + 15.0 \\sin^{2}{\\left(\\theta_{2}{\\left(t \\right)} \\right)} \\cos^{3}{\\left(\\theta_{1}{\\left(t \\right)} \\right)} \\left(\\frac{d}{d t} \\theta_{1}{\\left(t \\right)}\\right)^{2} - 150.0 \\sin^{2}{\\left(\\theta_{2}{\\left(t \\right)} \\right)} \\cos{\\left(\\theta_{1}{\\left(t \\right)} \\right)} \\left(\\frac{d}{d t} \\theta_{1}{\\left(t \\right)}\\right)^{2}}{135.0 \\sin^{2}{\\left(\\theta_{1}{\\left(t \\right)} \\right)} + 30.0 \\sin{\\left(\\theta_{1}{\\left(t \\right)} \\right)} \\sin{\\left(\\theta_{2}{\\left(t \\right)} \\right)} \\cos{\\left(\\theta_{1}{\\left(t \\right)} - \\theta_{2}{\\left(t \\right)} \\right)} + 135.0 \\sin^{2}{\\left(\\theta_{2}{\\left(t \\right)} \\right)}}$"
      ],
      "text/plain": [
       "Eq(Derivative(y(t), (t, 2)), (-3.75*(cos(theta1(t) - 2*theta2(t)) - cos(theta1(t) + 2*theta2(t)))*Derivative(theta1(t), t)**2 - 3.75*(cos(2*theta1(t) - theta2(t)) - cos(2*theta1(t) + theta2(t)))*Derivative(theta2(t), t)**2 + 2400.0*theta1(t)*sin(theta1(t))*sin(theta2(t))**2 + 2400.0*theta2(t)*sin(theta1(t))**2*sin(theta2(t)) + 2513.27412287183*sin(0.5*t)**2*sin(theta1(t))**2*sin(theta2(t)) - 2513.27412287183*sin(0.5*t)**2*sin(theta1(t))*sin(theta2(t))**2 + 15.0*sin(theta1(t))**2*sin(theta2(t))**2*cos(theta1(t))*Derivative(theta1(t), t)**2 + 15.0*sin(theta1(t))**2*sin(theta2(t))**2*cos(theta2(t))*Derivative(theta2(t), t)**2 - 1176.0*sin(theta1(t))**2*sin(theta2(t))**2 + 376.991118430775*sin(theta1(t))**2*sin(theta2(t)) + 15.0*sin(theta1(t))**2*cos(theta2(t))**3*Derivative(theta2(t), t)**2 - 150.0*sin(theta1(t))**2*cos(theta2(t))*Derivative(theta2(t), t)**2 - 376.991118430775*sin(theta1(t))*sin(theta2(t))**2 + 15.0*sin(theta2(t))**2*cos(theta1(t))**3*Derivative(theta1(t), t)**2 - 150.0*sin(theta2(t))**2*cos(theta1(t))*Derivative(theta1(t), t)**2)/(135.0*sin(theta1(t))**2 + 30.0*sin(theta1(t))*sin(theta2(t))*cos(theta1(t) - theta2(t)) + 135.0*sin(theta2(t))**2))"
      ]
     },
     "metadata": {},
     "output_type": "display_data"
    }
   ],
   "source": [
    "display(qddot_star.T)\n",
    "\n",
    "for solution in eL_soln:\n",
    "    for j in [qddot_star[0], qddot_star[1]]:\n",
    "#         display(solution[j])\n",
    "        sol = Eq(j, simplify(solution[j]))\n",
    "        display(simplify(sol))"
   ]
  },
  {
   "cell_type": "code",
   "execution_count": 26,
   "metadata": {
    "scrolled": true
   },
   "outputs": [],
   "source": [
    "# display(eL_soln)"
   ]
  },
  {
   "cell_type": "code",
   "execution_count": null,
   "metadata": {},
   "outputs": [],
   "source": []
  }
 ],
 "metadata": {
  "colab": {
   "collapsed_sections": [],
   "name": "hw7_template2.ipynb",
   "provenance": []
  },
  "kernelspec": {
   "display_name": "Python 3",
   "language": "python",
   "name": "python3"
  },
  "language_info": {
   "codemirror_mode": {
    "name": "ipython",
    "version": 3
   },
   "file_extension": ".py",
   "mimetype": "text/x-python",
   "name": "python",
   "nbconvert_exporter": "python",
   "pygments_lexer": "ipython3",
   "version": "3.8.5"
  }
 },
 "nbformat": 4,
 "nbformat_minor": 1
}
