{
 "cells": [
  {
   "cell_type": "code",
   "execution_count": 7,
   "id": "4f0c2465",
   "metadata": {},
   "outputs": [
    {
     "data": {
      "text/html": [
       "<table><tr><td><img src='https://raw.githubusercontent.com/MuchenSun/ME314pngs/master/dyninvpend.png' width=500' height='350'></table>"
      ],
      "text/plain": [
       "<IPython.core.display.HTML object>"
      ]
     },
     "metadata": {},
     "output_type": "display_data"
    },
    {
     "data": {
      "text/latex": [
       "$\\displaystyle 0.5 M \\left(\\frac{d}{d t} x{\\left(t \\right)}\\right)^{2} - R g m \\cos{\\left(\\theta{\\left(t \\right)} \\right)} + 0.5 m \\left(R^{2} \\sin^{2}{\\left(\\theta{\\left(t \\right)} \\right)} \\left(\\frac{d}{d t} \\theta{\\left(t \\right)}\\right)^{2} + \\left(R \\cos{\\left(\\theta{\\left(t \\right)} \\right)} \\frac{d}{d t} \\theta{\\left(t \\right)} + \\frac{d}{d t} x{\\left(t \\right)}\\right)^{2}\\right)$"
      ],
      "text/plain": [
       "0.5*M*Derivative(x(t), t)**2 - R*g*m*cos(\\theta(t)) + 0.5*m*(R**2*sin(\\theta(t))**2*Derivative(\\theta(t), t)**2 + (R*cos(\\theta(t))*Derivative(\\theta(t), t) + Derivative(x(t), t))**2)"
      ]
     },
     "metadata": {},
     "output_type": "display_data"
    },
    {
     "name": "stdout",
     "output_type": "stream",
     "text": [
      "=================\n",
      "\n",
      "Euler-Lagrangian equation solved for linear acceleration x_ddot: \n",
      "\n",
      "x_ddot = \n"
     ]
    },
    {
     "data": {
      "text/latex": [
       "$\\displaystyle \\frac{R m \\left(\\sin{\\left(\\theta{\\left(t \\right)} \\right)} \\left(\\frac{d}{d t} \\theta{\\left(t \\right)}\\right)^{2} - \\cos{\\left(\\theta{\\left(t \\right)} \\right)} \\frac{d^{2}}{d t^{2}} \\theta{\\left(t \\right)}\\right)}{M + m}$"
      ],
      "text/plain": [
       "R*m*(sin(\\theta(t))*Derivative(\\theta(t), t)**2 - cos(\\theta(t))*Derivative(\\theta(t), (t, 2)))/(M + m)"
      ]
     },
     "metadata": {},
     "output_type": "display_data"
    },
    {
     "name": "stdout",
     "output_type": "stream",
     "text": [
      "=================\n",
      "\n",
      "Euler-Lagrangian equation solved for angular acceleration theta_ddot: \n",
      "\n",
      "theta_ddot = \n"
     ]
    },
    {
     "data": {
      "text/latex": [
       "$\\displaystyle \\frac{g \\sin{\\left(\\theta{\\left(t \\right)} \\right)} - \\cos{\\left(\\theta{\\left(t \\right)} \\right)} \\frac{d^{2}}{d t^{2}} x{\\left(t \\right)}}{R}$"
      ],
      "text/plain": [
       "(g*sin(\\theta(t)) - cos(\\theta(t))*Derivative(x(t), (t, 2)))/R"
      ]
     },
     "metadata": {},
     "output_type": "display_data"
    },
    {
     "ename": "NameError",
     "evalue": "name 'Derivative' is not defined",
     "output_type": "error",
     "traceback": [
      "\u001b[0;31m---------------------------------------------------------------------------\u001b[0m",
      "\u001b[0;31mNameError\u001b[0m                                 Traceback (most recent call last)",
      "\u001b[0;32m<ipython-input-7-f6af17b0aa0e>\u001b[0m in \u001b[0;36m<module>\u001b[0;34m\u001b[0m\n\u001b[1;32m     72\u001b[0m \u001b[0msoln_theta\u001b[0m \u001b[0;34m=\u001b[0m \u001b[0msym\u001b[0m\u001b[0;34m.\u001b[0m\u001b[0mlambdify\u001b[0m\u001b[0;34m(\u001b[0m\u001b[0;34m[\u001b[0m\u001b[0mx\u001b[0m\u001b[0;34m,\u001b[0m \u001b[0mtheta\u001b[0m\u001b[0;34m,\u001b[0m \u001b[0mxdot\u001b[0m\u001b[0;34m,\u001b[0m \u001b[0mt_dot\u001b[0m\u001b[0;34m,\u001b[0m \u001b[0mM\u001b[0m\u001b[0;34m,\u001b[0m \u001b[0mm\u001b[0m\u001b[0;34m,\u001b[0m \u001b[0mR\u001b[0m\u001b[0;34m,\u001b[0m \u001b[0mg\u001b[0m\u001b[0;34m]\u001b[0m\u001b[0;34m,\u001b[0m \u001b[0meL_solved\u001b[0m\u001b[0;34m[\u001b[0m\u001b[0;36m1\u001b[0m\u001b[0;34m]\u001b[0m\u001b[0;34m[\u001b[0m\u001b[0;36m0\u001b[0m\u001b[0;34m]\u001b[0m\u001b[0;34m)\u001b[0m\u001b[0;34m\u001b[0m\u001b[0;34m\u001b[0m\u001b[0m\n\u001b[1;32m     73\u001b[0m print('Euler-Lagrangian numerical solution for x_ddot: \\n\\nx_ddot = ', \n\u001b[0;32m---> 74\u001b[0;31m       soln_x(0, 0.1, 0, 0, 2, 1, 1, 9.8)[0])\n\u001b[0m\u001b[1;32m     75\u001b[0m \u001b[0;34m\u001b[0m\u001b[0m\n",
      "\u001b[0;32m<lambdifygenerated-5>\u001b[0m in \u001b[0;36m_lambdifygenerated\u001b[0;34m(_Dummy_103, _Dummy_104, _Dummy_101, _Dummy_102, M, m, R, g)\u001b[0m\n\u001b[1;32m      2\u001b[0m     return (  # Not supported in Python with SciPy:\n\u001b[1;32m      3\u001b[0m   \u001b[0;31m# Derivative\u001b[0m\u001b[0;34m\u001b[0m\u001b[0;34m\u001b[0m\u001b[0;34m\u001b[0m\u001b[0m\n\u001b[0;32m----> 4\u001b[0;31m R*m*(_Dummy_102**2*sin(_Dummy_104) - cos(_Dummy_104)*Derivative(_Dummy_104, (t, 2)))/(M + m))\n\u001b[0m",
      "\u001b[0;31mNameError\u001b[0m: name 'Derivative' is not defined"
     ]
    }
   ],
   "source": [
    "import sympy as sym\n",
    "from sympy.abc import x, y, t\n",
    "from sympy import symbols, Function, Eq, Matrix, solve, cos, sin\n",
    "\n",
    "from IPython.core.display import HTML\n",
    "display(HTML(\"<table><tr><td><img src='https://raw.githubusercontent.com/MuchenSun/ME314pngs/master/dyninvpend.png' width=500' height='350'></table>\"))\n",
    "\n",
    "M = symbols('M')\n",
    "m = symbols('m')\n",
    "R = symbols('R')\n",
    "g = symbols('g')\n",
    "\n",
    "x = Function(r'x')(t)\n",
    "theta = Function(r'\\theta')(t)\n",
    "\n",
    "xdot = x.diff(t)\n",
    "xddot = xdot.diff(t)\n",
    "t_dot = theta.diff(t)\n",
    "t_ddot = t_dot.diff(t)\n",
    "\n",
    "#compute KE and PE to get Lagrangian equation\n",
    "KE = 0.5*M*xdot**2 + 0.5*m*((xdot + R*t_dot*cos(theta))**2 + (-R*t_dot*sin(theta))**2)\n",
    "PE = m*g*R*cos(theta)\n",
    "L = KE - PE\n",
    "display(L)\n",
    "\n",
    "\n",
    "#make a matrix out of vectors x and theta. This will make processing the Lagrangian via Jacobian easier\n",
    "q = Matrix([x, theta])\n",
    "L_mat = Matrix([L])\n",
    "\n",
    "#take the derivative of Lagrangian wrt q = [x, theta]\n",
    "dLdq = L_mat.jacobian(q)\n",
    "\n",
    "#take the derivative of Lagrangian wrt q_dot = [xdot, t_dot]. xdot and t_dot are first \n",
    "#order time-derivatives of x and theta, respectively\n",
    "q_dot = Matrix([xdot, t_dot])\n",
    "dL_dqdot = L_mat.jacobian(q_dot)\n",
    "\n",
    "#take time derivative of previous step. this gives the d/dt(dL/dq_dot) term for the\n",
    "#Euler-Lagrangian equation.\n",
    "ddt_dL_dqdot = dL_dqdot.diff(t)\n",
    "\n",
    "#combine previous steps to compute the Euler-Lagrangian\n",
    "#this is a vector that contains two equations (two terms). One for x_ddot and one for t_ddot\n",
    "eL = dLdq - ddt_dL_dqdot\n",
    "\n",
    "#q-double-dot matrix q_ddot is a vector containing x-double-dot and theta-double-dot.\n",
    "#these are the configuration variables to solve the E-L equation for.\n",
    "q_ddot = q_dot.diff(t)\n",
    "\n",
    "#symbolically solve for the x_ddot and t_ddot variables contained in vector q_ddot\n",
    "i = 0\n",
    "eL_solved = [0]*len(eL) #create empty list the same size as the list containing the E-L equation terms\n",
    "for i in range(len(eL)):\n",
    "    eL_solved[i] = sym.solve(eL[i], q_ddot[i]) #symbollically solve for each term in the E-L vector\n",
    "    \n",
    "#display the solution for x_ddot and t_ddot\n",
    "print('=================')\n",
    "print()\n",
    "print('Euler-Lagrangian equation solved for linear acceleration x_ddot: \\n\\nx_ddot = ')\n",
    "display(eL_solved[0][0])\n",
    "\n",
    "print('=================')\n",
    "print()\n",
    "print('Euler-Lagrangian equation solved for angular acceleration theta_ddot: \\n\\ntheta_ddot = ')\n",
    "display(eL_solved[1][0])\n",
    "\n",
    "\n",
    "#compute the numerical solution using lambdify and the constants given\n",
    "soln_x = sym.lambdify([x, theta, xdot, t_dot, M, m, R, g], eL_solved[0][0])\n",
    "soln_theta = sym.lambdify([x, theta, xdot, t_dot, M, m, R, g], eL_solved[1][0])\n",
    "print('Euler-Lagrangian numerical solution for x_ddot: \\n\\nx_ddot = ', \n",
    "      soln_x(0, 0.1, 0, 0, 2, 1, 1, 9.8)[0])\n",
    "    "
   ]
  },
  {
   "cell_type": "code",
   "execution_count": null,
   "id": "5ec57102",
   "metadata": {},
   "outputs": [],
   "source": []
  }
 ],
 "metadata": {
  "kernelspec": {
   "display_name": "Python 3",
   "language": "python",
   "name": "python3"
  },
  "language_info": {
   "codemirror_mode": {
    "name": "ipython",
    "version": 3
   },
   "file_extension": ".py",
   "mimetype": "text/x-python",
   "name": "python",
   "nbconvert_exporter": "python",
   "pygments_lexer": "ipython3",
   "version": "3.8.5"
  }
 },
 "nbformat": 4,
 "nbformat_minor": 5
}
