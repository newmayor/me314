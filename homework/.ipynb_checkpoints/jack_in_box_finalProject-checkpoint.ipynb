{
 "cells": [
  {
   "cell_type": "markdown",
   "id": "2c977518",
   "metadata": {},
   "source": [
    "## import libraries"
   ]
  },
  {
   "cell_type": "code",
   "execution_count": 2,
   "id": "0d679ba7",
   "metadata": {},
   "outputs": [],
   "source": [
    "import sympy"
   ]
  },
  {
   "cell_type": "markdown",
   "id": "a02120ca",
   "metadata": {},
   "source": [
    "## main set up of constants and functions"
   ]
  },
  {
   "cell_type": "code",
   "execution_count": 1,
   "id": "88492af1",
   "metadata": {},
   "outputs": [],
   "source": [
    "\n",
    "#constants\n",
    "dim1 = 10 #dim 1 of box\n",
    "dim2 = dim1 #dim 2 of box (make it square)\n",
    "lj = 2 #length of jack\n",
    "mj = 1 #mass of the bulb at each end of jack\n",
    "mb = 25 #give the walls of the box some large mass relative to jack\n",
    "g = 9.8\n",
    "\n"
   ]
  },
  {
   "cell_type": "code",
   "execution_count": null,
   "id": "ad849f89",
   "metadata": {},
   "outputs": [],
   "source": []
  }
 ],
 "metadata": {
  "kernelspec": {
   "display_name": "Python 3",
   "language": "python",
   "name": "python3"
  },
  "language_info": {
   "codemirror_mode": {
    "name": "ipython",
    "version": 3
   },
   "file_extension": ".py",
   "mimetype": "text/x-python",
   "name": "python",
   "nbconvert_exporter": "python",
   "pygments_lexer": "ipython3",
   "version": "3.8.5"
  }
 },
 "nbformat": 4,
 "nbformat_minor": 5
}
